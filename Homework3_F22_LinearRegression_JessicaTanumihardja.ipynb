{
  "cells": [
    {
      "cell_type": "markdown",
      "metadata": {
        "id": "view-in-github",
        "colab_type": "text"
      },
      "source": [
        "<a href=\"https://colab.research.google.com/github/jtanumihardja/general/blob/main/Homework3_F22_LinearRegression_JessicaTanumihardja.ipynb\" target=\"_parent\"><img src=\"https://colab.research.google.com/assets/colab-badge.svg\" alt=\"Open In Colab\"/></a>"
      ]
    },
    {
      "cell_type": "markdown",
      "source": [
        "**IE 7300: Statistical learning for Engineering** "
      ],
      "metadata": {
        "id": "HkcWdnJj3p-F"
      },
      "id": "HkcWdnJj3p-F"
    },
    {
      "cell_type": "markdown",
      "source": [
        "\n",
        "**Homework 2**\n",
        " \n",
        "Jessica Tanumihardja  \n",
        " \n",
        "206-883-8622  \n",
        " \n",
        "tanumihardja.j@northeastern.edu  \n",
        " \n",
        " \n",
        "   "
      ],
      "metadata": {
        "id": "iDDLVUeA2M7M"
      },
      "id": "iDDLVUeA2M7M"
    },
    {
      "cell_type": "markdown",
      "source": [],
      "metadata": {
        "id": "tMO6_rMrTmRd"
      },
      "id": "tMO6_rMrTmRd"
    },
    {
      "cell_type": "markdown",
      "source": [
        "# Problem 1"
      ],
      "metadata": {
        "id": "CDen9GAs3MEl"
      },
      "id": "CDen9GAs3MEl"
    },
    {
      "cell_type": "markdown",
      "source": [
        "1. Create a custom linear regression model using the house pricing dataset(houseprices.csv Download houseprices.csv ) (20 points)\n",
        "\n",
        " a) Split the dataset into training and test dataset 80:20\n",
        "\n",
        " b) Custom linear regression model should be in python class format (Should have init(), predict(), train() methods) and train the model using training dataset\n",
        "\n",
        " c) Predict the house prices using test dataset\n",
        "\n",
        " d) Show the predicted output, and loss function output plots\n",
        "\n",
        " e) Calculate the RMSE and R2 metrics\n",
        "\n",
        "Note: Do not use any libraries\n"
      ],
      "metadata": {
        "id": "Vl_KAXbT1ND6"
      },
      "id": "Vl_KAXbT1ND6"
    },
    {
      "cell_type": "markdown",
      "source": [
        "## Problem 1a: split df to train and test"
      ],
      "metadata": {
        "id": "jwKndm2XoOGK"
      },
      "id": "jwKndm2XoOGK"
    },
    {
      "cell_type": "code",
      "execution_count": 1,
      "metadata": {
        "id": "d98b070b"
      },
      "outputs": [],
      "source": [
        "# Importing the necessary libraries\n",
        "import numpy as np\n",
        "import pandas as pd\n",
        "import matplotlib.pyplot as plt"
      ],
      "id": "d98b070b"
    },
    {
      "cell_type": "code",
      "source": [
        "#Preprocessing libraries to check\n",
        "from sklearn.model_selection import train_test_split\n",
        "from sklearn.compose import ColumnTransformer\n",
        "from sklearn.preprocessing import OneHotEncoder\n",
        "from sklearn.preprocessing import StandardScaler"
      ],
      "metadata": {
        "id": "DaKNlqN71qB_"
      },
      "id": "DaKNlqN71qB_",
      "execution_count": null,
      "outputs": []
    },
    {
      "cell_type": "markdown",
      "source": [
        "Insert files using google drive or import file below:"
      ],
      "metadata": {
        "id": "gOsZD3t6hnve"
      },
      "id": "gOsZD3t6hnve"
    },
    {
      "cell_type": "code",
      "source": [
        "from google.colab import drive\n",
        "drive.mount('/content/drive')"
      ],
      "metadata": {
        "id": "fB8NiMmohUB9"
      },
      "id": "fB8NiMmohUB9",
      "execution_count": null,
      "outputs": []
    },
    {
      "cell_type": "code",
      "source": [
        "df_house = pd.read_csv('/content/drive/MyDrive/School_Related/NEU/IE7300/houseprices.csv')\n",
        "df_house"
      ],
      "metadata": {
        "id": "sfjIb-FQhbew",
        "colab": {
          "base_uri": "https://localhost:8080/",
          "height": 424
        },
        "outputId": "8f58214a-345c-4547-efb2-c556896c72da"
      },
      "id": "sfjIb-FQhbew",
      "execution_count": null,
      "outputs": [
        {
          "output_type": "execute_result",
          "data": {
            "text/plain": [
              "     Home   Price  SqFt  Bedrooms  Bathrooms  Offers Brick Neighborhood\n",
              "0       1  114300  1790         2          2       2    No         East\n",
              "1       2  114200  2030         4          2       3    No         East\n",
              "2       3  114800  1740         3          2       1    No         East\n",
              "3       4   94700  1980         3          2       3    No         East\n",
              "4       5  119800  2130         3          3       3    No         East\n",
              "..    ...     ...   ...       ...        ...     ...   ...          ...\n",
              "123   124  119700  1900         3          3       3   Yes         East\n",
              "124   125  147900  2160         4          3       3   Yes         East\n",
              "125   126  113500  2070         2          2       2    No        North\n",
              "126   127  149900  2020         3          3       1    No         West\n",
              "127   128  124600  2250         3          3       4    No        North\n",
              "\n",
              "[128 rows x 8 columns]"
            ],
            "text/html": [
              "\n",
              "  <div id=\"df-b0477283-47a1-4cdc-b3cf-ff2058653694\">\n",
              "    <div class=\"colab-df-container\">\n",
              "      <div>\n",
              "<style scoped>\n",
              "    .dataframe tbody tr th:only-of-type {\n",
              "        vertical-align: middle;\n",
              "    }\n",
              "\n",
              "    .dataframe tbody tr th {\n",
              "        vertical-align: top;\n",
              "    }\n",
              "\n",
              "    .dataframe thead th {\n",
              "        text-align: right;\n",
              "    }\n",
              "</style>\n",
              "<table border=\"1\" class=\"dataframe\">\n",
              "  <thead>\n",
              "    <tr style=\"text-align: right;\">\n",
              "      <th></th>\n",
              "      <th>Home</th>\n",
              "      <th>Price</th>\n",
              "      <th>SqFt</th>\n",
              "      <th>Bedrooms</th>\n",
              "      <th>Bathrooms</th>\n",
              "      <th>Offers</th>\n",
              "      <th>Brick</th>\n",
              "      <th>Neighborhood</th>\n",
              "    </tr>\n",
              "  </thead>\n",
              "  <tbody>\n",
              "    <tr>\n",
              "      <th>0</th>\n",
              "      <td>1</td>\n",
              "      <td>114300</td>\n",
              "      <td>1790</td>\n",
              "      <td>2</td>\n",
              "      <td>2</td>\n",
              "      <td>2</td>\n",
              "      <td>No</td>\n",
              "      <td>East</td>\n",
              "    </tr>\n",
              "    <tr>\n",
              "      <th>1</th>\n",
              "      <td>2</td>\n",
              "      <td>114200</td>\n",
              "      <td>2030</td>\n",
              "      <td>4</td>\n",
              "      <td>2</td>\n",
              "      <td>3</td>\n",
              "      <td>No</td>\n",
              "      <td>East</td>\n",
              "    </tr>\n",
              "    <tr>\n",
              "      <th>2</th>\n",
              "      <td>3</td>\n",
              "      <td>114800</td>\n",
              "      <td>1740</td>\n",
              "      <td>3</td>\n",
              "      <td>2</td>\n",
              "      <td>1</td>\n",
              "      <td>No</td>\n",
              "      <td>East</td>\n",
              "    </tr>\n",
              "    <tr>\n",
              "      <th>3</th>\n",
              "      <td>4</td>\n",
              "      <td>94700</td>\n",
              "      <td>1980</td>\n",
              "      <td>3</td>\n",
              "      <td>2</td>\n",
              "      <td>3</td>\n",
              "      <td>No</td>\n",
              "      <td>East</td>\n",
              "    </tr>\n",
              "    <tr>\n",
              "      <th>4</th>\n",
              "      <td>5</td>\n",
              "      <td>119800</td>\n",
              "      <td>2130</td>\n",
              "      <td>3</td>\n",
              "      <td>3</td>\n",
              "      <td>3</td>\n",
              "      <td>No</td>\n",
              "      <td>East</td>\n",
              "    </tr>\n",
              "    <tr>\n",
              "      <th>...</th>\n",
              "      <td>...</td>\n",
              "      <td>...</td>\n",
              "      <td>...</td>\n",
              "      <td>...</td>\n",
              "      <td>...</td>\n",
              "      <td>...</td>\n",
              "      <td>...</td>\n",
              "      <td>...</td>\n",
              "    </tr>\n",
              "    <tr>\n",
              "      <th>123</th>\n",
              "      <td>124</td>\n",
              "      <td>119700</td>\n",
              "      <td>1900</td>\n",
              "      <td>3</td>\n",
              "      <td>3</td>\n",
              "      <td>3</td>\n",
              "      <td>Yes</td>\n",
              "      <td>East</td>\n",
              "    </tr>\n",
              "    <tr>\n",
              "      <th>124</th>\n",
              "      <td>125</td>\n",
              "      <td>147900</td>\n",
              "      <td>2160</td>\n",
              "      <td>4</td>\n",
              "      <td>3</td>\n",
              "      <td>3</td>\n",
              "      <td>Yes</td>\n",
              "      <td>East</td>\n",
              "    </tr>\n",
              "    <tr>\n",
              "      <th>125</th>\n",
              "      <td>126</td>\n",
              "      <td>113500</td>\n",
              "      <td>2070</td>\n",
              "      <td>2</td>\n",
              "      <td>2</td>\n",
              "      <td>2</td>\n",
              "      <td>No</td>\n",
              "      <td>North</td>\n",
              "    </tr>\n",
              "    <tr>\n",
              "      <th>126</th>\n",
              "      <td>127</td>\n",
              "      <td>149900</td>\n",
              "      <td>2020</td>\n",
              "      <td>3</td>\n",
              "      <td>3</td>\n",
              "      <td>1</td>\n",
              "      <td>No</td>\n",
              "      <td>West</td>\n",
              "    </tr>\n",
              "    <tr>\n",
              "      <th>127</th>\n",
              "      <td>128</td>\n",
              "      <td>124600</td>\n",
              "      <td>2250</td>\n",
              "      <td>3</td>\n",
              "      <td>3</td>\n",
              "      <td>4</td>\n",
              "      <td>No</td>\n",
              "      <td>North</td>\n",
              "    </tr>\n",
              "  </tbody>\n",
              "</table>\n",
              "<p>128 rows × 8 columns</p>\n",
              "</div>\n",
              "      <button class=\"colab-df-convert\" onclick=\"convertToInteractive('df-b0477283-47a1-4cdc-b3cf-ff2058653694')\"\n",
              "              title=\"Convert this dataframe to an interactive table.\"\n",
              "              style=\"display:none;\">\n",
              "        \n",
              "  <svg xmlns=\"http://www.w3.org/2000/svg\" height=\"24px\"viewBox=\"0 0 24 24\"\n",
              "       width=\"24px\">\n",
              "    <path d=\"M0 0h24v24H0V0z\" fill=\"none\"/>\n",
              "    <path d=\"M18.56 5.44l.94 2.06.94-2.06 2.06-.94-2.06-.94-.94-2.06-.94 2.06-2.06.94zm-11 1L8.5 8.5l.94-2.06 2.06-.94-2.06-.94L8.5 2.5l-.94 2.06-2.06.94zm10 10l.94 2.06.94-2.06 2.06-.94-2.06-.94-.94-2.06-.94 2.06-2.06.94z\"/><path d=\"M17.41 7.96l-1.37-1.37c-.4-.4-.92-.59-1.43-.59-.52 0-1.04.2-1.43.59L10.3 9.45l-7.72 7.72c-.78.78-.78 2.05 0 2.83L4 21.41c.39.39.9.59 1.41.59.51 0 1.02-.2 1.41-.59l7.78-7.78 2.81-2.81c.8-.78.8-2.07 0-2.86zM5.41 20L4 18.59l7.72-7.72 1.47 1.35L5.41 20z\"/>\n",
              "  </svg>\n",
              "      </button>\n",
              "      \n",
              "  <style>\n",
              "    .colab-df-container {\n",
              "      display:flex;\n",
              "      flex-wrap:wrap;\n",
              "      gap: 12px;\n",
              "    }\n",
              "\n",
              "    .colab-df-convert {\n",
              "      background-color: #E8F0FE;\n",
              "      border: none;\n",
              "      border-radius: 50%;\n",
              "      cursor: pointer;\n",
              "      display: none;\n",
              "      fill: #1967D2;\n",
              "      height: 32px;\n",
              "      padding: 0 0 0 0;\n",
              "      width: 32px;\n",
              "    }\n",
              "\n",
              "    .colab-df-convert:hover {\n",
              "      background-color: #E2EBFA;\n",
              "      box-shadow: 0px 1px 2px rgba(60, 64, 67, 0.3), 0px 1px 3px 1px rgba(60, 64, 67, 0.15);\n",
              "      fill: #174EA6;\n",
              "    }\n",
              "\n",
              "    [theme=dark] .colab-df-convert {\n",
              "      background-color: #3B4455;\n",
              "      fill: #D2E3FC;\n",
              "    }\n",
              "\n",
              "    [theme=dark] .colab-df-convert:hover {\n",
              "      background-color: #434B5C;\n",
              "      box-shadow: 0px 1px 3px 1px rgba(0, 0, 0, 0.15);\n",
              "      filter: drop-shadow(0px 1px 2px rgba(0, 0, 0, 0.3));\n",
              "      fill: #FFFFFF;\n",
              "    }\n",
              "  </style>\n",
              "\n",
              "      <script>\n",
              "        const buttonEl =\n",
              "          document.querySelector('#df-b0477283-47a1-4cdc-b3cf-ff2058653694 button.colab-df-convert');\n",
              "        buttonEl.style.display =\n",
              "          google.colab.kernel.accessAllowed ? 'block' : 'none';\n",
              "\n",
              "        async function convertToInteractive(key) {\n",
              "          const element = document.querySelector('#df-b0477283-47a1-4cdc-b3cf-ff2058653694');\n",
              "          const dataTable =\n",
              "            await google.colab.kernel.invokeFunction('convertToInteractive',\n",
              "                                                     [key], {});\n",
              "          if (!dataTable) return;\n",
              "\n",
              "          const docLinkHtml = 'Like what you see? Visit the ' +\n",
              "            '<a target=\"_blank\" href=https://colab.research.google.com/notebooks/data_table.ipynb>data table notebook</a>'\n",
              "            + ' to learn more about interactive tables.';\n",
              "          element.innerHTML = '';\n",
              "          dataTable['output_type'] = 'display_data';\n",
              "          await google.colab.output.renderOutput(dataTable, element);\n",
              "          const docLink = document.createElement('div');\n",
              "          docLink.innerHTML = docLinkHtml;\n",
              "          element.appendChild(docLink);\n",
              "        }\n",
              "      </script>\n",
              "    </div>\n",
              "  </div>\n",
              "  "
            ]
          },
          "metadata": {},
          "execution_count": 3
        }
      ]
    },
    {
      "cell_type": "markdown",
      "source": [
        "or:"
      ],
      "metadata": {
        "id": "BTgjOzc-2-BA"
      },
      "id": "BTgjOzc-2-BA"
    },
    {
      "cell_type": "code",
      "source": [
        "from google.colab import files\n",
        "uploaded = files.upload()"
      ],
      "metadata": {
        "colab": {
          "base_uri": "https://localhost:8080/",
          "height": 74
        },
        "id": "pxTUGSJEhmf0",
        "outputId": "6d43ec95-bc11-474e-a9f0-a0a76f6f1ad0"
      },
      "id": "pxTUGSJEhmf0",
      "execution_count": 3,
      "outputs": [
        {
          "output_type": "display_data",
          "data": {
            "text/plain": [
              "<IPython.core.display.HTML object>"
            ],
            "text/html": [
              "\n",
              "     <input type=\"file\" id=\"files-78d8a022-475b-4ad9-8bb8-0e3996d98049\" name=\"files[]\" multiple disabled\n",
              "        style=\"border:none\" />\n",
              "     <output id=\"result-78d8a022-475b-4ad9-8bb8-0e3996d98049\">\n",
              "      Upload widget is only available when the cell has been executed in the\n",
              "      current browser session. Please rerun this cell to enable.\n",
              "      </output>\n",
              "      <script>// Copyright 2017 Google LLC\n",
              "//\n",
              "// Licensed under the Apache License, Version 2.0 (the \"License\");\n",
              "// you may not use this file except in compliance with the License.\n",
              "// You may obtain a copy of the License at\n",
              "//\n",
              "//      http://www.apache.org/licenses/LICENSE-2.0\n",
              "//\n",
              "// Unless required by applicable law or agreed to in writing, software\n",
              "// distributed under the License is distributed on an \"AS IS\" BASIS,\n",
              "// WITHOUT WARRANTIES OR CONDITIONS OF ANY KIND, either express or implied.\n",
              "// See the License for the specific language governing permissions and\n",
              "// limitations under the License.\n",
              "\n",
              "/**\n",
              " * @fileoverview Helpers for google.colab Python module.\n",
              " */\n",
              "(function(scope) {\n",
              "function span(text, styleAttributes = {}) {\n",
              "  const element = document.createElement('span');\n",
              "  element.textContent = text;\n",
              "  for (const key of Object.keys(styleAttributes)) {\n",
              "    element.style[key] = styleAttributes[key];\n",
              "  }\n",
              "  return element;\n",
              "}\n",
              "\n",
              "// Max number of bytes which will be uploaded at a time.\n",
              "const MAX_PAYLOAD_SIZE = 100 * 1024;\n",
              "\n",
              "function _uploadFiles(inputId, outputId) {\n",
              "  const steps = uploadFilesStep(inputId, outputId);\n",
              "  const outputElement = document.getElementById(outputId);\n",
              "  // Cache steps on the outputElement to make it available for the next call\n",
              "  // to uploadFilesContinue from Python.\n",
              "  outputElement.steps = steps;\n",
              "\n",
              "  return _uploadFilesContinue(outputId);\n",
              "}\n",
              "\n",
              "// This is roughly an async generator (not supported in the browser yet),\n",
              "// where there are multiple asynchronous steps and the Python side is going\n",
              "// to poll for completion of each step.\n",
              "// This uses a Promise to block the python side on completion of each step,\n",
              "// then passes the result of the previous step as the input to the next step.\n",
              "function _uploadFilesContinue(outputId) {\n",
              "  const outputElement = document.getElementById(outputId);\n",
              "  const steps = outputElement.steps;\n",
              "\n",
              "  const next = steps.next(outputElement.lastPromiseValue);\n",
              "  return Promise.resolve(next.value.promise).then((value) => {\n",
              "    // Cache the last promise value to make it available to the next\n",
              "    // step of the generator.\n",
              "    outputElement.lastPromiseValue = value;\n",
              "    return next.value.response;\n",
              "  });\n",
              "}\n",
              "\n",
              "/**\n",
              " * Generator function which is called between each async step of the upload\n",
              " * process.\n",
              " * @param {string} inputId Element ID of the input file picker element.\n",
              " * @param {string} outputId Element ID of the output display.\n",
              " * @return {!Iterable<!Object>} Iterable of next steps.\n",
              " */\n",
              "function* uploadFilesStep(inputId, outputId) {\n",
              "  const inputElement = document.getElementById(inputId);\n",
              "  inputElement.disabled = false;\n",
              "\n",
              "  const outputElement = document.getElementById(outputId);\n",
              "  outputElement.innerHTML = '';\n",
              "\n",
              "  const pickedPromise = new Promise((resolve) => {\n",
              "    inputElement.addEventListener('change', (e) => {\n",
              "      resolve(e.target.files);\n",
              "    });\n",
              "  });\n",
              "\n",
              "  const cancel = document.createElement('button');\n",
              "  inputElement.parentElement.appendChild(cancel);\n",
              "  cancel.textContent = 'Cancel upload';\n",
              "  const cancelPromise = new Promise((resolve) => {\n",
              "    cancel.onclick = () => {\n",
              "      resolve(null);\n",
              "    };\n",
              "  });\n",
              "\n",
              "  // Wait for the user to pick the files.\n",
              "  const files = yield {\n",
              "    promise: Promise.race([pickedPromise, cancelPromise]),\n",
              "    response: {\n",
              "      action: 'starting',\n",
              "    }\n",
              "  };\n",
              "\n",
              "  cancel.remove();\n",
              "\n",
              "  // Disable the input element since further picks are not allowed.\n",
              "  inputElement.disabled = true;\n",
              "\n",
              "  if (!files) {\n",
              "    return {\n",
              "      response: {\n",
              "        action: 'complete',\n",
              "      }\n",
              "    };\n",
              "  }\n",
              "\n",
              "  for (const file of files) {\n",
              "    const li = document.createElement('li');\n",
              "    li.append(span(file.name, {fontWeight: 'bold'}));\n",
              "    li.append(span(\n",
              "        `(${file.type || 'n/a'}) - ${file.size} bytes, ` +\n",
              "        `last modified: ${\n",
              "            file.lastModifiedDate ? file.lastModifiedDate.toLocaleDateString() :\n",
              "                                    'n/a'} - `));\n",
              "    const percent = span('0% done');\n",
              "    li.appendChild(percent);\n",
              "\n",
              "    outputElement.appendChild(li);\n",
              "\n",
              "    const fileDataPromise = new Promise((resolve) => {\n",
              "      const reader = new FileReader();\n",
              "      reader.onload = (e) => {\n",
              "        resolve(e.target.result);\n",
              "      };\n",
              "      reader.readAsArrayBuffer(file);\n",
              "    });\n",
              "    // Wait for the data to be ready.\n",
              "    let fileData = yield {\n",
              "      promise: fileDataPromise,\n",
              "      response: {\n",
              "        action: 'continue',\n",
              "      }\n",
              "    };\n",
              "\n",
              "    // Use a chunked sending to avoid message size limits. See b/62115660.\n",
              "    let position = 0;\n",
              "    do {\n",
              "      const length = Math.min(fileData.byteLength - position, MAX_PAYLOAD_SIZE);\n",
              "      const chunk = new Uint8Array(fileData, position, length);\n",
              "      position += length;\n",
              "\n",
              "      const base64 = btoa(String.fromCharCode.apply(null, chunk));\n",
              "      yield {\n",
              "        response: {\n",
              "          action: 'append',\n",
              "          file: file.name,\n",
              "          data: base64,\n",
              "        },\n",
              "      };\n",
              "\n",
              "      let percentDone = fileData.byteLength === 0 ?\n",
              "          100 :\n",
              "          Math.round((position / fileData.byteLength) * 100);\n",
              "      percent.textContent = `${percentDone}% done`;\n",
              "\n",
              "    } while (position < fileData.byteLength);\n",
              "  }\n",
              "\n",
              "  // All done.\n",
              "  yield {\n",
              "    response: {\n",
              "      action: 'complete',\n",
              "    }\n",
              "  };\n",
              "}\n",
              "\n",
              "scope.google = scope.google || {};\n",
              "scope.google.colab = scope.google.colab || {};\n",
              "scope.google.colab._files = {\n",
              "  _uploadFiles,\n",
              "  _uploadFilesContinue,\n",
              "};\n",
              "})(self);\n",
              "</script> "
            ]
          },
          "metadata": {}
        },
        {
          "output_type": "stream",
          "name": "stdout",
          "text": [
            "Saving houseprices.csv to houseprices.csv\n"
          ]
        }
      ]
    },
    {
      "cell_type": "code",
      "execution_count": 4,
      "metadata": {
        "id": "c2d6b7ea",
        "outputId": "c41ab889-aabb-451a-bb62-3bd8973d3e58",
        "colab": {
          "base_uri": "https://localhost:8080/",
          "height": 424
        }
      },
      "outputs": [
        {
          "output_type": "execute_result",
          "data": {
            "text/plain": [
              "     Home   Price  SqFt  Bedrooms  Bathrooms  Offers Brick Neighborhood\n",
              "0       1  114300  1790         2          2       2    No         East\n",
              "1       2  114200  2030         4          2       3    No         East\n",
              "2       3  114800  1740         3          2       1    No         East\n",
              "3       4   94700  1980         3          2       3    No         East\n",
              "4       5  119800  2130         3          3       3    No         East\n",
              "..    ...     ...   ...       ...        ...     ...   ...          ...\n",
              "123   124  119700  1900         3          3       3   Yes         East\n",
              "124   125  147900  2160         4          3       3   Yes         East\n",
              "125   126  113500  2070         2          2       2    No        North\n",
              "126   127  149900  2020         3          3       1    No         West\n",
              "127   128  124600  2250         3          3       4    No        North\n",
              "\n",
              "[128 rows x 8 columns]"
            ],
            "text/html": [
              "\n",
              "  <div id=\"df-14db57ae-f363-4ff9-ab8a-d29724efefaf\">\n",
              "    <div class=\"colab-df-container\">\n",
              "      <div>\n",
              "<style scoped>\n",
              "    .dataframe tbody tr th:only-of-type {\n",
              "        vertical-align: middle;\n",
              "    }\n",
              "\n",
              "    .dataframe tbody tr th {\n",
              "        vertical-align: top;\n",
              "    }\n",
              "\n",
              "    .dataframe thead th {\n",
              "        text-align: right;\n",
              "    }\n",
              "</style>\n",
              "<table border=\"1\" class=\"dataframe\">\n",
              "  <thead>\n",
              "    <tr style=\"text-align: right;\">\n",
              "      <th></th>\n",
              "      <th>Home</th>\n",
              "      <th>Price</th>\n",
              "      <th>SqFt</th>\n",
              "      <th>Bedrooms</th>\n",
              "      <th>Bathrooms</th>\n",
              "      <th>Offers</th>\n",
              "      <th>Brick</th>\n",
              "      <th>Neighborhood</th>\n",
              "    </tr>\n",
              "  </thead>\n",
              "  <tbody>\n",
              "    <tr>\n",
              "      <th>0</th>\n",
              "      <td>1</td>\n",
              "      <td>114300</td>\n",
              "      <td>1790</td>\n",
              "      <td>2</td>\n",
              "      <td>2</td>\n",
              "      <td>2</td>\n",
              "      <td>No</td>\n",
              "      <td>East</td>\n",
              "    </tr>\n",
              "    <tr>\n",
              "      <th>1</th>\n",
              "      <td>2</td>\n",
              "      <td>114200</td>\n",
              "      <td>2030</td>\n",
              "      <td>4</td>\n",
              "      <td>2</td>\n",
              "      <td>3</td>\n",
              "      <td>No</td>\n",
              "      <td>East</td>\n",
              "    </tr>\n",
              "    <tr>\n",
              "      <th>2</th>\n",
              "      <td>3</td>\n",
              "      <td>114800</td>\n",
              "      <td>1740</td>\n",
              "      <td>3</td>\n",
              "      <td>2</td>\n",
              "      <td>1</td>\n",
              "      <td>No</td>\n",
              "      <td>East</td>\n",
              "    </tr>\n",
              "    <tr>\n",
              "      <th>3</th>\n",
              "      <td>4</td>\n",
              "      <td>94700</td>\n",
              "      <td>1980</td>\n",
              "      <td>3</td>\n",
              "      <td>2</td>\n",
              "      <td>3</td>\n",
              "      <td>No</td>\n",
              "      <td>East</td>\n",
              "    </tr>\n",
              "    <tr>\n",
              "      <th>4</th>\n",
              "      <td>5</td>\n",
              "      <td>119800</td>\n",
              "      <td>2130</td>\n",
              "      <td>3</td>\n",
              "      <td>3</td>\n",
              "      <td>3</td>\n",
              "      <td>No</td>\n",
              "      <td>East</td>\n",
              "    </tr>\n",
              "    <tr>\n",
              "      <th>...</th>\n",
              "      <td>...</td>\n",
              "      <td>...</td>\n",
              "      <td>...</td>\n",
              "      <td>...</td>\n",
              "      <td>...</td>\n",
              "      <td>...</td>\n",
              "      <td>...</td>\n",
              "      <td>...</td>\n",
              "    </tr>\n",
              "    <tr>\n",
              "      <th>123</th>\n",
              "      <td>124</td>\n",
              "      <td>119700</td>\n",
              "      <td>1900</td>\n",
              "      <td>3</td>\n",
              "      <td>3</td>\n",
              "      <td>3</td>\n",
              "      <td>Yes</td>\n",
              "      <td>East</td>\n",
              "    </tr>\n",
              "    <tr>\n",
              "      <th>124</th>\n",
              "      <td>125</td>\n",
              "      <td>147900</td>\n",
              "      <td>2160</td>\n",
              "      <td>4</td>\n",
              "      <td>3</td>\n",
              "      <td>3</td>\n",
              "      <td>Yes</td>\n",
              "      <td>East</td>\n",
              "    </tr>\n",
              "    <tr>\n",
              "      <th>125</th>\n",
              "      <td>126</td>\n",
              "      <td>113500</td>\n",
              "      <td>2070</td>\n",
              "      <td>2</td>\n",
              "      <td>2</td>\n",
              "      <td>2</td>\n",
              "      <td>No</td>\n",
              "      <td>North</td>\n",
              "    </tr>\n",
              "    <tr>\n",
              "      <th>126</th>\n",
              "      <td>127</td>\n",
              "      <td>149900</td>\n",
              "      <td>2020</td>\n",
              "      <td>3</td>\n",
              "      <td>3</td>\n",
              "      <td>1</td>\n",
              "      <td>No</td>\n",
              "      <td>West</td>\n",
              "    </tr>\n",
              "    <tr>\n",
              "      <th>127</th>\n",
              "      <td>128</td>\n",
              "      <td>124600</td>\n",
              "      <td>2250</td>\n",
              "      <td>3</td>\n",
              "      <td>3</td>\n",
              "      <td>4</td>\n",
              "      <td>No</td>\n",
              "      <td>North</td>\n",
              "    </tr>\n",
              "  </tbody>\n",
              "</table>\n",
              "<p>128 rows × 8 columns</p>\n",
              "</div>\n",
              "      <button class=\"colab-df-convert\" onclick=\"convertToInteractive('df-14db57ae-f363-4ff9-ab8a-d29724efefaf')\"\n",
              "              title=\"Convert this dataframe to an interactive table.\"\n",
              "              style=\"display:none;\">\n",
              "        \n",
              "  <svg xmlns=\"http://www.w3.org/2000/svg\" height=\"24px\"viewBox=\"0 0 24 24\"\n",
              "       width=\"24px\">\n",
              "    <path d=\"M0 0h24v24H0V0z\" fill=\"none\"/>\n",
              "    <path d=\"M18.56 5.44l.94 2.06.94-2.06 2.06-.94-2.06-.94-.94-2.06-.94 2.06-2.06.94zm-11 1L8.5 8.5l.94-2.06 2.06-.94-2.06-.94L8.5 2.5l-.94 2.06-2.06.94zm10 10l.94 2.06.94-2.06 2.06-.94-2.06-.94-.94-2.06-.94 2.06-2.06.94z\"/><path d=\"M17.41 7.96l-1.37-1.37c-.4-.4-.92-.59-1.43-.59-.52 0-1.04.2-1.43.59L10.3 9.45l-7.72 7.72c-.78.78-.78 2.05 0 2.83L4 21.41c.39.39.9.59 1.41.59.51 0 1.02-.2 1.41-.59l7.78-7.78 2.81-2.81c.8-.78.8-2.07 0-2.86zM5.41 20L4 18.59l7.72-7.72 1.47 1.35L5.41 20z\"/>\n",
              "  </svg>\n",
              "      </button>\n",
              "      \n",
              "  <style>\n",
              "    .colab-df-container {\n",
              "      display:flex;\n",
              "      flex-wrap:wrap;\n",
              "      gap: 12px;\n",
              "    }\n",
              "\n",
              "    .colab-df-convert {\n",
              "      background-color: #E8F0FE;\n",
              "      border: none;\n",
              "      border-radius: 50%;\n",
              "      cursor: pointer;\n",
              "      display: none;\n",
              "      fill: #1967D2;\n",
              "      height: 32px;\n",
              "      padding: 0 0 0 0;\n",
              "      width: 32px;\n",
              "    }\n",
              "\n",
              "    .colab-df-convert:hover {\n",
              "      background-color: #E2EBFA;\n",
              "      box-shadow: 0px 1px 2px rgba(60, 64, 67, 0.3), 0px 1px 3px 1px rgba(60, 64, 67, 0.15);\n",
              "      fill: #174EA6;\n",
              "    }\n",
              "\n",
              "    [theme=dark] .colab-df-convert {\n",
              "      background-color: #3B4455;\n",
              "      fill: #D2E3FC;\n",
              "    }\n",
              "\n",
              "    [theme=dark] .colab-df-convert:hover {\n",
              "      background-color: #434B5C;\n",
              "      box-shadow: 0px 1px 3px 1px rgba(0, 0, 0, 0.15);\n",
              "      filter: drop-shadow(0px 1px 2px rgba(0, 0, 0, 0.3));\n",
              "      fill: #FFFFFF;\n",
              "    }\n",
              "  </style>\n",
              "\n",
              "      <script>\n",
              "        const buttonEl =\n",
              "          document.querySelector('#df-14db57ae-f363-4ff9-ab8a-d29724efefaf button.colab-df-convert');\n",
              "        buttonEl.style.display =\n",
              "          google.colab.kernel.accessAllowed ? 'block' : 'none';\n",
              "\n",
              "        async function convertToInteractive(key) {\n",
              "          const element = document.querySelector('#df-14db57ae-f363-4ff9-ab8a-d29724efefaf');\n",
              "          const dataTable =\n",
              "            await google.colab.kernel.invokeFunction('convertToInteractive',\n",
              "                                                     [key], {});\n",
              "          if (!dataTable) return;\n",
              "\n",
              "          const docLinkHtml = 'Like what you see? Visit the ' +\n",
              "            '<a target=\"_blank\" href=https://colab.research.google.com/notebooks/data_table.ipynb>data table notebook</a>'\n",
              "            + ' to learn more about interactive tables.';\n",
              "          element.innerHTML = '';\n",
              "          dataTable['output_type'] = 'display_data';\n",
              "          await google.colab.output.renderOutput(dataTable, element);\n",
              "          const docLink = document.createElement('div');\n",
              "          docLink.innerHTML = docLinkHtml;\n",
              "          element.appendChild(docLink);\n",
              "        }\n",
              "      </script>\n",
              "    </div>\n",
              "  </div>\n",
              "  "
            ]
          },
          "metadata": {},
          "execution_count": 4
        }
      ],
      "source": [
        "# Input the data set and understanding data\n",
        "df_house = pd.read_csv(\"houseprices.csv\")\n",
        "df_house"
      ],
      "id": "c2d6b7ea"
    },
    {
      "cell_type": "markdown",
      "id": "61897988",
      "metadata": {
        "id": "61897988"
      },
      "source": [
        "**Understanding data**"
      ]
    },
    {
      "cell_type": "code",
      "source": [
        "#check the shape of df and unique values\n",
        "print(df_house.shape) \n",
        "print(df_house['Home'].nunique()) \n",
        "print(df_house['Price'].nunique()) \n",
        "  #All house identified by a unique number: no need to drop duplicate"
      ],
      "metadata": {
        "colab": {
          "base_uri": "https://localhost:8080/",
          "height": 0
        },
        "id": "9uWRb965d6LO",
        "outputId": "002c137e-ed91-402c-9969-64890d9a130d"
      },
      "id": "9uWRb965d6LO",
      "execution_count": 5,
      "outputs": [
        {
          "output_type": "stream",
          "name": "stdout",
          "text": [
            "(128, 8)\n",
            "128\n",
            "123\n"
          ]
        }
      ]
    },
    {
      "cell_type": "code",
      "source": [
        "#Check for NA and data type: last two columns are object, need to convert categorical variable to numbers.\n",
        "df_house.info()"
      ],
      "metadata": {
        "colab": {
          "base_uri": "https://localhost:8080/",
          "height": 0
        },
        "id": "5cotxF5Fsign",
        "outputId": "5345a9e4-e1df-4cfa-c2e7-823472bd3a02"
      },
      "id": "5cotxF5Fsign",
      "execution_count": 6,
      "outputs": [
        {
          "output_type": "stream",
          "name": "stdout",
          "text": [
            "<class 'pandas.core.frame.DataFrame'>\n",
            "RangeIndex: 128 entries, 0 to 127\n",
            "Data columns (total 8 columns):\n",
            " #   Column        Non-Null Count  Dtype \n",
            "---  ------        --------------  ----- \n",
            " 0   Home          128 non-null    int64 \n",
            " 1   Price         128 non-null    int64 \n",
            " 2   SqFt          128 non-null    int64 \n",
            " 3   Bedrooms      128 non-null    int64 \n",
            " 4   Bathrooms     128 non-null    int64 \n",
            " 5   Offers        128 non-null    int64 \n",
            " 6   Brick         128 non-null    object\n",
            " 7   Neighborhood  128 non-null    object\n",
            "dtypes: int64(6), object(2)\n",
            "memory usage: 8.1+ KB\n"
          ]
        }
      ]
    },
    {
      "cell_type": "markdown",
      "source": [
        "**Visualizing dataset**\n",
        "<br>\n",
        "to check relationship"
      ],
      "metadata": {
        "id": "P-B2GGFA0wzS"
      },
      "id": "P-B2GGFA0wzS"
    },
    {
      "cell_type": "code",
      "execution_count": 7,
      "metadata": {
        "id": "984e522b",
        "outputId": "394ff137-ec2a-46f0-9549-4852b315d908",
        "colab": {
          "base_uri": "https://localhost:8080/",
          "height": 585
        }
      },
      "outputs": [
        {
          "output_type": "display_data",
          "data": {
            "text/plain": [
              "<Figure size 576x576 with 6 Axes>"
            ],
            "image/png": "[encoded data removed]"
          },
          "metadata": {
            "needs_background": "light"
          }
        }
      ],
      "source": [
        "# since df has 6 column except the house price and house #, plot 6 graphs.\n",
        "fig, ax = plt.subplots(nrows=2, ncols=3, figsize=(8, 8))\n",
        "fig.figsize = (10, 10)\n",
        "ax[0, 0].scatter(df_house['Price'], df_house['SqFt'],color = 'red')\n",
        "ax[0, 1].scatter(df_house['Price'], df_house['Bedrooms'],color = 'purple')\n",
        "ax[0, 2].scatter(df_house['Price'], df_house['Bathrooms'],color = 'blue')\n",
        "ax[1, 0].scatter(df_house['Price'], df_house['Offers'], color ='green')\n",
        "ax[1, 1].scatter(df_house['Price'], df_house['Brick'],color = 'yellow')\n",
        "ax[1, 2].scatter(df_house['Price'], df_house['Neighborhood'],color = 'orange')\n",
        "plt.tight_layout()"
      ],
      "id": "984e522b"
    },
    {
      "cell_type": "code",
      "source": [
        "#plot the histogram to see if it is normally distributed\n",
        "df_house.hist(bins=50, figsize=(20,15))\n",
        "plt.savefig(\"attribute_histogram_plots\")\n",
        "plt.show()\n",
        "#home index can be neglected since it is only index. \n",
        "#Besides Price and SqFt, the data are categorical. # of offers kind of following normal distribution. "
      ],
      "metadata": {
        "colab": {
          "base_uri": "https://localhost:8080/",
          "height": 798
        },
        "id": "pzzdzpwMd8HL",
        "outputId": "f0ac4981-0c21-482e-b5ef-d8d6adca22e7"
      },
      "id": "pzzdzpwMd8HL",
      "execution_count": 8,
      "outputs": [
        {
          "output_type": "display_data",
          "data": {
            "text/plain": [
              "<Figure size 1440x1080 with 6 Axes>"
            ],
            "image/png": "[encoded data removed]"
          },
          "metadata": {
            "needs_background": "light"
          }
        }
      ]
    },
    {
      "cell_type": "markdown",
      "source": [
        "**Plot price vs. variables:**"
      ],
      "metadata": {
        "id": "lh-K-NEce2lE"
      },
      "id": "lh-K-NEce2lE"
    },
    {
      "cell_type": "code",
      "source": [
        "pd.plotting.scatter_matrix(df_house.iloc[:,1:], figsize=(12, 8))\n",
        "plt.savefig('matrix.png')"
      ],
      "metadata": {
        "colab": {
          "base_uri": "https://localhost:8080/",
          "height": 517
        },
        "id": "zXtaMoMffAOv",
        "outputId": "5ab9ba25-749e-42f4-f201-2c9fc8f4f256"
      },
      "id": "zXtaMoMffAOv",
      "execution_count": 9,
      "outputs": [
        {
          "output_type": "display_data",
          "data": {
            "text/plain": [
              "<Figure size 864x576 with 25 Axes>"
            ],
            "image/png": "[encoded data removed]"
          },
          "metadata": {
            "needs_background": "light"
          }
        }
      ]
    },
    {
      "cell_type": "markdown",
      "source": [
        "**Convert categorical variable**"
      ],
      "metadata": {
        "id": "x9F67KMzHM8b"
      },
      "id": "x9F67KMzHM8b"
    },
    {
      "cell_type": "code",
      "source": [
        "# convert categorical variable to numbers without additional library\n",
        "# need to replace text values in Column \"Brick\" and \"Neighborhood\" to interger\n",
        "df_house['Brick'].replace(['Yes', 'No'], [1, 0], inplace=True)\n",
        "df_house['Neighborhood'].replace(['East', 'North', 'West'], [1, 2, 3], inplace=True) #no south according to data visualization above\n",
        "df_house"
      ],
      "metadata": {
        "colab": {
          "base_uri": "https://localhost:8080/",
          "height": 424
        },
        "id": "xiAx8JZ_8JyP",
        "outputId": "be145051-f83b-4202-92bb-85c7aa4340fd"
      },
      "id": "xiAx8JZ_8JyP",
      "execution_count": 10,
      "outputs": [
        {
          "output_type": "execute_result",
          "data": {
            "text/plain": [
              "     Home   Price  SqFt  Bedrooms  Bathrooms  Offers  Brick  Neighborhood\n",
              "0       1  114300  1790         2          2       2      0             1\n",
              "1       2  114200  2030         4          2       3      0             1\n",
              "2       3  114800  1740         3          2       1      0             1\n",
              "3       4   94700  1980         3          2       3      0             1\n",
              "4       5  119800  2130         3          3       3      0             1\n",
              "..    ...     ...   ...       ...        ...     ...    ...           ...\n",
              "123   124  119700  1900         3          3       3      1             1\n",
              "124   125  147900  2160         4          3       3      1             1\n",
              "125   126  113500  2070         2          2       2      0             2\n",
              "126   127  149900  2020         3          3       1      0             3\n",
              "127   128  124600  2250         3          3       4      0             2\n",
              "\n",
              "[128 rows x 8 columns]"
            ],
            "text/html": [
              "\n",
              "  <div id=\"df-96f6de75-ce53-4950-be9f-d7b18ba72fc7\">\n",
              "    <div class=\"colab-df-container\">\n",
              "      <div>\n",
              "<style scoped>\n",
              "    .dataframe tbody tr th:only-of-type {\n",
              "        vertical-align: middle;\n",
              "    }\n",
              "\n",
              "    .dataframe tbody tr th {\n",
              "        vertical-align: top;\n",
              "    }\n",
              "\n",
              "    .dataframe thead th {\n",
              "        text-align: right;\n",
              "    }\n",
              "</style>\n",
              "<table border=\"1\" class=\"dataframe\">\n",
              "  <thead>\n",
              "    <tr style=\"text-align: right;\">\n",
              "      <th></th>\n",
              "      <th>Home</th>\n",
              "      <th>Price</th>\n",
              "      <th>SqFt</th>\n",
              "      <th>Bedrooms</th>\n",
              "      <th>Bathrooms</th>\n",
              "      <th>Offers</th>\n",
              "      <th>Brick</th>\n",
              "      <th>Neighborhood</th>\n",
              "    </tr>\n",
              "  </thead>\n",
              "  <tbody>\n",
              "    <tr>\n",
              "      <th>0</th>\n",
              "      <td>1</td>\n",
              "      <td>114300</td>\n",
              "      <td>1790</td>\n",
              "      <td>2</td>\n",
              "      <td>2</td>\n",
              "      <td>2</td>\n",
              "      <td>0</td>\n",
              "      <td>1</td>\n",
              "    </tr>\n",
              "    <tr>\n",
              "      <th>1</th>\n",
              "      <td>2</td>\n",
              "      <td>114200</td>\n",
              "      <td>2030</td>\n",
              "      <td>4</td>\n",
              "      <td>2</td>\n",
              "      <td>3</td>\n",
              "      <td>0</td>\n",
              "      <td>1</td>\n",
              "    </tr>\n",
              "    <tr>\n",
              "      <th>2</th>\n",
              "      <td>3</td>\n",
              "      <td>114800</td>\n",
              "      <td>1740</td>\n",
              "      <td>3</td>\n",
              "      <td>2</td>\n",
              "      <td>1</td>\n",
              "      <td>0</td>\n",
              "      <td>1</td>\n",
              "    </tr>\n",
              "    <tr>\n",
              "      <th>3</th>\n",
              "      <td>4</td>\n",
              "      <td>94700</td>\n",
              "      <td>1980</td>\n",
              "      <td>3</td>\n",
              "      <td>2</td>\n",
              "      <td>3</td>\n",
              "      <td>0</td>\n",
              "      <td>1</td>\n",
              "    </tr>\n",
              "    <tr>\n",
              "      <th>4</th>\n",
              "      <td>5</td>\n",
              "      <td>119800</td>\n",
              "      <td>2130</td>\n",
              "      <td>3</td>\n",
              "      <td>3</td>\n",
              "      <td>3</td>\n",
              "      <td>0</td>\n",
              "      <td>1</td>\n",
              "    </tr>\n",
              "    <tr>\n",
              "      <th>...</th>\n",
              "      <td>...</td>\n",
              "      <td>...</td>\n",
              "      <td>...</td>\n",
              "      <td>...</td>\n",
              "      <td>...</td>\n",
              "      <td>...</td>\n",
              "      <td>...</td>\n",
              "      <td>...</td>\n",
              "    </tr>\n",
              "    <tr>\n",
              "      <th>123</th>\n",
              "      <td>124</td>\n",
              "      <td>119700</td>\n",
              "      <td>1900</td>\n",
              "      <td>3</td>\n",
              "      <td>3</td>\n",
              "      <td>3</td>\n",
              "      <td>1</td>\n",
              "      <td>1</td>\n",
              "    </tr>\n",
              "    <tr>\n",
              "      <th>124</th>\n",
              "      <td>125</td>\n",
              "      <td>147900</td>\n",
              "      <td>2160</td>\n",
              "      <td>4</td>\n",
              "      <td>3</td>\n",
              "      <td>3</td>\n",
              "      <td>1</td>\n",
              "      <td>1</td>\n",
              "    </tr>\n",
              "    <tr>\n",
              "      <th>125</th>\n",
              "      <td>126</td>\n",
              "      <td>113500</td>\n",
              "      <td>2070</td>\n",
              "      <td>2</td>\n",
              "      <td>2</td>\n",
              "      <td>2</td>\n",
              "      <td>0</td>\n",
              "      <td>2</td>\n",
              "    </tr>\n",
              "    <tr>\n",
              "      <th>126</th>\n",
              "      <td>127</td>\n",
              "      <td>149900</td>\n",
              "      <td>2020</td>\n",
              "      <td>3</td>\n",
              "      <td>3</td>\n",
              "      <td>1</td>\n",
              "      <td>0</td>\n",
              "      <td>3</td>\n",
              "    </tr>\n",
              "    <tr>\n",
              "      <th>127</th>\n",
              "      <td>128</td>\n",
              "      <td>124600</td>\n",
              "      <td>2250</td>\n",
              "      <td>3</td>\n",
              "      <td>3</td>\n",
              "      <td>4</td>\n",
              "      <td>0</td>\n",
              "      <td>2</td>\n",
              "    </tr>\n",
              "  </tbody>\n",
              "</table>\n",
              "<p>128 rows × 8 columns</p>\n",
              "</div>\n",
              "      <button class=\"colab-df-convert\" onclick=\"convertToInteractive('df-96f6de75-ce53-4950-be9f-d7b18ba72fc7')\"\n",
              "              title=\"Convert this dataframe to an interactive table.\"\n",
              "              style=\"display:none;\">\n",
              "        \n",
              "  <svg xmlns=\"http://www.w3.org/2000/svg\" height=\"24px\"viewBox=\"0 0 24 24\"\n",
              "       width=\"24px\">\n",
              "    <path d=\"M0 0h24v24H0V0z\" fill=\"none\"/>\n",
              "    <path d=\"M18.56 5.44l.94 2.06.94-2.06 2.06-.94-2.06-.94-.94-2.06-.94 2.06-2.06.94zm-11 1L8.5 8.5l.94-2.06 2.06-.94-2.06-.94L8.5 2.5l-.94 2.06-2.06.94zm10 10l.94 2.06.94-2.06 2.06-.94-2.06-.94-.94-2.06-.94 2.06-2.06.94z\"/><path d=\"M17.41 7.96l-1.37-1.37c-.4-.4-.92-.59-1.43-.59-.52 0-1.04.2-1.43.59L10.3 9.45l-7.72 7.72c-.78.78-.78 2.05 0 2.83L4 21.41c.39.39.9.59 1.41.59.51 0 1.02-.2 1.41-.59l7.78-7.78 2.81-2.81c.8-.78.8-2.07 0-2.86zM5.41 20L4 18.59l7.72-7.72 1.47 1.35L5.41 20z\"/>\n",
              "  </svg>\n",
              "      </button>\n",
              "      \n",
              "  <style>\n",
              "    .colab-df-container {\n",
              "      display:flex;\n",
              "      flex-wrap:wrap;\n",
              "      gap: 12px;\n",
              "    }\n",
              "\n",
              "    .colab-df-convert {\n",
              "      background-color: #E8F0FE;\n",
              "      border: none;\n",
              "      border-radius: 50%;\n",
              "      cursor: pointer;\n",
              "      display: none;\n",
              "      fill: #1967D2;\n",
              "      height: 32px;\n",
              "      padding: 0 0 0 0;\n",
              "      width: 32px;\n",
              "    }\n",
              "\n",
              "    .colab-df-convert:hover {\n",
              "      background-color: #E2EBFA;\n",
              "      box-shadow: 0px 1px 2px rgba(60, 64, 67, 0.3), 0px 1px 3px 1px rgba(60, 64, 67, 0.15);\n",
              "      fill: #174EA6;\n",
              "    }\n",
              "\n",
              "    [theme=dark] .colab-df-convert {\n",
              "      background-color: #3B4455;\n",
              "      fill: #D2E3FC;\n",
              "    }\n",
              "\n",
              "    [theme=dark] .colab-df-convert:hover {\n",
              "      background-color: #434B5C;\n",
              "      box-shadow: 0px 1px 3px 1px rgba(0, 0, 0, 0.15);\n",
              "      filter: drop-shadow(0px 1px 2px rgba(0, 0, 0, 0.3));\n",
              "      fill: #FFFFFF;\n",
              "    }\n",
              "  </style>\n",
              "\n",
              "      <script>\n",
              "        const buttonEl =\n",
              "          document.querySelector('#df-96f6de75-ce53-4950-be9f-d7b18ba72fc7 button.colab-df-convert');\n",
              "        buttonEl.style.display =\n",
              "          google.colab.kernel.accessAllowed ? 'block' : 'none';\n",
              "\n",
              "        async function convertToInteractive(key) {\n",
              "          const element = document.querySelector('#df-96f6de75-ce53-4950-be9f-d7b18ba72fc7');\n",
              "          const dataTable =\n",
              "            await google.colab.kernel.invokeFunction('convertToInteractive',\n",
              "                                                     [key], {});\n",
              "          if (!dataTable) return;\n",
              "\n",
              "          const docLinkHtml = 'Like what you see? Visit the ' +\n",
              "            '<a target=\"_blank\" href=https://colab.research.google.com/notebooks/data_table.ipynb>data table notebook</a>'\n",
              "            + ' to learn more about interactive tables.';\n",
              "          element.innerHTML = '';\n",
              "          dataTable['output_type'] = 'display_data';\n",
              "          await google.colab.output.renderOutput(dataTable, element);\n",
              "          const docLink = document.createElement('div');\n",
              "          docLink.innerHTML = docLinkHtml;\n",
              "          element.appendChild(docLink);\n",
              "        }\n",
              "      </script>\n",
              "    </div>\n",
              "  </div>\n",
              "  "
            ]
          },
          "metadata": {},
          "execution_count": 10
        }
      ]
    },
    {
      "cell_type": "code",
      "source": [
        "#general statistics of the data\n",
        "#all makes sense except the two categorical data under 'Brick' and 'Neighborhood'\n",
        "df_house.describe()"
      ],
      "metadata": {
        "colab": {
          "base_uri": "https://localhost:8080/",
          "height": 300
        },
        "id": "_P6fYZYB_xoe",
        "outputId": "518ee742-e5a9-44c9-ab2a-5e1be8ac3675"
      },
      "id": "_P6fYZYB_xoe",
      "execution_count": 11,
      "outputs": [
        {
          "output_type": "execute_result",
          "data": {
            "text/plain": [
              "             Home          Price         SqFt    Bedrooms   Bathrooms  \\\n",
              "count  128.000000     128.000000   128.000000  128.000000  128.000000   \n",
              "mean    64.500000  130427.343750  2000.937500    3.023438    2.445312   \n",
              "std     37.094474   26868.770371   211.572431    0.725951    0.514492   \n",
              "min      1.000000   69100.000000  1450.000000    2.000000    2.000000   \n",
              "25%     32.750000  111325.000000  1880.000000    3.000000    2.000000   \n",
              "50%     64.500000  125950.000000  2000.000000    3.000000    2.000000   \n",
              "75%     96.250000  148250.000000  2140.000000    3.000000    3.000000   \n",
              "max    128.000000  211200.000000  2590.000000    5.000000    4.000000   \n",
              "\n",
              "           Offers       Brick  Neighborhood  \n",
              "count  128.000000  128.000000    128.000000  \n",
              "mean     2.578125    0.328125      1.953125  \n",
              "std      1.069324    0.471376      0.811913  \n",
              "min      1.000000    0.000000      1.000000  \n",
              "25%      2.000000    0.000000      1.000000  \n",
              "50%      3.000000    0.000000      2.000000  \n",
              "75%      3.000000    1.000000      3.000000  \n",
              "max      6.000000    1.000000      3.000000  "
            ],
            "text/html": [
              "\n",
              "  <div id=\"df-404f915b-bb9d-4061-a579-5797ebd827e0\">\n",
              "    <div class=\"colab-df-container\">\n",
              "      <div>\n",
              "<style scoped>\n",
              "    .dataframe tbody tr th:only-of-type {\n",
              "        vertical-align: middle;\n",
              "    }\n",
              "\n",
              "    .dataframe tbody tr th {\n",
              "        vertical-align: top;\n",
              "    }\n",
              "\n",
              "    .dataframe thead th {\n",
              "        text-align: right;\n",
              "    }\n",
              "</style>\n",
              "<table border=\"1\" class=\"dataframe\">\n",
              "  <thead>\n",
              "    <tr style=\"text-align: right;\">\n",
              "      <th></th>\n",
              "      <th>Home</th>\n",
              "      <th>Price</th>\n",
              "      <th>SqFt</th>\n",
              "      <th>Bedrooms</th>\n",
              "      <th>Bathrooms</th>\n",
              "      <th>Offers</th>\n",
              "      <th>Brick</th>\n",
              "      <th>Neighborhood</th>\n",
              "    </tr>\n",
              "  </thead>\n",
              "  <tbody>\n",
              "    <tr>\n",
              "      <th>count</th>\n",
              "      <td>128.000000</td>\n",
              "      <td>128.000000</td>\n",
              "      <td>128.000000</td>\n",
              "      <td>128.000000</td>\n",
              "      <td>128.000000</td>\n",
              "      <td>128.000000</td>\n",
              "      <td>128.000000</td>\n",
              "      <td>128.000000</td>\n",
              "    </tr>\n",
              "    <tr>\n",
              "      <th>mean</th>\n",
              "      <td>64.500000</td>\n",
              "      <td>130427.343750</td>\n",
              "      <td>2000.937500</td>\n",
              "      <td>3.023438</td>\n",
              "      <td>2.445312</td>\n",
              "      <td>2.578125</td>\n",
              "      <td>0.328125</td>\n",
              "      <td>1.953125</td>\n",
              "    </tr>\n",
              "    <tr>\n",
              "      <th>std</th>\n",
              "      <td>37.094474</td>\n",
              "      <td>26868.770371</td>\n",
              "      <td>211.572431</td>\n",
              "      <td>0.725951</td>\n",
              "      <td>0.514492</td>\n",
              "      <td>1.069324</td>\n",
              "      <td>0.471376</td>\n",
              "      <td>0.811913</td>\n",
              "    </tr>\n",
              "    <tr>\n",
              "      <th>min</th>\n",
              "      <td>1.000000</td>\n",
              "      <td>69100.000000</td>\n",
              "      <td>1450.000000</td>\n",
              "      <td>2.000000</td>\n",
              "      <td>2.000000</td>\n",
              "      <td>1.000000</td>\n",
              "      <td>0.000000</td>\n",
              "      <td>1.000000</td>\n",
              "    </tr>\n",
              "    <tr>\n",
              "      <th>25%</th>\n",
              "      <td>32.750000</td>\n",
              "      <td>111325.000000</td>\n",
              "      <td>1880.000000</td>\n",
              "      <td>3.000000</td>\n",
              "      <td>2.000000</td>\n",
              "      <td>2.000000</td>\n",
              "      <td>0.000000</td>\n",
              "      <td>1.000000</td>\n",
              "    </tr>\n",
              "    <tr>\n",
              "      <th>50%</th>\n",
              "      <td>64.500000</td>\n",
              "      <td>125950.000000</td>\n",
              "      <td>2000.000000</td>\n",
              "      <td>3.000000</td>\n",
              "      <td>2.000000</td>\n",
              "      <td>3.000000</td>\n",
              "      <td>0.000000</td>\n",
              "      <td>2.000000</td>\n",
              "    </tr>\n",
              "    <tr>\n",
              "      <th>75%</th>\n",
              "      <td>96.250000</td>\n",
              "      <td>148250.000000</td>\n",
              "      <td>2140.000000</td>\n",
              "      <td>3.000000</td>\n",
              "      <td>3.000000</td>\n",
              "      <td>3.000000</td>\n",
              "      <td>1.000000</td>\n",
              "      <td>3.000000</td>\n",
              "    </tr>\n",
              "    <tr>\n",
              "      <th>max</th>\n",
              "      <td>128.000000</td>\n",
              "      <td>211200.000000</td>\n",
              "      <td>2590.000000</td>\n",
              "      <td>5.000000</td>\n",
              "      <td>4.000000</td>\n",
              "      <td>6.000000</td>\n",
              "      <td>1.000000</td>\n",
              "      <td>3.000000</td>\n",
              "    </tr>\n",
              "  </tbody>\n",
              "</table>\n",
              "</div>\n",
              "      <button class=\"colab-df-convert\" onclick=\"convertToInteractive('df-404f915b-bb9d-4061-a579-5797ebd827e0')\"\n",
              "              title=\"Convert this dataframe to an interactive table.\"\n",
              "              style=\"display:none;\">\n",
              "        \n",
              "  <svg xmlns=\"http://www.w3.org/2000/svg\" height=\"24px\"viewBox=\"0 0 24 24\"\n",
              "       width=\"24px\">\n",
              "    <path d=\"M0 0h24v24H0V0z\" fill=\"none\"/>\n",
              "    <path d=\"M18.56 5.44l.94 2.06.94-2.06 2.06-.94-2.06-.94-.94-2.06-.94 2.06-2.06.94zm-11 1L8.5 8.5l.94-2.06 2.06-.94-2.06-.94L8.5 2.5l-.94 2.06-2.06.94zm10 10l.94 2.06.94-2.06 2.06-.94-2.06-.94-.94-2.06-.94 2.06-2.06.94z\"/><path d=\"M17.41 7.96l-1.37-1.37c-.4-.4-.92-.59-1.43-.59-.52 0-1.04.2-1.43.59L10.3 9.45l-7.72 7.72c-.78.78-.78 2.05 0 2.83L4 21.41c.39.39.9.59 1.41.59.51 0 1.02-.2 1.41-.59l7.78-7.78 2.81-2.81c.8-.78.8-2.07 0-2.86zM5.41 20L4 18.59l7.72-7.72 1.47 1.35L5.41 20z\"/>\n",
              "  </svg>\n",
              "      </button>\n",
              "      \n",
              "  <style>\n",
              "    .colab-df-container {\n",
              "      display:flex;\n",
              "      flex-wrap:wrap;\n",
              "      gap: 12px;\n",
              "    }\n",
              "\n",
              "    .colab-df-convert {\n",
              "      background-color: #E8F0FE;\n",
              "      border: none;\n",
              "      border-radius: 50%;\n",
              "      cursor: pointer;\n",
              "      display: none;\n",
              "      fill: #1967D2;\n",
              "      height: 32px;\n",
              "      padding: 0 0 0 0;\n",
              "      width: 32px;\n",
              "    }\n",
              "\n",
              "    .colab-df-convert:hover {\n",
              "      background-color: #E2EBFA;\n",
              "      box-shadow: 0px 1px 2px rgba(60, 64, 67, 0.3), 0px 1px 3px 1px rgba(60, 64, 67, 0.15);\n",
              "      fill: #174EA6;\n",
              "    }\n",
              "\n",
              "    [theme=dark] .colab-df-convert {\n",
              "      background-color: #3B4455;\n",
              "      fill: #D2E3FC;\n",
              "    }\n",
              "\n",
              "    [theme=dark] .colab-df-convert:hover {\n",
              "      background-color: #434B5C;\n",
              "      box-shadow: 0px 1px 3px 1px rgba(0, 0, 0, 0.15);\n",
              "      filter: drop-shadow(0px 1px 2px rgba(0, 0, 0, 0.3));\n",
              "      fill: #FFFFFF;\n",
              "    }\n",
              "  </style>\n",
              "\n",
              "      <script>\n",
              "        const buttonEl =\n",
              "          document.querySelector('#df-404f915b-bb9d-4061-a579-5797ebd827e0 button.colab-df-convert');\n",
              "        buttonEl.style.display =\n",
              "          google.colab.kernel.accessAllowed ? 'block' : 'none';\n",
              "\n",
              "        async function convertToInteractive(key) {\n",
              "          const element = document.querySelector('#df-404f915b-bb9d-4061-a579-5797ebd827e0');\n",
              "          const dataTable =\n",
              "            await google.colab.kernel.invokeFunction('convertToInteractive',\n",
              "                                                     [key], {});\n",
              "          if (!dataTable) return;\n",
              "\n",
              "          const docLinkHtml = 'Like what you see? Visit the ' +\n",
              "            '<a target=\"_blank\" href=https://colab.research.google.com/notebooks/data_table.ipynb>data table notebook</a>'\n",
              "            + ' to learn more about interactive tables.';\n",
              "          element.innerHTML = '';\n",
              "          dataTable['output_type'] = 'display_data';\n",
              "          await google.colab.output.renderOutput(dataTable, element);\n",
              "          const docLink = document.createElement('div');\n",
              "          docLink.innerHTML = docLinkHtml;\n",
              "          element.appendChild(docLink);\n",
              "        }\n",
              "      </script>\n",
              "    </div>\n",
              "  </div>\n",
              "  "
            ]
          },
          "metadata": {},
          "execution_count": 11
        }
      ]
    },
    {
      "cell_type": "markdown",
      "source": [
        "**Standardize**\n",
        "<br>\n",
        "convert data to standard normalized form to equalize scaling"
      ],
      "metadata": {
        "id": "-EeovpUHHL4Q"
      },
      "id": "-EeovpUHHL4Q"
    },
    {
      "cell_type": "code",
      "source": [
        "#since most data follows normal distribution: standardize dataframe to fit standard normal distribution\n",
        "#Equation: z = (x-mu)/sigma where mu = mean, sigma = standard deviation\n",
        "df_house_std = (df_house-df_house.mean())/df_house.std()\n",
        "df_house_std"
      ],
      "metadata": {
        "colab": {
          "base_uri": "https://localhost:8080/",
          "height": 424
        },
        "id": "PsBXark3HKi-",
        "outputId": "df9d2b44-2257-4baf-e1c1-715a3342feb5"
      },
      "id": "PsBXark3HKi-",
      "execution_count": 12,
      "outputs": [
        {
          "output_type": "execute_result",
          "data": {
            "text/plain": [
              "         Home     Price      SqFt  Bedrooms  Bathrooms    Offers     Brick  \\\n",
              "0   -1.711845 -0.600226 -0.996999 -1.409788  -0.865538 -0.540645 -0.696101   \n",
              "1   -1.684887 -0.603948  0.137364  1.345217  -0.865538  0.394525 -0.696101   \n",
              "2   -1.657929 -0.581617 -1.233325 -0.032285  -0.865538 -1.475815 -0.696101   \n",
              "3   -1.630971 -1.329698 -0.098961 -0.032285  -0.865538  0.394525 -0.696101   \n",
              "4   -1.604013 -0.395528  0.610016 -0.032285   1.078126  0.394525 -0.696101   \n",
              "..        ...       ...       ...       ...        ...       ...       ...   \n",
              "123  1.604013 -0.399250 -0.477082 -0.032285   1.078126  0.394525  1.425350   \n",
              "124  1.630971  0.650296  0.751811  1.345217   1.078126  0.394525  1.425350   \n",
              "125  1.657929 -0.630001  0.326425 -1.409788  -0.865538 -0.540645 -0.696101   \n",
              "126  1.684887  0.724732  0.090099 -0.032285   1.078126 -1.475815 -0.696101   \n",
              "127  1.711845 -0.216882  1.177197 -0.032285   1.078126  1.329695 -0.696101   \n",
              "\n",
              "     Neighborhood  \n",
              "0       -1.173925  \n",
              "1       -1.173925  \n",
              "2       -1.173925  \n",
              "3       -1.173925  \n",
              "4       -1.173925  \n",
              "..            ...  \n",
              "123     -1.173925  \n",
              "124     -1.173925  \n",
              "125      0.057734  \n",
              "126      1.289393  \n",
              "127      0.057734  \n",
              "\n",
              "[128 rows x 8 columns]"
            ],
            "text/html": [
              "\n",
              "  <div id=\"df-2fddab9e-5e47-43a7-a5e1-3a78b80fd8ec\">\n",
              "    <div class=\"colab-df-container\">\n",
              "      <div>\n",
              "<style scoped>\n",
              "    .dataframe tbody tr th:only-of-type {\n",
              "        vertical-align: middle;\n",
              "    }\n",
              "\n",
              "    .dataframe tbody tr th {\n",
              "        vertical-align: top;\n",
              "    }\n",
              "\n",
              "    .dataframe thead th {\n",
              "        text-align: right;\n",
              "    }\n",
              "</style>\n",
              "<table border=\"1\" class=\"dataframe\">\n",
              "  <thead>\n",
              "    <tr style=\"text-align: right;\">\n",
              "      <th></th>\n",
              "      <th>Home</th>\n",
              "      <th>Price</th>\n",
              "      <th>SqFt</th>\n",
              "      <th>Bedrooms</th>\n",
              "      <th>Bathrooms</th>\n",
              "      <th>Offers</th>\n",
              "      <th>Brick</th>\n",
              "      <th>Neighborhood</th>\n",
              "    </tr>\n",
              "  </thead>\n",
              "  <tbody>\n",
              "    <tr>\n",
              "      <th>0</th>\n",
              "      <td>-1.711845</td>\n",
              "      <td>-0.600226</td>\n",
              "      <td>-0.996999</td>\n",
              "      <td>-1.409788</td>\n",
              "      <td>-0.865538</td>\n",
              "      <td>-0.540645</td>\n",
              "      <td>-0.696101</td>\n",
              "      <td>-1.173925</td>\n",
              "    </tr>\n",
              "    <tr>\n",
              "      <th>1</th>\n",
              "      <td>-1.684887</td>\n",
              "      <td>-0.603948</td>\n",
              "      <td>0.137364</td>\n",
              "      <td>1.345217</td>\n",
              "      <td>-0.865538</td>\n",
              "      <td>0.394525</td>\n",
              "      <td>-0.696101</td>\n",
              "      <td>-1.173925</td>\n",
              "    </tr>\n",
              "    <tr>\n",
              "      <th>2</th>\n",
              "      <td>-1.657929</td>\n",
              "      <td>-0.581617</td>\n",
              "      <td>-1.233325</td>\n",
              "      <td>-0.032285</td>\n",
              "      <td>-0.865538</td>\n",
              "      <td>-1.475815</td>\n",
              "      <td>-0.696101</td>\n",
              "      <td>-1.173925</td>\n",
              "    </tr>\n",
              "    <tr>\n",
              "      <th>3</th>\n",
              "      <td>-1.630971</td>\n",
              "      <td>-1.329698</td>\n",
              "      <td>-0.098961</td>\n",
              "      <td>-0.032285</td>\n",
              "      <td>-0.865538</td>\n",
              "      <td>0.394525</td>\n",
              "      <td>-0.696101</td>\n",
              "      <td>-1.173925</td>\n",
              "    </tr>\n",
              "    <tr>\n",
              "      <th>4</th>\n",
              "      <td>-1.604013</td>\n",
              "      <td>-0.395528</td>\n",
              "      <td>0.610016</td>\n",
              "      <td>-0.032285</td>\n",
              "      <td>1.078126</td>\n",
              "      <td>0.394525</td>\n",
              "      <td>-0.696101</td>\n",
              "      <td>-1.173925</td>\n",
              "    </tr>\n",
              "    <tr>\n",
              "      <th>...</th>\n",
              "      <td>...</td>\n",
              "      <td>...</td>\n",
              "      <td>...</td>\n",
              "      <td>...</td>\n",
              "      <td>...</td>\n",
              "      <td>...</td>\n",
              "      <td>...</td>\n",
              "      <td>...</td>\n",
              "    </tr>\n",
              "    <tr>\n",
              "      <th>123</th>\n",
              "      <td>1.604013</td>\n",
              "      <td>-0.399250</td>\n",
              "      <td>-0.477082</td>\n",
              "      <td>-0.032285</td>\n",
              "      <td>1.078126</td>\n",
              "      <td>0.394525</td>\n",
              "      <td>1.425350</td>\n",
              "      <td>-1.173925</td>\n",
              "    </tr>\n",
              "    <tr>\n",
              "      <th>124</th>\n",
              "      <td>1.630971</td>\n",
              "      <td>0.650296</td>\n",
              "      <td>0.751811</td>\n",
              "      <td>1.345217</td>\n",
              "      <td>1.078126</td>\n",
              "      <td>0.394525</td>\n",
              "      <td>1.425350</td>\n",
              "      <td>-1.173925</td>\n",
              "    </tr>\n",
              "    <tr>\n",
              "      <th>125</th>\n",
              "      <td>1.657929</td>\n",
              "      <td>-0.630001</td>\n",
              "      <td>0.326425</td>\n",
              "      <td>-1.409788</td>\n",
              "      <td>-0.865538</td>\n",
              "      <td>-0.540645</td>\n",
              "      <td>-0.696101</td>\n",
              "      <td>0.057734</td>\n",
              "    </tr>\n",
              "    <tr>\n",
              "      <th>126</th>\n",
              "      <td>1.684887</td>\n",
              "      <td>0.724732</td>\n",
              "      <td>0.090099</td>\n",
              "      <td>-0.032285</td>\n",
              "      <td>1.078126</td>\n",
              "      <td>-1.475815</td>\n",
              "      <td>-0.696101</td>\n",
              "      <td>1.289393</td>\n",
              "    </tr>\n",
              "    <tr>\n",
              "      <th>127</th>\n",
              "      <td>1.711845</td>\n",
              "      <td>-0.216882</td>\n",
              "      <td>1.177197</td>\n",
              "      <td>-0.032285</td>\n",
              "      <td>1.078126</td>\n",
              "      <td>1.329695</td>\n",
              "      <td>-0.696101</td>\n",
              "      <td>0.057734</td>\n",
              "    </tr>\n",
              "  </tbody>\n",
              "</table>\n",
              "<p>128 rows × 8 columns</p>\n",
              "</div>\n",
              "      <button class=\"colab-df-convert\" onclick=\"convertToInteractive('df-2fddab9e-5e47-43a7-a5e1-3a78b80fd8ec')\"\n",
              "              title=\"Convert this dataframe to an interactive table.\"\n",
              "              style=\"display:none;\">\n",
              "        \n",
              "  <svg xmlns=\"http://www.w3.org/2000/svg\" height=\"24px\"viewBox=\"0 0 24 24\"\n",
              "       width=\"24px\">\n",
              "    <path d=\"M0 0h24v24H0V0z\" fill=\"none\"/>\n",
              "    <path d=\"M18.56 5.44l.94 2.06.94-2.06 2.06-.94-2.06-.94-.94-2.06-.94 2.06-2.06.94zm-11 1L8.5 8.5l.94-2.06 2.06-.94-2.06-.94L8.5 2.5l-.94 2.06-2.06.94zm10 10l.94 2.06.94-2.06 2.06-.94-2.06-.94-.94-2.06-.94 2.06-2.06.94z\"/><path d=\"M17.41 7.96l-1.37-1.37c-.4-.4-.92-.59-1.43-.59-.52 0-1.04.2-1.43.59L10.3 9.45l-7.72 7.72c-.78.78-.78 2.05 0 2.83L4 21.41c.39.39.9.59 1.41.59.51 0 1.02-.2 1.41-.59l7.78-7.78 2.81-2.81c.8-.78.8-2.07 0-2.86zM5.41 20L4 18.59l7.72-7.72 1.47 1.35L5.41 20z\"/>\n",
              "  </svg>\n",
              "      </button>\n",
              "      \n",
              "  <style>\n",
              "    .colab-df-container {\n",
              "      display:flex;\n",
              "      flex-wrap:wrap;\n",
              "      gap: 12px;\n",
              "    }\n",
              "\n",
              "    .colab-df-convert {\n",
              "      background-color: #E8F0FE;\n",
              "      border: none;\n",
              "      border-radius: 50%;\n",
              "      cursor: pointer;\n",
              "      display: none;\n",
              "      fill: #1967D2;\n",
              "      height: 32px;\n",
              "      padding: 0 0 0 0;\n",
              "      width: 32px;\n",
              "    }\n",
              "\n",
              "    .colab-df-convert:hover {\n",
              "      background-color: #E2EBFA;\n",
              "      box-shadow: 0px 1px 2px rgba(60, 64, 67, 0.3), 0px 1px 3px 1px rgba(60, 64, 67, 0.15);\n",
              "      fill: #174EA6;\n",
              "    }\n",
              "\n",
              "    [theme=dark] .colab-df-convert {\n",
              "      background-color: #3B4455;\n",
              "      fill: #D2E3FC;\n",
              "    }\n",
              "\n",
              "    [theme=dark] .colab-df-convert:hover {\n",
              "      background-color: #434B5C;\n",
              "      box-shadow: 0px 1px 3px 1px rgba(0, 0, 0, 0.15);\n",
              "      filter: drop-shadow(0px 1px 2px rgba(0, 0, 0, 0.3));\n",
              "      fill: #FFFFFF;\n",
              "    }\n",
              "  </style>\n",
              "\n",
              "      <script>\n",
              "        const buttonEl =\n",
              "          document.querySelector('#df-2fddab9e-5e47-43a7-a5e1-3a78b80fd8ec button.colab-df-convert');\n",
              "        buttonEl.style.display =\n",
              "          google.colab.kernel.accessAllowed ? 'block' : 'none';\n",
              "\n",
              "        async function convertToInteractive(key) {\n",
              "          const element = document.querySelector('#df-2fddab9e-5e47-43a7-a5e1-3a78b80fd8ec');\n",
              "          const dataTable =\n",
              "            await google.colab.kernel.invokeFunction('convertToInteractive',\n",
              "                                                     [key], {});\n",
              "          if (!dataTable) return;\n",
              "\n",
              "          const docLinkHtml = 'Like what you see? Visit the ' +\n",
              "            '<a target=\"_blank\" href=https://colab.research.google.com/notebooks/data_table.ipynb>data table notebook</a>'\n",
              "            + ' to learn more about interactive tables.';\n",
              "          element.innerHTML = '';\n",
              "          dataTable['output_type'] = 'display_data';\n",
              "          await google.colab.output.renderOutput(dataTable, element);\n",
              "          const docLink = document.createElement('div');\n",
              "          docLink.innerHTML = docLinkHtml;\n",
              "          element.appendChild(docLink);\n",
              "        }\n",
              "      </script>\n",
              "    </div>\n",
              "  </div>\n",
              "  "
            ]
          },
          "metadata": {},
          "execution_count": 12
        }
      ]
    },
    {
      "cell_type": "code",
      "source": [
        "#check if mean = 0 and sigma = 1\n",
        "df_house_std.describe()\n",
        "#yes, so standardization successful"
      ],
      "metadata": {
        "colab": {
          "base_uri": "https://localhost:8080/",
          "height": 300
        },
        "id": "rZAXqBzD_OSf",
        "outputId": "ee1fd7b2-c685-4e24-c820-4dce53be3e40"
      },
      "id": "rZAXqBzD_OSf",
      "execution_count": 13,
      "outputs": [
        {
          "output_type": "execute_result",
          "data": {
            "text/plain": [
              "               Home         Price          SqFt      Bedrooms     Bathrooms  \\\n",
              "count  1.280000e+02  1.280000e+02  1.280000e+02  1.280000e+02  1.280000e+02   \n",
              "mean  -6.938894e-18 -1.387779e-17  3.469447e-18 -5.204170e-17  1.006140e-16   \n",
              "std    1.000000e+00  1.000000e+00  1.000000e+00  1.000000e+00  1.000000e+00   \n",
              "min   -1.711845e+00 -2.282477e+00 -2.604014e+00 -1.409788e+00 -8.655378e-01   \n",
              "25%   -8.559226e-01 -7.109497e-01 -5.716128e-01 -3.228522e-02 -8.655378e-01   \n",
              "50%    0.000000e+00 -1.666375e-01 -4.431107e-03 -3.228522e-02 -8.655378e-01   \n",
              "75%    8.559226e-01  6.633224e-01  6.572808e-01 -3.228522e-02  1.078126e+00   \n",
              "max    1.711845e+00  3.006191e+00  2.784212e+00  2.722720e+00  3.021790e+00   \n",
              "\n",
              "             Offers         Brick  Neighborhood  \n",
              "count  1.280000e+02  1.280000e+02  1.280000e+02  \n",
              "mean  -2.081668e-17  6.938894e-18  5.551115e-17  \n",
              "std    1.000000e+00  1.000000e+00  1.000000e+00  \n",
              "min   -1.475815e+00 -6.961011e-01 -1.173925e+00  \n",
              "25%   -5.406451e-01 -6.961011e-01 -1.173925e+00  \n",
              "50%    3.945248e-01 -6.961011e-01  5.773402e-02  \n",
              "75%    3.945248e-01  1.425350e+00  1.289393e+00  \n",
              "max    3.200034e+00  1.425350e+00  1.289393e+00  "
            ],
            "text/html": [
              "\n",
              "  <div id=\"df-1efb73eb-71ae-4efc-b8fa-e1bd634772a3\">\n",
              "    <div class=\"colab-df-container\">\n",
              "      <div>\n",
              "<style scoped>\n",
              "    .dataframe tbody tr th:only-of-type {\n",
              "        vertical-align: middle;\n",
              "    }\n",
              "\n",
              "    .dataframe tbody tr th {\n",
              "        vertical-align: top;\n",
              "    }\n",
              "\n",
              "    .dataframe thead th {\n",
              "        text-align: right;\n",
              "    }\n",
              "</style>\n",
              "<table border=\"1\" class=\"dataframe\">\n",
              "  <thead>\n",
              "    <tr style=\"text-align: right;\">\n",
              "      <th></th>\n",
              "      <th>Home</th>\n",
              "      <th>Price</th>\n",
              "      <th>SqFt</th>\n",
              "      <th>Bedrooms</th>\n",
              "      <th>Bathrooms</th>\n",
              "      <th>Offers</th>\n",
              "      <th>Brick</th>\n",
              "      <th>Neighborhood</th>\n",
              "    </tr>\n",
              "  </thead>\n",
              "  <tbody>\n",
              "    <tr>\n",
              "      <th>count</th>\n",
              "      <td>1.280000e+02</td>\n",
              "      <td>1.280000e+02</td>\n",
              "      <td>1.280000e+02</td>\n",
              "      <td>1.280000e+02</td>\n",
              "      <td>1.280000e+02</td>\n",
              "      <td>1.280000e+02</td>\n",
              "      <td>1.280000e+02</td>\n",
              "      <td>1.280000e+02</td>\n",
              "    </tr>\n",
              "    <tr>\n",
              "      <th>mean</th>\n",
              "      <td>-6.938894e-18</td>\n",
              "      <td>-1.387779e-17</td>\n",
              "      <td>3.469447e-18</td>\n",
              "      <td>-5.204170e-17</td>\n",
              "      <td>1.006140e-16</td>\n",
              "      <td>-2.081668e-17</td>\n",
              "      <td>6.938894e-18</td>\n",
              "      <td>5.551115e-17</td>\n",
              "    </tr>\n",
              "    <tr>\n",
              "      <th>std</th>\n",
              "      <td>1.000000e+00</td>\n",
              "      <td>1.000000e+00</td>\n",
              "      <td>1.000000e+00</td>\n",
              "      <td>1.000000e+00</td>\n",
              "      <td>1.000000e+00</td>\n",
              "      <td>1.000000e+00</td>\n",
              "      <td>1.000000e+00</td>\n",
              "      <td>1.000000e+00</td>\n",
              "    </tr>\n",
              "    <tr>\n",
              "      <th>min</th>\n",
              "      <td>-1.711845e+00</td>\n",
              "      <td>-2.282477e+00</td>\n",
              "      <td>-2.604014e+00</td>\n",
              "      <td>-1.409788e+00</td>\n",
              "      <td>-8.655378e-01</td>\n",
              "      <td>-1.475815e+00</td>\n",
              "      <td>-6.961011e-01</td>\n",
              "      <td>-1.173925e+00</td>\n",
              "    </tr>\n",
              "    <tr>\n",
              "      <th>25%</th>\n",
              "      <td>-8.559226e-01</td>\n",
              "      <td>-7.109497e-01</td>\n",
              "      <td>-5.716128e-01</td>\n",
              "      <td>-3.228522e-02</td>\n",
              "      <td>-8.655378e-01</td>\n",
              "      <td>-5.406451e-01</td>\n",
              "      <td>-6.961011e-01</td>\n",
              "      <td>-1.173925e+00</td>\n",
              "    </tr>\n",
              "    <tr>\n",
              "      <th>50%</th>\n",
              "      <td>0.000000e+00</td>\n",
              "      <td>-1.666375e-01</td>\n",
              "      <td>-4.431107e-03</td>\n",
              "      <td>-3.228522e-02</td>\n",
              "      <td>-8.655378e-01</td>\n",
              "      <td>3.945248e-01</td>\n",
              "      <td>-6.961011e-01</td>\n",
              "      <td>5.773402e-02</td>\n",
              "    </tr>\n",
              "    <tr>\n",
              "      <th>75%</th>\n",
              "      <td>8.559226e-01</td>\n",
              "      <td>6.633224e-01</td>\n",
              "      <td>6.572808e-01</td>\n",
              "      <td>-3.228522e-02</td>\n",
              "      <td>1.078126e+00</td>\n",
              "      <td>3.945248e-01</td>\n",
              "      <td>1.425350e+00</td>\n",
              "      <td>1.289393e+00</td>\n",
              "    </tr>\n",
              "    <tr>\n",
              "      <th>max</th>\n",
              "      <td>1.711845e+00</td>\n",
              "      <td>3.006191e+00</td>\n",
              "      <td>2.784212e+00</td>\n",
              "      <td>2.722720e+00</td>\n",
              "      <td>3.021790e+00</td>\n",
              "      <td>3.200034e+00</td>\n",
              "      <td>1.425350e+00</td>\n",
              "      <td>1.289393e+00</td>\n",
              "    </tr>\n",
              "  </tbody>\n",
              "</table>\n",
              "</div>\n",
              "      <button class=\"colab-df-convert\" onclick=\"convertToInteractive('df-1efb73eb-71ae-4efc-b8fa-e1bd634772a3')\"\n",
              "              title=\"Convert this dataframe to an interactive table.\"\n",
              "              style=\"display:none;\">\n",
              "        \n",
              "  <svg xmlns=\"http://www.w3.org/2000/svg\" height=\"24px\"viewBox=\"0 0 24 24\"\n",
              "       width=\"24px\">\n",
              "    <path d=\"M0 0h24v24H0V0z\" fill=\"none\"/>\n",
              "    <path d=\"M18.56 5.44l.94 2.06.94-2.06 2.06-.94-2.06-.94-.94-2.06-.94 2.06-2.06.94zm-11 1L8.5 8.5l.94-2.06 2.06-.94-2.06-.94L8.5 2.5l-.94 2.06-2.06.94zm10 10l.94 2.06.94-2.06 2.06-.94-2.06-.94-.94-2.06-.94 2.06-2.06.94z\"/><path d=\"M17.41 7.96l-1.37-1.37c-.4-.4-.92-.59-1.43-.59-.52 0-1.04.2-1.43.59L10.3 9.45l-7.72 7.72c-.78.78-.78 2.05 0 2.83L4 21.41c.39.39.9.59 1.41.59.51 0 1.02-.2 1.41-.59l7.78-7.78 2.81-2.81c.8-.78.8-2.07 0-2.86zM5.41 20L4 18.59l7.72-7.72 1.47 1.35L5.41 20z\"/>\n",
              "  </svg>\n",
              "      </button>\n",
              "      \n",
              "  <style>\n",
              "    .colab-df-container {\n",
              "      display:flex;\n",
              "      flex-wrap:wrap;\n",
              "      gap: 12px;\n",
              "    }\n",
              "\n",
              "    .colab-df-convert {\n",
              "      background-color: #E8F0FE;\n",
              "      border: none;\n",
              "      border-radius: 50%;\n",
              "      cursor: pointer;\n",
              "      display: none;\n",
              "      fill: #1967D2;\n",
              "      height: 32px;\n",
              "      padding: 0 0 0 0;\n",
              "      width: 32px;\n",
              "    }\n",
              "\n",
              "    .colab-df-convert:hover {\n",
              "      background-color: #E2EBFA;\n",
              "      box-shadow: 0px 1px 2px rgba(60, 64, 67, 0.3), 0px 1px 3px 1px rgba(60, 64, 67, 0.15);\n",
              "      fill: #174EA6;\n",
              "    }\n",
              "\n",
              "    [theme=dark] .colab-df-convert {\n",
              "      background-color: #3B4455;\n",
              "      fill: #D2E3FC;\n",
              "    }\n",
              "\n",
              "    [theme=dark] .colab-df-convert:hover {\n",
              "      background-color: #434B5C;\n",
              "      box-shadow: 0px 1px 3px 1px rgba(0, 0, 0, 0.15);\n",
              "      filter: drop-shadow(0px 1px 2px rgba(0, 0, 0, 0.3));\n",
              "      fill: #FFFFFF;\n",
              "    }\n",
              "  </style>\n",
              "\n",
              "      <script>\n",
              "        const buttonEl =\n",
              "          document.querySelector('#df-1efb73eb-71ae-4efc-b8fa-e1bd634772a3 button.colab-df-convert');\n",
              "        buttonEl.style.display =\n",
              "          google.colab.kernel.accessAllowed ? 'block' : 'none';\n",
              "\n",
              "        async function convertToInteractive(key) {\n",
              "          const element = document.querySelector('#df-1efb73eb-71ae-4efc-b8fa-e1bd634772a3');\n",
              "          const dataTable =\n",
              "            await google.colab.kernel.invokeFunction('convertToInteractive',\n",
              "                                                     [key], {});\n",
              "          if (!dataTable) return;\n",
              "\n",
              "          const docLinkHtml = 'Like what you see? Visit the ' +\n",
              "            '<a target=\"_blank\" href=https://colab.research.google.com/notebooks/data_table.ipynb>data table notebook</a>'\n",
              "            + ' to learn more about interactive tables.';\n",
              "          element.innerHTML = '';\n",
              "          dataTable['output_type'] = 'display_data';\n",
              "          await google.colab.output.renderOutput(dataTable, element);\n",
              "          const docLink = document.createElement('div');\n",
              "          docLink.innerHTML = docLinkHtml;\n",
              "          element.appendChild(docLink);\n",
              "        }\n",
              "      </script>\n",
              "    </div>\n",
              "  </div>\n",
              "  "
            ]
          },
          "metadata": {},
          "execution_count": 13
        }
      ]
    },
    {
      "cell_type": "markdown",
      "source": [
        "**Split dataset to train and test df**"
      ],
      "metadata": {
        "id": "VptJj9WM0q-P"
      },
      "id": "VptJj9WM0q-P"
    },
    {
      "cell_type": "code",
      "source": [
        "''' split data into two without using additional libraries:\n",
        "      - train data: 80%\n",
        "      - test data: 20%\n",
        "'''\n",
        "df_train = df_house_std.sample(frac=0.8, random_state=20)\n",
        "df_test = df_house_std.drop(df_train.index)\n",
        "\n",
        "print(f\"No. of training examples: {df_train.shape[0]}\")\n",
        "print(f\"No. of testing examples: {df_test.shape[0]}\")\n",
        "\n",
        "# No. of training examples: 102 (80%, round down)\n",
        "# No. of testing examples: 26 (20%, round up)"
      ],
      "metadata": {
        "colab": {
          "base_uri": "https://localhost:8080/",
          "height": 0
        },
        "id": "WBNiucumZGTl",
        "outputId": "e7b71d64-ffa8-4be5-8343-0dbc3f0b6211"
      },
      "id": "WBNiucumZGTl",
      "execution_count": 14,
      "outputs": [
        {
          "output_type": "stream",
          "name": "stdout",
          "text": [
            "No. of training examples: 102\n",
            "No. of testing examples: 26\n"
          ]
        }
      ]
    },
    {
      "cell_type": "code",
      "source": [
        "#check dataset again\n",
        "df_train\n",
        "# train dataframe has 102 rows "
      ],
      "metadata": {
        "colab": {
          "base_uri": "https://localhost:8080/",
          "height": 424
        },
        "id": "6UdJ_HevyvPn",
        "outputId": "dd148ff5-00b0-4f37-c60f-9e00c9288cf2"
      },
      "id": "6UdJ_HevyvPn",
      "execution_count": 15,
      "outputs": [
        {
          "output_type": "execute_result",
          "data": {
            "text/plain": [
              "         Home     Price      SqFt  Bedrooms  Bathrooms    Offers     Brick  \\\n",
              "76   0.336977 -0.023348 -0.335287 -0.032285  -0.865538 -0.540645 -0.696101   \n",
              "0   -1.711845 -0.600226 -0.996999 -1.409788  -0.865538 -0.540645 -0.696101   \n",
              "66   0.067395 -0.157333  0.988137 -0.032285   1.078126  1.329695 -0.696101   \n",
              "56  -0.202186  0.389771  0.893607 -0.032285  -0.865538  0.394525  1.425350   \n",
              "78   0.390894 -0.339701  0.610016 -0.032285  -0.865538  0.394525 -0.696101   \n",
              "..        ...       ...       ...       ...        ...       ...       ...   \n",
              "119  1.496180 -0.771429 -0.382552 -1.409788  -0.865538  1.329695 -0.696101   \n",
              "13  -1.361389 -0.153611  0.704546 -0.032285   1.078126  2.264865  1.425350   \n",
              "111  1.280514 -0.577896 -1.233325 -1.409788  -0.865538 -0.540645 -0.696101   \n",
              "6   -1.550096  0.788002 -0.807938 -0.032285   1.078126  0.394525  1.425350   \n",
              "98   0.930058  0.560973  0.279160 -0.032285  -0.865538 -1.475815 -0.696101   \n",
              "\n",
              "     Neighborhood  \n",
              "76       1.289393  \n",
              "0       -1.173925  \n",
              "66       0.057734  \n",
              "56      -1.173925  \n",
              "78       0.057734  \n",
              "..            ...  \n",
              "119      0.057734  \n",
              "13       0.057734  \n",
              "111      0.057734  \n",
              "6        1.289393  \n",
              "98       1.289393  \n",
              "\n",
              "[102 rows x 8 columns]"
            ],
            "text/html": [
              "\n",
              "  <div id=\"df-d503cd2e-0221-49bd-b5ef-94a231effaf1\">\n",
              "    <div class=\"colab-df-container\">\n",
              "      <div>\n",
              "<style scoped>\n",
              "    .dataframe tbody tr th:only-of-type {\n",
              "        vertical-align: middle;\n",
              "    }\n",
              "\n",
              "    .dataframe tbody tr th {\n",
              "        vertical-align: top;\n",
              "    }\n",
              "\n",
              "    .dataframe thead th {\n",
              "        text-align: right;\n",
              "    }\n",
              "</style>\n",
              "<table border=\"1\" class=\"dataframe\">\n",
              "  <thead>\n",
              "    <tr style=\"text-align: right;\">\n",
              "      <th></th>\n",
              "      <th>Home</th>\n",
              "      <th>Price</th>\n",
              "      <th>SqFt</th>\n",
              "      <th>Bedrooms</th>\n",
              "      <th>Bathrooms</th>\n",
              "      <th>Offers</th>\n",
              "      <th>Brick</th>\n",
              "      <th>Neighborhood</th>\n",
              "    </tr>\n",
              "  </thead>\n",
              "  <tbody>\n",
              "    <tr>\n",
              "      <th>76</th>\n",
              "      <td>0.336977</td>\n",
              "      <td>-0.023348</td>\n",
              "      <td>-0.335287</td>\n",
              "      <td>-0.032285</td>\n",
              "      <td>-0.865538</td>\n",
              "      <td>-0.540645</td>\n",
              "      <td>-0.696101</td>\n",
              "      <td>1.289393</td>\n",
              "    </tr>\n",
              "    <tr>\n",
              "      <th>0</th>\n",
              "      <td>-1.711845</td>\n",
              "      <td>-0.600226</td>\n",
              "      <td>-0.996999</td>\n",
              "      <td>-1.409788</td>\n",
              "      <td>-0.865538</td>\n",
              "      <td>-0.540645</td>\n",
              "      <td>-0.696101</td>\n",
              "      <td>-1.173925</td>\n",
              "    </tr>\n",
              "    <tr>\n",
              "      <th>66</th>\n",
              "      <td>0.067395</td>\n",
              "      <td>-0.157333</td>\n",
              "      <td>0.988137</td>\n",
              "      <td>-0.032285</td>\n",
              "      <td>1.078126</td>\n",
              "      <td>1.329695</td>\n",
              "      <td>-0.696101</td>\n",
              "      <td>0.057734</td>\n",
              "    </tr>\n",
              "    <tr>\n",
              "      <th>56</th>\n",
              "      <td>-0.202186</td>\n",
              "      <td>0.389771</td>\n",
              "      <td>0.893607</td>\n",
              "      <td>-0.032285</td>\n",
              "      <td>-0.865538</td>\n",
              "      <td>0.394525</td>\n",
              "      <td>1.425350</td>\n",
              "      <td>-1.173925</td>\n",
              "    </tr>\n",
              "    <tr>\n",
              "      <th>78</th>\n",
              "      <td>0.390894</td>\n",
              "      <td>-0.339701</td>\n",
              "      <td>0.610016</td>\n",
              "      <td>-0.032285</td>\n",
              "      <td>-0.865538</td>\n",
              "      <td>0.394525</td>\n",
              "      <td>-0.696101</td>\n",
              "      <td>0.057734</td>\n",
              "    </tr>\n",
              "    <tr>\n",
              "      <th>...</th>\n",
              "      <td>...</td>\n",
              "      <td>...</td>\n",
              "      <td>...</td>\n",
              "      <td>...</td>\n",
              "      <td>...</td>\n",
              "      <td>...</td>\n",
              "      <td>...</td>\n",
              "      <td>...</td>\n",
              "    </tr>\n",
              "    <tr>\n",
              "      <th>119</th>\n",
              "      <td>1.496180</td>\n",
              "      <td>-0.771429</td>\n",
              "      <td>-0.382552</td>\n",
              "      <td>-1.409788</td>\n",
              "      <td>-0.865538</td>\n",
              "      <td>1.329695</td>\n",
              "      <td>-0.696101</td>\n",
              "      <td>0.057734</td>\n",
              "    </tr>\n",
              "    <tr>\n",
              "      <th>13</th>\n",
              "      <td>-1.361389</td>\n",
              "      <td>-0.153611</td>\n",
              "      <td>0.704546</td>\n",
              "      <td>-0.032285</td>\n",
              "      <td>1.078126</td>\n",
              "      <td>2.264865</td>\n",
              "      <td>1.425350</td>\n",
              "      <td>0.057734</td>\n",
              "    </tr>\n",
              "    <tr>\n",
              "      <th>111</th>\n",
              "      <td>1.280514</td>\n",
              "      <td>-0.577896</td>\n",
              "      <td>-1.233325</td>\n",
              "      <td>-1.409788</td>\n",
              "      <td>-0.865538</td>\n",
              "      <td>-0.540645</td>\n",
              "      <td>-0.696101</td>\n",
              "      <td>0.057734</td>\n",
              "    </tr>\n",
              "    <tr>\n",
              "      <th>6</th>\n",
              "      <td>-1.550096</td>\n",
              "      <td>0.788002</td>\n",
              "      <td>-0.807938</td>\n",
              "      <td>-0.032285</td>\n",
              "      <td>1.078126</td>\n",
              "      <td>0.394525</td>\n",
              "      <td>1.425350</td>\n",
              "      <td>1.289393</td>\n",
              "    </tr>\n",
              "    <tr>\n",
              "      <th>98</th>\n",
              "      <td>0.930058</td>\n",
              "      <td>0.560973</td>\n",
              "      <td>0.279160</td>\n",
              "      <td>-0.032285</td>\n",
              "      <td>-0.865538</td>\n",
              "      <td>-1.475815</td>\n",
              "      <td>-0.696101</td>\n",
              "      <td>1.289393</td>\n",
              "    </tr>\n",
              "  </tbody>\n",
              "</table>\n",
              "<p>102 rows × 8 columns</p>\n",
              "</div>\n",
              "      <button class=\"colab-df-convert\" onclick=\"convertToInteractive('df-d503cd2e-0221-49bd-b5ef-94a231effaf1')\"\n",
              "              title=\"Convert this dataframe to an interactive table.\"\n",
              "              style=\"display:none;\">\n",
              "        \n",
              "  <svg xmlns=\"http://www.w3.org/2000/svg\" height=\"24px\"viewBox=\"0 0 24 24\"\n",
              "       width=\"24px\">\n",
              "    <path d=\"M0 0h24v24H0V0z\" fill=\"none\"/>\n",
              "    <path d=\"M18.56 5.44l.94 2.06.94-2.06 2.06-.94-2.06-.94-.94-2.06-.94 2.06-2.06.94zm-11 1L8.5 8.5l.94-2.06 2.06-.94-2.06-.94L8.5 2.5l-.94 2.06-2.06.94zm10 10l.94 2.06.94-2.06 2.06-.94-2.06-.94-.94-2.06-.94 2.06-2.06.94z\"/><path d=\"M17.41 7.96l-1.37-1.37c-.4-.4-.92-.59-1.43-.59-.52 0-1.04.2-1.43.59L10.3 9.45l-7.72 7.72c-.78.78-.78 2.05 0 2.83L4 21.41c.39.39.9.59 1.41.59.51 0 1.02-.2 1.41-.59l7.78-7.78 2.81-2.81c.8-.78.8-2.07 0-2.86zM5.41 20L4 18.59l7.72-7.72 1.47 1.35L5.41 20z\"/>\n",
              "  </svg>\n",
              "      </button>\n",
              "      \n",
              "  <style>\n",
              "    .colab-df-container {\n",
              "      display:flex;\n",
              "      flex-wrap:wrap;\n",
              "      gap: 12px;\n",
              "    }\n",
              "\n",
              "    .colab-df-convert {\n",
              "      background-color: #E8F0FE;\n",
              "      border: none;\n",
              "      border-radius: 50%;\n",
              "      cursor: pointer;\n",
              "      display: none;\n",
              "      fill: #1967D2;\n",
              "      height: 32px;\n",
              "      padding: 0 0 0 0;\n",
              "      width: 32px;\n",
              "    }\n",
              "\n",
              "    .colab-df-convert:hover {\n",
              "      background-color: #E2EBFA;\n",
              "      box-shadow: 0px 1px 2px rgba(60, 64, 67, 0.3), 0px 1px 3px 1px rgba(60, 64, 67, 0.15);\n",
              "      fill: #174EA6;\n",
              "    }\n",
              "\n",
              "    [theme=dark] .colab-df-convert {\n",
              "      background-color: #3B4455;\n",
              "      fill: #D2E3FC;\n",
              "    }\n",
              "\n",
              "    [theme=dark] .colab-df-convert:hover {\n",
              "      background-color: #434B5C;\n",
              "      box-shadow: 0px 1px 3px 1px rgba(0, 0, 0, 0.15);\n",
              "      filter: drop-shadow(0px 1px 2px rgba(0, 0, 0, 0.3));\n",
              "      fill: #FFFFFF;\n",
              "    }\n",
              "  </style>\n",
              "\n",
              "      <script>\n",
              "        const buttonEl =\n",
              "          document.querySelector('#df-d503cd2e-0221-49bd-b5ef-94a231effaf1 button.colab-df-convert');\n",
              "        buttonEl.style.display =\n",
              "          google.colab.kernel.accessAllowed ? 'block' : 'none';\n",
              "\n",
              "        async function convertToInteractive(key) {\n",
              "          const element = document.querySelector('#df-d503cd2e-0221-49bd-b5ef-94a231effaf1');\n",
              "          const dataTable =\n",
              "            await google.colab.kernel.invokeFunction('convertToInteractive',\n",
              "                                                     [key], {});\n",
              "          if (!dataTable) return;\n",
              "\n",
              "          const docLinkHtml = 'Like what you see? Visit the ' +\n",
              "            '<a target=\"_blank\" href=https://colab.research.google.com/notebooks/data_table.ipynb>data table notebook</a>'\n",
              "            + ' to learn more about interactive tables.';\n",
              "          element.innerHTML = '';\n",
              "          dataTable['output_type'] = 'display_data';\n",
              "          await google.colab.output.renderOutput(dataTable, element);\n",
              "          const docLink = document.createElement('div');\n",
              "          docLink.innerHTML = docLinkHtml;\n",
              "          element.appendChild(docLink);\n",
              "        }\n",
              "      </script>\n",
              "    </div>\n",
              "  </div>\n",
              "  "
            ]
          },
          "metadata": {},
          "execution_count": 15
        }
      ]
    },
    {
      "cell_type": "markdown",
      "source": [
        "## Problem 1b: Linear Model"
      ],
      "metadata": {
        "id": "qf1BTRJI0fRy"
      },
      "id": "qf1BTRJI0fRy"
    },
    {
      "cell_type": "code",
      "source": [
        "# Define features and labels from train data: producing array\n",
        "x_train = df_train.iloc[:,2:].values #SqFt column onwards\n",
        "y_train = df_train.iloc[:,1].values #house price"
      ],
      "metadata": {
        "id": "TMeAfaq66NHY"
      },
      "id": "TMeAfaq66NHY",
      "execution_count": 16,
      "outputs": []
    },
    {
      "cell_type": "code",
      "source": [
        "#check array\n",
        "print(f\"x_train shape = {x_train.shape}\")\n",
        "print(f\"y_train shape = {y_train.shape}\")"
      ],
      "metadata": {
        "colab": {
          "base_uri": "https://localhost:8080/",
          "height": 0
        },
        "id": "eSIjyOU0D5w5",
        "outputId": "9b0c8714-003a-421f-b8c1-85b113f30c40"
      },
      "id": "eSIjyOU0D5w5",
      "execution_count": 17,
      "outputs": [
        {
          "output_type": "stream",
          "name": "stdout",
          "text": [
            "x_train shape = (102, 6)\n",
            "y_train shape = (102,)\n"
          ]
        }
      ]
    },
    {
      "cell_type": "markdown",
      "source": [
        "**Create cost(loss) function and gradient descent**\n",
        "<br>\n",
        "class format (Should have init(), predict(), train() methods)"
      ],
      "metadata": {
        "id": "RvjYmWwpEk98"
      },
      "id": "RvjYmWwpEk98"
    },
    {
      "cell_type": "code",
      "source": [
        "#create linear regression class: should include init(), predict(), train() \n",
        "import numpy as np\n",
        "import matplotlib.pyplot as plt\n",
        "\n",
        "class multivariate_regression():\n",
        "  #Functions to do linear regression for multiple variables. \n",
        "  #Includes init, cost function, gradient descent, train, and predict functions.\n",
        "  #Linear model form: y = w * x + b\n",
        "\n",
        "  def __init__(self,x, y, learning_rate=0.0001, epochs=10000):\n",
        "    ''' \n",
        "    Listing parameters to initiate normal distribution, where:\n",
        "      x = independent variable(s), x-axis\n",
        "      y = dependent variable, y-axis \n",
        "      w = weight or slope of linear equation y = w * x + b\n",
        "      b = bias or intercept of linear equation y = w * x + b\n",
        "      learning_rate = how sensitive the calculation (hyperparameter)\n",
        "      epochs = number of iterations (hyperparameter)\n",
        "    '''\n",
        "    self.x = x\n",
        "    self.y = y\n",
        "    self.learning_rate = learning_rate\n",
        "    self.epochs = epochs\n",
        "\n",
        "    #initialized w and b\n",
        "    self.w = np.zeros(x_train.shape[1])\n",
        "    self.b = 0\n",
        "\n",
        "  def cost_function(self):\n",
        "    '''\n",
        "    Calculate the cost/loss function \n",
        "    Parameters: x(array), y(1D array), w(1D array), and b(scalar, intercept)\n",
        "    Return: cost (scalar)\n",
        "    '''\n",
        "    error = (self.x.dot(self.w) + self.b) - self.y #function = y_hat - y\n",
        "      #dot product with weight or slope to get y_hat or y_model\n",
        "    n = len(self.y)\n",
        "    cost = np.sum(error ** 2) / (2.0*n) \n",
        "      #numerator: sum of squared error\n",
        "      #Denominator: 2.0 to make it a float since we perform division\n",
        "      #cost = mean squared error\n",
        "    return cost\n",
        "\n",
        "  def train(self):\n",
        "    '''\n",
        "    Use train dataset to get linear model of dependent variable relationship with independent variable(s).\n",
        "    First, calculate the gradient descent points of the dataset. \n",
        "    Then find the minimum w and b gradient (from class example) as optimum solutions\n",
        "\n",
        "    Parameters: x(array), y(1D array), w(1D array), and b(scalar, intercept)\n",
        "      learning_rate(scalar), epochs (scalar)\n",
        "    \n",
        "    Return: \n",
        "      - optimum w value for independent variable(s) (1D array)\n",
        "      - optimum b value for independent variable (scalar)\n",
        "      - all cost values for each iterations (1D array)\n",
        "    '''\n",
        "    #initilize array to store cost value calculated in the for loop below\n",
        "    # to check if it is going downward\n",
        "    cost_list = [] #np.zeros(self.epochs) #OR [0] * self.epochs #epochs = number of iteration. \n",
        "    \n",
        "    for epoch in range(self.epochs): \n",
        "        z = self.x.dot(self.w) + self.b #z = y-dash\n",
        "        loss = z - self.y #error\n",
        "        \n",
        "        w_gradient = self.x.T.dot(loss) / len(self.y) #Derivative with respect to weight (slope)\n",
        "                #dot product with x itself (transposed) to get x-bar, same result with sum(squared error)\n",
        "        b_gradient = np.sum(loss) / len(self.y) #Derivative with respect to bias (intercept)\n",
        "        \n",
        "        self.w = self.w - (self.learning_rate*w_gradient) #w converging to optimum value\n",
        "        self.b = self.b - (self.learning_rate*b_gradient) #b converging to optimum value\n",
        "  \n",
        "        cost = self.cost_function()\n",
        "        cost_list.append(cost)\n",
        "        \n",
        "        #print cost at every cycle to check values\n",
        "        if (epoch%(self.epochs/10)==0):\n",
        "          print(\"Cost at epoch\",epoch,\"is:\",cost)\n",
        "      \n",
        "    return self.w, self.b, cost_list\n",
        "\n",
        "\n",
        "  def predict(self, x_test):\n",
        "    '''\n",
        "    Function to predict dependent variable (y-hat) based on w and b calculated above.        \n",
        "\n",
        "    Returns: y_predict (numpy.ndarray) or the dependent variable predicted from x values of test data.\n",
        "    '''\n",
        "    y_predict = x_test.dot(self.w) + (self.b)\n",
        "    return y_predict"
      ],
      "metadata": {
        "id": "kiVMsNRbi91X"
      },
      "id": "kiVMsNRbi91X",
      "execution_count": 66,
      "outputs": []
    },
    {
      "cell_type": "markdown",
      "source": [
        "**Calling the class:**"
      ],
      "metadata": {
        "id": "p8v4poj_cODO"
      },
      "id": "p8v4poj_cODO"
    },
    {
      "cell_type": "code",
      "source": [
        "#calling the function to be the model:\n",
        "model = multivariate_regression(x=x_train, y=y_train, learning_rate=0.0005, epochs=10000)"
      ],
      "metadata": {
        "id": "7phCzyLUJE-a"
      },
      "id": "7phCzyLUJE-a",
      "execution_count": 60,
      "outputs": []
    },
    {
      "cell_type": "code",
      "source": [
        "w, b, cf = model.train()\n",
        "print(f\"weight/slope array = {w}\")\n",
        "print(f\"bias/intercept value = {b}\")\n",
        "print(f\"cost_list array = {cf}\")"
      ],
      "metadata": {
        "colab": {
          "base_uri": "https://localhost:8080/",
          "height": 0
        },
        "id": "MdoZtCQBIpvt",
        "outputId": "12c32d58-ca74-415c-887d-1d5713133b73"
      },
      "id": "MdoZtCQBIpvt",
      "execution_count": 61,
      "outputs": [
        {
          "output_type": "stream",
          "name": "stdout",
          "text": [
            "Cost at epoch 0 is: 0.48810835897673877\n",
            "Cost at epoch 1000 is: 0.17513639712171064\n",
            "Cost at epoch 2000 is: 0.11151137347363993\n",
            "Cost at epoch 3000 is: 0.09337232499636006\n",
            "Cost at epoch 4000 is: 0.08639917491987963\n",
            "Cost at epoch 5000 is: 0.0830114848689417\n",
            "Cost at epoch 6000 is: 0.08107217236069605\n",
            "Cost at epoch 7000 is: 0.07984689242751426\n",
            "Cost at epoch 8000 is: 0.07903156967001068\n",
            "Cost at epoch 9000 is: 0.07847529204903712\n",
            "weight/slope array = [ 0.4155783   0.17882131  0.18734253 -0.40254287  0.33045694  0.30208313]\n",
            "bias/intercept value = -0.006942101439387413\n",
            "cost_list array = [0.48810835897673877, 0.48743876250755513, 0.4867704095316766, 0.48610329756993825, 0.485437424148328, 0.48477278679797514, 0.4841093830551393, 0.4834472104612005, 0.4827862665626462, 0.48212654891106316, 0.4814680550631241, 0.4808107825805784, 0.48015472903024076, 0.4794998919839803, 0.47884626901871014, 0.47819385771637624, 0.47754265566394705, 0.47689266045340295, 0.476243869681725, 0.4755962809508847, 0.47494989186783343, 0.4743047000444913, 0.4736607030977377, 0.47301789864939936, 0.47237628432624074, 0.47173585775995336, 0.47109661658714475, 0.47045855844932954, 0.46982168099291666, 0.4691859818692008, 0.4685514587343518, 0.4679181092494032, 0.467285931080243, 0.4666549218976026, 0.4660250793770471, 0.4653964011989649, 0.4647688850485565, 0.46414252861582594, 0.4635173295955689, 0.46289328568736376, 0.4622703945955608, 0.4616486540292724, 0.46102806170236205, 0.4604086153334356, 0.45979031264583015, 0.45917315136760406, 0.4585571292315279, 0.45794224397507294, 0.4573284933404023, 0.4567158750743601, 0.4561043869284628, 0.4554940266588872, 0.45488479202646304, 0.4542766807966611, 0.45366969073958413, 0.4530638196299573, 0.45245906524711726, 0.45185542537500395, 0.4512528978021493, 0.45065148032166846, 0.45005117073124945, 0.4494519668331438, 0.44885386643415687, 0.4482568673456378, 0.44766096738347044, 0.44706616436806285, 0.4464724561243385, 0.44587984048172674, 0.4452883152741518, 0.44469787834002555, 0.4441085275222356, 0.44352026066813777, 0.4429330756295452, 0.4423469702627193, 0.4417619424283608, 0.44117798999159985, 0.440595110821986, 0.44001330279348033, 0.4394325637844449, 0.4388528916776335, 0.43827428436018306, 0.4376967397236031, 0.4371202556637677, 0.4365448300809055, 0.4359704608795905, 0.4353971459687334, 0.4348248832615714, 0.43425367067565984, 0.4336835061328627, 0.4331143875593436, 0.4325463128855566, 0.4319792800462366, 0.4314132869803911, 0.43084833163129077, 0.4302844119464603, 0.4297215258776691, 0.42915967138092304, 0.42859884641645474, 0.4280390489487149, 0.42748027694636365, 0.42692252838226075, 0.4263658012334574, 0.4258100934811874, 0.4252554031108578, 0.42470172811204016, 0.42414906647846196, 0.42359741620799746, 0.42304677530265955, 0.42249714176858977, 0.42194851361605057, 0.4214008888594163, 0.4208542655171644, 0.4203086416118667, 0.41976401517018075, 0.419220384222841, 0.4186777468046507, 0.41813610095447235, 0.41759544471521987, 0.41705577613384986, 0.4165170932613526, 0.4159793941527438, 0.41544267686705627, 0.4149069394673312, 0.41437218002060916, 0.41383839659792243, 0.4133055872742864, 0.4127737501286905, 0.4122428832440903, 0.4117129847073988, 0.4111840526094787, 0.4106560850451329, 0.41012908011309746, 0.4096030359160318, 0.40907795056051155, 0.4085538221570201, 0.40803064881993945, 0.40750842866754294, 0.4069871598219866, 0.40646684040930064, 0.40594746855938185, 0.40542904240598493, 0.40491156008671425, 0.4043950197430163, 0.4038794195201707, 0.4033647575672828, 0.4028510320372751, 0.40233824108687916, 0.40182638287662825, 0.4013154555708483, 0.40080545733765005, 0.4002963863489219, 0.39978824078032077, 0.3992810188112652, 0.39877471862492603, 0.3982693384082195, 0.39776487635179947, 0.3972613306500484, 0.3967586995010705, 0.3962569811066831, 0.3957561736724096, 0.39525627540747077, 0.3947572845247774, 0.3942591992409224, 0.3937620177761727, 0.3932657383544624, 0.3927703592033834, 0.3922758785541795, 0.3917822946417371, 0.3912896057045783, 0.3907978099848533, 0.390306905728332, 0.38981689118439716, 0.3893277646060361, 0.38883952424983337, 0.38835216837596337, 0.3878656952481821, 0.3873801031338201, 0.38689539030377473, 0.3864115550325028, 0.3859285955980124, 0.3854465102818561, 0.38496529736912316, 0.38448495514843206, 0.3840054819119231, 0.3835268759552505, 0.38304913557757553, 0.3825722590815591, 0.3820962447733539, 0.3816210909625973, 0.38114679596240364, 0.3806733580893579, 0.3802007756635063, 0.37972904700835175, 0.379258170450844, 0.3787881443213738, 0.3783189669537653, 0.3778506366852683, 0.3773831518565519, 0.3769165108116962, 0.37645071189818624, 0.3759857534669039, 0.37552163387212084, 0.37505835147149186, 0.374595904626047, 0.3741342917001853, 0.3736735110616668, 0.3732135610816055, 0.3727544401344633, 0.3722961465980414, 0.37183867885347455, 0.3713820352852231, 0.3709262142810667, 0.3704712142320964, 0.37001703353270876, 0.3695636705805974, 0.3691111237767477, 0.36865939152542854, 0.3682084722341861, 0.36775836431383624, 0.36730906617845865, 0.3668605762453884, 0.36641289293521084, 0.3659660146717534, 0.3655199398820792, 0.3650746669964802, 0.3646301944484704, 0.36418652067477925, 0.363743644115344, 0.3633015632133039, 0.3628602764149931, 0.36241978216993365, 0.3619800789308291, 0.36154116515355766, 0.361103039297165, 0.36066569982385877, 0.36022914519900057, 0.35979337389110017, 0.35935838437180834, 0.35892417511591074, 0.35849074460132074, 0.3580580913090732, 0.35762621372331743, 0.35719511033131174, 0.356764779623415, 0.35633522009308194, 0.3559064302368552, 0.35547840855435997, 0.3550511535482965, 0.3546246637244346, 0.3541989375916057, 0.35377397366169816, 0.3533497704496494, 0.35292632647344013, 0.35250364025408765, 0.35208171031564006, 0.3516605351851686, 0.35124011339276273, 0.3508204434715224, 0.3504015239575533, 0.3499833533899584, 0.34956593031083355, 0.3491492532652603, 0.34873332080129954, 0.3483181314699854, 0.3479036838253191, 0.3474899764242623, 0.3470770078267312, 0.3466647765955901, 0.34625328129664534, 0.3458425204986392, 0.3454324927732429, 0.34502319669505155, 0.3446146308415777, 0.344206793793244, 0.3437996841333791, 0.34339330044820926, 0.3429876413268546, 0.3425827053613212, 0.34217849114649546, 0.34177499728013816, 0.34137222236287873, 0.34097016499820887, 0.3405688237924762, 0.34016819735487835, 0.3397682842974581, 0.33936908323509535, 0.338970592785503, 0.3385728115692196, 0.33817573820960417, 0.3377793713328303, 0.3373837095678796, 0.3369887515465364, 0.33659449590338153, 0.3362009412757864, 0.3358080863039074, 0.3354159296306794, 0.3350244699018108, 0.3346337057657769, 0.33424363587381434, 0.3338542588799156, 0.3334655734408225, 0.33307757821602135, 0.3326902718677361, 0.332303653060923, 0.33191772046326534, 0.3315324727451672, 0.33114790857974774, 0.3307640266428353, 0.3303808256129622, 0.3299983041713589, 0.32961646100194775, 0.3292352947913384, 0.3288548042288204, 0.32847498800635994, 0.3280958448185921, 0.3277173733628163, 0.32733957233899025, 0.3269624404497248, 0.3265859764002777, 0.32621017889854903, 0.32583504665507423, 0.32546057838301995, 0.3250867727981773, 0.3247136286189578, 0.324341144566386, 0.3239693193640953, 0.32359815173832257, 0.3232276404179013, 0.32285778413425786, 0.3224885816214047, 0.3221200316159358, 0.3217521328570201, 0.32138488408639787, 0.3210182840483736, 0.3206523314898114, 0.3202870251601294, 0.3199223638112945, 0.31955834619781714, 0.31919497107674544, 0.31883223720765996, 0.31847014335266927, 0.31810868827640365, 0.31774787074600963, 0.31738768953114577, 0.3170281434039766, 0.31666923113916706, 0.31631095151387817, 0.31595330330776095, 0.31559628530295164, 0.31523989628406646, 0.314884135038196, 0.3145290003549005, 0.31417449102620426, 0.3138206058465907, 0.3134673436129972, 0.31311470312480977, 0.312762683183858, 0.31241128259441, 0.31206050016316705, 0.31171033469925863, 0.31136078501423736, 0.31101184992207387, 0.3106635282391515, 0.3103158187842617, 0.3099687203785983, 0.30962223184575316, 0.3092763520117108, 0.30893107970484307, 0.30858641375590473, 0.3082423529980281, 0.30789889626671796, 0.30755604239984696, 0.30721379023765005, 0.30687213862272006, 0.3065310864000028, 0.3061906324167913, 0.3058507755227218, 0.30551151456976844, 0.30517284841223813, 0.3048347759067664, 0.3044972959123113, 0.3041604072901497, 0.30382410890387185, 0.30348839961937657, 0.3031532783048662, 0.3028187438308424, 0.30248479507010056, 0.3021514308977255, 0.30181865019108656, 0.30148645182983247, 0.3011548346958869, 0.300823797673444, 0.3004933396489628, 0.3001634595111628, 0.2998341561510198, 0.29950542846176037, 0.2991772753388574, 0.2988496956800254, 0.2985226883852161, 0.29819625235661307, 0.2978703864986276, 0.29754508971789395, 0.29722036092326437, 0.29689619902580483, 0.29657260293879006, 0.2962495715776991, 0.2959271038602107, 0.2956051987061986, 0.2952838550377267, 0.29496307177904507, 0.2946428478565849, 0.29432318219895387, 0.2940040737369319, 0.2936855214034663, 0.2933675241336675, 0.29305008086480444, 0.29273319053629965, 0.29241685208972523, 0.29210106446879824, 0.29178582661937585, 0.2914711374894516, 0.29115699602914996, 0.2908434011907224, 0.29053035192854315, 0.2902178471991044, 0.2899058859610116, 0.28959446717497966, 0.2892835898038281, 0.28897325281247693, 0.28866345516794173, 0.28835419583933003, 0.288045473797836, 0.28773728801673687, 0.28742963747138833, 0.2871225211392199, 0.28681593799973076, 0.2865098870344857, 0.2862043672271102, 0.28589937756328665, 0.2855949170307498, 0.2852909846192824, 0.2849875793207109, 0.2846847001289016, 0.2843823460397557, 0.2840805160512055, 0.2837792091632101, 0.2834784243777508, 0.2831781606988273, 0.2828784171324534, 0.28257919268665227, 0.28228048637145337, 0.28198229719888684, 0.2816846241829804, 0.2813874663397544, 0.2810908226872186, 0.2807946922453665, 0.280499074036173, 0.280203967083589, 0.2799093704135374, 0.27961528305390937, 0.2793217040345602, 0.2790286323873047, 0.27873606714591354, 0.27844400734610913, 0.2781524520255615, 0.2778614002238839, 0.2775708509826291, 0.27728080334528543, 0.2769912563572721, 0.27670220906593607, 0.2764136605205471, 0.2761256097722945, 0.27583805587428234, 0.2755509978815265, 0.27526443485094926, 0.2749783658413768, 0.2746927899135341, 0.2744077061300413, 0.27412311355541014, 0.27383901125603943, 0.27355539830021136, 0.27327227375808766, 0.27298963670170534, 0.27270748620497315, 0.27242582134366744, 0.27214464119542825, 0.2718639448397555, 0.2715837313580051, 0.2713039998333851, 0.27102474935095144, 0.2707459789976047, 0.2704676878620858, 0.2701898750349724, 0.26991253960867473, 0.26963568067743227, 0.26935929733730946, 0.26908338868619197, 0.2688079538237832, 0.26853299185160007, 0.2682585018729696, 0.2679844829930247, 0.26771093431870085, 0.267437854958732, 0.2671652440236472, 0.26689310062576616, 0.26662142387919624, 0.26635021289982824, 0.26607946680533295, 0.2658091847151573, 0.26553936575052056, 0.26527000903441095, 0.2650011136915815, 0.2647326788485468, 0.2644647036335792, 0.2641971871767047, 0.26393012860969983, 0.263663527066088, 0.26339738168113547, 0.2631316915918479, 0.2628664559369668, 0.2626016738569657, 0.2623373444940469, 0.26207346699213746, 0.2618100404968856, 0.2615470641556576, 0.2612845371175337, 0.2610224585333047, 0.2607608275554683, 0.26049964333822595, 0.2602389050374786, 0.2599786118108237, 0.2597187628175514, 0.2594593572186412, 0.2592003941767584, 0.2589418728562501, 0.25868379242314266, 0.2584261520451372, 0.2581689508916068, 0.2579121881335924, 0.25765586294380016, 0.2573999744965972, 0.2571445219680083, 0.2568895045357129, 0.25663492137904115, 0.25638077167897055, 0.2561270546181227, 0.25587376938075984, 0.25562091515278124, 0.2553684911217199, 0.2551164964767394, 0.25486493040862973, 0.2546137921098051, 0.25436308077429926, 0.25411279559776295, 0.2538629357774605, 0.253613500512266, 0.2533644890026604, 0.2531159004507279, 0.2528677340601528, 0.25261998903621585, 0.2523726645857913, 0.2521257599173434, 0.25187927424092293, 0.25163320676816425, 0.25138755671228175, 0.2511423232880667, 0.25089750571188363, 0.25065310320166745, 0.25040911497692003, 0.25016554025870696, 0.24992237826965438, 0.2496796282339452, 0.24943728937731682, 0.24919536092705688, 0.2489538421120009, 0.24871273216252818, 0.24847203031055953, 0.24823173578955327, 0.2479918478345025, 0.24775236568193174, 0.24751328856989366, 0.24727461573796602, 0.24703634642724862, 0.2467984798803597, 0.24656101534143332, 0.2463239520561157, 0.24608728927156243, 0.24585102623643526, 0.24561516220089896, 0.24537969641661786, 0.2451446281367533, 0.24490995661596013, 0.24467568111038362, 0.24444180087765657, 0.24420831517689615, 0.24397522326870053, 0.24374252441514604, 0.24351021787978427, 0.24327830292763863, 0.24304677882520156, 0.24281564484043125, 0.24258490024274867, 0.2423545443030349, 0.24212457629362752, 0.24189499548831783, 0.24166580116234782, 0.24143699259240708, 0.2412085690566301, 0.24098052983459303, 0.24075287420731026, 0.24052560145723242, 0.24029871086824237, 0.24007220172565294, 0.23984607331620358, 0.23962032492805765, 0.23939495585079923, 0.23916996537543017, 0.23894535279436727, 0.23872111740143956, 0.23849725849188466, 0.2382737753623467, 0.2380506673108729, 0.23782793363691046, 0.23760557364130444, 0.2373835866262939, 0.23716197189550972, 0.23694072875397143, 0.23671985650808414, 0.23649935446563627, 0.2362792219357959, 0.23605945822910848, 0.23584006265749372, 0.23562103453424274, 0.23540237317401522, 0.23518407789283677, 0.234966148008096, 0.23474858283854122, 0.2345313817042784, 0.23431454392676782, 0.2340980688288214, 0.23388195573460002, 0.23366620396961033, 0.23345081286070252, 0.23323578173606713, 0.23302110992523217, 0.23280679675906102, 0.23259284156974877, 0.23237924369082005, 0.23216600245712604, 0.23195311720484177, 0.23174058727146346, 0.23152841199580573, 0.23131659071799862, 0.23110512277948528, 0.23089400752301886, 0.23068324429266024, 0.2304728324337747, 0.23026277129302977, 0.23005306021839247, 0.22984369855912617, 0.2296346856657883, 0.22942602089022765, 0.22921770358558152, 0.22900973310627323, 0.22880210880800925, 0.2285948300477767, 0.2283878961838407, 0.2281813065757415, 0.22797506058429223, 0.22776915757157593, 0.22756359690094294, 0.22735837793700855, 0.22715350004564983, 0.22694896259400393, 0.22674476495046436, 0.22654090648467928, 0.22633738656754837, 0.2261342045712205, 0.2259313598690912, 0.22572885183579955, 0.22552667984722655, 0.22532484328049146, 0.2251233415139501, 0.22492217392719177, 0.2247213399010373, 0.2245208388175354, 0.22432067005996129, 0.22412083301281352, 0.22392132706181175, 0.22372215159389378, 0.22352330599721348, 0.22332478966113808, 0.22312660197624568, 0.22292874233432272, 0.2227312101283615, 0.2225340047525577, 0.2223371256023079, 0.222140572074207, 0.22194434356604592, 0.2217484394768088, 0.22155285920667103, 0.22135760215699626, 0.22116266773033438, 0.22096805533041863, 0.22077376436216362, 0.2205797942316626, 0.22038614434618486, 0.22019281411417388, 0.21999980294524416, 0.21980711025017946, 0.21961473544093005, 0.21942267793061015, 0.21923093713349598, 0.21903951246502287, 0.2188484033417832, 0.21865760918152383, 0.21846712940314406, 0.21827696342669242, 0.21808711067336534, 0.21789757056550402, 0.21770834252659235, 0.2175194259812546, 0.21733082035525303, 0.2171425250754852, 0.21695453956998226, 0.21676686326790603, 0.21657949559954703, 0.21639243599632194, 0.21620568389077127, 0.21601923871655745, 0.2158330999084616, 0.21564726690238248, 0.2154617391353329, 0.21527651604543838, 0.2150915970719343, 0.21490698165516398, 0.21472266923657599, 0.2145386592587222, 0.21435495116525546, 0.21417154440092717, 0.213988438411585, 0.21380563264417085, 0.21362312654671856, 0.2134409195683513, 0.21325901115927978, 0.21307740077079973, 0.21289608785528963, 0.21271507186620894, 0.21253435225809517, 0.2123539284865619, 0.21217380000829722, 0.21199396628106032, 0.21181442676368026, 0.2116351809160534, 0.21145622819914095, 0.21127756807496742, 0.21109920000661764, 0.2109211234582353, 0.21074333789502028, 0.2105658427832267, 0.21038863759016063, 0.2102117217841779, 0.21003509483468208, 0.20985875621212224, 0.20968270538799091, 0.20950694183482158, 0.20933146502618702, 0.20915627443669665, 0.20898136954199487, 0.2088067498187586, 0.20863241474469543, 0.2084583637985411, 0.20828459646005784, 0.20811111221003184, 0.2079379105302715, 0.20776499090360492, 0.20759235281387836, 0.20741999574595354, 0.20724791918570595, 0.20707612262002245, 0.2069046055367997, 0.2067333674249415, 0.20656240777435705, 0.20639172607595882, 0.20622132182166036, 0.20605119450437445, 0.20588134361801078, 0.20571176865747431, 0.20554246911866267, 0.20537344449846454, 0.20520469429475738, 0.2050362180064058, 0.20486801513325892, 0.2047000851761485, 0.20453242763688748, 0.20436504201826725, 0.20419792782405607, 0.20403108455899674, 0.203864511728805, 0.20369820884016698, 0.20353217540073787, 0.20336641091913932, 0.2032009149049578, 0.20303568686874265, 0.2028707263220038, 0.2027060327772099, 0.20254160574778665, 0.20237744474811442, 0.2022135492935266, 0.20204991890030738, 0.20188655308568995, 0.2017234513678546, 0.20156061326592645, 0.20139803829997419, 0.20123572599100714, 0.20107367586097433, 0.20091188743276195, 0.20075036023019144, 0.20058909377801812, 0.20042808760192835, 0.20026734122853845, 0.20010685418539245, 0.19994662600096022, 0.19978665620463526, 0.1996269443267335, 0.19946748989849078, 0.1993082924520612, 0.19914935152051524, 0.1989906666378379, 0.19883223733892663, 0.19867406315958971, 0.19851614363654427, 0.19835847830741435, 0.19820106671072912, 0.1980439083859212, 0.1978870028733243, 0.19773034971417194, 0.19757394845059517, 0.19741779862562106, 0.1972618997831706, 0.19710625146805705, 0.19695085322598382, 0.19679570460354331, 0.19664080514821408, 0.19648615440836, 0.19633175193322772, 0.19617759727294543, 0.19602368997852046, 0.19587002960183816, 0.19571661569565946, 0.19556344781361937, 0.1954105255102252, 0.19525784834085488, 0.19510541586175462, 0.194953227630038, 0.19480128320368356, 0.194649582141533, 0.1944981240032898, 0.1943469083495172, 0.1941959347416367, 0.19404520274192572, 0.19389471191351645, 0.19374446182039382, 0.19359445202739378, 0.1934446821002016, 0.1932951516053501, 0.19314586011021798, 0.19299680718302784, 0.1928479923928449, 0.19269941530957468, 0.192551075503962, 0.19240297254758865, 0.19225510601287168, 0.19210747547306226, 0.19196008050224364, 0.19181292067532896, 0.19166599556806052, 0.1915193047570073, 0.19137284781956368, 0.19122662433394733, 0.19108063387919821, 0.19093487603517625, 0.19078935038255984, 0.1906440565028443, 0.19049899397834014, 0.19035416239217146, 0.19020956132827405, 0.19006519037139388, 0.18992104910708554, 0.18977713712171038, 0.18963345400243506, 0.1894899993372298, 0.1893467727148667, 0.1892037737249181, 0.18906100195775521, 0.18891845700454585, 0.18877613845725363, 0.18863404590863567, 0.1884921789522413, 0.18835053718241046, 0.18820912019427172, 0.1880679275837412, 0.18792695894752057, 0.1877862138830956, 0.18764569198873446, 0.18750539286348625, 0.18736531610717935, 0.18722546132041984, 0.1870858281045897, 0.18694641606184567, 0.18680722479511722, 0.1866682539081052, 0.18652950300528034, 0.18639097169188126, 0.18625265957391365, 0.1861145662581478, 0.1859766913521178, 0.18583903446411953, 0.1857015952032093, 0.18556437317920219, 0.18542736800267062, 0.1852905792849426, 0.18515400663810053, 0.18501764967497936, 0.184881508009165, 0.18474558125499319, 0.18460986902754747, 0.18447437094265817, 0.1843390866169003, 0.1842040156675925, 0.18406915771279542, 0.1839345123713101, 0.18380007926267644, 0.18366585800717183, 0.18353184822580962, 0.18339804954033745, 0.18326446157323584, 0.18313108394771707, 0.18299791628772294, 0.18286495821792392, 0.1827322093637174, 0.18259966935122607, 0.18246733780729696, 0.18233521435949943, 0.18220329863612356, 0.18207159026617983, 0.18194008887939583, 0.18180879410621656, 0.18167770557780186, 0.18154682292602523, 0.18141614578347273, 0.18128567378344088, 0.18115540655993595, 0.18102534374767182, 0.18089548498206898, 0.180765829899253, 0.180636378136053, 0.18050712933000015, 0.18037808311932665, 0.18024923914296379, 0.18012059704054073, 0.1799921564523833, 0.1798639170195123, 0.17973587838364197, 0.17960804018717896, 0.1794804020732207, 0.1793529636855541, 0.17922572466865394, 0.17909868466768158, 0.17897184332848368, 0.1788452002975908, 0.17871875522221567, 0.17859250775025223, 0.1784664575302741, 0.17834060421153292, 0.17821494744395744, 0.17808948687815185, 0.17796422216539448, 0.1778391529576363, 0.17771427890749983, 0.17758959966827745, 0.17746511489393033, 0.17734082423908695, 0.1772167273590417, 0.17709282390975348, 0.17696911354784448, 0.1768455959305987, 0.17672227071596106, 0.17659913756253498, 0.17647619612958246, 0.17635344607702158, 0.17623088706542575, 0.17610851875602226, 0.17598634081069084, 0.17586435289196253, 0.17574255466301805, 0.17562094578768708, 0.17549952593044607, 0.17537829475641767, 0.17525725193136898, 0.17513639712171064, 0.1750157299944951, 0.17489525021741562, 0.17477495745880461, 0.17465485138763298, 0.174534931673508, 0.17441519798667268, 0.1742956499980044, 0.17417628737901297, 0.17405710980184047, 0.17393811693925892, 0.17381930846466936, 0.17370068405210104, 0.17358224337620928, 0.1734639861122751, 0.1733459119362032, 0.1732280205245209, 0.17311031155437748, 0.17299278470354185, 0.1728754396504024, 0.1727582760739647, 0.172641293653851, 0.17252449207029877, 0.17240787100415933, 0.17229143013689682, 0.17217516915058656, 0.1720590877279143, 0.17194318555217478, 0.17182746230727033, 0.1717119176777099, 0.17159655134860757, 0.17148136300568168, 0.17136635233525316, 0.1712515190242448, 0.17113686276017945, 0.17102238323117958, 0.170908080125965, 0.17079395313385293, 0.17068000194475558, 0.17056622624917978, 0.17045262573822537, 0.17033920010358422, 0.17022594903753874, 0.170112872232961, 0.1699999693833114, 0.16988724018263748, 0.16977468432557263, 0.16966230150733505, 0.16955009142372662, 0.16943805377113152, 0.1693261882465152, 0.16921449454742307, 0.16910297237197955, 0.1689916214188866, 0.16888044138742286, 0.1687694319774422, 0.16865859288937288, 0.16854792382421585, 0.16843742448354437, 0.1683270945695022, 0.16821693378480246, 0.16810694183272723, 0.16799711841712522, 0.16788746324241177, 0.16777797601356698, 0.16766865643613463, 0.1675595042162216, 0.16745051906049582, 0.1673417006761861, 0.16723304877108022, 0.16712456305352433, 0.1670162432324214, 0.16690808901723056, 0.16680010011796534, 0.16669227624519337, 0.16658461711003444, 0.16647712242416002, 0.16636979189979173, 0.1662626252497006, 0.16615562218720548, 0.16604878242617227, 0.1659421056810129, 0.16583559166668385, 0.16572924009868556, 0.16562305069306077, 0.1655170231663938, 0.16541115723580946, 0.16530545261897156, 0.16519990903408258, 0.16509452619988166, 0.16498930383564422, 0.16488424166118065, 0.16477933939683514, 0.16467459676348473, 0.164570013482538, 0.16446558927593447, 0.16436132386614313, 0.16425721697616122, 0.16415326832951402, 0.16404947765025252, 0.1639458446629535, 0.16384236909271777, 0.16373905066516944, 0.16363588910645488, 0.16353288414324127, 0.1634300355027159, 0.16332734291258533, 0.1632248061010739, 0.16312242479692268, 0.16302019872938892, 0.16291812762824448, 0.16281621122377515, 0.1627144492467793, 0.16261284142856725, 0.1625113875009596, 0.16241008719628724, 0.16230894024738912, 0.16220794638761218, 0.16210710535080955, 0.1620064168713405, 0.16190588068406833, 0.16180549652435985, 0.1617052641280851, 0.1616051832316147, 0.16150525357182036, 0.16140547488607312, 0.1613058469122425, 0.16120636938869545, 0.16110704205429552, 0.16100786464840164, 0.16090883691086724, 0.1608099585820393, 0.16071122940275714, 0.16061264911435189, 0.16051421745864483, 0.16041593417794714, 0.1603177990150581, 0.16021981171326513, 0.1601219720163416, 0.16002427966854696, 0.15992673441462504, 0.15982933599980356, 0.1597320841697926, 0.15963497867078413, 0.15953801924945102, 0.15944120565294545, 0.15934453762889908, 0.15924801492542087, 0.15915163729109677, 0.15905540447498878, 0.158959316226634, 0.15886337229604322, 0.1587675724337005, 0.15867191639056205, 0.15857640391805514, 0.15848103476807734, 0.15838580869299543, 0.15829072544564463, 0.15819578477932747, 0.15810098644781298, 0.15800633020533567, 0.15791181580659472, 0.15781744300675285, 0.15772321156143562, 0.1576291212267304, 0.15753517175918522, 0.1574413629158083, 0.15734769445406668, 0.15725416613188573, 0.15716077770764786, 0.1570675289401917, 0.15697441958881134, 0.1568814494132552, 0.1567886181737253, 0.15669592563087634, 0.15660337154581452, 0.156510955680097, 0.15641867779573088, 0.15632653765517215, 0.15623453502132492, 0.15614266965754048, 0.15605094132761646, 0.15595934979579595, 0.15586789482676633, 0.15577657618565904, 0.1556853936380477, 0.15559434694994825, 0.15550343588781732, 0.15541266021855174, 0.15532201970948747, 0.15523151412839883, 0.15514114324349756, 0.1550509068234321, 0.15496080463728618, 0.15487083645457891, 0.15478100204526296, 0.15469130117972418, 0.15460173362878063, 0.15451229916368175, 0.15442299755610742, 0.15433382857816713, 0.15424479200239927, 0.15415588760176988, 0.15406711514967233, 0.153978474419926, 0.15388996518677567, 0.15380158722489062, 0.15371334030936368, 0.15362522421571062, 0.15353723871986913, 0.1534493835981979, 0.15336165862747603, 0.15327406358490184, 0.1531865982480925, 0.15309926239508262, 0.15301205580432406, 0.15292497825468448, 0.15283802952544698, 0.15275120939630896, 0.15266451764738143, 0.15257795405918817, 0.152491518412665, 0.15240521048915867, 0.1523190300704264, 0.15223297693863472, 0.15214705087635907, 0.15206125166658244, 0.1519755790926949, 0.15189003293849299, 0.1518046129881784, 0.1517193190263575, 0.15163415083804044, 0.15154910820864032, 0.15146419092397242, 0.15137939877025353, 0.15129473153410083, 0.1512101890025314, 0.15112577096296112, 0.15104147720320424, 0.1509573075114724, 0.1508732616763737, 0.15078933948691203, 0.1507055407324865, 0.15062186520289023, 0.1505383126883099, 0.15045488297932472, 0.15037157586690594, 0.15028839114241577, 0.15020532859760685, 0.15012238802462116, 0.15003956921598965, 0.14995687196463117, 0.14987429606385164, 0.14979184130734366, 0.1497095074891853, 0.14962729440383968, 0.1495452018461539, 0.14946322961135858, 0.1493813774950668, 0.14929964529327355, 0.14921803280235502, 0.14913653981906747, 0.14905516614054684, 0.148973911564308, 0.14889277588824368, 0.1488117589106241, 0.1487308604300958, 0.14865008024568138, 0.14856941815677827, 0.1484888739631584, 0.14840844746496704, 0.1483281384627225, 0.14824794675731504, 0.14816787215000635, 0.14808791444242858, 0.14800807343658381, 0.14792834893484338, 0.14784874073994683, 0.1477692486550014, 0.14768987248348134, 0.147610612029227, 0.14753146709644432, 0.14745243748970385, 0.14737352301394024, 0.14729472347445147, 0.14721603867689798, 0.14713746842730213, 0.14705901253204753, 0.1469806707978779, 0.146902443031897, 0.14682432904156745, 0.14674632863471, 0.1466684416195032, 0.14659066780448227, 0.14651300699853867, 0.14643545901091923, 0.1463580236512257, 0.1462807007294135, 0.1462034900557917, 0.14612639144102188, 0.14604940469611752, 0.1459725296324433, 0.14589576606171445, 0.1458191137959962, 0.14574257264770266, 0.1456661424295965, 0.14558982295478817, 0.1455136140367351, 0.1454375154892412, 0.14536152712645597, 0.145285648762874, 0.1452098802133342, 0.14513422129301898, 0.14505867181745388, 0.14498323160250656, 0.14490790046438648, 0.14483267821964374, 0.14475756468516898, 0.14468255967819224, 0.1446076630162824, 0.14453287451734678, 0.14445819399963006, 0.14438362128171386, 0.14430915618251608, 0.14423479852129015, 0.14416054811762427, 0.14408640479144108, 0.14401236836299666, 0.14393843865287997, 0.14386461548201224, 0.14379089867164635, 0.143717288043366, 0.14364378341908532, 0.14357038462104785, 0.14349709147182632, 0.14342390379432163, 0.14335082141176245, 0.14327784414770436, 0.1432049718260294, 0.1431322042709453, 0.1430595413069849, 0.14298698275900548, 0.1429145284521881, 0.142842178212037, 0.14276993186437895, 0.14269778923536255, 0.14262575015145773, 0.14255381443945497, 0.1424819819264647, 0.14241025243991676, 0.14233862580755974, 0.14226710185746025, 0.1421956804180023, 0.1421243613178868, 0.142053144386131, 0.14198202945206748, 0.14191101634534387, 0.14184010489592225, 0.14176929493407825, 0.1416985862904007, 0.1416279787957908, 0.14155747228146176, 0.14148706657893792, 0.1414167615200542, 0.14134655693695578, 0.14127645266209696, 0.14120644852824094, 0.1411365443684592, 0.14106674001613073, 0.14099703530494137, 0.1409274300688835, 0.14085792414225518, 0.1407885173596596, 0.14071920955600462, 0.14065000056650195, 0.14058089022666664, 0.14051187837231657, 0.1404429648395718, 0.14037414946485383, 0.14030543208488522, 0.1402368125366889, 0.14016829065758762, 0.1400998662852032, 0.14003153925745626, 0.13996330941256532, 0.13989517658904624, 0.13982714062571192, 0.13975920136167133, 0.13969135863632928, 0.1396236122893856, 0.1395559621608346, 0.1394884080909646, 0.1394209499203572, 0.13935358748988683, 0.13928632064072005, 0.13921914921431522, 0.13915207305242147, 0.13908509199707872, 0.13901820589061656, 0.138951414575654, 0.13888471789509885, 0.13881811569214708, 0.13875160781028237, 0.1386851940932753, 0.13861887438518308, 0.1385526485303489, 0.13848651637340118, 0.13842047775925329, 0.13835453253310284, 0.13828868054043106, 0.13822292162700237, 0.13815725563886377, 0.1380916824223443, 0.13802620182405442, 0.13796081369088564, 0.13789551787000967, 0.13783031420887817, 0.13776520255522207, 0.13770018275705087, 0.13763525466265242, 0.13757041812059206, 0.13750567297971242, 0.13744101908913234, 0.13737645629824702, 0.13731198445672677, 0.13724760341451717, 0.1371833130218378, 0.1371191131291824, 0.13705500358731776, 0.1369909842472836, 0.1369270549603918, 0.13686321557822595, 0.1367994659526408, 0.13673580593576168, 0.13667223537998408, 0.13660875413797302, 0.1365453620626626, 0.13648205900725532, 0.1364188448252219, 0.1363557193703003, 0.13629268249649545, 0.13622973405807878, 0.13616687390958757, 0.13610410190582437, 0.13604141790185684, 0.13597882175301668, 0.13591631331489953, 0.13585389244336438, 0.13579155899453293, 0.13572931282478917, 0.13566715379077882, 0.13560508174940888, 0.135543096557847, 0.1354811980735212, 0.13541938615411903, 0.13535766065758736, 0.13529602144213176, 0.13523446836621592, 0.13517300128856122, 0.13511162006814628, 0.13505032456420638, 0.1349891146362329, 0.13492799014397297, 0.13486695094742884, 0.1348059969068575, 0.13474512788277004, 0.13468434373593133, 0.1346236443273592, 0.13456302951832458, 0.13450249917035015, 0.1344420531452105, 0.1343816913049315, 0.13432141351178956, 0.13426121962831147, 0.1342011095172737, 0.13414108304170194, 0.13408114006487068, 0.13402128045030268, 0.13396150406176852, 0.13390181076328606, 0.13384220041912007, 0.13378267289378146, 0.1337232280520273, 0.13366386575885975, 0.13360458587952612, 0.13354538827951798, 0.13348627282457093, 0.13342723938066403, 0.1333682878140193, 0.13330941799110144, 0.13325062977861696, 0.1331919230435142, 0.1331332976529824, 0.1330747534744516, 0.13301629037559193, 0.1329579082243132, 0.1328996068887645, 0.13284138623733374, 0.132783246138647, 0.13272518646156833, 0.13266720707519913, 0.13260930784887764, 0.13255148865217858, 0.1324937493549127, 0.13243608982712624, 0.13237850993910064, 0.13232100956135173, 0.13226358856462964, 0.1322062468199182, 0.1321489841984345, 0.13209180057162834, 0.13203469581118193, 0.13197766978900935, 0.1319207223772561, 0.13186385344829876, 0.13180706287474425, 0.13175035052942982, 0.13169371628542215, 0.13163716001601725, 0.1315806815947398, 0.13152428089534282, 0.13146795779180726, 0.1314117121583413, 0.13135554386938025, 0.131299452799586, 0.1312434388238463, 0.1311875018172748, 0.13113164165521018, 0.13107585821321602, 0.13102015136708023, 0.13096452099281458, 0.13090896696665422, 0.1308534891650576, 0.13079808746470553, 0.1307427617425011, 0.13068751187556904, 0.13063233774125552, 0.13057723921712758, 0.1305222161809725, 0.1304672685107979, 0.13041239608483074, 0.1303575987815173, 0.13030287647952246, 0.13024822905772956, 0.13019365639523983, 0.13013915837137188, 0.13008473486566133, 0.13003038575786058, 0.12997611092793826, 0.12992191025607858, 0.12986778362268128, 0.129813730908361, 0.12975975199394704, 0.1297058467604826, 0.12965201508922478, 0.12959825686164383, 0.12954457195942295, 0.12949096026445792, 0.12943742165885636, 0.12938395602493766, 0.1293305632452324, 0.12927724320248202, 0.1292239957796384, 0.12917082085986334, 0.12911771832652832, 0.12906468806321397, 0.12901172995370977, 0.12895884388201356, 0.12890602973233112, 0.12885328738907584, 0.12880061673686832, 0.12874801766053598, 0.12869549004511252, 0.1286430337758376, 0.12859064873815665, 0.12853833481772006, 0.12848609190038313, 0.12843391987220554, 0.12838181861945097, 0.12832978802858666, 0.1282778279862831, 0.1282259383794136, 0.12817411909505386, 0.1281223700204816, 0.12807069104317628, 0.1280190820508185, 0.12796754293128978, 0.1279160735726721, 0.12786467386324757, 0.12781334369149788, 0.12776208294610425, 0.1277108915159466, 0.1276597692901036, 0.1276087161578518, 0.127557732008666, 0.12750681673221792, 0.12745597021837654, 0.1274051923572075, 0.12735448303897257, 0.12730384215412954, 0.12725326959333155, 0.12720276524742702, 0.12715232900745904, 0.12710196076466507, 0.12705166041047655, 0.1270014278365187, 0.12695126293460973, 0.12690116559676098, 0.12685113571517617, 0.12680117318225115, 0.12675127789057358, 0.12670144973292247, 0.12665168860226797, 0.12660199439177075, 0.12655236699478184, 0.12650280630484223, 0.1264533122156824, 0.12640388462122207, 0.1263545234155698, 0.12630522849302256, 0.12625599974806545, 0.12620683707537142, 0.1261577403698006, 0.12610870952640033, 0.12605974444040452, 0.1260108450072334, 0.1259620111224931, 0.12591324268197543, 0.1258645395816573, 0.12581590171770063, 0.1257673289864518, 0.12571882128444134, 0.12567037850838356, 0.12562200055517628, 0.1255736873219004, 0.12552543870581967, 0.12547725460438003, 0.12542913491520963, 0.1253810795361183, 0.12533308836509718, 0.12528516130031836, 0.12523729824013471, 0.12518949908307941, 0.12514176372786548, 0.12509409207338557, 0.12504648401871174, 0.12499893946309482, 0.12495145830596432, 0.1249040404469279, 0.12485668578577129, 0.12480939422245758, 0.12476216565712714, 0.1247149999900973, 0.12466789712186184, 0.12462085695309076, 0.1245738793846299, 0.12452696431750068, 0.12448011165289964, 0.12443332129219817, 0.12438659313694228, 0.12433992708885211, 0.12429332304982152, 0.12424678092191813, 0.12420030060738245, 0.12415388200862813, 0.12410752502824107, 0.12406122956897962, 0.12401499553377376, 0.12396882282572516, 0.12392271134810659, 0.12387666100436172, 0.12383067169810484, 0.12378474333312033, 0.12373887581336256, 0.1236930690429554, 0.12364732292619209, 0.12360163736753461, 0.12355601227161368, 0.12351044754322824, 0.12346494308734517, 0.123419498809099, 0.12337411461379157, 0.12332879040689168, 0.12328352609403494, 0.123238321581023, 0.12319317677382398, 0.12314809157857132, 0.12310306590156407, 0.12305809964926635, 0.12301319272830695, 0.1229683450454793, 0.12292355650774074, 0.12287882702221259, 0.12283415649617964, 0.12278954483708987, 0.12274499195255424, 0.12270049775034612, 0.12265606213840127, 0.1226116850248174, 0.12256736631785381, 0.12252310592593124, 0.1224789037576314, 0.12243475972169665, 0.1223906737270299, 0.12234664568269414, 0.12230267549791211, 0.1222587630820662, 0.12221490834469774, 0.12217111119550716, 0.12212737154435349, 0.1220836893012539, 0.12204006437638373, 0.12199649668007584, 0.12195298612282056, 0.12190953261526538, 0.12186613606821436, 0.12182279639262827, 0.12177951349962401, 0.12173628730047428, 0.12169311770660747, 0.12165000462960726, 0.1216069479812123, 0.12156394767331598, 0.1215210036179661, 0.12147811572736449, 0.12143528391386699, 0.12139250808998284, 0.12134978816837456, 0.12130712406185766, 0.12126451568340021, 0.1212219629461227, 0.12117946576329777, 0.1211370240483497, 0.12109463771485446, 0.12105230667653907, 0.12101003084728156, 0.12096781014111055, 0.12092564447220507, 0.12088353375489422, 0.12084147790365682, 0.1207994768331212, 0.12075753045806498, 0.1207156386934146, 0.12067380145424528, 0.12063201865578044, 0.12059029021339174, 0.12054861604259848, 0.12050699605906767, 0.12046543017861343, 0.12042391831719687, 0.12038246039092584, 0.12034105631605453, 0.12029970600898324, 0.12025840938625817, 0.12021716636457104, 0.12017597686075895, 0.12013484079180402, 0.12009375807483298, 0.12005272862711718, 0.12001175236607209, 0.11997082920925713, 0.11992995907437537, 0.11988914187927327, 0.1198483775419404, 0.11980766598050907, 0.11976700711325435, 0.11972640085859344, 0.11968584713508564, 0.11964534586143194, 0.11960489695647493, 0.11956450033919835, 0.11952415592872685, 0.1194838636443259, 0.11944362340540124, 0.11940343513149891, 0.1193632987423047, 0.11932321415764412, 0.11928318129748199, 0.11924320008192228, 0.11920327043120774, 0.11916339226571976, 0.11912356550597794, 0.11908379007263996, 0.11904406588650142, 0.11900439286849519, 0.1189647709396917, 0.11892520002129812, 0.11888568003465853, 0.11884621090125347, 0.11880679254269969, 0.11876742488074989, 0.11872810783729255, 0.11868884133435155, 0.11864962529408604, 0.11861045963879013, 0.11857134429089247, 0.11853227917295636, 0.11849326420767917, 0.11845429931789213, 0.11841538442656041, 0.11837651945678232, 0.11833770433178945, 0.11829893897494642, 0.11826022330975042, 0.11822155725983105, 0.11818294074895021, 0.11814437370100153, 0.11810585604001048, 0.11806738769013389, 0.11802896857565986, 0.11799059862100722, 0.1179522777507257, 0.11791400588949533, 0.1178757829621265, 0.11783760889355932, 0.11779948360886378, 0.1177614070332393, 0.11772337909201447, 0.11768539971064684, 0.11764746881472277, 0.1176095863299571, 0.1175717521821929, 0.11753396629740114, 0.11749622860168069, 0.1174585390212579, 0.11742089748248642, 0.1173833039118469, 0.11734575823594681, 0.11730826038152026, 0.11727081027542757, 0.1172334078446553, 0.11719605301631564, 0.11715874571764662, 0.11712148587601151, 0.11708427341889886, 0.11704710827392205, 0.11700999036881905, 0.11697291963145241, 0.11693589598980886, 0.11689891937199905, 0.11686198970625739, 0.11682510692094188, 0.11678827094453369, 0.11675148170563703, 0.11671473913297903, 0.11667804315540942, 0.1166413937019001, 0.11660479070154524, 0.11656823408356087, 0.11653172377728475, 0.11649525971217593, 0.11645884181781482, 0.11642247002390278, 0.1163861442602618, 0.11634986445683465, 0.11631363054368409, 0.11627744245099329, 0.11624130010906499, 0.11620520344832176, 0.11616915239930546, 0.11613314689267717, 0.11609718685921694, 0.1160612722298235, 0.11602540293551422, 0.11598957890742455, 0.11595380007680829, 0.11591806637503684, 0.11588237773359925, 0.11584673408410223, 0.11581113535826937, 0.11577558148794134, 0.11574007240507564, 0.11570460804174626, 0.1156691883301434, 0.11563381320257346, 0.11559848259145875, 0.11556319642933716, 0.11552795464886201, 0.11549275718280196, 0.11545760396404055, 0.1154224949255762, 0.11538743000052193, 0.1153524091221051, 0.11531743222366725, 0.11528249923866375, 0.11524761010066385, 0.11521276474335035, 0.1151779631005191, 0.11514320510607934, 0.11510849069405306, 0.11507381979857484, 0.11503919235389194, 0.11500460829436362, 0.11497006755446142, 0.11493557006876849, 0.11490111577197985, 0.1148667045989017, 0.11483233648445161, 0.11479801136365811, 0.11476372917166049, 0.11472948984370862, 0.11469529331516284, 0.1146611395214936, 0.11462702839828133, 0.1145929598812162, 0.11455893390609799, 0.11452495040883583, 0.114491009325448, 0.11445711059206168, 0.11442325414491286, 0.11438943992034606, 0.11435566785481417, 0.11432193788487816, 0.11428824994720695, 0.11425460397857727, 0.11422099991587327, 0.11418743769608652, 0.1141539172563158, 0.11412043853376663, 0.11408700146575143, 0.11405360598968915, 0.11402025204310508, 0.11398693956363043, 0.1139536684890028, 0.11392043875706513, 0.11388725030576614, 0.11385410307315987, 0.11382099699740544, 0.113787932016767, 0.11375490806961362, 0.11372192509441861, 0.11368898302975995, 0.1136560818143197, 0.11362322138688394, 0.11359040168634252, 0.11355762265168898, 0.11352488422202016, 0.11349218633653621, 0.1134595289345403, 0.1134269119554384, 0.11339433533873923, 0.11336179902405387, 0.11332930295109574, 0.11329684705968031, 0.11326443128972491, 0.11323205558124866, 0.11319971987437219, 0.11316742410931731, 0.11313516822640715, 0.11310295216606572, 0.11307077586881775, 0.1130386392752886, 0.11300654232620409, 0.11297448496239007, 0.11294246712477257, 0.11291048875437744, 0.11287854979233002, 0.11284665017985532, 0.11281478985827752, 0.11278296876901989, 0.11275118685360472, 0.11271944405365288, 0.11268774031088397, 0.11265607556711572, 0.11262444976426432, 0.11259286284434374, 0.11256131474946583, 0.1125298054218402, 0.1124983348037738, 0.11246690283767084, 0.11243550946603269, 0.1124041546314576, 0.11237283827664064, 0.11234156034437338, 0.11231032077754374, 0.11227911951913601, 0.11224795651223028, 0.11221683170000263, 0.11218574502572486, 0.11215469643276409, 0.11212368586458289, 0.112092713264739, 0.11206177857688511, 0.11203088174476859, 0.11200002271223153, 0.11196920142321055, 0.11193841782173636, 0.11190767185193384, 0.11187696345802188, 0.11184629258431303, 0.11181565917521334, 0.11178506317522244, 0.11175450452893312, 0.11172398318103123, 0.11169349907629544, 0.11166305215959726, 0.11163264237590069, 0.11160226967026206, 0.11157193398783004, 0.11154163527384517, 0.11151137347363993, 0.11148114853263853, 0.11145096039635678, 0.11142080901040163, 0.1113906943204714, 0.11136061627235541, 0.1113305748119338, 0.11130056988517734, 0.11127060143814753, 0.11124066941699602, 0.11121077376796477, 0.11118091443738568, 0.11115109137168057, 0.11112130451736096, 0.11109155382102791, 0.11106183922937171, 0.11103216068917204, 0.11100251814729747, 0.11097291155070561, 0.11094334084644257, 0.11091380598164317, 0.11088430690353059, 0.11085484355941608, 0.11082541589669921, 0.11079602386286719, 0.11076666740549522, 0.11073734647224583, 0.11070806101086912, 0.11067881096920243, 0.11064959629517017, 0.11062041693678365, 0.11059127284214106, 0.11056216395942706, 0.11053309023691293, 0.1105040516229561, 0.11047504806600024, 0.11044607951457501, 0.11041714591729583, 0.1103882472228638, 0.11035938338006557, 0.11033055433777314, 0.11030176004494367, 0.11027300045061944, 0.1102442755039275, 0.11021558515407974, 0.11018692935037255, 0.11015830804218685, 0.1101297211789877, 0.1101011687103243, 0.11007265058582988, 0.11004416675522144, 0.1100157171682996, 0.10998730177494848, 0.10995892052513563, 0.10993057336891168, 0.10990226025641042, 0.10987398113784842, 0.10984573596352505, 0.10981752468382223, 0.10978934724920437, 0.10976120361021817, 0.1097330937174923, 0.10970501752173772, 0.10967697497374693, 0.1096489660243943, 0.10962099062463566, 0.10959304872550824, 0.1095651402781305, 0.10953726523370204, 0.10950942354350342, 0.10948161515889583, 0.10945384003132133, 0.10942609811230232, 0.10939838935344161, 0.10937071370642226, 0.10934307112300735, 0.10931546155503981, 0.10928788495444253, 0.10926034127321778, 0.10923283046344752, 0.10920535247729295, 0.10917790726699438, 0.10915049478487138, 0.10912311498332218, 0.109095767814824, 0.10906845323193248, 0.10904117118728184, 0.1090139216335846, 0.10898670452363146, 0.10895951981029121, 0.10893236744651046, 0.10890524738531358, 0.10887815957980274, 0.10885110398315734, 0.10882408054863425, 0.10879708922956752, 0.10877012997936826, 0.10874320275152448, 0.10871630749960093, 0.10868944417723911, 0.1086626127381569, 0.10863581313614859, 0.10860904532508468, 0.10858230925891178, 0.10855560489165234, 0.10852893217740474, 0.108502291070343, 0.1084756815247166, 0.10844910349485044, 0.10842255693514477, 0.10839604180007484, 0.10836955804419089, 0.10834310562211814, 0.10831668448855628, 0.1082902945982799, 0.1082639359061377, 0.10823760836705287, 0.10821131193602278, 0.1081850465681187, 0.10815881221848599, 0.10813260884234363, 0.10810643639498427, 0.10808029483177414, 0.10805418410815275, 0.1080281041796328, 0.1080020550018002, 0.10797603653031378, 0.10795004872090522, 0.10792409152937892, 0.10789816491161179, 0.10787226882355334, 0.10784640322122514, 0.10782056806072111, 0.10779476329820725, 0.10776898888992137, 0.10774324479217313, 0.10771753096134387, 0.10769184735388634, 0.1076661939263249, 0.10764057063525496, 0.1076149774373432, 0.10758941428932733, 0.10756388114801582, 0.10753837797028808, 0.107512904713094, 0.10748746133345405, 0.10746204778845901, 0.10743666403526993, 0.10741131003111808, 0.1073859857333046, 0.10736069109920052, 0.10733542608624665, 0.10731019065195341, 0.10728498475390072, 0.10725980834973783, 0.10723466139718323, 0.10720954385402456, 0.10718445567811845, 0.10715939682739027, 0.10713436725983437, 0.10710936693351353, 0.10708439580655912, 0.10705945383717082, 0.1070345409836166, 0.10700965720423249, 0.10698480245742263, 0.10695997670165892, 0.10693517989548114, 0.10691041199749658, 0.10688567296638013, 0.10686096276087412, 0.10683628133978795, 0.10681162866199839, 0.10678700468644915, 0.10676240937215076, 0.10673784267818075, 0.1067133045636831, 0.10668879498786843, 0.10666431391001384, 0.10663986128946262, 0.1066154370856244, 0.10659104125797474, 0.10656667376605525, 0.1065423345694733, 0.106518023627902, 0.10649374090108012, 0.10646948634881175, 0.10644525993096661, 0.10642106160747933, 0.10639689133834994, 0.10637274908364332, 0.10634863480348937, 0.10632454845808266, 0.10630049000768249, 0.10627645941261257, 0.1062524566332613, 0.10622848163008108, 0.10620453436358879, 0.10618061479436523, 0.1061567228830552, 0.10613285859036735, 0.10610902187707405, 0.10608521270401138, 0.10606143103207887, 0.10603767682223941, 0.10601395003551925, 0.1059902506330078, 0.10596657857585741, 0.10594293382528357, 0.10591931634256442, 0.10589572608904095, 0.10587216302611666, 0.1058486271152576, 0.10582511831799218, 0.1058016365959111, 0.10577818191066726, 0.10575475422397551, 0.10573135349761272, 0.10570797969341743, 0.10568463277329014, 0.10566131269919281, 0.10563801943314895, 0.10561475293724333, 0.10559151317362224, 0.10556830010449281, 0.10554511369212358, 0.10552195389884375, 0.10549882068704353, 0.10547571401917376, 0.10545263385774598, 0.10542958016533217, 0.10540655290456485, 0.1053835520381367, 0.10536057752880056, 0.10533762933936958, 0.10531470743271656, 0.10529181177177449, 0.10526894231953596, 0.10524609903905312, 0.10522328189343794, 0.10520049084586157, 0.10517772585955466, 0.10515498689780699, 0.10513227392396758, 0.1051095869014443, 0.10508692579370414, 0.10506429056427276, 0.10504168117673453, 0.10501909759473252, 0.10499653978196817, 0.10497400770220147, 0.1049515013192505, 0.10492902059699169, 0.10490656549935949, 0.10488413599034628, 0.1048617320340025, 0.10483935359443605, 0.10481700063581281, 0.10479467312235602, 0.10477237101834651, 0.10475009428812239, 0.10472784289607913, 0.10470561680666918, 0.10468341598440224, 0.10466124039384483, 0.10463908999962047, 0.10461696476640932, 0.10459486465894811, 0.10457278964203036, 0.10455073968050582, 0.10452871473928074, 0.10450671478331755, 0.10448473977763484, 0.10446278968730727, 0.1044408644774654, 0.10441896411329578, 0.10439708856004049, 0.10437523778299751, 0.10435341174752016, 0.10433161041901744, 0.10430983376295354, 0.1042880817448479, 0.10426635433027527, 0.10424465148486536, 0.10422297317430289, 0.10420131936432742, 0.10417969002073325, 0.10415808510936944, 0.10413650459613967, 0.10411494844700192, 0.10409341662796873, 0.10407190910510689, 0.10405042584453728, 0.10402896681243502, 0.1040075319750292, 0.10398612129860275, 0.10396473474949253, 0.1039433722940889, 0.10392203389883616, 0.10390071953023185, 0.1038794291548271, 0.10385816273922632, 0.10383692025008727, 0.10381570165412063, 0.10379450691809038, 0.10377333600881326, 0.10375218889315922, 0.10373106553805048, 0.10370996591046233, 0.10368888997742251, 0.10366783770601129, 0.10364680906336134, 0.1036258040166576, 0.10360482253313733, 0.10358386458008974, 0.10356293012485629, 0.10354201913483027, 0.10352113157745678, 0.10350026742023274, 0.10347942663070682, 0.10345860917647907, 0.10343781502520116, 0.10341704414457623, 0.10339629650235853, 0.1033755720663537, 0.10335487080441835, 0.10333419268446026, 0.10331353767443818, 0.1032929057423615, 0.10327229685629064, 0.1032517109843365, 0.10323114809466065, 0.10321060815547525, 0.10319009113504264, 0.10316959700167574, 0.10314912572373748, 0.10312867726964109, 0.1031082516078498, 0.10308784870687679, 0.10306746853528514, 0.10304711106168778, 0.10302677625474721, 0.10300646408317571, 0.10298617451573495, 0.10296590752123612, 0.10294566306853975, 0.10292544112655566, 0.10290524166424286, 0.10288506465060944, 0.10286491005471243, 0.10284477784565786, 0.10282466799260075, 0.10280458046474453, 0.10278451523134152, 0.10276447226169268, 0.10274445152514729, 0.10272445299110322, 0.10270447662900654, 0.10268452240835159, 0.1026645902986809, 0.10264468026958508, 0.10262479229070269, 0.10260492633172022, 0.102585082362372, 0.10256526035244003, 0.1025454602717541, 0.10252568209019142, 0.10250592577767674, 0.10248619130418231, 0.10246647863972756, 0.10244678775437925, 0.10242711861825125, 0.10240747120150459, 0.10238784547434718, 0.10236824140703382, 0.10234865896986634, 0.1023290981331931, 0.10230955886740924, 0.1022900411429565, 0.10227054493032295, 0.10225107020004331, 0.10223161692269848, 0.10221218506891575, 0.1021927746093684, 0.10217338551477596, 0.102154017755904, 0.10213467130356388, 0.10211534612861294, 0.1020960422019542, 0.10207675949453647, 0.10205749797735415, 0.10203825762144718, 0.10201903839790089, 0.10199984027784603, 0.10198066323245875, 0.10196150723296026, 0.10194237225061693, 0.10192325825674037, 0.10190416522268696, 0.1018850931198581, 0.10186604191970006, 0.10184701159370363, 0.10182800211340455, 0.10180901345038304, 0.1017900455762638, 0.10177109846271606, 0.1017521720814533, 0.10173326640423327, 0.10171438140285818, 0.10169551704917405, 0.1016766733150711, 0.1016578501724836, 0.10163904759338958, 0.10162026554981092, 0.10160150401381339, 0.1015827629575062, 0.1015640423530424, 0.10154534217261836, 0.10152666238847398, 0.10150800297289252, 0.10148936389820062, 0.10147074513676801, 0.10145214666100756, 0.10143356844337535, 0.10141501045637036, 0.10139647267253442, 0.10137795506445234, 0.10135945760475162, 0.10134098026610248, 0.1013225230212178, 0.10130408584285294, 0.10128566870380576, 0.10126727157691659, 0.10124889443506792, 0.1012305372511847, 0.10121219999823391, 0.10119388264922467, 0.10117558517720823, 0.10115730755527766, 0.10113904975656803, 0.10112081175425619, 0.10110259352156067, 0.1010843950317418, 0.10106621625810142, 0.10104805717398294, 0.1010299177527712, 0.10101179796789243, 0.10099369779281414, 0.10097561720104523, 0.10095755616613557, 0.10093951466167621, 0.1009214926612993, 0.1009034901386779, 0.1008855070675259, 0.10086754342159802, 0.10084959917468983, 0.10083167430063746, 0.10081376877331776, 0.10079588256664794, 0.10077801565458583, 0.10076016801112955, 0.10074233961031771, 0.10072453042622895, 0.10070674043298228, 0.10068896960473676, 0.10067121791569143, 0.10065348534008545, 0.10063577185219778, 0.10061807742634726, 0.10060040203689251, 0.10058274565823187, 0.1005651082648032, 0.10054748983108412, 0.10052989033159156, 0.10051230974088203, 0.10049474803355125, 0.10047720518423445, 0.10045968116760588, 0.10044217595837901, 0.10042468953130654, 0.10040722186117998, 0.10038977292282987, 0.10037234269112578, 0.10035493114097596, 0.10033753824732738, 0.10032016398516586, 0.10030280832951571, 0.10028547125543988, 0.10026815273803974, 0.1002508527524552, 0.10023357127386433, 0.10021630827748378, 0.10019906373856806, 0.10018183763241023, 0.10016462993434117, 0.10014744061972988, 0.10013026966398339, 0.10011311704254658, 0.10009598273090207, 0.10007886670457038, 0.10006176893910977, 0.100044689410116, 0.10002762809322245, 0.10001058496410009, 0.09999355999845726, 0.09997655317203971, 0.09995956446063049, 0.09994259384005001, 0.09992564128615569, 0.0999087067748422, 0.09989179028204125, 0.0998748917837216, 0.09985801125588885, 0.09984114867458556, 0.099824304015891, 0.09980747725592132, 0.09979066837082927, 0.09977387733680425, 0.09975710413007217, 0.09974034872689554, 0.09972361110357328, 0.09970689123644051, 0.0996901891018689, 0.09967350467626625, 0.0996568379360766, 0.09964018885778003, 0.09962355741789279, 0.09960694359296697, 0.09959034735959078, 0.09957376869438828, 0.09955720757401919, 0.09954066397517917, 0.09952413787459952, 0.09950762924904709, 0.09949113807532445, 0.09947466433026952, 0.0994582079907558, 0.09944176903369213, 0.09942534743602269, 0.09940894317472695, 0.09939255622681956, 0.09937618656935028, 0.0993598341794041, 0.0993434990341009, 0.09932718111059557, 0.09931088038607801, 0.09929459683777278, 0.09927833044293939, 0.09926208117887204, 0.0992458490228996, 0.09922963395238554, 0.09921343594472797, 0.09919725497735936, 0.0991810910277467, 0.09916494407339137, 0.09914881409182903, 0.09913270106062966, 0.09911660495739741, 0.09910052575977053, 0.09908446344542149, 0.09906841799205658, 0.0990523893774164, 0.09903637757927504, 0.0990203825754408, 0.09900440434375561, 0.0989884428620952, 0.0989724981083689, 0.0989565700605198, 0.0989406586965245, 0.09892476399439311, 0.09890888593216916, 0.09889302448792969, 0.09887717963978496, 0.09886135136587854, 0.09884553964438735, 0.09882974445352131, 0.09881396577152364, 0.09879820357667045, 0.09878245784727101, 0.09876672856166736, 0.09875101569823469, 0.09873531923538077, 0.09871963915154632, 0.09870397542520462, 0.09868832803486192, 0.09867269695905674, 0.09865708217636038, 0.09864148366537664, 0.09862590140474166, 0.098610335373124, 0.09859478554922473, 0.09857925191177694, 0.09856373443954614, 0.09854823311133, 0.09853274790595827, 0.09851727880229276, 0.09850182577922734, 0.09848638881568782, 0.09847096789063182, 0.09845556298304903, 0.09844017407196082, 0.09842480113642021, 0.09840944415551207, 0.09839410310835282, 0.09837877797409045, 0.09836346873190463, 0.09834817536100632, 0.09833289784063795, 0.09831763615007343, 0.09830239026861788, 0.09828716017560771, 0.09827194585041066, 0.09825674727242535, 0.09824156442108184, 0.09822639727584105, 0.09821124581619492, 0.09819611002166642, 0.09818098987180927, 0.09816588534620824, 0.09815079642447876, 0.098135723086267, 0.09812066531124991, 0.09810562307913502, 0.09809059636966042, 0.09807558516259483, 0.09806058943773735, 0.09804560917491757, 0.09803064435399549, 0.09801569495486138, 0.09800076095743587, 0.09798584234166972, 0.09797093908754397, 0.09795605117506966, 0.09794117858428815, 0.09792632129527046, 0.09791147928811791, 0.09789665254296165, 0.09788184103996266, 0.0978670447593117, 0.09785226368122953, 0.09783749778596636, 0.09782274705380227, 0.09780801146504689, 0.09779329100003943, 0.09777858563914864, 0.0977638953627727, 0.09774922015133936, 0.09773455998530561, 0.09771991484515771, 0.09770528471141145, 0.09769066956461155, 0.09767606938533217, 0.09766148415417654, 0.09764691385177682, 0.09763235845879441, 0.09761781795591952, 0.09760329232387147, 0.09758878154339834, 0.09757428559527709, 0.09755980446031352, 0.0975453381193421, 0.09753088655322609, 0.0975164497428573, 0.0975020276691562, 0.09748762031307179, 0.09747322765558161, 0.09745884967769164, 0.09744448636043622, 0.09743013768487817, 0.0974158036321085, 0.09740148418324655, 0.09738717931943992, 0.09737288902186428, 0.09735861327172357, 0.09734435205024965, 0.09733010533870251, 0.09731587311837017, 0.09730165537056845, 0.09728745207664115, 0.09727326321795995, 0.0972590887759243, 0.0972449287319613, 0.09723078306752597, 0.09721665176410081, 0.097202534803196, 0.09718843216634927, 0.09717434383512598, 0.09716026979111876, 0.09714621001594785, 0.09713216449126082, 0.09711813319873251, 0.0971041161200653, 0.09709011323698843, 0.09707612453125865, 0.09706214998465978, 0.09704818957900273, 0.09703424329612553, 0.09702031111789317, 0.09700639302619765, 0.09699248900295793, 0.09697859903011978, 0.09696472308965587, 0.09695086116356569, 0.09693701323387548, 0.09692317928263816, 0.09690935929193334, 0.09689555324386716, 0.09688176112057251, 0.09686798290420869, 0.09685421857696148, 0.0968404681210432, 0.09682673151869248, 0.09681300875217441, 0.09679929980378023, 0.09678560465582763, 0.0967719232906604, 0.0967582556906486, 0.09674460183818834, 0.0967309617157019, 0.09671733530563763, 0.09670372259046976, 0.09669012355269868, 0.09667653817485053, 0.09666296643947742, 0.09664940832915728, 0.09663586382649383, 0.09662233291411655, 0.09660881557468064, 0.09659531179086699, 0.09658182154538199, 0.0965683448209578, 0.09655488160035194, 0.09654143186634759, 0.09652799560175322, 0.09651457278940288, 0.09650116341215588, 0.09648776745289689, 0.09647438489453587, 0.09646101572000808, 0.09644765991227382, 0.09643431745431875, 0.09642098832915354, 0.096407672519814, 0.09639437000936088, 0.09638108078088004, 0.09636780481748222, 0.0963545421023031, 0.09634129261850324, 0.09632805634926805, 0.09631483327780768, 0.09630162338735707, 0.09628842666117587, 0.09627524308254828, 0.09626207263478341, 0.09624891530121467, 0.09623577106520013, 0.0962226399101224, 0.09620952181938852, 0.09619641677642995, 0.09618332476470257, 0.0961702457676865, 0.09615717976888633, 0.09614412675183082, 0.0961310867000729, 0.09611805959718982, 0.09610504542678287, 0.09609204417247752, 0.09607905581792321, 0.09606608034679352, 0.09605311774278595, 0.09604016798962199, 0.09602723107104692, 0.0960143069708301, 0.09600139567276453, 0.09598849716066706, 0.0959756114183783, 0.09596273842976262, 0.095949878178708, 0.09593703064912608, 0.09592419582495205, 0.09591137369014474, 0.09589856422868649, 0.09588576742458298, 0.09587298326186353, 0.09586021172458074, 0.09584745279681062, 0.09583470646265245, 0.09582197270622886, 0.09580925151168572, 0.09579654286319214, 0.0957838467449403, 0.09577116314114559, 0.09575849203604653, 0.09574583341390465, 0.09573318725900448, 0.09572055355565359, 0.09570793228818249, 0.09569532344094456, 0.09568272699831606, 0.0956701429446961, 0.0956575712645067, 0.09564501194219238, 0.09563246496222057, 0.09561993030908136, 0.09560740796728752, 0.09559489792137428, 0.09558240015589965, 0.09556991465544402, 0.09555744140461035, 0.09554498038802405, 0.09553253159033298, 0.09552009499620734, 0.09550767059033972, 0.09549525835744505, 0.09548285828226043, 0.09547047034954537, 0.0954580945440815, 0.09544573085067257, 0.09543337925414454, 0.09542103973934547, 0.09540871229114548, 0.09539639689443669, 0.09538409353413321, 0.09537180219517118, 0.0953595228625085, 0.0953472555211251, 0.09533500015602274, 0.09532275675222499, 0.09531052529477713, 0.0952983057687462, 0.09528609815922107, 0.09527390245131212, 0.09526171863015143, 0.09524954668089272, 0.09523738658871123, 0.09522523833880371, 0.09521310191638847, 0.09520097730670518, 0.09518886449501514, 0.0951767634666008, 0.09516467420676608, 0.09515259670083626, 0.09514053093415782, 0.0951284768920985, 0.09511643456004734, 0.09510440392341452, 0.09509238496763132, 0.09508037767815022, 0.09506838204044471, 0.09505639804000934, 0.09504442566235974, 0.09503246489303238, 0.09502051571758482, 0.09500857812159544, 0.09499665209066353, 0.09498473761040924, 0.0949728346664734, 0.09496094324451783, 0.09494906333022494, 0.09493719490929788, 0.09492533796746046, 0.09491349249045718, 0.09490165846405307, 0.09488983587403381, 0.0948780247062056, 0.09486622494639511, 0.09485443658044951, 0.09484265959423646, 0.09483089397364391, 0.09481913970458024, 0.09480739677297423, 0.0947956651647749, 0.09478394486595161, 0.09477223586249385, 0.09476053814041142, 0.0947488516857343, 0.09473717648451249, 0.09472551252281623, 0.09471385978673584, 0.09470221826238163, 0.09469058793588397, 0.09467896879339316, 0.09466736082107943, 0.09465576400513309, 0.09464417833176413, 0.09463260378720251, 0.09462104035769797, 0.09460948802952011, 0.09459794678895815, 0.09458641662232121, 0.09457489751593799, 0.0945633894561569, 0.09455189242934585, 0.09454040642189256, 0.0945289314202042, 0.09451746741070748, 0.09450601437984861, 0.09449457231409336, 0.09448314119992679, 0.09447172102385344, 0.09446031177239735, 0.09444891343210166, 0.09443752598952909, 0.09442614943126147, 0.0944147837438999, 0.0944034289140648, 0.09439208492839568, 0.09438075177355129, 0.09436942943620943, 0.09435811790306708, 0.09434681716084029, 0.09433552719626402, 0.09432424799609246, 0.09431297954709858, 0.09430172183607433, 0.09429047484983068, 0.09427923857519743, 0.09426801299902317, 0.09425679810817539, 0.09424559388954042, 0.09423440033002324, 0.09422321741654764, 0.09421204513605615, 0.09420088347550983, 0.09418973242188854, 0.09417859196219065, 0.09416746208343323, 0.0941563427726518, 0.09414523401690042, 0.0941341358032517, 0.09412304811879668, 0.09411197095064484, 0.09410090428592409, 0.09408984811178069, 0.09407880241537925, 0.0940677671839027, 0.09405674240455231, 0.09404572806454757, 0.09403472415112615, 0.09402373065154397, 0.09401274755307523, 0.09400177484301209, 0.09399081250866492, 0.09397986053736221, 0.09396891891645041, 0.09395798763329404, 0.09394706667527565, 0.09393615602979577, 0.09392525568427286, 0.09391436562614322, 0.09390348584286108, 0.09389261632189864, 0.09388175705074576, 0.09387090801691017, 0.09386006920791741, 0.0938492406113106, 0.09383842221465084, 0.09382761400551672, 0.09381681597150457, 0.09380602810022826, 0.09379525037931938, 0.093784482796427, 0.09377372533921777, 0.09376297799537588, 0.09375224075260301, 0.09374151359861825, 0.09373079652115815, 0.09372008950797672, 0.09370939254684525, 0.09369870562555249, 0.09368802873190439, 0.09367736185372438, 0.09366670497885286, 0.09365605809514779, 0.09364542119048416, 0.09363479425275423, 0.09362417726986731, 0.09361357022974996, 0.09360297312034578, 0.0935923859296155, 0.09358180864553685, 0.09357124125610454, 0.0935606837493304, 0.09355013611324312, 0.0935395983358884, 0.0935290704053288, 0.09351855230964384, 0.0935080440369298, 0.09349754557529988, 0.0934870569128841, 0.09347657803782916, 0.09346610893829858, 0.09345564960247268, 0.09344520001854832, 0.0934347601747391, 0.09342433005927538, 0.09341390966040398, 0.09340349896638844, 0.09339309796550879, 0.09338270664606162, 0.09337232499636006, 0.09336195300473367, 0.09335159065952865, 0.09334123794910734, 0.09333089486184881, 0.09332056138614832, 0.09331023751041749, 0.09329992322308442, 0.09328961851259333, 0.09327932336740488, 0.09326903777599593, 0.09325876172685958, 0.09324849520850503, 0.09323823820945785, 0.09322799071825964, 0.09321775272346813, 0.09320752421365726, 0.0931973051774169, 0.09318709560335306, 0.0931768954800878, 0.09316670479625912, 0.09315652354052102, 0.09314635170154348, 0.09313618926801231, 0.0931260362286294, 0.09311589257211234, 0.09310575828719461, 0.09309563336262565, 0.09308551778717057, 0.0930754115496102, 0.0930653146387413, 0.09305522704337632, 0.0930451487523432, 0.09303507975448581, 0.09302502003866359, 0.09301496959375151, 0.09300492840864034, 0.0929948964722363, 0.09298487377346117, 0.09297486030125222, 0.09296485604456235, 0.09295486099235983, 0.09294487513362847, 0.09293489845736747, 0.09292493095259131, 0.0929149726083302, 0.09290502341362936, 0.09289508335754945, 0.09288515242916659, 0.09287523061757198, 0.09286531791187219, 0.09285541430118903, 0.09284551977465946, 0.09283563432143573, 0.09282575793068523, 0.09281589059159039, 0.0928060322933489, 0.09279618302517348, 0.09278634277629191, 0.09277651153594703, 0.09276668929339676, 0.09275687603791397, 0.09274707175878649, 0.09273727644531715, 0.09272749008682366, 0.09271771267263876, 0.0927079441921099, 0.0926981846345995, 0.09268843398948479, 0.09267869224615789, 0.09266895939402556, 0.09265923542250938, 0.09264952032104588, 0.09263981407908597, 0.0926301166860955, 0.09262042813155491, 0.09261074840495936, 0.09260107749581852, 0.09259141539365676, 0.09258176208801304, 0.09257211756844082, 0.0925624818245082, 0.09255285484579764, 0.09254323662190625, 0.09253362714244555, 0.09252402639704148, 0.09251443437533441, 0.0925048510669792, 0.09249527646164493, 0.09248571054901525, 0.092476153318788, 0.09246660476067527, 0.09245706486440362, 0.09244753361971385, 0.09243801101636086, 0.09242849704411385, 0.09241899169275634, 0.09240949495208589, 0.09240000681191422, 0.09239052726206726, 0.09238105629238505, 0.09237159389272163, 0.09236214005294524, 0.09235269476293803, 0.0923432580125963, 0.09233382979183027, 0.09232441009056419, 0.09231499889873629, 0.09230559620629866, 0.09229620200321734, 0.09228681627947237, 0.09227743902505747, 0.09226807022998042, 0.09225870988426262, 0.09224935797793947, 0.09224001450106002, 0.0922306794436872, 0.09222135279589756, 0.09221203454778155, 0.09220272468944313, 0.09219342321100005, 0.09218413010258368, 0.09217484535433915, 0.09216556895642497, 0.09215630089901343, 0.0921470411722904, 0.09213778976645522, 0.09212854667172078, 0.0921193118783135, 0.09211008537647332, 0.09210086715645359, 0.0920916572085212, 0.09208245552295634, 0.09207326209005272, 0.0920640769001174, 0.09205489994347081, 0.09204573121044671, 0.09203657069139215, 0.09202741837666761, 0.09201827425664677, 0.09200913832171648, 0.09200001056227705, 0.0919908909687418, 0.09198177953153744, 0.09197267624110368, 0.09196358108789356, 0.09195449406237312, 0.09194541515502155, 0.09193634435633126, 0.09192728165680766, 0.09191822704696914, 0.09190918051734721, 0.09190014205848641, 0.09189111166094427, 0.09188208931529125, 0.0918730750121109, 0.09186406874199948, 0.09185507049556643, 0.0918460802634339, 0.091837098036237, 0.0918281238046237, 0.09181915755925481, 0.09181019929080392, 0.09180124898995742, 0.0917923066474146, 0.0917833722538873, 0.0917744458001003, 0.09176552727679098, 0.09175661667470951, 0.09174771398461866, 0.0917388191972939, 0.09172993230352335, 0.0917210532941077, 0.09171218215986034, 0.09170331889160721, 0.09169446348018673, 0.09168561591645003, 0.09167677619126058, 0.09166794429549448, 0.0916591202200403, 0.09165030395579908, 0.09164149549368426, 0.09163269482462182, 0.09162390193954999, 0.09161511682941959, 0.09160633948519357, 0.09159756989784751, 0.09158880805836907, 0.09158005395775844, 0.09157130758702803, 0.0915625689372024, 0.09155383799931854, 0.09154511476442562, 0.09153639922358502, 0.0915276913678704, 0.09151899118836748, 0.09151029867617426, 0.09150161382240078, 0.09149293661816932, 0.0914842670546142, 0.09147560512288185, 0.09146695081413077, 0.09145830411953153, 0.09144966503026672, 0.09144103353753097, 0.09143240963253081, 0.09142379330648491, 0.09141518455062388, 0.0914065833561901, 0.09139798971443806, 0.0913894036166341, 0.09138082505405642, 0.09137225401799516, 0.09136369049975224, 0.09135513449064146, 0.09134658598198839, 0.0913380449651305, 0.09132951143141689, 0.09132098537220854, 0.09131246677887817, 0.09130395564281019, 0.09129545195540065, 0.09128695570805749, 0.09127846689220014, 0.09126998549925973, 0.09126151152067913, 0.09125304494791266, 0.09124458577242633, 0.09123613398569785, 0.09122768957921622, 0.09121925254448228, 0.0912108228730082, 0.09120240055631777, 0.09119398558594623, 0.09118557795344033, 0.09117717765035821, 0.0911687846682696, 0.09116039899875548, 0.09115202063340835, 0.09114364956383217, 0.09113528578164203, 0.0911269292784646, 0.09111858004593781, 0.09111023807571099, 0.09110190335944458, 0.09109357588881054, 0.09108525565549196, 0.09107694265118317, 0.09106863686758988, 0.09106033829642887, 0.09105204692942817, 0.09104376275832705, 0.09103548577487589, 0.09102721597083628, 0.09101895333798077, 0.0910106978680933, 0.09100244955296867, 0.09099420838441294, 0.09098597435424309, 0.09097774745428731, 0.09096952767638465, 0.09096131501238529, 0.09095310945415039, 0.09094491099355212, 0.09093671962247352, 0.09092853533280867, 0.0909203581164626, 0.09091218796535112, 0.09090402487140115, 0.0908958688265503, 0.09088771982274715, 0.09087957785195107, 0.09087144290613239, 0.09086331497727211, 0.09085519405736207, 0.09084708013840498, 0.09083897321241421, 0.09083087327141395, 0.09082278030743916, 0.09081469431253535, 0.09080661527875893, 0.09079854319817689, 0.09079047806286697, 0.09078241986491745, 0.09077436859642733, 0.09076632424950629, 0.09075828681627446, 0.09075025628886269, 0.09074223265941234, 0.09073421592007538, 0.0907262060630143, 0.09071820308040207, 0.09071020696442225, 0.09070221770726884, 0.09069423530114641, 0.09068625973826984, 0.09067829101086457, 0.09067032911116647, 0.09066237403142179, 0.09065442576388716, 0.09064648430082965, 0.09063854963452674, 0.0906306217572661, 0.09062270066134594, 0.0906147863390746, 0.0906068787827709, 0.09059897798476384, 0.09059108393739271, 0.09058319663300711, 0.09057531606396688, 0.09056744222264201, 0.0905595751014128, 0.09055171469266969, 0.09054386098881334, 0.09053601398225453, 0.09052817366541428, 0.09052034003072364, 0.09051251307062388, 0.09050469277756633, 0.09049687914401235, 0.09048907216243351, 0.09048127182531138, 0.09047347812513755, 0.09046569105441365, 0.09045791060565136, 0.09045013677137233, 0.09044236954410823, 0.09043460891640064, 0.09042685488080121, 0.09041910742987137, 0.0904113665561826, 0.09040363225231636, 0.09039590451086373, 0.09038818332442596, 0.09038046868561397, 0.09037276058704873, 0.09036505902136079, 0.09035736398119083, 0.09034967545918908, 0.09034199344801566, 0.09033431794034051, 0.09032664892884328, 0.09031898640621334, 0.09031133036514989, 0.09030368079836176, 0.09029603769856756, 0.0902884010584955, 0.09028077087088363, 0.0902731471284794, 0.09026552982404024, 0.09025791895033286, 0.09025031450013388, 0.09024271646622939, 0.09023512484141512, 0.09022753961849629, 0.09021996079028774, 0.09021238834961386, 0.09020482228930858, 0.09019726260221538, 0.09018970928118714, 0.09018216231908634, 0.09017462170878485, 0.09016708744316408, 0.09015955951511481, 0.09015203791753734, 0.09014452264334134, 0.09013701368544581, 0.09012951103677935, 0.09012201469027971, 0.09011452463889412, 0.0901070408755792, 0.09009956339330084, 0.09009209218503417, 0.0900846272437638, 0.0900771685624836, 0.09006971613419655, 0.0900622699519151, 0.09005483000866087, 0.09004739629746467, 0.09003996881136664, 0.0900325475434161, 0.09002513248667153, 0.09001772363420053, 0.09001032097908004, 0.09000292451439611, 0.08999553423324379, 0.08998815012872738, 0.08998077219396035, 0.08997340042206513, 0.08996603480617331, 0.08995867533942561, 0.08995132201497172, 0.08994397482597039, 0.0899366337655895, 0.08992929882700583, 0.08992197000340521, 0.08991464728798251, 0.08990733067394155, 0.0899000201544951, 0.08989271572286489, 0.08988541737228159, 0.08987812509598482, 0.08987083888722315, 0.08986355873925396, 0.08985628464534354, 0.08984901659876715, 0.08984175459280881, 0.0898344986207614, 0.08982724867592673, 0.08982000475161522, 0.08981276684114638, 0.08980553493784839, 0.08979830903505803, 0.08979108912612119, 0.0897838752043923, 0.08977666726323452, 0.08976946529601992, 0.08976226929612911, 0.08975507925695149, 0.0897478951718851, 0.08974071703433678, 0.08973354483772183, 0.08972637857546442, 0.08971921824099725, 0.08971206382776165, 0.08970491532920764, 0.08969777273879372, 0.0896906360499871, 0.08968350525626345, 0.08967638035110714, 0.08966926132801106, 0.0896621481804765, 0.08965504090201347, 0.08964793948614036, 0.08964084392638413, 0.08963375421628023, 0.08962667034937258, 0.08961959231921346, 0.08961252011936378, 0.08960545374339286, 0.08959839318487826, 0.0895913384374062, 0.08958428949457115, 0.089577246349976, 0.08957020899723203, 0.08956317742995897, 0.0895561516417847, 0.08954913162634562, 0.08954211737728641, 0.08953510888826004, 0.08952810615292778, 0.08952110916495927, 0.08951411791803232, 0.0895071324058331, 0.08950015262205596, 0.08949317856040355, 0.0894862102145867, 0.08947924757832457, 0.08947229064534434, 0.08946533940938153, 0.08945839386417986, 0.08945145400349111, 0.08944451982107529, 0.08943759131070052, 0.08943066846614307, 0.08942375128118743, 0.08941683974962597, 0.08940993386525943, 0.08940303362189646, 0.08939613901335379, 0.08938925003345627, 0.0893823666760368, 0.08937548893493637, 0.0893686168040038, 0.08936175027709621, 0.08935488934807848, 0.08934803401082354, 0.08934118425921252, 0.08933434008713413, 0.0893275014884854, 0.08932066845717106, 0.08931384098710392, 0.0893070190722046, 0.08930020270640182, 0.08929339188363192, 0.08928658659783938, 0.0892797868429764, 0.08927299261300317, 0.0892662039018876, 0.08925942070360554, 0.08925264301214061, 0.08924587082148429, 0.08923910412563589, 0.08923234291860242, 0.08922558719439877, 0.08921883694704759, 0.08921209217057924, 0.08920535285903186, 0.08919861900645135, 0.08919189060689131, 0.0891851676544131, 0.08917845014308565, 0.08917173806698583, 0.08916503142019795, 0.08915833019681413, 0.08915163439093408, 0.08914494399666527, 0.08913825900812261, 0.08913157941942884, 0.08912490522471422, 0.08911823641811664, 0.08911157299378157, 0.08910491494586209, 0.08909826226851872, 0.08909161495591977, 0.0890849730022409, 0.08907833640166546, 0.08907170514838421, 0.08906507923659546, 0.08905845866050505, 0.08905184341432629, 0.08904523349228004, 0.08903862888859453, 0.08903202959750552, 0.08902543561325618, 0.08901884693009719, 0.08901226354228657, 0.08900568544408982, 0.08899911262977984, 0.08899254509363687, 0.08898598282994873, 0.08897942583301027, 0.08897287409712404, 0.08896632761659977, 0.08895978638575455, 0.08895325039891289, 0.08894671965040653, 0.08894019413457456, 0.08893367384576333, 0.08892715877832655, 0.0889206489266252, 0.08891414428502738, 0.08890764484790871, 0.08890115060965187, 0.08889466156464683, 0.08888817770729077, 0.08888169903198814, 0.08887522553315055, 0.0888687572051968, 0.08886229404255287, 0.08885583603965198, 0.08884938319093452, 0.08884293549084787, 0.08883649293384673, 0.08883005551439291, 0.08882362322695525, 0.08881719606600975, 0.0888107740260396, 0.08880435710153493, 0.08879794528699306, 0.08879153857691839, 0.08878513696582224, 0.0887787404482232, 0.08877234901864671, 0.08876596267162538, 0.08875958140169866, 0.08875320520341327, 0.08874683407132268, 0.08874046799998751, 0.08873410698397535, 0.08872775101786065, 0.08872140009622494, 0.08871505421365661, 0.08870871336475104, 0.0887023775441106, 0.08869604674634442, 0.08868972096606866, 0.0886834001979064, 0.08867708443648752, 0.08867077367644884, 0.08866446791243403, 0.08865816713909364, 0.08865187135108497, 0.0886455805430724, 0.08863929470972688, 0.08863301384572636, 0.08862673794575544, 0.08862046700450568, 0.08861420101667535, 0.0886079399769695, 0.0886016838801, 0.08859543272078539, 0.0885891864937511, 0.08858294519372918, 0.08857670881545848, 0.08857047735368453, 0.08856425080315965, 0.08855802915864273, 0.08855181241489954, 0.08854560056670231, 0.08853939360883016, 0.08853319153606871, 0.08852699434321039, 0.08852080202505415, 0.0885146145764056, 0.08850843199207703, 0.08850225426688733, 0.08849608139566201, 0.08848991337323309, 0.08848375019443926, 0.08847759185412579, 0.0884714383471445, 0.0884652896683538, 0.0884591458126186, 0.0884530067748104, 0.08844687254980721, 0.08844074313249356, 0.08843461851776051, 0.08842849870050563, 0.08842238367563296, 0.088416273438053, 0.08841016798268288, 0.08840406730444596, 0.08839797139827225, 0.08839188025909812, 0.08838579388186642, 0.0883797122615264, 0.08837363539303378, 0.08836756327135058, 0.08836149589144542, 0.08835543324829306, 0.08834937533687487, 0.08834332215217845, 0.08833727368919791, 0.08833122994293355, 0.08832519090839208, 0.08831915658058664, 0.08831312695453661, 0.08830710202526765, 0.08830108178781187, 0.08829506623720758, 0.08828905536849942, 0.08828304917673825, 0.08827704765698131, 0.08827105080429204, 0.0882650586137402, 0.0882590710804017, 0.08825308819935873, 0.08824710996569984, 0.08824113637451961, 0.08823516742091884, 0.08822920310000476, 0.08822324340689057, 0.08821728833669573, 0.08821133788454588, 0.08820539204557289, 0.08819945081491463, 0.08819351418771532, 0.08818758215912519, 0.08818165472430063, 0.08817573187840419, 0.0881698136166045, 0.08816389993407635, 0.08815799082600055, 0.08815208628756406, 0.08814618631395989, 0.08814029090038719, 0.08813440004205111, 0.08812851373416278, 0.08812263197193963, 0.08811675475060488, 0.08811088206538784, 0.08810501391152391, 0.08809915028425451, 0.08809329117882694, 0.08808743659049463, 0.08808158651451695, 0.08807574094615923, 0.08806989988069276, 0.08806406331339486, 0.0880582312395487, 0.08805240365444357, 0.08804658055337448, 0.0880407619316425, 0.0880349477845546, 0.0880291381074237, 0.0880233328955685, 0.08801753214431372, 0.08801173584898993, 0.08800594400493349, 0.08800015660748686, 0.0879943736519981, 0.08798859513382125, 0.08798282104831619, 0.08797705139084859, 0.0879712861567901, 0.08796552534151793, 0.0879597689404153, 0.08795401694887124, 0.08794826936228049, 0.08794252617604355, 0.0879367873855668, 0.0879310529862623, 0.08792532297354803, 0.08791959734284745, 0.08791387608959006, 0.08790815920921093, 0.08790244669715089, 0.08789673854885649, 0.08789103475978002, 0.08788533532537947, 0.08787964024111847, 0.08787394950246646, 0.08786826310489847, 0.0878625810438951, 0.08785690331494295, 0.08785122991353396, 0.0878455608351658, 0.0878398960753419, 0.08783423562957111, 0.08782857949336813, 0.08782292766225315, 0.08781728013175198, 0.0878116368973961, 0.08780599795472249, 0.08780036329927379, 0.08779473292659815, 0.08778910683224933, 0.08778348501178672, 0.08777786746077512, 0.08777225417478501, 0.08776664514939235, 0.08776104038017862, 0.08775543986273085, 0.08774984359264154, 0.08774425156550882, 0.08773866377693615, 0.08773308022253261, 0.08772750089791272, 0.08772192579869648, 0.08771635492050932, 0.08771078825898222, 0.08770522580975157, 0.08769966756845919, 0.08769411353075231, 0.08768856369228369, 0.08768301804871144, 0.08767747659569909, 0.08767193932891562, 0.08766640624403534, 0.08766087733673801, 0.08765535260270878, 0.08764983203763813, 0.087644315637222, 0.08763880339716157, 0.08763329531316343, 0.08762779138093954, 0.08762229159620721, 0.08761679595468908, 0.08761130445211304, 0.08760581708421233, 0.08760033384672562, 0.08759485473539669, 0.08758937974597476, 0.08758390887421424, 0.08757844211587497, 0.08757297946672186, 0.08756752092252526, 0.08756206647906066, 0.08755661613210888, 0.08755116987745594, 0.08754572771089311, 0.08754028962821689, 0.08753485562522899, 0.08752942569773639, 0.0875239998415512, 0.08751857805249075, 0.08751316032637764, 0.08750774665903945, 0.08750233704630919, 0.08749693148402495, 0.08749152996802992, 0.08748613249417247, 0.0874807390583062, 0.08747534965628972, 0.08746996428398691, 0.08746458293726668, 0.08745920561200314, 0.08745383230407539, 0.08744846300936775, 0.08744309772376965, 0.08743773644317554, 0.08743237916348494, 0.08742702588060251, 0.08742167659043801, 0.08741633128890615, 0.08741098997192674, 0.0874056526354248, 0.0874003192753301, 0.08739498988757766, 0.08738966446810743, 0.0873843430128645, 0.0873790255177988, 0.08737371197886543, 0.08736840239202433, 0.08736309675324065, 0.0873577950584843, 0.0873524973037303, 0.08734720348495867, 0.08734191359815423, 0.08733662763930693, 0.08733134560441162, 0.08732606748946804, 0.08732079329048095, 0.08731552300345999, 0.08731025662441974, 0.0873049941493797, 0.08729973557436427, 0.08729448089540273, 0.08728923010852935, 0.08728398320978321, 0.08727874019520825, 0.08727350106085338, 0.0872682658027723, 0.0872630344170236, 0.08725780689967072, 0.087252583246782, 0.08724736345443052, 0.08724214751869432, 0.08723693543565617, 0.08723172720140365, 0.08722652281202935, 0.08722132226363039, 0.08721612555230882, 0.08721093267417158, 0.08720574362533026, 0.08720055840190138, 0.08719537700000597, 0.08719019941577012, 0.08718502564532453, 0.0871798556848047, 0.08717468953035087, 0.08716952717810805, 0.0871643686242259, 0.08715921386485888, 0.0871540628961662, 0.08714891571431176, 0.08714377231546411, 0.0871386326957966, 0.08713349685148716, 0.0871283647787186, 0.08712323647367816, 0.08711811193255801, 0.08711299115155484, 0.08710787412687003, 0.08710276085470962, 0.08709765133128432, 0.08709254555280951, 0.08708744351550511, 0.0870823452155958, 0.08707725064931082, 0.08707215981288399, 0.08706707270255386, 0.08706198931456342, 0.0870569096451605, 0.08705183369059726, 0.08704676144713061, 0.08704169291102196, 0.08703662807853742, 0.08703156694594753, 0.08702650950952748, 0.087021455765557, 0.0870164057103203, 0.08701135934010622, 0.08700631665120813, 0.08700127763992384, 0.08699624230255587, 0.08699121063541104, 0.08698618263480086, 0.08698115829704121, 0.08697613761845258, 0.0869711205953599, 0.0869661072240926, 0.08696109750098455, 0.08695609142237423, 0.08695108898460438, 0.0869460901840224, 0.08694109501698002, 0.08693610347983345, 0.08693111556894341, 0.086926131280675, 0.0869211506113977, 0.08691617355748556, 0.08691120011531694, 0.08690623028127464, 0.08690126405174585, 0.0868963014231222, 0.08689134239179974, 0.08688638695417879, 0.08688143510666421, 0.08687648684566515, 0.08687154216759507, 0.08686660106887195, 0.08686166354591804, 0.08685672959515997, 0.08685179921302864, 0.0868468723959594, 0.08684194914039192, 0.08683702944277012, 0.0868321132995423, 0.08682720070716111, 0.08682229166208348, 0.08681738616077057, 0.08681248419968803, 0.0868075857753056, 0.08680269088409741, 0.0867977995225419, 0.08679291168712173, 0.08678802737432383, 0.08678314658063946, 0.08677826930256403, 0.08677339553659737, 0.08676852527924338, 0.08676365852701023, 0.08675879527641048, 0.08675393552396081, 0.0867490792661821, 0.08674422649959942, 0.08673937722074221, 0.086734531426144, 0.08672968911234248, 0.08672485027587969, 0.08672001491330168, 0.08671518302115881, 0.08671035459600561, 0.0867055296344007, 0.08670070813290695, 0.08669589008809137, 0.08669107549652516, 0.08668626435478351, 0.08668145665944596, 0.0866766524070961, 0.08667185159432163, 0.08666705421771441, 0.08666226027387046, 0.08665746975938986, 0.08665268267087672, 0.08664789900493944, 0.08664311875819042, 0.08663834192724615, 0.08663356850872715, 0.08662879849925824, 0.08662403189546801, 0.08661926869398945, 0.08661450889145932, 0.08660975248451856, 0.08660499946981227, 0.08660024984398944, 0.08659550360370319, 0.08659076074561063, 0.08658602126637296, 0.08658128516265534, 0.08657655243112704, 0.08657182306846124, 0.0865670970713352, 0.08656237443643017, 0.0865576551604314, 0.0865529392400282, 0.08654822667191368, 0.0865435174527852, 0.08653881157934384, 0.08653410904829485, 0.08652940985634731, 0.08652471400021433, 0.086520021476613, 0.08651533228226438, 0.08651064641389328, 0.08650596386822867, 0.08650128464200342, 0.08649660873195424, 0.08649193613482183, 0.08648726684735082, 0.08648260086628967, 0.08647793818839088, 0.08647327881041073, 0.08646862272910942, 0.08646396994125118, 0.08645932044360392, 0.08645467423293957, 0.08645003130603392, 0.0864453916596666, 0.08644075529062106, 0.08643612219568472, 0.08643149237164884, 0.08642686581530842, 0.08642224252346248, 0.08641762249291367, 0.08641300572046863, 0.0864083922029378, 0.08640378193713542, 0.08639917491987963, 0.08639457114799216, 0.08638997061829887, 0.08638537332762918, 0.08638077927281637, 0.08637618845069756, 0.08637160085811364, 0.08636701649190925, 0.08636243534893283, 0.08635785742603666, 0.08635328272007664, 0.08634871122791256, 0.08634414294640791, 0.08633957787242998, 0.08633501600284975, 0.08633045733454196, 0.08632590186438512, 0.08632134958926146, 0.08631680050605686, 0.08631225461166114, 0.0863077119029675, 0.08630317237687318, 0.08629863603027889, 0.0862941028600892, 0.08628957286321236, 0.08628504603656016, 0.08628052237704828, 0.08627600188159594, 0.08627148454712609, 0.08626697037056542, 0.08626245934884416, 0.08625795147889624, 0.08625344675765932, 0.08624894518207467, 0.08624444674908713, 0.08623995145564536, 0.0862354592987015, 0.0862309702752113, 0.08622648438213436, 0.08622200161643367, 0.08621752197507591, 0.08621304545503143, 0.08620857205327419, 0.0862041017667816, 0.08619963459253488, 0.08619517052751874, 0.08619070956872146, 0.08618625171313492, 0.08618179695775467, 0.08617734529957959, 0.08617289673561246, 0.08616845126285938, 0.08616400887833014, 0.08615956957903802, 0.08615513336199986, 0.08615070022423606, 0.08614627016277053, 0.08614184317463085, 0.0861374192568479, 0.08613299840645627, 0.08612858062049404, 0.08612416589600273, 0.08611975423002749, 0.08611534561961687, 0.08611094006182295, 0.08610653755370139, 0.08610213809231128, 0.08609774167471514, 0.0860933482979791, 0.08608895795917264, 0.08608457065536887, 0.08608018638364427, 0.08607580514107874, 0.08607142692475576, 0.08606705173176216, 0.0860626795591883, 0.08605831040412804, 0.08605394426367845, 0.08604958113494023, 0.0860452210150176, 0.08604086390101795, 0.0860365097900523, 0.08603215867923499, 0.08602781056568379, 0.08602346544651997, 0.086019123318868, 0.08601478417985604, 0.08601044802661534, 0.08600611485628086, 0.08600178466599065, 0.08599745745288637, 0.08599313321411284, 0.08598881194681854, 0.08598449364815501, 0.08598017831527743, 0.08597586594534416, 0.08597155653551695, 0.08596725008296098, 0.08596294658484473, 0.08595864603833991, 0.08595434844062182, 0.0859500537888689, 0.08594576208026289, 0.08594147331198905, 0.08593718748123581, 0.08593290458519492, 0.08592862462106153, 0.08592434758603398, 0.08592007347731404, 0.08591580229210667, 0.08591153402762015, 0.08590726868106614, 0.08590300624965952, 0.08589874673061836, 0.0858944901211642, 0.08589023641852163, 0.08588598561991868, 0.08588173772258663, 0.08587749272375997, 0.08587325062067641, 0.085869011410577, 0.0858647750907059, 0.08586054165831068, 0.08585631111064213, 0.08585208344495408, 0.08584785865850382, 0.08584363674855174, 0.08583941771236145, 0.08583520154719984, 0.08583098825033697, 0.08582677781904617, 0.08582257025060386, 0.08581836554228968, 0.08581416369138654, 0.0858099646951806, 0.085805768550961, 0.0858015752560202, 0.08579738480765384, 0.08579319720316066, 0.08578901243984262, 0.08578483051500492, 0.08578065142595578, 0.0857764751700066, 0.08577230174447205, 0.08576813114666984, 0.08576396337392089, 0.08575979842354917, 0.08575563629288185, 0.08575147697924924, 0.08574732047998478, 0.085743166792425, 0.08573901591390955, 0.08573486784178126, 0.085730722573386, 0.08572658010607272, 0.08572244043719358, 0.0857183035641038, 0.08571416948416163, 0.08571003819472847, 0.08570590969316882, 0.08570178397685016, 0.0856976610431432, 0.08569354088942163, 0.0856894235130623, 0.08568530891144492, 0.08568119708195247, 0.08567708802197095, 0.08567298172888933, 0.08566887820009975, 0.0856647774329972, 0.08566067942497993, 0.08565658417344917, 0.08565249167580906, 0.08564840192946693, 0.08564431493183301, 0.08564023068032071, 0.08563614917234627, 0.08563207040532907, 0.08562799437669139, 0.0856239210838587, 0.08561985052425929, 0.08561578269532455, 0.08561171759448881, 0.08560765521918942, 0.08560359556686667, 0.08559953863496396, 0.08559548442092751, 0.08559143292220663, 0.08558738413625348, 0.08558333806052333, 0.08557929469247434, 0.0855752540295676, 0.0855712160692672, 0.08556718080904019, 0.08556314824635652, 0.08555911837868913, 0.0855550912035138, 0.08555106671830942, 0.08554704492055773, 0.0855430258077433, 0.08553900937735377, 0.0855349956268796, 0.0855309845538142, 0.08552697615565391, 0.08552297042989797, 0.08551896737404852, 0.08551496698561062, 0.08551096926209216, 0.08550697420100396, 0.08550298179985978, 0.08549899205617624, 0.0854950049674728, 0.08549102053127185, 0.08548703874509853, 0.0854830596064811, 0.08547908311295042, 0.08547510926204041, 0.0854711380512877, 0.0854671694782319, 0.08546320354041535, 0.0854592402353834, 0.08545527956068409, 0.08545132151386833, 0.08544736609248992, 0.0854434132941055, 0.08543946311627447, 0.08543551555655911, 0.08543157061252445, 0.0854276282817385, 0.08542368856177192, 0.08541975145019819, 0.08541581694459374, 0.08541188504253767, 0.08540795574161189, 0.08540402903940116, 0.08540010493349301, 0.08539618342147776, 0.08539226450094844, 0.08538834816950103, 0.08538443442473413, 0.08538052326424923, 0.08537661468565048, 0.08537270868654488, 0.08536880526454212, 0.08536490441725476, 0.08536100614229802, 0.08535711043728993, 0.08535321729985117, 0.0853493267276053, 0.08534543871817853, 0.08534155326919983, 0.08533767037830095, 0.08533379004311632, 0.08532991226128306, 0.08532603703044116, 0.08532216434823314, 0.08531829421230436, 0.08531442662030285, 0.08531056156987944, 0.08530669905868749, 0.0853028390843832, 0.08529898164462542, 0.08529512673707572, 0.0852912743593983, 0.08528742450926022, 0.08528357718433098, 0.08527973238228291, 0.08527589010079097, 0.08527205033753289, 0.08526821309018892, 0.08526437835644206, 0.085260546133978, 0.08525671642048506, 0.08525288921365418, 0.08524906451117902, 0.0852452423107558, 0.08524142261008347, 0.08523760540686366, 0.08523379069880048, 0.08522997848360085, 0.08522616875897417, 0.0852223615226326, 0.08521855677229087, 0.0852147545056663, 0.08521095472047895, 0.08520715741445124, 0.08520336258530854, 0.08519957023077854, 0.08519578034859172, 0.0851919929364811, 0.08518820799218224, 0.08518442551343344, 0.0851806454979754, 0.08517686794355157, 0.08517309284790793, 0.08516932020879303, 0.085165550023958, 0.08516178229115652, 0.08515801700814495, 0.08515425417268206, 0.08515049378252934, 0.08514673583545071, 0.08514298032921275, 0.08513922726158459, 0.08513547663033776, 0.08513172843324654, 0.08512798266808763, 0.08512423933264034, 0.08512049842468641, 0.08511675994201032, 0.08511302388239889, 0.08510929024364153, 0.0851055590235302, 0.08510183021985937, 0.08509810383042596, 0.08509437985302952, 0.08509065828547206, 0.08508693912555812, 0.08508322237109467, 0.08507950801989125, 0.08507579606975986, 0.0850720865185151, 0.08506837936397392, 0.08506467460395585, 0.08506097223628291, 0.08505727225877956, 0.0850535746692727, 0.0850498794655918, 0.08504618664556873, 0.085042496207038, 0.08503880814783625, 0.08503512246580291, 0.08503143915877977, 0.085027758224611, 0.08502407966114327, 0.08502040346622573, 0.08501672963771001, 0.08501305817345002, 0.08500938907130233, 0.08500572232912575, 0.08500205794478172, 0.0849983959161339, 0.08499473624104864, 0.08499107891739446, 0.08498742394304239, 0.08498377131586592, 0.08498012103374102, 0.08497647309454588, 0.08497282749616127, 0.08496918423647028, 0.08496554331335845, 0.08496190472471372, 0.08495826846842634, 0.08495463454238907, 0.08495100294449705, 0.08494737367264771, 0.08494374672474099, 0.08494012209867913, 0.08493649979236673, 0.08493287980371086, 0.08492926213062095, 0.08492564677100864, 0.0849220337227882, 0.08491842298387602, 0.08491481455219105, 0.08491120842565439, 0.08490760460218966, 0.08490400307972283, 0.08490040385618208, 0.08489680692949811, 0.08489321229760387, 0.08488961995843455, 0.08488602990992795, 0.08488244215002387, 0.08487885667666473, 0.08487527348779514, 0.08487169258136203, 0.08486811395531467, 0.08486453760760461, 0.08486096353618587, 0.08485739173901462, 0.08485382221404933, 0.08485025495925093, 0.08484668997258253, 0.08484312725200957, 0.08483956679549978, 0.08483600860102326, 0.08483245266655225, 0.08482889899006138, 0.08482534756952763, 0.08482179840293014, 0.08481825148825038, 0.0848147068234721, 0.08481116440658128, 0.08480762423556631, 0.08480408630841765, 0.08480055062312819, 0.08479701717769304, 0.08479348597010948, 0.08478995699837714, 0.0847864302604979, 0.08478290575447585, 0.08477938347831743, 0.08477586343003111, 0.08477234560762788, 0.08476883000912075, 0.08476531663252501, 0.08476180547585829, 0.0847582965371404, 0.08475478981439331, 0.08475128530564127, 0.08474778300891075, 0.08474428292223049, 0.08474078504363128, 0.08473728937114637, 0.08473379590281102, 0.08473030463666273, 0.08472681557074135, 0.08472332870308875, 0.08471984403174915, 0.08471636155476879, 0.08471288127019627, 0.08470940317608232, 0.08470592727047986, 0.084702453551444, 0.08469898201703198, 0.08469551266530338, 0.08469204549431968, 0.08468858050214481, 0.08468511768684484, 0.08468165704648775, 0.08467819857914395, 0.084674742282886, 0.08467128815578844, 0.08466783619592817, 0.08466438640138411, 0.0846609387702374, 0.08465749330057132, 0.08465404999047123, 0.08465060883802476, 0.08464716984132156, 0.08464373299845354, 0.08464029830751463, 0.0846368657666009, 0.08463343537381064, 0.08463000712724425, 0.08462658102500414, 0.08462315706519506, 0.08461973524592362, 0.08461631556529875, 0.0846128980214314, 0.08460948261243466, 0.08460606933642369, 0.08460265819151581, 0.08459924917583045, 0.08459584228748904, 0.08459243752461522, 0.08458903488533469, 0.0845856343677753, 0.08458223597006682, 0.08457883969034127, 0.08457544552673273, 0.08457205347737723, 0.08456866354041317, 0.08456527571398066, 0.08456188999622218, 0.0845585063852821, 0.08455512487930698, 0.08455174547644537, 0.08454836817484794, 0.08454499297266732, 0.0845416198680583, 0.08453824885917773, 0.08453487994418447, 0.0845315131212394, 0.0845281483885055, 0.08452478574414779, 0.08452142518633336, 0.08451806671323128, 0.08451471032301267, 0.08451135601385068, 0.08450800378392057, 0.08450465363139957, 0.08450130555446685, 0.08449795955130382, 0.08449461562009371, 0.08449127375902188, 0.08448793396627562, 0.08448459624004435, 0.08448126057851943, 0.08447792697989426, 0.08447459544236416, 0.08447126596412657, 0.0844679385433809, 0.0844646131783285, 0.08446128986717283, 0.08445796860811917, 0.08445464939937497, 0.08445133223914962, 0.08444801712565442, 0.08444470405710272, 0.08444139303170987, 0.08443808404769314, 0.0844347771032718, 0.0844314721966671, 0.08442816932610228, 0.08442486848980255, 0.084421569685995, 0.08441827291290879, 0.08441497816877506, 0.0844116854518268, 0.08440839476029893, 0.08440510609242857, 0.0844018194464545, 0.08439853482061761, 0.08439525221316072, 0.08439197162232859, 0.08438869304636787, 0.08438541648352721, 0.08438214193205716, 0.0843788693902102, 0.08437559885624084, 0.08437233032840542, 0.08436906380496216, 0.08436579928417132, 0.08436253676429509, 0.08435927624359742, 0.08435601772034436, 0.08435276119280377, 0.08434950665924548, 0.08434625411794121, 0.08434300356716451, 0.08433975500519103, 0.08433650843029807, 0.08433326384076503, 0.08433002123487313, 0.08432678061090551, 0.08432354196714717, 0.08432030530188506, 0.08431707061340786, 0.0843138379000064, 0.08431060715997316, 0.08430737839160263, 0.08430415159319107, 0.08430092676303685, 0.08429770389943986, 0.08429448300070219, 0.08429126406512763, 0.0842880470910218, 0.08428483207669238, 0.0842816190204487, 0.08427840792060208, 0.08427519877546563, 0.08427199158335436, 0.08426878634258511, 0.08426558305147662, 0.08426238170834936, 0.0842591823115258, 0.08425598485933011, 0.08425278935008841, 0.08424959578212865, 0.08424640415378053, 0.08424321446337565, 0.08424002670924749, 0.08423684088973118, 0.08423365700316396, 0.08423047504788461, 0.08422729502223392, 0.08422411692455442, 0.08422094075319053, 0.08421776650648839, 0.08421459418279599, 0.0842114237804632, 0.08420825529784162, 0.08420508873328465, 0.08420192408514755, 0.0841987613517874, 0.08419560053156298, 0.0841924416228349, 0.0841892846239657, 0.08418612953331955, 0.08418297634926247, 0.08417982507016226, 0.08417667569438854, 0.08417352822031267, 0.08417038264630779, 0.0841672389707489, 0.08416409719201269, 0.08416095730847768, 0.0841578193185241, 0.08415468322053402, 0.08415154901289128, 0.08414841669398145, 0.08414528626219181, 0.08414215771591158, 0.0841390310535315, 0.0841359062734443, 0.08413278337404433, 0.08412966235372768, 0.0841265432108923, 0.08412342594393779, 0.08412031055126558, 0.08411719703127872, 0.08411408538238219, 0.08411097560298249, 0.08410786769148806, 0.08410476164630894, 0.08410165746585696, 0.08409855514854567, 0.08409545469279037, 0.08409235609700805, 0.08408925935961752, 0.08408616447903916, 0.0840830714536951, 0.0840799802820094, 0.08407689096240757, 0.08407380349331696, 0.0840707178731666, 0.0840676341003873, 0.08406455217341145, 0.08406147209067333, 0.08405839385060868, 0.0840553174516552, 0.08405224289225206, 0.08404917017084029, 0.08404609928586258, 0.08404303023576327, 0.08403996301898842, 0.08403689763398571, 0.08403383407920473, 0.08403077235309638, 0.0840277124541136, 0.0840246543807109, 0.08402159813134434, 0.08401854370447177, 0.08401549109855277, 0.08401244031204846, 0.0840093913434218, 0.08400634419113712, 0.08400329885366077, 0.08400025532946051, 0.08399721361700588, 0.08399417371476811, 0.08399113562121997, 0.08398809933483596, 0.08398506485409223, 0.08398203217746657, 0.08397900130343841, 0.0839759722304889, 0.0839729449571007, 0.08396991948175828, 0.08396689580294753, 0.0839638739191562, 0.08396085382887362, 0.08395783553059069, 0.08395481902279991, 0.0839518043039956, 0.08394879137267351, 0.08394578022733114, 0.08394277086646748, 0.0839397632885834, 0.08393675749218105, 0.0839337534757645, 0.08393075123783923, 0.08392775077691253, 0.08392475209149304, 0.08392175518009126, 0.08391876004121919, 0.08391576667339046, 0.08391277507512028, 0.08390978524492544, 0.0839067971813244, 0.0839038108828372, 0.0839008263479855, 0.08389784357529244, 0.08389486256328288, 0.08389188331048324, 0.08388890581542142, 0.08388593007662716, 0.08388295609263148, 0.08387998386196723, 0.08387701338316875, 0.08387404465477183, 0.08387107767531407, 0.08386811244333452, 0.08386514895737379, 0.0838621872159741, 0.08385922721767926, 0.08385626896103457, 0.083853312444587, 0.083850357666885, 0.08384740462647862, 0.08384445332191943, 0.08384150375176061, 0.08383855591455694, 0.08383560980886458, 0.08383266543324137, 0.08382972278624681, 0.08382678186644166, 0.08382384267238845, 0.08382090520265126, 0.08381796945579552, 0.08381503543038843, 0.08381210312499858, 0.08380917253819614, 0.08380624366855281, 0.08380331651464187, 0.0838003910750381, 0.08379746734831776, 0.08379454533305873, 0.08379162502784028, 0.08378870643124336, 0.08378578954185038, 0.0837828743582452, 0.08377996087901333, 0.08377704910274172, 0.0837741390280188, 0.0837712306534345, 0.08376832397758048, 0.08376541899904962, 0.08376251571643646, 0.08375961412833702, 0.08375671423334885, 0.08375381603007093, 0.08375091951710377, 0.08374802469304939, 0.08374513155651138, 0.08374224010609464, 0.08373935034040574, 0.08373646225805266, 0.08373357585764486, 0.08373069113779337, 0.08372780809711054, 0.08372492673421035, 0.08372204704770828, 0.08371916903622117, 0.08371629269836733, 0.08371341803276677, 0.08371054503804062, 0.08370767371281183, 0.08370480405570462, 0.08370193606534466, 0.08369906974035919, 0.08369620507937693, 0.08369334208102795, 0.08369048074394389, 0.08368762106675771, 0.08368476304810407, 0.08368190668661876, 0.08367905198093929, 0.0836761989297045, 0.0836733475315548, 0.0836704977851318, 0.0836676496890789, 0.08366480324204058, 0.08366195844266308, 0.08365911528959394, 0.08365627378148205, 0.08365343391697792, 0.08365059569473339, 0.08364775911340175, 0.08364492417163776, 0.08364209086809749, 0.08363925920143864, 0.08363642917032019, 0.08363360077340254, 0.08363077400934764, 0.08362794887681868, 0.08362512537448046, 0.0836223035009991, 0.08361948325504208, 0.08361666463527843, 0.08361384764037853, 0.08361103226901406, 0.08360821851985838, 0.08360540639158597, 0.08360259588287292, 0.08359978699239659, 0.08359697971883584, 0.08359417406087086, 0.08359137001718332, 0.08358856758645622, 0.083585766767374, 0.08358296755862243, 0.08358016995888877, 0.08357737396686153, 0.0835745795812308, 0.08357178680068784, 0.08356899562392553, 0.08356620604963796, 0.08356341807652068, 0.08356063170327056, 0.0835578469285859, 0.08355506375116642, 0.08355228216971311, 0.08354950218292839, 0.08354672378951608, 0.08354394698818134, 0.08354117177763064, 0.08353839815657195, 0.08353562612371451, 0.08353285567776897, 0.08353008681744725, 0.08352731954146282, 0.08352455384853029, 0.08352178973736575, 0.08351902720668665, 0.08351626625521182, 0.08351350688166126, 0.08351074908475657, 0.08350799286322057, 0.0835052382157774, 0.0835024851411526, 0.08349973363807309, 0.08349698370526697, 0.08349423534146394, 0.08349148854539483, 0.08348874331579186, 0.08348599965138866, 0.08348325755092, 0.08348051701312227, 0.08347777803673295, 0.08347504062049099, 0.08347230476313658, 0.08346957046341136, 0.08346683772005811, 0.08346410653182103, 0.08346137689744573, 0.08345864881567903, 0.08345592228526903, 0.08345319730496527, 0.08345047387351852, 0.08344775198968093, 0.08344503165220588, 0.08344231285984809, 0.0834395956113637, 0.08343687990550994, 0.08343416574104552, 0.0834314531167304, 0.08342874203132583, 0.08342603248359437, 0.08342332447229991, 0.08342061799620759, 0.08341791305408386, 0.08341520964469651, 0.08341250776681453, 0.08340980741920825, 0.0834071086006494, 0.08340441130991078, 0.0834017155457666, 0.08339902130699246, 0.083396328592365, 0.08339363740066234, 0.08339094773066377, 0.08338825958114995, 0.08338557295090276, 0.08338288783870533, 0.08338020424334217, 0.08337752216359892, 0.08337484159826257, 0.08337216254612145, 0.083369485005965, 0.08336680897658404, 0.08336413445677066, 0.08336146144531813, 0.08335878994102103, 0.08335611994267524, 0.0833534514490778, 0.08335078445902715, 0.08334811897132283, 0.08334545498476574, 0.08334279249815801, 0.08334013151030299, 0.08333747202000531, 0.08333481402607085, 0.08333215752730673, 0.0833295025225213, 0.08332684901052417, 0.0833241969901262, 0.08332154646013946, 0.0833188974193773, 0.0833162498666543, 0.08331360380078626, 0.08331095922059015, 0.08330831612488435, 0.08330567451248828, 0.08330303438222272, 0.0833003957329096, 0.08329775856337214, 0.08329512287243478, 0.08329248865892312, 0.08328985592166405, 0.08328722465948563, 0.08328459487121714, 0.0832819665556892, 0.0832793397117335, 0.08327671433818297, 0.08327409043387182, 0.08327146799763539, 0.08326884702831033, 0.08326622752473443, 0.08326360948574672, 0.08326099291018739, 0.08325837779689782, 0.08325576414472073, 0.08325315195249991, 0.08325054121908039, 0.08324793194330848, 0.08324532412403146, 0.08324271776009809, 0.0832401128503581, 0.08323750939366263, 0.08323490738886379, 0.08323230683481496, 0.08322970773037082, 0.08322711007438709, 0.08322451386572073, 0.08322191910322994, 0.08321932578577403, 0.08321673391221346, 0.08321414348141004, 0.08321155449222652, 0.08320896694352704, 0.08320638083417684, 0.08320379616304224, 0.08320121292899088, 0.08319863113089151, 0.08319605076761409, 0.08319347183802962, 0.08319089434101051, 0.08318831827543001, 0.0831857436401628, 0.08318317043408467, 0.08318059865607252, 0.0831780283050044, 0.08317545937975959, 0.08317289187921846, 0.08317032580226258, 0.08316776114777463, 0.08316519791463854, 0.08316263610173928, 0.08316007570796305, 0.08315751673219718, 0.08315495917333003, 0.08315240303025141, 0.08314984830185193, 0.0831472949870236, 0.08314474308465936, 0.08314219259365346, 0.08313964351290129, 0.0831370958412992, 0.08313454957774492, 0.08313200472113713, 0.08312946127037571, 0.0831269192243617, 0.08312437858199719, 0.08312183934218559, 0.08311930150383116, 0.0831167650658395, 0.0831142300271173, 0.08311169638657227, 0.08310916414311344, 0.08310663329565071, 0.08310410384309534, 0.08310157578435956, 0.08309904911835674, 0.08309652384400147, 0.08309399996020934, 0.08309147746589705, 0.08308895635998251, 0.0830864366413847, 0.08308391830902365, 0.08308140136182057, 0.08307888579869778, 0.08307637161857864, 0.08307385882038773, 0.08307134740305058, 0.0830688373654939, 0.08306632870664563, 0.08306382142543459, 0.0830613155207908, 0.08305881099164543, 0.08305630783693059, 0.08305380605557967, 0.08305130564652705, 0.08304880660870824, 0.08304630894105976, 0.08304381264251937, 0.08304131771202573, 0.0830388241485188, 0.0830363319509394, 0.08303384111822963, 0.08303135164933255, 0.08302886354319235, 0.08302637679875433, 0.08302389141496476, 0.08302140739077109, 0.08301892472512186, 0.08301644341696662, 0.08301396346525595, 0.0830114848689417, 0.08300900762697652, 0.08300653173831438, 0.08300405720191019, 0.08300158401671989, 0.08299911218170061, 0.08299664169581043, 0.0829941725580086, 0.0829917047672553, 0.08298923832251198, 0.08298677322274087, 0.08298430946690548, 0.08298184705397028, 0.08297938598290087, 0.08297692625266381, 0.08297446786222676, 0.08297201081055845, 0.08296955509662869, 0.08296710071940819, 0.08296464767786887, 0.08296219597098366, 0.0829597455977265, 0.08295729655707235, 0.08295484884799735, 0.08295240246947848, 0.08294995742049398, 0.08294751370002293, 0.08294507130704556, 0.08294263024054317, 0.08294019049949801, 0.0829377520828933, 0.08293531498971358, 0.0829328792189441, 0.08293044476957129, 0.08292801164058265, 0.08292557983096663, 0.0829231493397127, 0.08292072016581145, 0.08291829230825443, 0.08291586576603414, 0.08291344053814428, 0.0829110166235794, 0.08290859402133524, 0.08290617273040837, 0.08290375274979649, 0.08290133407849833, 0.08289891671551361, 0.08289650065984301, 0.08289408591048833, 0.08289167246645227, 0.08288926032673861, 0.08288684949035219, 0.0828844399562987, 0.08288203172358499, 0.08287962479121885, 0.08287721915820903, 0.08287481482356542, 0.0828724117862988, 0.08287001004542097, 0.08286760959994471, 0.08286521044888387, 0.08286281259125321, 0.08286041602606864, 0.08285802075234681, 0.0828556267691056, 0.08285323407536381, 0.08285084267014116, 0.08284845255245848, 0.08284606372133747, 0.08284367617580093, 0.08284128991487258, 0.0828389049375771, 0.08283652124294025, 0.08283413882998865, 0.08283175769775002, 0.08282937784525302, 0.08282699927152724, 0.08282462197560331, 0.08282224595651284, 0.08281987121328835, 0.08281749774496347, 0.08281512555057263, 0.08281275462915133, 0.08281038497973603, 0.08280801660136425, 0.08280564949307427, 0.08280328365390549, 0.0828009190828983, 0.08279855577909395, 0.08279619374153477, 0.0827938329692639, 0.08279147346132566, 0.0827891152167651, 0.0827867582346284, 0.0827844025139626, 0.08278204805381577, 0.08277969485323688, 0.0827773429112759, 0.08277499222698373, 0.08277264279941222, 0.08277029462761416, 0.08276794771064341, 0.08276560204755457, 0.08276325763740335, 0.08276091447924638, 0.08275857257214121, 0.08275623191514635, 0.08275389250732118, 0.08275155434772621, 0.0827492174354227, 0.08274688176947294, 0.08274454734894017, 0.08274221417288852, 0.08273988224038313, 0.08273755155049, 0.0827352221022761, 0.08273289389480935, 0.08273056692715855, 0.08272824119839353, 0.08272591670758499, 0.08272359345380445, 0.08272127143612464, 0.08271895065361892, 0.08271663110536184, 0.08271431279042861, 0.0827119957078956, 0.08270967985683993, 0.08270736523633977, 0.08270505184547412, 0.08270273968332298, 0.08270042874896717, 0.08269811904148852, 0.0826958105599698, 0.08269350330349456, 0.08269119727114738, 0.08268889246201377, 0.08268658887518003, 0.08268428650973345, 0.08268198536476228, 0.08267968543935558, 0.08267738673260343, 0.08267508924359668, 0.08267279297142721, 0.08267049791518775, 0.0826682040739719, 0.08266591144687431, 0.08266362003299028, 0.08266132983141632, 0.08265904084124952, 0.08265675306158814, 0.0826544664915312, 0.08265218113017866, 0.08264989697663136, 0.08264761402999095, 0.0826453322893602, 0.08264305175384254, 0.08264077242254242, 0.08263849429456516, 0.08263621736901688, 0.08263394164500476, 0.0826316671216367, 0.08262939379802164, 0.08262712167326929, 0.08262485074649023, 0.08262258101679602, 0.08262031248329907, 0.08261804514511266, 0.08261577900135088, 0.08261351405112885, 0.08261125029356248, 0.08260898772776853, 0.08260672635286466, 0.08260446616796945, 0.08260220717220236, 0.0825999493646836, 0.08259769274453438, 0.08259543731087673, 0.0825931830628336, 0.08259092999952866, 0.08258867812008672, 0.08258642742363313, 0.08258417790929433, 0.08258192957619764, 0.08257968242347108, 0.08257743645024367, 0.08257519165564516, 0.08257294803880638, 0.0825707055988588, 0.08256846433493487, 0.0825662242461678, 0.08256398533169179, 0.08256174759064183, 0.0825595110221537, 0.0825572756253642, 0.08255504139941076, 0.08255280834343186, 0.08255057645656674, 0.08254834573795553, 0.08254611618673911, 0.08254388780205929, 0.0825416605830588, 0.08253943452888106, 0.08253720963867042, 0.08253498591157214, 0.08253276334673215, 0.08253054194329736, 0.08252832170041549, 0.08252610261723504, 0.08252388469290547, 0.082521667926577, 0.08251945231740063, 0.08251723786452839, 0.0825150245671129, 0.08251281242430776, 0.08251060143526741, 0.08250839159914708, 0.08250618291510282, 0.08250397538229151, 0.08250176899987101, 0.08249956376699975, 0.08249735968283711, 0.08249515674654342, 0.08249295495727964, 0.0824907543142076, 0.08248855481649005, 0.08248635646329054, 0.0824841592537733, 0.08248196318710356, 0.08247976826244728, 0.08247757447897129, 0.0824753818358431, 0.08247319033223119, 0.08247099996730489, 0.08246881074023413, 0.08246662265018984, 0.08246443569634378, 0.08246224987786835, 0.0824600651939369, 0.08245788164372354, 0.08245569922640326, 0.08245351794115174, 0.08245133778714553, 0.08244915876356207, 0.08244698086957941, 0.08244480410437661, 0.08244262846713336, 0.0824404539570303, 0.08243828057324876, 0.08243610831497097, 0.08243393718137988, 0.08243176717165925, 0.08242959828499369, 0.08242743052056854, 0.08242526387757003, 0.08242309835518506, 0.08242093395260142, 0.08241877066900766, 0.08241660850359313, 0.08241444745554796, 0.08241228752406311, 0.08241012870833028, 0.08240797100754198, 0.08240581442089148, 0.08240365894757293, 0.08240150458678115, 0.08239935133771187, 0.08239719919956141, 0.08239504817152712, 0.08239289825280693, 0.08239074944259966, 0.08238860174010491, 0.08238645514452299, 0.08238430965505504, 0.08238216527090297, 0.08238002199126945, 0.08237787981535802, 0.08237573874237285, 0.08237359877151894, 0.08237145990200213, 0.08236932213302897, 0.08236718546380681, 0.08236504989354368, 0.08236291542144855, 0.082360782046731, 0.08235864976860148, 0.08235651858627115, 0.08235438849895192, 0.08235225950585659, 0.08235013160619861, 0.08234800479919216, 0.08234587908405232, 0.08234375445999487, 0.0823416309262362, 0.08233950848199376, 0.08233738712648549, 0.08233526685893029, 0.08233314767854769, 0.08233102958455793, 0.08232891257618226, 0.08232679665264236, 0.08232468181316092, 0.08232256805696123, 0.08232045538326739, 0.08231834379130425, 0.08231623328029744, 0.08231412384947326, 0.08231201549805882, 0.08230990822528197, 0.08230780203037136, 0.08230569691255624, 0.08230359287106674, 0.08230148990513371, 0.0822993880139887, 0.08229728719686401, 0.0822951874529927, 0.08229308878160864, 0.0822909911819463, 0.082288894653241, 0.08228679919472873, 0.08228470480564631, 0.08228261148523117, 0.08228051923272155, 0.08227842804735648, 0.08227633792837563, 0.08227424887501937, 0.08227216088652899, 0.08227007396214632, 0.08226798810111398, 0.08226590330267537, 0.0822638195660746, 0.08226173689055645, 0.08225965527536652, 0.08225757471975104, 0.08225549522295704, 0.08225341678423224, 0.08225133940282513, 0.0822492630779848, 0.08224718780896126, 0.08224511359500505, 0.08224304043536754, 0.08224096832930078, 0.08223889727605765, 0.08223682727489155, 0.08223475832505668, 0.0822326904258081, 0.08223062357640135, 0.0822285577760929, 0.08222649302413976, 0.08222442931979974, 0.08222236666233139, 0.0822203050509939, 0.08221824448504722, 0.08221618496375199, 0.0822141264863696, 0.08221206905216209, 0.08221001266039217, 0.08220795731032346, 0.08220590300122002, 0.0822038497323468, 0.08220179750296944, 0.08219974631235416, 0.08219769615976802, 0.08219564704447872, 0.08219359896575464, 0.08219155192286494, 0.08218950591507938, 0.08218746094166852, 0.08218541700190359, 0.0821833740950564, 0.0821813322203996, 0.08217929137720655, 0.08217725156475118, 0.08217521278230819, 0.08217317502915295, 0.08217113830456158, 0.08216910260781082, 0.08216706793817813, 0.08216503429494174, 0.08216300167738032, 0.08216097008477355, 0.08215893951640159, 0.08215690997154534, 0.08215488144948645, 0.08215285394950707, 0.08215082747089034, 0.08214880201291973, 0.08214677757487973, 0.08214475415605524, 0.082142731755732, 0.08214071037319638, 0.08213869000773547, 0.08213667065863692, 0.08213465232518921, 0.08213263500668144, 0.08213061870240339, 0.08212860341164546, 0.0821265891336988, 0.08212457586785522, 0.08212256361340717, 0.08212055236964776, 0.08211854213587091, 0.08211653291137103, 0.08211452469544332, 0.0821125174873836, 0.08211051128648836, 0.08210850609205476, 0.08210650190338069, 0.08210449871976462, 0.08210249654050569, 0.08210049536490384, 0.08209849519225947, 0.08209649602187379, 0.08209449785304859, 0.08209250068508643, 0.0820905045172905, 0.0820885093489645, 0.08208651517941296, 0.08208452200794103, 0.0820825298338545, 0.08208053865645984, 0.0820785484750641, 0.08207655928897514, 0.08207457109750134, 0.08207258389995178, 0.08207059769563617, 0.08206861248386497, 0.08206662826394912, 0.08206464503520042, 0.08206266279693114, 0.08206068154845429, 0.08205870128908359, 0.08205672201813324, 0.08205474373491824, 0.08205276643875414, 0.08205079012895726, 0.08204881480484437, 0.08204684046573306, 0.08204486711094156, 0.08204289473978861, 0.0820409233515937, 0.08203895294567698, 0.08203698352135914, 0.08203501507796158, 0.08203304761480634, 0.08203108113121611, 0.08202911562651419, 0.08202715110002454, 0.08202518755107169, 0.08202322497898093, 0.0820212633830781, 0.08201930276268968, 0.08201734311714279, 0.08201538444576523, 0.08201342674788539, 0.08201147002283223, 0.08200951426993552, 0.08200755948852549, 0.0820056056779331, 0.08200365283748984, 0.08200170096652795, 0.0819997500643802, 0.08199780013038005, 0.08199585116386157, 0.08199390316415948, 0.08199195613060901, 0.08199001006254616, 0.08198806495930754, 0.08198612082023021, 0.08198417764465209, 0.08198223543191162, 0.08198029418134777, 0.08197835389230025, 0.0819764145641094, 0.08197447619611607, 0.08197253878766182, 0.08197060233808884, 0.08196866684673984, 0.08196673231295824, 0.08196479873608802, 0.08196286611547376, 0.08196093445046074, 0.08195900374039482, 0.08195707398462244, 0.08195514518249064, 0.08195321733334708, 0.08195129043654009, 0.08194936449141861, 0.08194743949733205, 0.08194551545363057, 0.08194359235966492, 0.08194167021478643, 0.08193974901834704, 0.0819378287696993, 0.08193590946819629, 0.08193399111319188, 0.08193207370404033, 0.08193015724009665, 0.08192824172071643, 0.08192632714525576, 0.08192441351307153, 0.081922500823521, 0.08192058907596222, 0.08191867826975367, 0.0819167684042546, 0.08191485947882472, 0.08191295149282443, 0.08191104444561464, 0.081909138336557, 0.08190723316501351, 0.08190532893034706, 0.08190342563192092, 0.08190152326909905, 0.08189962184124594, 0.08189772134772673, 0.08189582178790711, 0.08189392316115339, 0.08189202546683245, 0.08189012870431175, 0.08188823287295943, 0.08188633797214406, 0.08188444400123492, 0.08188255095960179, 0.08188065884661512, 0.08187876766164594, 0.0818768774040658, 0.08187498807324683, 0.08187309966856186, 0.08187121218938415, 0.08186932563508764, 0.08186744000504685, 0.08186555529863677, 0.08186367151523315, 0.08186178865421218, 0.08185990671495073, 0.0818580256968261, 0.08185614559921632, 0.08185426642149993, 0.08185238816305603, 0.08185051082326435, 0.08184863440150512, 0.08184675889715923, 0.0818448843096081, 0.08184301063823365, 0.08184113788241854, 0.08183926604154583, 0.0818373951149993, 0.08183552510216316, 0.0818336560024223, 0.08183178781516215, 0.0818299205397686, 0.08182805417562833, 0.08182618872212837, 0.08182432417865643, 0.0818224605446008, 0.08182059781935024, 0.08181873600229421, 0.08181687509282252, 0.08181501509032581, 0.0818131559941951, 0.081811297803822, 0.08180944051859876, 0.08180758413791812, 0.08180572866117335, 0.08180387408775834, 0.0818020204170676, 0.08180016764849604, 0.08179831578143924, 0.08179646481529329, 0.08179461474945492, 0.08179276558332123, 0.08179091731629011, 0.08178906994775982, 0.08178722347712926, 0.08178537790379785, 0.08178353322716565, 0.08178168944663315, 0.08177984656160142, 0.08177800457147213, 0.08177616347564748, 0.08177432327353022, 0.0817724839645236, 0.08177064554803151, 0.08176880802345829, 0.08176697139020894, 0.08176513564768886, 0.08176330079530422, 0.08176146683246138, 0.08175963375856764, 0.08175780157303061, 0.08175597027525842, 0.08175413986465993, 0.08175231034064438, 0.08175048170262161, 0.08174865395000201, 0.08174682708219645, 0.08174500109861643, 0.08174317599867391, 0.08174135178178144, 0.08173952844735206, 0.08173770599479943, 0.08173588442353766, 0.08173406373298145, 0.08173224392254601, 0.08173042499164711, 0.08172860693970094, 0.08172678976612449, 0.08172497347033493, 0.08172315805175029, 0.08172134350978894, 0.0817195298438698, 0.08171771705341235, 0.08171590513783665, 0.08171409409656327, 0.08171228392901313, 0.08171047463460798, 0.0817086662127699, 0.0817068586629215, 0.08170505198448601, 0.08170324617688715, 0.08170144123954912, 0.08169963717189666, 0.0816978339733551, 0.08169603164335017, 0.08169423018130831, 0.0816924295866563, 0.0816906298588215, 0.08168883099723193, 0.08168703300131581, 0.08168523587050218, 0.08168343960422057, 0.08168164420190084, 0.08167984966297354, 0.08167805598686968, 0.08167626317302075, 0.08167447122085882, 0.08167268012981654, 0.08167088989932683, 0.08166910052882345, 0.08166731201774036, 0.08166552436551232, 0.08166373757157436, 0.08166195163536216, 0.08166016655631195, 0.08165838233386032, 0.08165659896744451, 0.08165481645650212, 0.0816530348004715, 0.08165125399879126, 0.08164947405090069, 0.08164769495623951, 0.08164591671424788, 0.08164413932436665, 0.08164236278603708, 0.08164058709870088, 0.08163881226180032, 0.08163703827477818, 0.08163526513707775, 0.0816334928481428, 0.08163172140741762, 0.08162995081434699, 0.08162818106837623, 0.08162641216895106, 0.08162464411551788, 0.08162287690752337, 0.0816211105444149, 0.08161934502564024, 0.08161758035064769, 0.08161581651888601, 0.08161405352980451, 0.08161229138285298, 0.08161053007748169, 0.08160876961314141, 0.08160700998928345, 0.08160525120535954, 0.08160349326082202, 0.08160173615512352, 0.08159997988771737, 0.08159822445805731, 0.0815964698655976, 0.08159471610979294, 0.0815929631900985, 0.08159121110597005, 0.08158945985686382, 0.08158770944223642, 0.08158595986154508, 0.08158421111424745, 0.08158246319980172, 0.08158071611766646, 0.08157896986730087, 0.08157722444816456, 0.08157547985971764, 0.08157373610142063, 0.08157199317273464, 0.08157025107312126, 0.08156850980204249, 0.0815667693589609, 0.08156502974333947, 0.08156329095464168, 0.08156155299233149, 0.08155981585587337, 0.08155807954473228, 0.0815563440583736, 0.0815546093962632, 0.08155287555786751, 0.08155114254265332, 0.08154941035008804, 0.0815476789796394, 0.08154594843077571, 0.08154421870296569, 0.08154248979567866, 0.08154076170838427, 0.08153903444055267, 0.08153730799165457, 0.08153558236116112, 0.08153385754854388, 0.08153213355327499, 0.0815304103748269, 0.08152868801267274, 0.08152696646628592, 0.08152524573514043, 0.08152352581871071, 0.08152180671647173, 0.08152008842789875, 0.08151837095246764, 0.08151665428965478, 0.0815149384389369, 0.08151322339979122, 0.08151150917169546, 0.0815097957541278, 0.08150808314656693, 0.08150637134849194, 0.08150466035938235, 0.08150295017871821, 0.08150124080598005, 0.08149953224064883, 0.08149782448220595, 0.08149611753013332, 0.08149441138391328, 0.08149270604302866, 0.08149100150696267, 0.0814892977751991, 0.08148759484722208, 0.08148589272251634, 0.08148419140056688, 0.08148249088085939, 0.0814807911628798, 0.08147909224611462, 0.08147739413005076, 0.08147569681417566, 0.08147400029797712, 0.08147230458094343, 0.08147060966256334, 0.0814689155423262, 0.08146722221972147, 0.08146552969423944, 0.08146383796537054, 0.08146214703260586, 0.08146045689543689, 0.08145876755335545, 0.0814570790058541, 0.08145539125242547, 0.08145370429256292, 0.08145201812576017, 0.08145033275151138, 0.08144864816931119, 0.08144696437865465, 0.08144528137903721, 0.08144359916995492, 0.08144191775090419, 0.0814402371213818, 0.08143855728088512, 0.0814368782289118, 0.08143519996496011, 0.08143352248852864, 0.08143184579911646, 0.08143016989622309, 0.08142849477934846, 0.081426820447993, 0.08142514690165756, 0.08142347413984342, 0.08142180216205228, 0.08142013096778626, 0.081418460556548, 0.08141679092784057, 0.08141512208116741, 0.08141345401603241, 0.08141178673193997, 0.08141012022839489, 0.08140845450490232, 0.08140678956096797, 0.08140512539609798, 0.08140346200979877, 0.0814017994015774, 0.08140013757094125, 0.08139847651739808, 0.08139681624045628, 0.08139515673962446, 0.08139349801441179, 0.08139184006432783, 0.08139018288888254, 0.08138852648758638, 0.08138687085995021, 0.08138521600548529, 0.08138356192370332, 0.08138190861411654, 0.08138025607623742, 0.08137860430957901, 0.08137695331365465, 0.08137530308797832, 0.08137365363206422, 0.08137200494542711, 0.08137035702758205, 0.08136870987804468, 0.08136706349633094, 0.0813654178819572, 0.08136377303444041, 0.08136212895329772, 0.08136048563804682, 0.08135884308820583, 0.08135720130329324, 0.08135556028282802, 0.08135392002632957, 0.08135228053331763, 0.08135064180331236, 0.08134900383583449, 0.08134736663040495, 0.08134573018654531, 0.08134409450377739, 0.08134245958162349, 0.08134082541960636, 0.0813391920172491, 0.08133755937407527, 0.08133592748960883, 0.08133429636337412, 0.08133266599489603, 0.08133103638369969, 0.08132940752931081, 0.08132777943125534, 0.08132615208905977, 0.08132452550225093, 0.08132289967035616, 0.08132127459290314, 0.08131965026941995, 0.08131802669943505, 0.08131640388247749, 0.0813147818180765, 0.08131316050576184, 0.08131153994506371, 0.0813099201355126, 0.08130830107663957, 0.08130668276797591, 0.08130506520905345, 0.08130344839940434, 0.08130183233856123, 0.08130021702605712, 0.08129860246142542, 0.0812969886441999, 0.08129537557391489, 0.08129376325010487, 0.08129215167230501, 0.0812905408400507, 0.08128893075287767, 0.08128732141032229, 0.08128571281192115, 0.08128410495721133, 0.08128249784573023, 0.08128089147701574, 0.08127928585060605, 0.08127768096603989, 0.0812760768228562, 0.08127447342059452, 0.08127287075879466, 0.08127126883699685, 0.08126966765474178, 0.08126806721157045, 0.08126646750702429, 0.08126486854064516, 0.08126327031197528, 0.08126167282055727, 0.08126007606593413, 0.08125848004764934, 0.08125688476524667, 0.08125529021827031, 0.08125369640626487, 0.08125210332877539, 0.08125051098534718, 0.08124891937552604, 0.08124732849885816, 0.08124573835489014, 0.08124414894316882, 0.08124256026324166, 0.08124097231465628, 0.0812393850969609, 0.08123779860970401, 0.08123621285243446, 0.08123462782470163, 0.08123304352605515, 0.08123145995604505, 0.08122987711422185, 0.08122829500013636, 0.08122671361333979, 0.08122513295338385, 0.08122355301982039, 0.0812219738122019, 0.08122039533008114, 0.08121881757301119, 0.08121724054054572, 0.08121566423223855, 0.08121408864764403, 0.08121251378631685, 0.08121093964781205, 0.08120936623168508, 0.08120779353749183, 0.0812062215647885, 0.08120465031313163, 0.08120307978207826, 0.08120150997118576, 0.08119994088001181, 0.08119837250811454, 0.08119680485505248, 0.08119523792038447, 0.08119367170366981, 0.08119210620446811, 0.08119054142233932, 0.08118897735684388, 0.08118741400754254, 0.08118585137399642, 0.08118428945576708, 0.08118272825241635, 0.08118116776350653, 0.08117960798860024, 0.0811780489272605, 0.08117649057905066, 0.08117493294353453, 0.08117337602027623, 0.0811718198088402, 0.08117026430879137, 0.08116870951969501, 0.08116715544111668, 0.08116560207262237, 0.08116404941377847, 0.08116249746415173, 0.08116094622330916, 0.08115939569081831, 0.081157845866247, 0.08115629674916339, 0.0811547483391361, 0.0811532006357341, 0.08115165363852657, 0.08115010734708332, 0.08114856176097433, 0.08114701687977, 0.08114547270304114, 0.0811439292303588, 0.0811423864612946, 0.08114084439542037, 0.08113930303230828, 0.081137762371531, 0.08113622241266141, 0.08113468315527289, 0.08113314459893917, 0.08113160674323418, 0.0811300695877324, 0.08112853313200859, 0.08112699737563785, 0.08112546231819572, 0.081123927959258, 0.081122394298401, 0.08112086133520112, 0.08111932906923545, 0.08111779750008119, 0.08111626662731605, 0.08111473645051795, 0.08111320696926531, 0.08111167818313686, 0.08111015009171169, 0.08110862269456909, 0.08110709599128908, 0.08110556998145163, 0.08110404466463728, 0.08110252004042691, 0.08110099610840173, 0.08109947286814326, 0.08109795031923345, 0.0810964284612546, 0.08109490729378926, 0.08109338681642049, 0.08109186702873156, 0.08109034793030613, 0.08108882952072834, 0.08108731179958248, 0.0810857947664533, 0.0810842784209259, 0.08108276276258568, 0.08108124779101851, 0.08107973350581044, 0.08107821990654797, 0.08107670699281795, 0.08107519476420752, 0.08107368322030428, 0.08107217236069605, 0.08107066218497107, 0.08106915269271792, 0.08106764388352544, 0.08106613575698302, 0.08106462831268015, 0.08106312155020685, 0.08106161546915341, 0.08106011006911044, 0.08105860534966895, 0.08105710131042024, 0.08105559795095602, 0.08105409527086836, 0.08105259326974949, 0.08105109194719216, 0.08104959130278944, 0.08104809133613472, 0.08104659204682167, 0.08104509343444444, 0.08104359549859735, 0.08104209823887523, 0.08104060165487306, 0.0810391057461864, 0.08103761051241093, 0.08103611595314278, 0.08103462206797842, 0.08103312885651455, 0.08103163631834834, 0.08103014445307725, 0.08102865326029908, 0.08102716273961197, 0.08102567289061437, 0.08102418371290504, 0.08102269520608314, 0.08102120736974819, 0.08101972020349998, 0.08101823370693863, 0.08101674787966463, 0.08101526272127875, 0.08101377823138219, 0.08101229440957645, 0.08101081125546324, 0.08100932876864476, 0.0810078469487235, 0.08100636579530224, 0.08100488530798411, 0.0810034054863726, 0.0810019263300715, 0.08100044783868494, 0.08099897001181738, 0.0809974928490736, 0.08099601635005874, 0.0809945405143782, 0.08099306534163779, 0.08099159083144361, 0.08099011698340208, 0.08098864379711994, 0.08098717127220437, 0.0809856994082627, 0.08098422820490264, 0.08098275766173234, 0.08098128777836013, 0.08097981855439475, 0.08097834998944524, 0.08097688208312098, 0.08097541483503161, 0.08097394824478722, 0.08097248231199804, 0.0809710170362749, 0.0809695524172286, 0.08096808845447057, 0.08096662514761235, 0.08096516249626602, 0.08096370050004374, 0.08096223915855814, 0.08096077847142216, 0.08095931843824898, 0.08095785905865226, 0.0809564003322457, 0.0809549422586437, 0.08095348483746065, 0.08095202806831144, 0.08095057195081118, 0.08094911648457538, 0.08094766166921982, 0.08094620750436059, 0.08094475398961413, 0.08094330112459716, 0.08094184890892685, 0.0809403973422204, 0.08093894642409563, 0.08093749615417048, 0.08093604653206328, 0.0809345975573927, 0.08093314922977768, 0.08093170154883751, 0.08093025451419171, 0.08092880812546022, 0.08092736238226324, 0.08092591728422129, 0.08092447283095516, 0.08092302902208609, 0.0809215858572355, 0.0809201433360251, 0.080918701458077, 0.08091726022301363, 0.08091581963045769, 0.08091437968003216, 0.08091294037136038, 0.08091150170406597, 0.0809100636777729, 0.08090862629210538, 0.08090718954668802, 0.08090575344114563, 0.08090431797510345, 0.08090288314818693, 0.08090144896002188, 0.08090001541023441, 0.08089858249845086, 0.08089715022429805, 0.0808957185874029, 0.08089428758739275, 0.0808928572238953, 0.08089142749653846, 0.08088999840495043, 0.08088856994875979, 0.0808871421275954, 0.0808857149410864, 0.08088428838886222, 0.08088286247055264, 0.08088143718578772, 0.0808800125341979, 0.08087858851541377, 0.08087716512906627, 0.0808757423747868, 0.0808743202522068, 0.0808728987609583, 0.08087147790067328, 0.08087005767098439, 0.08086863807152433, 0.08086721910192615, 0.08086580076182334, 0.08086438305084946, 0.08086296596863854, 0.08086154951482487, 0.08086013368904296, 0.08085871849092777, 0.08085730392011439, 0.08085588997623834, 0.08085447665893532, 0.08085306396784148, 0.08085165190259311, 0.08085024046282686, 0.08084882964817974, 0.0808474194582889, 0.08084600989279199, 0.08084460095132677, 0.08084319263353137, 0.08084178493904427, 0.08084037786750414, 0.08083897141855001, 0.08083756559182116, 0.08083616038695722, 0.0808347558035981, 0.08083335184138392, 0.08083194849995518, 0.08083054577895266, 0.08082914367801744, 0.08082774219679086, 0.08082634133491454, 0.08082494109203041, 0.08082354146778073, 0.08082214246180795, 0.08082074407375493, 0.08081934630326476, 0.08081794914998079, 0.08081655261354674, 0.08081515669360655, 0.08081376138980438, 0.08081236670178488, 0.08081097262919283, 0.08080957917167338, 0.08080818632887185, 0.08080679410043401, 0.08080540248600576, 0.08080401148523342, 0.08080262109776348, 0.0808012313232428, 0.0807998421613185, 0.08079845361163793, 0.08079706567384883, 0.08079567834759914, 0.08079429163253717, 0.08079290552831135, 0.08079152003457059, 0.08079013515096395, 0.08078875087714087, 0.08078736721275094, 0.08078598415744416, 0.08078460171087079, 0.08078321987268129, 0.08078183864252647, 0.08078045802005744, 0.08077907800492556, 0.0807776985967824, 0.08077631979527995, 0.08077494160007043, 0.08077356401080625, 0.08077218702714022, 0.08077081064872535, 0.08076943487521498, 0.08076805970626272, 0.08076668514152241, 0.08076531118064821, 0.08076393782329458, 0.08076256506911617, 0.08076119291776805, 0.08075982136890544, 0.08075845042218384, 0.08075708007725914, 0.08075571033378737, 0.08075434119142497, 0.0807529726498285, 0.08075160470865493, 0.08075023736756146, 0.08074887062620549, 0.08074750448424488, 0.08074613894133754, 0.0807447739971418, 0.08074340965131625, 0.08074204590351972, 0.08074068275341123, 0.08073932020065032, 0.08073795824489653, 0.08073659688580981, 0.08073523612305038, 0.08073387595627869, 0.08073251638515552, 0.08073115740934186, 0.08072979902849894, 0.08072844124228841, 0.08072708405037204, 0.08072572745241197, 0.08072437144807047, 0.0807230160370103, 0.08072166121889426, 0.08072030699338559, 0.08071895336014767, 0.08071760031884427, 0.0807162478691393, 0.08071489601069706, 0.08071354474318204, 0.08071219406625903, 0.08071084397959304, 0.08070949448284943, 0.08070814557569375, 0.08070679725779185, 0.08070544952880987, 0.08070410238841412, 0.08070275583627133, 0.08070140987204831, 0.08070006449541231, 0.08069871970603072, 0.08069737550357127, 0.08069603188770187, 0.0806946888580908, 0.08069334641440655, 0.08069200455631784, 0.08069066328349374, 0.08068932259560341, 0.08068798249231658, 0.08068664297330287, 0.08068530403823244, 0.08068396568677562, 0.08068262791860296, 0.08068129073338533, 0.08067995413079379, 0.08067861811049983, 0.08067728267217496, 0.0806759478154911, 0.08067461354012044, 0.08067327984573536, 0.08067194673200853, 0.08067061419861285, 0.08066928224522155, 0.08066795087150805, 0.08066662007714606, 0.08066528986180953, 0.08066396022517268, 0.08066263116690994, 0.08066130268669618, 0.08065997478420624, 0.08065864745911541, 0.08065732071109921, 0.08065599453983338, 0.08065466894499394, 0.08065334392625713, 0.08065201948329953, 0.08065069561579787, 0.08064937232342917, 0.08064804960587078, 0.08064672746280019, 0.0806454058938952, 0.08064408489883383, 0.08064276447729447, 0.08064144462895559, 0.08064012535349603, 0.08063880665059482, 0.08063748851993133, 0.0806361709611851, 0.0806348539740359, 0.08063353755816387, 0.08063222171324926, 0.08063090643897268, 0.08062959173501497, 0.08062827760105713, 0.08062696403678053, 0.08062565104186677, 0.08062433861599763, 0.08062302675885516, 0.08062171547012174, 0.08062040474947989, 0.08061909459661243, 0.08061778501120245, 0.08061647599293327, 0.0806151675414884, 0.08061385965655168, 0.08061255233780722, 0.08061124558493926, 0.08060993939763238, 0.08060863377557131, 0.0806073287184412, 0.08060602422592729, 0.08060472029771512, 0.08060341693349046, 0.08060211413293937, 0.08060081189574808, 0.08059951022160314, 0.0805982091101913, 0.08059690856119958, 0.08059560857431525, 0.08059430914922577, 0.08059301028561885, 0.08059171198318256, 0.08059041424160504, 0.08058911706057484, 0.0805878204397806, 0.08058652437891137, 0.08058522887765623, 0.08058393393570468, 0.0805826395527464, 0.08058134572847128, 0.08058005246256954, 0.08057875975473155, 0.08057746760464796, 0.08057617601200966, 0.08057488497650776, 0.08057359449783366, 0.08057230457567893, 0.08057101520973542, 0.08056972639969526, 0.08056843814525069, 0.08056715044609436, 0.08056586330191902, 0.08056457671241776, 0.08056329067728381, 0.08056200519621069, 0.08056072026889217, 0.08055943589502226, 0.08055815207429515, 0.08055686880640532, 0.08055558609104747, 0.08055430392791653, 0.0805530223167077, 0.08055174125711638, 0.08055046074883827, 0.08054918079156913, 0.08054790138500514, 0.0805466225288427, 0.08054534422277834, 0.08054406646650888, 0.08054278925973142, 0.08054151260214319, 0.08054023649344179, 0.08053896093332495, 0.0805376859214906, 0.08053641145763704, 0.0805351375414627, 0.08053386417266624, 0.08053259135094666, 0.08053131907600304, 0.08053004734753481, 0.08052877616524157, 0.08052750552882319, 0.08052623543797974, 0.08052496589241148, 0.08052369689181904, 0.08052242843590315, 0.08052116052436481, 0.08051989315690529, 0.08051862633322603, 0.08051736005302872, 0.08051609431601524, 0.08051482912188784, 0.08051356447034884, 0.08051230036110084, 0.08051103679384672, 0.08050977376828954, 0.08050851128413257, 0.0805072493410794, 0.08050598793883366, 0.08050472707709941, 0.08050346675558084, 0.08050220697398242, 0.08050094773200872, 0.08049968902936473, 0.08049843086575549, 0.08049717324088633, 0.0804959161544629, 0.0804946596061909, 0.08049340359577639, 0.08049214812292559, 0.08049089318734495, 0.08048963878874119, 0.08048838492682124, 0.0804871316012922, 0.08048587881186141, 0.08048462655823654, 0.08048337484012531, 0.08048212365723584, 0.08048087300927628, 0.08047962289595517, 0.08047837331698124, 0.08047712427206336, 0.08047587576091068, 0.08047462778323262, 0.08047338033873873, 0.0804721334271388, 0.0804708870481429, 0.08046964120146127, 0.08046839588680438, 0.08046715110388294, 0.08046590685240784, 0.08046466313209027, 0.08046341994264151, 0.0804621772837732, 0.0804609351551971, 0.08045969355662519, 0.08045845248776984, 0.08045721194834334, 0.08045597193805844, 0.08045473245662806, 0.08045349350376518, 0.08045225507918329, 0.08045101718259584, 0.08044977981371662, 0.0804485429722596, 0.08044730665793895, 0.08044607087046914, 0.08044483560956477, 0.08044360087494062, 0.08044236666631192, 0.08044113298339381, 0.08043989982590176, 0.08043866719355162, 0.0804374350860592, 0.08043620350314071, 0.08043497244451242, 0.08043374190989099, 0.08043251189899318, 0.08043128241153598, 0.08043005344723658, 0.08042882500581246, 0.08042759708698122, 0.08042636969046071, 0.08042514281596905, 0.08042391646322446, 0.08042269063194553, 0.08042146532185086, 0.0804202405326594, 0.08041901626409029, 0.08041779251586292, 0.08041656928769678, 0.08041534657931165, 0.08041412439042755, 0.0804129027207646, 0.08041168157004329, 0.08041046093798417, 0.08040924082430809, 0.08040802122873607, 0.08040680215098932, 0.08040558359078935, 0.0804043655478578, 0.08040314802191655, 0.08040193101268767, 0.08040071451989346, 0.0803994985432564, 0.08039828308249922, 0.08039706813734487, 0.08039585370751638, 0.08039463979273716, 0.08039342639273077, 0.08039221350722088, 0.08039100113593153, 0.08038978927858684, 0.08038857793491114, 0.08038736710462908, 0.08038615678746545, 0.08038494698314516, 0.08038373769139348, 0.0803825289119358, 0.0803813206444977, 0.08038011288880502, 0.08037890564458378, 0.08037769891156019, 0.08037649268946066, 0.0803752869780119, 0.08037408177694072, 0.08037287708597413, 0.08037167290483942, 0.08037046923326402, 0.08036926607097558, 0.08036806341770199, 0.08036686127317126, 0.08036565963711167, 0.0803644585092518, 0.0803632578893202, 0.08036205777704576, 0.08036085817215763, 0.08035965907438498, 0.08035846048345739, 0.08035726239910446, 0.08035606482105621, 0.08035486774904256, 0.08035367118279392, 0.08035247512204072, 0.08035127956651367, 0.08035008451594368, 0.08034888997006182, 0.08034769592859935, 0.08034650239128782, 0.08034530935785893, 0.0803441168280445, 0.08034292480157665, 0.0803417332781877, 0.08034054225761013, 0.0803393517395766, 0.08033816172382004, 0.08033697221007348, 0.08033578319807023, 0.08033459468754381, 0.08033340667822784, 0.08033221916985625, 0.08033103216216304, 0.08032984565488256, 0.08032865964774928, 0.0803274741404978, 0.08032628913286302, 0.08032510462458003, 0.080323920615384, 0.08032273710501048, 0.08032155409319508, 0.08032037157967363, 0.08031918956418219, 0.08031800804645696, 0.08031682702623441, 0.08031564650325113, 0.08031446647724401, 0.08031328694794997, 0.0803121079151063, 0.08031092937845037, 0.08030975133771973, 0.08030857379265224, 0.08030739674298588, 0.08030622018845877, 0.08030504412880937, 0.08030386856377617, 0.08030269349309795, 0.08030151891651371, 0.08030034483376251, 0.08029917124458376, 0.08029799814871691, 0.08029682554590177, 0.08029565343587819, 0.08029448181838628, 0.08029331069316636, 0.08029214005995887, 0.08029096991850453, 0.08028980026854425, 0.08028863110981899, 0.08028746244207002, 0.08028629426503883, 0.08028512657846704, 0.08028395938209643, 0.08028279267566904, 0.08028162645892706, 0.08028046073161292, 0.08027929549346909, 0.08027813074423845, 0.08027696648366388, 0.08027580271148858, 0.08027463942745583, 0.08027347663130922, 0.08027231432279239, 0.08027115250164925, 0.0802699911676239, 0.08026883032046063, 0.08026766995990389, 0.0802665100856983, 0.08026535069758874, 0.08026419179532017, 0.08026303337863785, 0.0802618754472871, 0.08026071800101364, 0.0802595610395631, 0.08025840456268149, 0.08025724857011492, 0.08025609306160975, 0.08025493803691247, 0.0802537834957698, 0.08025262943792857, 0.0802514758631359, 0.08025032277113894, 0.08024917016168527, 0.0802480180345224, 0.08024686638939818, 0.08024571522606054, 0.0802445645442577, 0.08024341434373801, 0.08024226462424998, 0.08024111538554236, 0.08023996662736405, 0.08023881834946407, 0.08023767055159181, 0.08023652323349661, 0.08023537639492818, 0.08023423003563628, 0.08023308415537092, 0.08023193875388228, 0.08023079383092076, 0.08022964938623685, 0.08022850541958129, 0.08022736193070501, 0.08022621891935906, 0.08022507638529472, 0.08022393432826347, 0.0802227927480169, 0.08022165164430678, 0.08022051101688521, 0.08021937086550424, 0.08021823118991626, 0.08021709198987385, 0.08021595326512965, 0.08021481501543654, 0.08021367724054766, 0.08021253994021617, 0.08021140311419554, 0.08021026676223936, 0.08020913088410143, 0.08020799547953564, 0.08020686054829622, 0.08020572609013743, 0.0802045921048137, 0.08020345859207983, 0.08020232555169059, 0.08020119298340099, 0.08020006088696625, 0.0801989292621418, 0.08019779810868309, 0.08019666742634592, 0.08019553721488618, 0.08019440747405994, 0.08019327820362349, 0.0801921494033332, 0.08019102107294576, 0.0801898932122179, 0.08018876582090657, 0.080187638898769, 0.08018651244556238, 0.08018538646104431, 0.08018426094497233, 0.08018313589710435, 0.08018201131719835, 0.08018088720501254, 0.08017976356030528, 0.08017864038283502, 0.08017751767236059, 0.08017639542864075, 0.08017527365143462, 0.08017415234050145, 0.08017303149560054, 0.08017191111649154, 0.08017079120293413, 0.0801696717546883, 0.08016855277151409, 0.08016743425317174, 0.08016631619942177, 0.08016519861002466, 0.08016408148474125, 0.08016296482333252, 0.08016184862555951, 0.08016073289118353, 0.08015961761996612, 0.08015850281166881, 0.0801573884660534, 0.08015627458288194, 0.0801551611619165, 0.08015404820291948, 0.08015293570565322, 0.0801518236698805, 0.08015071209536408, 0.08014960098186699, 0.08014849032915232, 0.08014738013698348, 0.08014627040512393, 0.08014516113333736, 0.08014405232138752, 0.08014294396903855, 0.08014183607605446, 0.08014072864219976, 0.08013962166723887, 0.08013851515093648, 0.08013740909305743, 0.08013630349336669, 0.08013519835162956, 0.08013409366761126, 0.08013298944107737, 0.08013188567179355, 0.0801307823595257, 0.08012967950403972, 0.08012857710510189, 0.08012747516247852, 0.08012637367593613, 0.08012527264524139, 0.08012417207016116, 0.08012307195046245, 0.0801219722859124, 0.0801208730762784, 0.08011977432132796, 0.08011867602082867, 0.0801175781745485, 0.08011648078225533, 0.08011538384371739, 0.08011428735870295, 0.08011319132698061, 0.08011209574831892, 0.08011100062248676, 0.08010990594925312, 0.08010881172838712, 0.08010771795965807, 0.0801066246428355, 0.08010553177768898, 0.08010443936398837, 0.08010334740150359, 0.0801022558900048, 0.0801011648292623, 0.0801000742190465, 0.08009898405912805, 0.08009789434927775, 0.08009680508926648, 0.08009571627886536, 0.08009462791784566, 0.08009354000597882, 0.08009245254303642, 0.08009136552879018, 0.08009027896301203, 0.08008919284547408, 0.08008810717594847, 0.08008702195420762, 0.08008593718002412, 0.08008485285317068, 0.08008376897342011, 0.08008268554054553, 0.08008160255432, 0.08008052001451699, 0.08007943792090999, 0.08007835627327266, 0.08007727507137875, 0.08007619431500236, 0.08007511400391758, 0.08007403413789874, 0.08007295471672027, 0.08007187574015684, 0.08007079720798316, 0.08006971911997424, 0.08006864147590513, 0.08006756427555108, 0.08006648751868758, 0.0800654112050901, 0.08006433533453439, 0.08006325990679639, 0.08006218492165211, 0.0800611103788777, 0.0800600362782496, 0.08005896261954425, 0.08005788940253834, 0.08005681662700871, 0.08005574429273236, 0.0800546723994864, 0.08005360094704805, 0.08005252993519489, 0.08005145936370449, 0.0800503892323545, 0.08004931954092295, 0.0800482502891879, 0.08004718147692753, 0.08004611310392028, 0.08004504516994465, 0.08004397767477929, 0.08004291061820307, 0.08004184399999506, 0.08004077781993432, 0.08003971207780018, 0.0800386467733721, 0.08003758190642975, 0.08003651747675276, 0.08003545348412122, 0.08003438992831512, 0.0800333268091147, 0.08003226412630028, 0.0800312018796525, 0.08003014006895197, 0.08002907869397957, 0.08002801775451625, 0.0800269572503432, 0.08002589718124167, 0.08002483754699315, 0.08002377834737925, 0.08002271958218161, 0.08002166125118229, 0.08002060335416322, 0.08001954589090668, 0.08001848886119496, 0.08001743226481065, 0.08001637610153635, 0.08001532037115489, 0.08001426507344923, 0.08001321020820247, 0.08001215577519785, 0.08001110177421888, 0.08001004820504899, 0.08000899506747196, 0.08000794236127164, 0.08000689008623205, 0.08000583824213733, 0.08000478682877184, 0.08000373584591994, 0.08000268529336632, 0.08000163517089566, 0.080000585478293, 0.07999953621534325, 0.07999848738183173, 0.07999743897754369, 0.07999639100226463, 0.07999534345578033, 0.07999429633787643, 0.07999324964833895, 0.07999220338695397, 0.07999115755350773, 0.07999011214778658, 0.0799890671695771, 0.07998802261866594, 0.07998697849483993, 0.07998593479788609, 0.07998489152759145, 0.07998384868374334, 0.07998280626612915, 0.07998176427453646, 0.07998072270875295, 0.07997968156856652, 0.07997864085376509, 0.07997760056413689, 0.07997656069947011, 0.07997552125955328, 0.07997448224417492, 0.07997344365312375, 0.0799724054861887, 0.07997136774315873, 0.07997033042382304, 0.07996929352797087, 0.07996825705539176, 0.07996722100587524, 0.07996618537921103, 0.07996515017518903, 0.07996411539359932, 0.07996308103423207, 0.07996204709687749, 0.0799610135813261, 0.0799599804873685, 0.07995894781479546, 0.07995791556339783, 0.07995688373296662, 0.07995585232329308, 0.07995482133416847, 0.0799537907653842, 0.07995276061673197, 0.07995173088800349, 0.0799507015789906, 0.07994967268948541, 0.07994864421928001, 0.07994761616816677, 0.07994658853593811, 0.07994556132238663, 0.0799445345273051, 0.07994350815048634, 0.07994248219172341, 0.07994145665080943, 0.07994043152753778, 0.07993940682170181, 0.07993838253309518, 0.07993735866151155, 0.07993633520674484, 0.07993531216858901, 0.07993428954683822, 0.07993326734128677, 0.07993224555172904, 0.07993122417795966, 0.07993020321977325, 0.07992918267696476, 0.07992816254932908, 0.07992714283666132, 0.07992612353875686, 0.07992510465541101, 0.07992408618641932, 0.0799230681315775, 0.07992205049068127, 0.07992103326352672, 0.07992001644990986, 0.07991900004962697, 0.07991798406247437, 0.07991696848824854, 0.07991595332674623, 0.07991493857776417, 0.07991392424109925, 0.07991291031654857, 0.07991189680390934, 0.07991088370297884, 0.07990987101355458, 0.07990885873543414, 0.07990784686841529, 0.07990683541229592, 0.07990582436687402, 0.07990481373194773, 0.07990380350731538, 0.07990279369277539, 0.07990178428812626, 0.0799007752931668, 0.07989976670769577, 0.07989875853151217, 0.07989775076441508, 0.07989674340620376, 0.07989573645667755, 0.07989472991563604, 0.07989372378287879, 0.07989271805820565, 0.0798917127414165, 0.07989070783231142, 0.07988970333069056, 0.07988869923635426, 0.07988769554910301, 0.07988669226873735, 0.07988568939505801, 0.07988468692786586, 0.07988368486696187, 0.07988268321214721, 0.0798816819632231, 0.07988068111999094, 0.07987968068225229, 0.07987868064980877, 0.07987768102246219, 0.07987668180001448, 0.07987568298226767, 0.07987468456902397, 0.07987368656008571, 0.07987268895525537, 0.07987169175433546, 0.07987069495712878, 0.07986969856343815, 0.07986870257306655, 0.0798677069858171, 0.07986671180149309, 0.07986571701989785, 0.07986472264083493, 0.0798637286641079, 0.07986273508952067, 0.07986174191687699, 0.079860749145981, 0.07985975677663687, 0.07985876480864885, 0.07985777324182142, 0.07985678207595905, 0.07985579131086658, 0.0798548009463487, 0.07985381098221041, 0.0798528214182568, 0.07985183225429306, 0.07985084349012458, 0.07984985512555677, 0.07984886716039527, 0.07984787959444582, 0.07984689242751426, 0.07984590565940652, 0.07984491928992883, 0.07984393331888738, 0.07984294774608858, 0.07984196257133892, 0.079840977794445, 0.0798399934152136, 0.07983900943345165, 0.07983802584896614, 0.07983704266156424, 0.07983605987105319, 0.07983507747724045, 0.0798340954799335, 0.07983311387894002, 0.07983213267406777, 0.07983115186512468, 0.07983017145191885, 0.07982919143425841, 0.07982821181195165, 0.07982723258480696, 0.07982625375263301, 0.07982527531523836, 0.07982429727243184, 0.07982331962402245, 0.07982234236981917, 0.07982136550963122, 0.07982038904326788, 0.07981941297053864, 0.07981843729125308, 0.07981746200522079, 0.07981648711225166, 0.07981551261215562, 0.07981453850474272, 0.07981356478982321, 0.07981259146720732, 0.07981161853670557, 0.07981064599812845, 0.07980967385128677, 0.07980870209599122, 0.07980773073205287, 0.07980675975928266, 0.07980578917749184, 0.07980481898649178, 0.07980384918609383, 0.07980287977610961, 0.0798019107563508, 0.07980094212662922, 0.07979997388675682, 0.07979900603654562, 0.0797980385758078, 0.07979707150435573, 0.07979610482200185, 0.0797951385285586, 0.07979417262383881, 0.07979320710765518, 0.07979224197982067, 0.0797912772401483, 0.0797903128884513, 0.07978934892454294, 0.07978838534823658, 0.07978742215934584, 0.07978645935768436, 0.07978549694306586, 0.07978453491530435, 0.07978357327421377, 0.07978261201960833, 0.0797816511513023, 0.07978069066911, 0.079779730572846, 0.07977877086232499, 0.07977781153736162, 0.07977685259777083, 0.07977589404336762, 0.0797749358739671, 0.07977397808938452, 0.07977302068943529, 0.07977206367393479, 0.07977110704269869, 0.07977015079554273, 0.07976919493228267, 0.0797682394527346, 0.07976728435671455, 0.07976632964403871, 0.0797653753145234, 0.07976442136798509, 0.07976346780424033, 0.07976251462310585, 0.07976156182439842, 0.07976060940793492, 0.0797596573735325, 0.07975870572100824, 0.07975775445017946, 0.07975680356086357, 0.07975585305287802, 0.07975490292604052, 0.07975395318016884, 0.0797530038150808, 0.07975205483059442, 0.07975110622652781, 0.07975015800269923, 0.07974921015892701, 0.0797482626950296, 0.07974731561082563, 0.07974636890613372, 0.07974542258077282, 0.07974447663456175, 0.07974353106731964, 0.07974258587886564, 0.07974164106901903, 0.07974069663759925, 0.07973975258442578, 0.07973880890931832, 0.0797378656120966, 0.07973692269258047, 0.07973598015058996, 0.0797350379859452, 0.07973409619846636, 0.07973315478797383, 0.07973221375428809, 0.07973127309722965, 0.07973033281661922, 0.07972939291227764, 0.0797284533840258, 0.07972751423168477, 0.07972657545507567, 0.07972563705401982, 0.07972469902833855, 0.07972376137785339, 0.07972282410238594, 0.07972188720175796, 0.07972095067579135, 0.07972001452430795, 0.0797190787471299, 0.0797181433440794, 0.07971720831497874, 0.07971627365965031, 0.07971533937791672, 0.07971440546960058, 0.07971347193452466, 0.0797125387725118, 0.07971160598338507, 0.07971067356696751, 0.07970974152308241, 0.07970880985155299, 0.07970787855220281, 0.07970694762485536, 0.07970601706933435, 0.07970508688546356, 0.07970415707306688, 0.07970322763196841, 0.07970229856199212, 0.07970136986296236, 0.07970044153470345, 0.07969951357703992, 0.07969858598979623, 0.07969765877279714, 0.07969673192586749, 0.0796958054488321, 0.07969487934151612, 0.0796939536037446, 0.07969302823534279, 0.07969210323613607, 0.07969117860594997, 0.07969025434461002, 0.07968933045194192, 0.07968840692777153, 0.07968748377192474, 0.07968656098422755, 0.07968563856450618, 0.07968471651258681, 0.07968379482829588, 0.07968287351145982, 0.07968195256190523, 0.07968103197945882, 0.07968011176394738, 0.07967919191519787, 0.07967827243303727, 0.07967735331729278, 0.07967643456779165, 0.0796755161843612, 0.0796745981668289, 0.07967368051502237, 0.07967276322876929, 0.07967184630789746, 0.07967092975223479, 0.07967001356160928, 0.07966909773584915, 0.07966818227478256, 0.0796672671782379, 0.07966635244604356, 0.07966543807802817, 0.07966452407402042, 0.07966361043384908, 0.07966269715734303, 0.07966178424433126, 0.07966087169464293, 0.07965995950810727, 0.07965904768455355, 0.07965813622381125, 0.07965722512570989, 0.07965631439007917, 0.07965540401674881, 0.07965449400554869, 0.07965358435630884, 0.07965267506885926, 0.07965176614303017, 0.07965085757865194, 0.07964994937555492, 0.0796490415335696, 0.07964813405252667, 0.07964722693225684, 0.07964632017259092, 0.0796454137733599, 0.07964450773439481, 0.07964360205552683, 0.07964269673658718, 0.07964179177740728, 0.07964088717781856, 0.07963998293765265, 0.07963907905674127, 0.07963817553491614, 0.07963727237200922, 0.07963636956785251, 0.07963546712227816, 0.07963456503511832, 0.07963366330620535, 0.07963276193537171, 0.07963186092244992, 0.07963096026727262, 0.0796300599696726, 0.07962916002948268, 0.07962826044653587, 0.07962736122066513, 0.07962646235170379, 0.07962556383948496, 0.07962466568384212, 0.0796237678846088, 0.0796228704416185, 0.07962197335470492, 0.07962107662370195, 0.0796201802484434, 0.07961928422876335, 0.07961838856449588, 0.0796174932554752, 0.07961659830153565, 0.07961570370251166, 0.07961480945823778, 0.07961391556854858, 0.07961302203327889, 0.07961212885226344, 0.07961123602533729, 0.07961034355233544, 0.07960945143309302, 0.0796085596674453, 0.07960766825522768, 0.07960677719627555, 0.07960588649042456, 0.0796049961375103, 0.07960410613736858, 0.07960321648983529, 0.07960232719474636, 0.07960143825193791, 0.07960054966124613, 0.07959966142250724, 0.0795987735355577, 0.07959788600023394, 0.07959699881637262, 0.07959611198381036, 0.079595225502384, 0.0795943393719304, 0.07959345359228664, 0.07959256816328977, 0.07959168308477693, 0.07959079835658549, 0.07958991397855288, 0.07958902995051653, 0.07958814627231411, 0.07958726294378332, 0.07958637996476194, 0.07958549733508789, 0.07958461505459924, 0.07958373312313402, 0.07958285154053048, 0.0795819703066269, 0.07958108942126181, 0.07958020888427361, 0.07957932869550094, 0.07957844885478253, 0.0795775693619572, 0.07957669021686382, 0.07957581141934149, 0.07957493296922927, 0.07957405486636637, 0.07957317711059216, 0.07957229970174597, 0.07957142263966742, 0.07957054592419603, 0.07956966955517154, 0.07956879353243383, 0.07956791785582273, 0.07956704252517832, 0.07956616754034065, 0.07956529290114996, 0.07956441860744656, 0.07956354465907083, 0.07956267105586334, 0.07956179779766465, 0.07956092488431546, 0.0795600523156566, 0.07955918009152896, 0.07955830821177348, 0.07955743667623139, 0.07955656548474378, 0.07955569463715197, 0.07955482413329737, 0.07955395397302148, 0.07955308415616583, 0.07955221468257215, 0.07955134555208222, 0.07955047676453794, 0.07954960831978122, 0.07954874021765422, 0.07954787245799906, 0.07954700504065804, 0.07954613796547351, 0.0795452712322879, 0.0795444048409439, 0.079543538791284, 0.07954267308315106, 0.07954180771638793, 0.07954094269083754, 0.07954007800634293, 0.07953921366274723, 0.07953834965989372, 0.07953748599762571, 0.0795366226757866, 0.07953575969422001, 0.07953489705276948, 0.07953403475127874, 0.07953317278959164, 0.07953231116755206, 0.07953144988500402, 0.07953058894179163, 0.0795297283377591, 0.07952886807275068, 0.07952800814661082, 0.07952714855918394, 0.07952628931031466, 0.07952543039984766, 0.07952457182762768, 0.07952371359349963, 0.07952285569730845, 0.07952199813889918, 0.07952114091811702, 0.07952028403480711, 0.0795194274888149, 0.0795185712799858, 0.0795177154081653, 0.07951685987319905, 0.07951600467493276, 0.07951514981321223, 0.07951429528788341, 0.07951344109879228, 0.0795125872457849, 0.07951173372870753, 0.07951088054740638, 0.07951002770172785, 0.07950917519151843, 0.07950832301662462, 0.0795074711768932, 0.0795066196721708, 0.07950576850230434, 0.07950491766714071, 0.0795040671665269, 0.07950321700031018, 0.07950236716833761, 0.07950151767045661, 0.0795006685065145, 0.07949981967635884, 0.07949897117983715, 0.07949812301679716, 0.0794972751870867, 0.07949642769055354, 0.07949558052704563, 0.07949473369641108, 0.079493887198498, 0.07949304103315463, 0.07949219520022935, 0.07949134969957049, 0.07949050453102659, 0.07948965969444631, 0.07948881518967825, 0.07948797101657128, 0.07948712717497425, 0.07948628366473612, 0.07948544048570594, 0.07948459763773291, 0.07948375512066623, 0.07948291293435522, 0.0794820710786494, 0.07948122955339816, 0.07948038835845124, 0.0794795474936582, 0.0794787069588689, 0.07947786675393327, 0.07947702687870123, 0.07947618733302281, 0.07947534811674824, 0.07947450922972774, 0.0794736706718116, 0.07947283244285028, 0.07947199454269431, 0.07947115697119424, 0.07947031972820082, 0.0794694828135648, 0.07946864622713709, 0.07946780996876862, 0.07946697403831048, 0.07946613843561379, 0.07946530316052976, 0.0794644682129098, 0.07946363359260523, 0.07946279929946759, 0.07946196533334852, 0.07946113169409962, 0.07946029838157266, 0.07945946539561963, 0.0794586327360923, 0.07945780040284284, 0.07945696839572333, 0.07945613671458596, 0.07945530535928311, 0.07945447432966708, 0.07945364362559042, 0.07945281324690569, 0.07945198319346553, 0.07945115346512266, 0.07945032406172997, 0.07944949498314043, 0.07944866622920695, 0.07944783779978264, 0.07944700969472074, 0.07944618191387451, 0.07944535445709729, 0.07944452732424258, 0.07944370051516388, 0.07944287402971484, 0.07944204786774915, 0.07944122202912064, 0.07944039651368318, 0.07943957132129076, 0.07943874645179742, 0.07943792190505738, 0.07943709768092477, 0.07943627377925405, 0.07943545019989953, 0.07943462694271575, 0.0794338040075573, 0.07943298139427882, 0.07943215910273511, 0.07943133713278103, 0.07943051548427146, 0.07942969415706141, 0.07942887315100611, 0.07942805246596063, 0.07942723210178029, 0.07942641205832045, 0.0794255923354366, 0.0794247729329842, 0.07942395385081896, 0.07942313508879653, 0.07942231664677275, 0.07942149852460346, 0.07942068072214468, 0.07941986323925242, 0.07941904607578282, 0.0794182292315921, 0.0794174127065366, 0.07941659650047268, 0.07941578061325687, 0.07941496504474571, 0.07941414979479584, 0.079413334863264, 0.07941252025000703, 0.07941170595488178, 0.07941089197774534, 0.0794100783184547, 0.07940926497686705, 0.07940845195283963, 0.07940763924622977, 0.07940682685689493, 0.07940601478469256, 0.0794052030294802, 0.07940439159111563, 0.0794035804694565, 0.0794027696643607, 0.07940195917568614, 0.07940114900329084, 0.07940033914703286, 0.07939952960677035, 0.07939872038236166, 0.07939791147366504, 0.07939710288053892, 0.07939629460284188, 0.0793954866404324, 0.07939467899316924, 0.07939387166091112, 0.07939306464351692, 0.0793922579408455, 0.07939145155275595, 0.0793906454791073, 0.07938983971975874, 0.0793890342745695, 0.07938822914339896, 0.07938742432610654, 0.07938661982255173, 0.07938581563259413, 0.0793850117560934, 0.07938420819290931, 0.07938340494290166, 0.0793826020059304, 0.07938179938185551, 0.07938099707053708, 0.07938019507183529, 0.07937939338561037, 0.07937859201172268, 0.07937779095003263, 0.07937699020040066, 0.07937618976268739, 0.07937538963675345, 0.07937458982245961, 0.07937379031966671, 0.07937299112823556, 0.07937219224802727, 0.07937139367890278, 0.07937059542072335, 0.07936979747335016, 0.0793689998366445, 0.07936820251046776, 0.07936740549468148, 0.07936660878914716, 0.07936581239372639, 0.07936501630828101, 0.07936422053267272, 0.07936342506676343, 0.07936262991041508, 0.0793618350634897, 0.07936104052584947, 0.07936024629735655, 0.07935945237787323, 0.07935865876726184, 0.07935786546538487, 0.0793570724721048, 0.07935627978728427, 0.07935548741078591, 0.07935469534247257, 0.07935390358220701, 0.07935311212985219, 0.07935232098527113, 0.07935153014832688, 0.07935073961888262, 0.07934994939680153, 0.07934915948194705, 0.07934836987418252, 0.0793475805733714, 0.07934679157937731, 0.07934600289206381, 0.07934521451129473, 0.07934442643693371, 0.07934363866884477, 0.07934285120689184, 0.0793420640509389, 0.0793412772008501, 0.0793404906564897, 0.07933970441772185, 0.07933891848441096, 0.0793381328564215, 0.0793373475336179, 0.07933656251586485, 0.07933577780302689, 0.0793349933949689, 0.0793342092915556, 0.07933342549265193, 0.07933264199812291, 0.07933185880783354, 0.07933107592164897, 0.07933029333943446, 0.07932951106105524, 0.07932872908637673, 0.07932794741526436, 0.07932716604758368, 0.07932638498320026, 0.07932560422197976, 0.07932482376378801, 0.07932404360849084, 0.07932326375595412, 0.07932248420604389, 0.07932170495862619, 0.07932092601356715, 0.07932014737073306, 0.0793193690299902, 0.0793185909912049, 0.07931781325424368, 0.07931703581897306, 0.07931625868525966, 0.0793154818529701, 0.07931470532197124, 0.07931392909212988, 0.07931315316331292, 0.07931237753538735, 0.07931160220822035, 0.07931082718167895, 0.07931005245563041, 0.07930927802994202, 0.07930850390448121, 0.07930773007911539, 0.07930695655371209, 0.07930618332813892, 0.07930541040226362, 0.07930463777595385, 0.07930386544907753, 0.07930309342150255, 0.07930232169309685, 0.07930155026372858, 0.07930077913326582, 0.07930000830157677, 0.0792992377685298, 0.07929846753399318, 0.07929769759783542, 0.07929692795992502, 0.07929615862013056, 0.07929538957832072, 0.07929462083436425, 0.07929385238812997, 0.07929308423948675, 0.07929231638830356, 0.0792915488344495, 0.07929078157779361, 0.07929001461820515, 0.07928924795555334, 0.07928848158970755, 0.07928771552053722, 0.07928694974791178, 0.07928618427170088, 0.07928541909177411, 0.07928465420800115, 0.07928388962025189, 0.07928312532839615, 0.07928236133230386, 0.07928159763184503, 0.07928083422688975, 0.07928007111730824, 0.07927930830297066, 0.07927854578374738, 0.07927778355950875, 0.07927702163012523, 0.07927625999546735, 0.07927549865540576, 0.07927473760981109, 0.07927397685855411, 0.07927321640150567, 0.07927245623853668, 0.07927169636951807, 0.07927093679432093, 0.07927017751281636, 0.07926941852487555, 0.07926865983036975, 0.0792679014291704, 0.07926714332114881, 0.07926638550617653, 0.07926562798412505, 0.07926487075486612, 0.07926411381827132, 0.07926335717421253, 0.07926260082256155, 0.0792618447631903, 0.07926108899597083, 0.07926033352077522, 0.07925957833747553, 0.07925882344594404, 0.079258068846053, 0.07925731453767482, 0.07925656052068189, 0.07925580679494676, 0.07925505336034197, 0.0792543002167402, 0.07925354736401413, 0.07925279480203662, 0.07925204253068048, 0.07925129054981866, 0.0792505388593242, 0.07924978745907015, 0.0792490363489297, 0.07924828552877602, 0.07924753499848249, 0.07924678475792242, 0.07924603480696925, 0.07924528514549653, 0.0792445357733778, 0.07924378669048675, 0.07924303789669711, 0.07924228939188264, 0.07924154117591728, 0.07924079324867489, 0.0792400456100295, 0.0792392982598552, 0.07923855119802622, 0.0792378044244167, 0.07923705793890094, 0.0792363117413533, 0.07923556583164831, 0.07923482020966037, 0.07923407487526408, 0.07923332982833413, 0.07923258506874523, 0.07923184059637216, 0.07923109641108976, 0.079230352512773, 0.07922960890129684, 0.07922886557653638, 0.0792281225383668, 0.07922737978666324, 0.07922663732130106, 0.0792258951421555, 0.07922515324910208, 0.0792244116420163, 0.07922367032077363, 0.07922292928524981, 0.07922218853532045, 0.0792214480708614, 0.07922070789174845, 0.07921996799785753, 0.07921922838906464, 0.07921848906524577, 0.07921775002627714, 0.07921701127203484, 0.07921627280239518, 0.0792155346172345, 0.07921479671642913, 0.0792140590998556, 0.07921332176739046, 0.07921258471891025, 0.0792118479542917, 0.0792111114734115, 0.07921037527614655, 0.07920963936237362, 0.07920890373196976, 0.0792081683848119, 0.07920743332077718, 0.07920669853974273, 0.07920596404158581, 0.07920522982618369, 0.07920449589341375, 0.07920376224315337, 0.07920302887528011, 0.07920229578967153, 0.07920156298620519, 0.07920083046475886, 0.07920009822521033, 0.0791993662674374, 0.07919863459131798, 0.07919790319673005, 0.07919717208355168, 0.07919644125166092, 0.079195710700936, 0.07919498043125517, 0.0791942504424967, 0.07919352073453904, 0.07919279130726058, 0.07919206216053987, 0.07919133329425546, 0.07919060470828602, 0.07918987640251034, 0.07918914837680711, 0.07918842063105519, 0.07918769316513359, 0.07918696597892123, 0.07918623907229717, 0.07918551244514054, 0.07918478609733058, 0.07918406002874644, 0.07918333423926756, 0.07918260872877328, 0.07918188349714303, 0.07918115854425639, 0.07918043386999293, 0.07917970947423228, 0.07917898535685423, 0.0791782615177385, 0.07917753795676503, 0.07917681467381367, 0.07917609166876444, 0.07917536894149742, 0.07917464649189272, 0.07917392431983054, 0.07917320242519109, 0.07917248080785474, 0.0791717594677019, 0.07917103840461295, 0.07917031761846849, 0.07916959710914905, 0.07916887687653532, 0.07916815692050802, 0.0791674372409479, 0.07916671783773584, 0.07916599871075276, 0.07916527985987962, 0.07916456128499749, 0.07916384298598751, 0.0791631249627308, 0.07916240721510863, 0.07916168974300235, 0.07916097254629324, 0.07916025562486283, 0.0791595389785926, 0.07915882260736411, 0.07915810651105899, 0.079157390689559, 0.07915667514274584, 0.07915595987050138, 0.07915524487270749, 0.07915453014924614, 0.0791538156999994, 0.07915310152484928, 0.079152387623678, 0.07915167399636779, 0.07915096064280087, 0.07915024756285965, 0.07914953475642654, 0.07914882222338396, 0.07914810996361456, 0.07914739797700086, 0.07914668626342555, 0.07914597482277141, 0.07914526365492122, 0.0791445527597578, 0.07914384213716415, 0.0791431317870232, 0.07914242170921809, 0.07914171190363187, 0.07914100237014775, 0.07914029310864899, 0.07913958411901892, 0.07913887540114087, 0.0791381669548983, 0.07913745878017475, 0.07913675087685376, 0.07913604324481892, 0.07913533588395404, 0.07913462879414275, 0.07913392197526899, 0.07913321542721655, 0.07913250914986948, 0.07913180314311169, 0.07913109740682735, 0.07913039194090052, 0.07912968674521552, 0.07912898181965647, 0.0791282771641078, 0.07912757277845386, 0.07912686866257912, 0.07912616481636814, 0.07912546123970539, 0.07912475793247567, 0.07912405489456356, 0.07912335212585392, 0.07912264962623149, 0.07912194739558123, 0.07912124543378812, 0.07912054374073711, 0.07911984231631337, 0.07911914116040197, 0.07911844027288813, 0.07911773965365719, 0.07911703930259442, 0.07911633921958522, 0.07911563940451506, 0.07911493985726946, 0.07911424057773402, 0.07911354156579435, 0.07911284282133618, 0.07911214434424531, 0.07911144613440747, 0.07911074819170869, 0.07911005051603481, 0.07910935310727191, 0.07910865596530607, 0.07910795909002338, 0.07910726248131007, 0.07910656613905243, 0.07910587006313677, 0.07910517425344943, 0.07910447870987693, 0.07910378343230576, 0.07910308842062247, 0.07910239367471372, 0.07910169919446614, 0.07910100497976655, 0.07910031103050177, 0.07909961734655865, 0.07909892392782414, 0.07909823077418524, 0.07909753788552899, 0.07909684526174254, 0.07909615290271305, 0.07909546080832781, 0.07909476897847408, 0.07909407741303924, 0.0790933861119107, 0.079092695074976, 0.07909200430212258, 0.0790913137932382, 0.0790906235482104, 0.079089933566927, 0.07908924384927571, 0.07908855439514444, 0.07908786520442107, 0.07908717627699358, 0.07908648761275, 0.07908579921157848, 0.07908511107336706, 0.07908442319800403, 0.07908373558537768, 0.07908304823537625, 0.07908236114788822, 0.07908167432280203, 0.07908098776000616, 0.07908030145938919, 0.07907961542083979, 0.0790789296442466, 0.07907824412949843, 0.07907755887648406, 0.07907687388509234, 0.07907618915521222, 0.07907550468673272, 0.07907482047954283, 0.07907413653353172, 0.07907345284858855, 0.0790727694246025, 0.0790720862614629, 0.07907140335905913, 0.07907072071728054, 0.07907003833601658, 0.07906935621515686, 0.0790686743545909, 0.07906799275420835, 0.07906731141389892, 0.07906663033355237, 0.07906594951305852, 0.07906526895230727, 0.07906458865118854, 0.07906390860959234, 0.07906322882740872, 0.07906254930452776, 0.07906187004083973, 0.07906119103623475, 0.07906051229060318, 0.07905983380383534, 0.07905915557582166, 0.07905847760645258, 0.07905779989561866, 0.07905712244321045, 0.07905644524911866, 0.07905576831323388, 0.07905509163544697, 0.07905441521564865, 0.07905373905372992, 0.07905306314958162, 0.07905238750309475, 0.07905171211416037, 0.0790510369826696, 0.07905036210851361, 0.07904968749158361, 0.07904901313177089, 0.07904833902896675, 0.07904766518306265, 0.07904699159395003, 0.07904631826152038, 0.07904564518566524, 0.0790449723662763, 0.07904429980324522, 0.07904362749646378, 0.07904295544582371, 0.07904228365121693, 0.07904161211253531, 0.07904094082967085, 0.07904026980251558, 0.07903959903096157, 0.07903892851490099, 0.07903825825422604, 0.07903758824882892, 0.079036918498602, 0.0790362490034377, 0.07903557976322838, 0.07903491077786652, 0.07903424204724473, 0.07903357357125557, 0.07903290534979167, 0.07903223738274578, 0.07903156967001068, 0.0790309022114792, 0.0790302350070442, 0.07902956805659864, 0.07902890136003551, 0.07902823491724789, 0.07902756872812883, 0.07902690279257159, 0.07902623711046933, 0.07902557168171531, 0.07902490650620296, 0.07902424158382558, 0.07902357691447666, 0.0790229124980497, 0.07902224833443829, 0.07902158442353603, 0.07902092076523658, 0.07902025735943367, 0.07901959420602113, 0.07901893130489276, 0.07901826865594247, 0.07901760625906422, 0.07901694411415204, 0.07901628222109996, 0.07901562057980212, 0.07901495919015272, 0.07901429805204595, 0.07901363716537615, 0.07901297653003762, 0.07901231614592474, 0.0790116560129321, 0.07901099613095405, 0.07901033649988529, 0.07900967711962031, 0.07900901799005391, 0.07900835911108076, 0.07900770048259563, 0.07900704210449341, 0.07900638397666901, 0.07900572609901736, 0.07900506847143346, 0.0790044110938124, 0.07900375396604926, 0.07900309708803924, 0.07900244045967764, 0.0790017840808596, 0.07900112795148055, 0.0790004720714359, 0.07899981644062108, 0.0789991610589316, 0.078998505926263, 0.0789978510425109, 0.07899719640757097, 0.07899654202133892, 0.07899588788371056, 0.07899523399458168, 0.07899458035384824, 0.0789939269614061, 0.0789932738171513, 0.07899262092097988, 0.07899196827278797, 0.07899131587247168, 0.07899066371992727, 0.07899001181505096, 0.07898936015773915, 0.0789887087478881, 0.07898805758539433, 0.07898740667015434, 0.0789867560020646, 0.07898610558102172, 0.07898545540692238, 0.07898480547966326, 0.07898415579914107, 0.07898350636525268, 0.07898285717789497, 0.07898220823696478, 0.07898155954235914, 0.07898091109397502, 0.07898026289170952, 0.07897961493545984, 0.07897896722512303, 0.07897831976059642, 0.0789776725417773, 0.078977025568563, 0.07897637884085086, 0.0789757323585384, 0.07897508612152315, 0.07897444012970257, 0.07897379438297436, 0.07897314888123615, 0.07897250362438563, 0.07897185861232063, 0.07897121384493892, 0.0789705693221384, 0.07896992504381703, 0.0789692810098727, 0.07896863722020354, 0.07896799367470761, 0.07896735037328304, 0.07896670731582803, 0.07896606450224086, 0.07896542193241976, 0.07896477960626315, 0.0789641375236694, 0.07896349568453698, 0.07896285408876437, 0.07896221273625016, 0.07896157162689303, 0.0789609307605915, 0.07896029013724443, 0.07895964975675052, 0.0789590096190086, 0.07895836972391757, 0.07895773007137637, 0.07895709066128397, 0.07895645149353937, 0.0789558125680417, 0.07895517388469009, 0.07895453544338371, 0.07895389724402185, 0.07895325928650376, 0.07895262157072883, 0.0789519840965964, 0.07895134686400596, 0.07895070987285699, 0.0789500731230491, 0.07894943661448187, 0.07894880034705493, 0.07894816432066798, 0.07894752853522084, 0.0789468929906133, 0.07894625768674521, 0.0789456226235165, 0.07894498780082713, 0.07894435321857715, 0.07894371887666661, 0.07894308477499563, 0.07894245091346437, 0.07894181729197312, 0.07894118391042206, 0.0789405507687116, 0.07893991786674207, 0.07893928520441396, 0.07893865278162769, 0.07893802059828381, 0.07893738865428294, 0.07893675694952566, 0.07893612548391267, 0.07893549425734477, 0.07893486326972271, 0.07893423252094728, 0.07893360201091944, 0.07893297173954011, 0.07893234170671029, 0.07893171191233095, 0.0789310823563033, 0.07893045303852841, 0.07892982395890753, 0.07892919511734182, 0.07892856651373266, 0.07892793814798138, 0.07892731001998934, 0.07892668212965803, 0.07892605447688891, 0.07892542706158362, 0.0789247998836436, 0.07892417294297063, 0.0789235462394664, 0.0789229197730326, 0.0789222935435711, 0.07892166755098369, 0.07892104179517227, 0.07892041627603888, 0.07891979099348542, 0.078919165947414, 0.0789185411377267, 0.07891791656432567, 0.07891729222711316, 0.07891666812599134, 0.07891604426086254, 0.07891542063162917, 0.07891479723819357, 0.07891417408045819, 0.07891355115832556, 0.07891292847169823, 0.0789123060204788, 0.0789116838045699, 0.07891106182387424, 0.07891044007829458, 0.07890981856773369, 0.07890919729209447, 0.07890857625127974, 0.07890795544519254, 0.07890733487373579, 0.07890671453681262, 0.07890609443432602, 0.07890547456617922, 0.07890485493227538, 0.0789042355325177, 0.07890361636680958, 0.07890299743505427, 0.0789023787371552, 0.07890176027301579, 0.07890114204253956, 0.07890052404563003, 0.07889990628219078, 0.07889928875212547, 0.07889867145533774, 0.07889805439173136, 0.07889743756121011, 0.07889682096367782, 0.07889620459903837, 0.07889558846719569, 0.07889497256805375, 0.07889435690151658, 0.07889374146748826, 0.07889312626587293, 0.07889251129657475, 0.07889189655949791, 0.07889128205454675, 0.07889066778162548, 0.0788900537406386, 0.0788894399314904, 0.07888882635408546, 0.07888821300832818, 0.07888759989412322, 0.0788869870113751, 0.07888637435998856, 0.07888576193986824, 0.07888514975091891, 0.07888453779304536, 0.0788839260661525, 0.07888331457014515, 0.07888270330492833, 0.078882092270407, 0.07888148146648614, 0.07888087089307093, 0.07888026055006647, 0.07887965043737798, 0.07887904055491063, 0.07887843090256973, 0.0788778214802606, 0.07887721228788865, 0.07887660332535928, 0.07887599459257799, 0.07887538608945027, 0.07887477781588169, 0.07887416977177784, 0.07887356195704442, 0.07887295437158716, 0.07887234701531175, 0.07887173988812404, 0.0788711329899299, 0.07887052632063521, 0.07886991988014587, 0.07886931366836794, 0.07886870768520746, 0.07886810193057046, 0.07886749640436314, 0.07886689110649164, 0.07886628603686222, 0.07886568119538113, 0.07886507658195473, 0.07886447219648936, 0.07886386803889145, 0.07886326410906745, 0.07886266040692393, 0.0788620569323674, 0.07886145368530446, 0.07886085066564179, 0.07886024787328609, 0.07885964530814406, 0.0788590429701226, 0.07885844085912844, 0.07885783897506848, 0.07885723731784973, 0.07885663588737911, 0.07885603468356366, 0.07885543370631047, 0.07885483295552662, 0.0788542324311193, 0.07885363213299577, 0.07885303206106321, 0.07885243221522897, 0.07885183259540042, 0.0788512332014849, 0.0788506340333899, 0.07885003509102294, 0.07884943637429145, 0.07884883788310311, 0.07884823961736555, 0.07884764157698641, 0.07884704376187344, 0.07884644617193437, 0.07884584880707703, 0.07884525166720932, 0.07884465475223905, 0.07884405806207433, 0.07884346159662299, 0.07884286535579317, 0.07884226933949294, 0.07884167354763046, 0.07884107798011389, 0.07884048263685144, 0.0788398875177514, 0.07883929262272207, 0.0788386979516719, 0.07883810350450919, 0.07883750928114248, 0.07883691528148018, 0.07883632150543092, 0.07883572795290328, 0.07883513462380588, 0.07883454151804738, 0.0788339486355366, 0.0788333559761822, 0.07883276353989306, 0.07883217132657805, 0.07883157933614611, 0.07883098756850611, 0.07883039602356708, 0.07882980470123813, 0.07882921360142826, 0.07882862272404666, 0.07882803206900256, 0.07882744163620509, 0.07882685142556356, 0.07882626143698729, 0.07882567167038566, 0.07882508212566806, 0.07882449280274396, 0.07882390370152284, 0.07882331482191424, 0.07882272616382774, 0.07882213772717299, 0.07882154951185964, 0.07882096151779748, 0.07882037374489616, 0.0788197861930656, 0.0788191988622156, 0.07881861175225609, 0.07881802486309698, 0.07881743819464827, 0.07881685174682002, 0.0788162655195223, 0.0788156795126652, 0.0788150937261589, 0.07881450815991363, 0.07881392281383966, 0.07881333768784723, 0.07881275278184675, 0.07881216809574855, 0.07881158362946313, 0.07881099938290091, 0.07881041535597243, 0.07880983154858826, 0.07880924796065902, 0.07880866459209536, 0.07880808144280796, 0.07880749851270759, 0.07880691580170503, 0.07880633330971107, 0.07880575103663663, 0.0788051689823926, 0.07880458714688998, 0.07880400553003974, 0.07880342413175295, 0.07880284295194069, 0.0788022619905141, 0.0788016812473844, 0.07880110072246276, 0.07880052041566049, 0.07879994032688885, 0.07879936045605924, 0.07879878080308306, 0.07879820136787175, 0.07879762215033675, 0.07879704315038966, 0.07879646436794205, 0.07879588580290547, 0.07879530745519163, 0.07879472932471224, 0.07879415141137902, 0.07879357371510379, 0.07879299623579836, 0.07879241897337462, 0.07879184192774451, 0.07879126509881995, 0.07879068848651301, 0.07879011209073565, 0.07878953591140006, 0.0787889599484183, 0.07878838420170262, 0.07878780867116514, 0.07878723335671825, 0.07878665825827416, 0.07878608337574533, 0.07878550870904405, 0.07878493425808276, 0.07878436002277404, 0.07878378600303032, 0.0787832121987642, 0.07878263860988828, 0.07878206523631524, 0.07878149207795776, 0.07878091913472854, 0.0787803464065404, 0.07877977389330618, 0.0787792015949387, 0.0787786295113509, 0.07877805764245571, 0.07877748598816617, 0.07877691454839524, 0.07877634332305604, 0.07877577231206168, 0.07877520151532537, 0.07877463093276023, 0.0787740605642796, 0.07877349040979671, 0.0787729204692249, 0.07877235074247757, 0.07877178122946815, 0.07877121193011002, 0.07877064284431676, 0.07877007397200185, 0.07876950531307894, 0.07876893686746167, 0.07876836863506363, 0.07876780061579856, 0.07876723280958027, 0.07876666521632249, 0.07876609783593905, 0.07876553066834391, 0.07876496371345096, 0.07876439697117411, 0.07876383044142744, 0.07876326412412496, 0.07876269801918075, 0.07876213212650894, 0.07876156644602375, 0.07876100097763937, 0.07876043572127006, 0.07875987067683006, 0.07875930584423382, 0.0787587412233956, 0.07875817681422992, 0.0787576126166512, 0.07875704863057396, 0.07875648485591276, 0.07875592129258217, 0.0787553579404968, 0.07875479479957133, 0.07875423186972054, 0.07875366915085913, 0.07875310664290187, 0.07875254434576366, 0.07875198225935935, 0.07875142038360386, 0.07875085871841214, 0.07875029726369917, 0.0787497360193801, 0.0787491749853699, 0.07874861416158377, 0.07874805354793679, 0.07874749314434426, 0.07874693295072137, 0.07874637296698349, 0.07874581319304585, 0.07874525362882384, 0.078744694274233, 0.07874413512918862, 0.0787435761936063, 0.07874301746740149, 0.07874245895048985, 0.07874190064278695, 0.07874134254420846, 0.07874078465467009, 0.07874022697408758, 0.0787396695023767, 0.07873911223945322, 0.07873855518523312, 0.07873799833963219, 0.07873744170256647, 0.07873688527395187, 0.07873632905370442, 0.07873577304174022, 0.07873521723797536, 0.07873466164232601, 0.07873410625470828, 0.0787335510750385, 0.07873299610323282, 0.07873244133920768, 0.07873188678287933, 0.07873133243416419, 0.0787307782929787, 0.07873022435923928, 0.0787296706328625, 0.07872911711376489, 0.07872856380186301, 0.0787280106970735, 0.07872745779931307, 0.07872690510849836, 0.0787263526245462, 0.07872580034737331, 0.07872524827689659, 0.07872469641303283, 0.07872414475569896, 0.07872359330481199, 0.07872304206028884, 0.07872249102204656, 0.07872194019000224, 0.07872138956407294, 0.07872083914417591, 0.07872028893022821, 0.07871973892214715, 0.07871918911984997, 0.07871863952325397, 0.07871809013227651, 0.07871754094683502, 0.07871699196684687, 0.07871644319222951, 0.07871589462290048, 0.07871534625877734, 0.07871479809977763, 0.07871425014581905, 0.07871370239681919, 0.07871315485269577, 0.07871260751336656, 0.07871206037874927, 0.07871151344876182, 0.078710966723322, 0.07871042020234775, 0.07870987388575697, 0.07870932777346766, 0.0787087818653979, 0.0787082361614656, 0.07870769066158902, 0.07870714536568618, 0.0787066002736753, 0.07870605538547458, 0.07870551070100228, 0.07870496622017668, 0.07870442194291614, 0.078703877869139, 0.07870333399876368, 0.07870279033170864, 0.07870224686789236, 0.07870170360723332, 0.07870116054965012, 0.07870061769506141, 0.07870007504338578, 0.07869953259454189, 0.07869899034844853, 0.07869844830502441, 0.07869790646418835, 0.07869736482585912, 0.07869682338995568, 0.0786962821563969, 0.07869574112510173, 0.07869520029598918, 0.07869465966897826, 0.07869411924398807, 0.07869357902093768, 0.07869303899974625, 0.07869249918033296, 0.07869195956261704, 0.07869142014651771, 0.07869088093195437, 0.07869034191884623, 0.07868980310711275, 0.07868926449667328, 0.07868872608744734, 0.07868818787935437, 0.07868764987231391, 0.07868711206624557, 0.0786865744610689, 0.07868603705670354, 0.07868549985306922, 0.07868496285008561, 0.07868442604767249, 0.0786838894457497, 0.07868335304423697, 0.07868281684305424, 0.07868228084212144, 0.07868174504135844, 0.0786812094406853, 0.07868067404002199, 0.07868013883928862, 0.07867960383840526, 0.07867906903729206, 0.07867853443586917, 0.07867800003405681, 0.07867746583177525, 0.07867693182894478, 0.0786763980254857, 0.07867586442131838, 0.07867533101636325, 0.07867479781054071, 0.07867426480377127, 0.07867373199597542, 0.07867319938707372, 0.07867266697698676, 0.07867213476563523, 0.07867160275293965, 0.07867107093882085, 0.0786705393231995, 0.0786700079059964, 0.07866947668713238, 0.07866894566652828, 0.078668414844105, 0.07866788421978342, 0.07866735379348459, 0.0786668235651294, 0.07866629353463897, 0.07866576370193439, 0.07866523406693669, 0.07866470462956712, 0.07866417538974674, 0.0786636463473969, 0.07866311750243879, 0.07866258885479377, 0.07866206040438309, 0.07866153215112817, 0.07866100409495046, 0.07866047623577134, 0.07865994857351233, 0.07865942110809496, 0.07865889383944073, 0.07865836676747129, 0.07865783989210831, 0.07865731321327334, 0.07865678673088818, 0.07865626044487453, 0.0786557343551542, 0.07865520846164899, 0.07865468276428077, 0.07865415726297141, 0.07865363195764281, 0.07865310684821698, 0.07865258193461591, 0.07865205721676165, 0.0786515326945762, 0.07865100836798175, 0.07865048423690045, 0.07864996030125443, 0.0786494365609659, 0.07864891301595718, 0.07864838966615051, 0.07864786651146825, 0.07864734355183277, 0.07864682078716645, 0.07864629821739172, 0.07864577584243106, 0.07864525366220704, 0.07864473167664209, 0.07864420988565891, 0.07864368828918007, 0.07864316688712819, 0.07864264567942601, 0.07864212466599627, 0.07864160384676169, 0.07864108322164512, 0.07864056279056933, 0.07864004255345727, 0.07863952251023178, 0.07863900266081587, 0.07863848300513246, 0.07863796354310466, 0.0786374442746554, 0.07863692519970783, 0.07863640631818508, 0.07863588763001034, 0.07863536913510676, 0.07863485083339754, 0.07863433272480608, 0.07863381480925553, 0.07863329708666934, 0.07863277955697084, 0.07863226222008343, 0.07863174507593063, 0.07863122812443582, 0.0786307113655226, 0.07863019479911451, 0.0786296784251351, 0.07862916224350805, 0.07862864625415696, 0.0786281304570056, 0.07862761485197767, 0.07862709943899694, 0.07862658421798721, 0.07862606918887231, 0.07862555435157612, 0.07862503970602258, 0.0786245252521356, 0.0786240109898392, 0.07862349691905736, 0.07862298303971416, 0.07862246935173366, 0.07862195585504002, 0.07862144254955733, 0.07862092943520987, 0.07862041651192186, 0.0786199037796175, 0.07861939123822113, 0.07861887888765708, 0.07861836672784972, 0.07861785475872346, 0.07861734298020276, 0.07861683139221202, 0.07861631999467585, 0.07861580878751873, 0.07861529777066525, 0.07861478694404007, 0.07861427630756777, 0.07861376586117308, 0.07861325560478073, 0.07861274553831546, 0.07861223566170206, 0.07861172597486535, 0.07861121647773014, 0.07861070717022146, 0.07861019805226413, 0.07860968912378315, 0.07860918038470355, 0.07860867183495028, 0.07860816347444846, 0.0786076553031232, 0.07860714732089964, 0.07860663952770298, 0.07860613192345836, 0.07860562450809107, 0.07860511728152636, 0.07860461024368957, 0.07860410339450602, 0.07860359673390112, 0.07860309026180026, 0.07860258397812889, 0.07860207788281254, 0.07860157197577668, 0.07860106625694686, 0.07860056072624869, 0.07860005538360781, 0.07859955022894984, 0.07859904526220049, 0.07859854048328548, 0.07859803589213055, 0.07859753148866158, 0.07859702727280425, 0.07859652324448455, 0.07859601940362833, 0.07859551575016153, 0.07859501228401011, 0.07859450900510005, 0.07859400591335744, 0.07859350300870828, 0.07859300029107871, 0.07859249776039486, 0.0785919954165829, 0.07859149325956907, 0.07859099128927952, 0.07859048950564058, 0.07858998790857857, 0.0785894864980198, 0.07858898527389065, 0.07858848423611756, 0.07858798338462693, 0.07858748271934524, 0.078586982240199, 0.07858648194711476, 0.07858598184001912, 0.07858548191883867, 0.07858498218350006, 0.07858448263392995, 0.0785839832700551, 0.07858348409180219, 0.078582985099098, 0.07858248629186942, 0.07858198767004325, 0.0785814892335464, 0.0785809909823057, 0.07858049291624819, 0.07857999503530085, 0.0785794973393906, 0.07857899982844457, 0.07857850250238985, 0.07857800536115352, 0.07857750840466275, 0.07857701163284467, 0.07857651504562659, 0.07857601864293566, 0.07857552242469922, 0.07857502639084459, 0.07857453054129908, 0.07857403487599013, 0.07857353939484511, 0.07857304409779146, 0.07857254898475671, 0.07857205405566835, 0.07857155931045391, 0.07857106474904102, 0.07857057037135724, 0.07857007617733025, 0.07856958216688774, 0.07856908833995742, 0.07856859469646701, 0.07856810123634433, 0.0785676079595172, 0.07856711486591339, 0.07856662195546087, 0.07856612922808752, 0.07856563668372123, 0.07856514432229007, 0.07856465214372202, 0.07856416014794515, 0.07856366833488743, 0.0785631767044771, 0.07856268525664226, 0.07856219399131104, 0.07856170290841169, 0.0785612120078725, 0.07856072128962166, 0.0785602307535875, 0.07855974039969839, 0.07855925022788265, 0.07855876023806879, 0.07855827043018515, 0.07855778080416019, 0.07855729135992251, 0.07855680209740054, 0.07855631301652297, 0.07855582411721827, 0.07855533539941514, 0.07855484686304226, 0.07855435850802835, 0.07855387033430206, 0.0785533823417922, 0.07855289453042756, 0.078552406900137, 0.07855191945084933, 0.07855143218249347, 0.07855094509499834, 0.07855045818829294, 0.07854997146230619, 0.07854948491696719, 0.07854899855220493, 0.0785485123679485, 0.07854802636412707, 0.07854754054066977, 0.07854705489750576, 0.0785465694345643, 0.07854608415177461, 0.07854559904906597, 0.07854511412636767, 0.07854462938360916, 0.07854414482071968, 0.07854366043762875, 0.07854317623426574, 0.07854269221056015, 0.07854220836644149, 0.07854172470183933, 0.07854124121668314, 0.07854075791090263, 0.07854027478442736, 0.07853979183718707, 0.07853930906911141, 0.07853882648013008, 0.07853834407017289, 0.07853786183916961, 0.07853737978705007, 0.07853689791374416, 0.07853641621918173, 0.07853593470329269, 0.07853545336600704, 0.07853497220725474, 0.07853449122696576, 0.07853401042507024, 0.07853352980149819, 0.07853304935617976, 0.07853256908904502, 0.07853208900002423, 0.07853160908904762, 0.0785311293560453, 0.07853064980094765, 0.0785301704236849, 0.07852969122418745, 0.0785292122023856, 0.07852873335820977, 0.07852825469159043, 0.07852777620245796, 0.07852729789074288, 0.07852681975637577, 0.07852634179928708, 0.07852586401940748, 0.07852538641666751, 0.0785249089909979, 0.07852443174232923, 0.07852395467059232, 0.07852347777571786, 0.07852300105763658, 0.07852252451627934, 0.07852204815157694, 0.07852157196346027, 0.0785210959518602, 0.07852062011670768, 0.07852014445793369, 0.07851966897546919, 0.07851919366924516, 0.07851871853919275, 0.07851824358524294, 0.07851776880732693, 0.07851729420537584, 0.0785168197793208, 0.0785163455290931, 0.07851587145462392, 0.07851539755584452, 0.07851492383268625, 0.07851445028508044, 0.07851397691295836, 0.07851350371625153, 0.07851303069489128, 0.07851255784880916, 0.07851208517793651, 0.07851161268220501, 0.07851114036154612, 0.07851066821589141, 0.07851019624517251, 0.0785097244493211, 0.07850925282826877, 0.07850878138194729, 0.07850831011028837, 0.07850783901322374, 0.07850736809068522, 0.07850689734260469, 0.0785064267689139, 0.07850595636954477, 0.0785054861444293, 0.0785050160934993, 0.07850454621668686, 0.07850407651392392, 0.07850360698514258, 0.07850313763027485, 0.07850266844925287, 0.07850219944200872, 0.07850173060847461, 0.07850126194858272, 0.07850079346226523, 0.07850032514945443, 0.07849985701008265, 0.07849938904408209, 0.07849892125138518, 0.07849845363192426, 0.07849798618563174, 0.07849751891244004, 0.07849705181228164, 0.07849658488508902, 0.07849611813079473, 0.07849565154933129, 0.07849518514063132, 0.07849471890462739, 0.07849425284125221, 0.0784937869504384, 0.07849332123211866, 0.0784928556862258, 0.0784923903126925, 0.07849192511145159, 0.0784914600824359, 0.0784909952255783, 0.07849053054081162, 0.07849006602806885, 0.07848960168728288, 0.0784891375183867, 0.0784886735213133, 0.07848820969599578, 0.07848774604236716, 0.07848728256036051, 0.07848681924990898, 0.07848635611094575, 0.07848589314340397, 0.07848543034721686, 0.07848496772231768, 0.07848450526863969, 0.07848404298611622, 0.07848358087468056, 0.07848311893426611, 0.07848265716480628, 0.07848219556623441, 0.07848173413848403, 0.0784812728814886, 0.07848081179518164, 0.0784803508794967, 0.07847989013436732, 0.07847942955972709, 0.0784789691555097, 0.07847850892164879, 0.07847804885807802, 0.07847758896473116, 0.07847712924154188, 0.07847666968844404, 0.07847621030537137, 0.0784757510922578, 0.07847529204903712, 0.07847483317564329, 0.07847437447201018, 0.07847391593807172, 0.07847345757376198, 0.07847299937901493, 0.07847254135376462, 0.07847208349794511, 0.07847162581149053, 0.07847116829433497, 0.07847071094641259, 0.07847025376765764, 0.0784697967580043, 0.0784693399173868, 0.07846888324573945, 0.07846842674299655, 0.07846797040909242, 0.07846751424396144, 0.07846705824753797, 0.07846660241975646, 0.0784661467605514, 0.07846569126985721, 0.07846523594760844, 0.0784647807937396, 0.0784643258081853, 0.07846387099088009, 0.07846341634175862, 0.07846296186075553, 0.07846250754780554, 0.07846205340284332, 0.07846159942580365, 0.07846114561662128, 0.07846069197523099, 0.07846023850156766, 0.07845978519556614, 0.07845933205716127, 0.07845887908628801, 0.07845842628288129, 0.07845797364687605, 0.07845752117820735, 0.07845706887681021, 0.07845661674261967, 0.07845616477557084, 0.07845571297559878, 0.07845526134263871, 0.07845480987662576, 0.07845435857749515, 0.07845390744518212, 0.0784534564796219, 0.07845300568074981, 0.07845255504850115, 0.07845210458281127, 0.07845165428361554, 0.07845120415084939, 0.07845075418444823, 0.07845030438434752, 0.07844985475048272, 0.07844940528278942, 0.07844895598120313, 0.0784485068456594, 0.07844805787609387, 0.07844760907244215, 0.0784471604346399, 0.0784467119626228, 0.07844626365632662, 0.07844581551568704, 0.07844536754063987, 0.07844491973112089, 0.07844447208706595, 0.07844402460841089, 0.07844357729509159, 0.07844313014704402, 0.07844268316420408, 0.07844223634650771, 0.07844178969389096, 0.07844134320628986, 0.07844089688364043, 0.07844045072587881, 0.07844000473294102, 0.07843955890476327, 0.07843911324128175, 0.07843866774243258, 0.07843822240815207, 0.07843777723837636, 0.07843733223304186, 0.0784368873920848, 0.07843644271544155, 0.07843599820304843, 0.07843555385484187, 0.0784351096707583, 0.07843466565073415, 0.07843422179470588, 0.07843377810261006, 0.07843333457438313, 0.07843289120996172, 0.0784324480092824, 0.07843200497228175, 0.0784315620988965, 0.07843111938906325, 0.0784306768427187, 0.07843023445979963, 0.07842979224024271, 0.07842935018398484, 0.07842890829096273, 0.07842846656111326, 0.07842802499437329, 0.07842758359067972, 0.07842714234996949, 0.07842670127217949, 0.07842626035724676, 0.07842581960510825, 0.07842537901570104, 0.07842493858896218, 0.07842449832482874, 0.07842405822323786, 0.07842361828412665, 0.07842317850743231, 0.07842273889309201, 0.07842229944104298, 0.07842186015122252, 0.07842142102356786, 0.07842098205801634, 0.07842054325450526, 0.07842010461297201, 0.07841966613335394, 0.07841922781558855, 0.07841878965961319, 0.07841835166536539, 0.07841791383278265, 0.07841747616180245, 0.07841703865236241, 0.07841660130440005, 0.07841616411785304, 0.07841572709265897, 0.07841529022875549, 0.07841485352608038, 0.07841441698457126, 0.07841398060416593, 0.07841354438480212, 0.07841310832641767, 0.07841267242895039, 0.07841223669233813, 0.0784118011165188, 0.07841136570143026, 0.0784109304470105, 0.07841049535319743, 0.07841006041992905, 0.07840962564714342, 0.07840919103477853, 0.07840875658277248, 0.0784083222910634, 0.07840788815958931, 0.07840745418828847, 0.07840702037709903, 0.07840658672595917, 0.07840615323480712, 0.0784057199035812, 0.07840528673221962, 0.07840485372066071, 0.07840442086884289, 0.0784039881767044, 0.07840355564418373, 0.07840312327121926, 0.07840269105774945, 0.07840225900371278, 0.07840182710904774, 0.07840139537369288, 0.07840096379758671, 0.07840053238066785, 0.07840010112287489, 0.07839967002414648, 0.07839923908442127, 0.07839880830363796, 0.07839837768173526, 0.07839794721865191, 0.07839751691432667, 0.07839708676869836, 0.07839665678170576, 0.07839622695328775, 0.07839579728338322, 0.07839536777193105, 0.07839493841887016, 0.07839450922413954, 0.07839408018767811, 0.07839365130942492, 0.07839322258931901, 0.0783927940272994, 0.07839236562330525, 0.0783919373772756, 0.07839150928914965, 0.07839108135886651, 0.0783906535863654, 0.07839022597158554, 0.07838979851446619, 0.07838937121494659, 0.07838894407296607, 0.07838851708846392, 0.07838809026137952, 0.07838766359165225, 0.0783872370792215, 0.07838681072402669, 0.07838638452600728, 0.0783859584851028, 0.07838553260125268, 0.07838510687439652, 0.07838468130447385, 0.0783842558914243, 0.07838383063518738, 0.0783834055357028, 0.07838298059291028, 0.0783825558067494, 0.07838213117715996, 0.07838170670408169, 0.07838128238745432, 0.0783808582272177, 0.07838043422331163, 0.07838001037567593, 0.0783795866842505, 0.07837916314897525, 0.0783787397697901, 0.078378316546635, 0.07837789347944991, 0.07837747056817489, 0.07837704781274991, 0.07837662521311507, 0.07837620276921041, 0.07837578048097604, 0.07837535834835214, 0.07837493637127886, 0.07837451454969634, 0.07837409288354483, 0.07837367137276459, 0.07837325001729582, 0.07837282881707884, 0.07837240777205398, 0.07837198688216156, 0.07837156614734196, 0.07837114556753556, 0.07837072514268277, 0.07837030487272408, 0.07836988475759989, 0.07836946479725077, 0.07836904499161715, 0.07836862534063967, 0.07836820584425885, 0.07836778650241531, 0.07836736731504965, 0.07836694828210253, 0.07836652940351463, 0.07836611067922664, 0.07836569210917929, 0.07836527369331335, 0.07836485543156954, 0.07836443732388874, 0.07836401937021173, 0.07836360157047936, 0.07836318392463253, 0.07836276643261211, 0.0783623490943591, 0.07836193190981439, 0.07836151487891894, 0.07836109800161382, 0.07836068127784006, 0.07836026470753867, 0.07835984829065076, 0.07835943202711743, 0.07835901591687983, 0.07835859995987908, 0.07835818415605639, 0.07835776850535299, 0.07835735300771006, 0.07835693766306889, 0.07835652247137079, 0.07835610743255701, 0.07835569254656892, 0.0783552778133479, 0.07835486323283528, 0.07835444880497253, 0.07835403452970105, 0.0783536204069623, 0.07835320643669778, 0.07835279261884899, 0.07835237895335749, 0.07835196544016482, 0.07835155207921256, 0.07835113887044232, 0.07835072581379576, 0.07835031290921454, 0.07834990015664034, 0.07834948755601484, 0.07834907510727983, 0.07834866281037701, 0.07834825066524821, 0.07834783867183526, 0.07834742683007995, 0.07834701513992418, 0.07834660360130981, 0.07834619221417875, 0.07834578097847293, 0.07834536989413438, 0.07834495896110498, 0.07834454817932682, 0.0783441375487419, 0.0783437270692923, 0.0783433167409201, 0.07834290656356735, 0.07834249653717629, 0.07834208666168901, 0.07834167693704773, 0.07834126736319465, 0.07834085794007195, 0.07834044866762198, 0.07834003954578693, 0.07833963057450921, 0.07833922175373108, 0.07833881308339491, 0.0783384045634431, 0.07833799619381804, 0.07833758797446212, 0.0783371799053179, 0.07833677198632778, 0.0783363642174343, 0.07833595659857996, 0.07833554912970735, 0.07833514181075901, 0.07833473464167759, 0.07833432762240568, 0.07833392075288592, 0.07833351403306103, 0.0783331074628737, 0.07833270104226663, 0.0783322947711826, 0.07833188864956438, 0.07833148267735475, 0.07833107685449653, 0.07833067118093258, 0.07833026565660582, 0.07832986028145907, 0.07832945505543526, 0.0783290499784774, 0.07832864505052839, 0.07832824027153126, 0.07832783564142902, 0.07832743116016472, 0.07832702682768139, 0.07832662264392218, 0.07832621860883018, 0.0783258147223485, 0.07832541098442036, 0.0783250073949889, 0.07832460395399736, 0.07832420066138897, 0.07832379751710696, 0.07832339452109469, 0.07832299167329534, 0.0783225889736524, 0.0783221864221091, 0.0783217840186089, 0.07832138176309521, 0.07832097965551137, 0.07832057769580092, 0.0783201758839073, 0.07831977421977404, 0.07831937270334462, 0.07831897133456264, 0.07831857011337165, 0.07831816903971525, 0.07831776811353705, 0.07831736733478072, 0.07831696670338989, 0.07831656621930828, 0.07831616588247965, 0.07831576569284765, 0.07831536565035614, 0.07831496575494883, 0.07831456600656955, 0.07831416640516217, 0.07831376695067056, 0.07831336764303858, 0.0783129684822101, 0.07831256946812912, 0.07831217060073957, 0.07831177187998542, 0.07831137330581066, 0.07831097487815936, 0.07831057659697555, 0.07831017846220328, 0.07830978047378673, 0.07830938263166992, 0.07830898493579704, 0.0783085873861123, 0.07830818998255981, 0.07830779272508384, 0.07830739561362866, 0.0783069986481385, 0.0783066018285576, 0.07830620515483033, 0.07830580862690104, 0.07830541224471406, 0.07830501600821377, 0.07830461991734458, 0.07830422397205092, 0.07830382817227723, 0.078303432517968, 0.07830303700906777, 0.07830264164552099, 0.07830224642727225, 0.07830185135426611, 0.07830145642644719, 0.07830106164376005, 0.07830066700614938, 0.07830027251355984, 0.0782998781659361, 0.07829948396322288, 0.07829908990536492, 0.07829869599230696, 0.07829830222399378, 0.07829790860037024, 0.0782975151213811, 0.07829712178697125, 0.07829672859708554, 0.0782963355516689, 0.07829594265066621, 0.07829554989402245, 0.07829515728168256, 0.07829476481359154, 0.07829437248969444, 0.07829398030993627, 0.07829358827426207, 0.07829319638261693, 0.07829280463494599, 0.07829241303119436, 0.07829202157130719, 0.07829163025522966, 0.07829123908290697, 0.07829084805428434, 0.07829045716930702, 0.07829006642792026, 0.0782896758300694, 0.07828928537569974, 0.07828889506475656, 0.0782885048971853, 0.07828811487293129, 0.07828772499193996, 0.07828733525415675, 0.0782869456595271, 0.07828655620799646, 0.0782861668995104, 0.07828577773401438, 0.07828538871145396, 0.07828499983177473, 0.07828461109492227, 0.07828422250084219, 0.07828383404948011, 0.07828344574078172, 0.0782830575746927, 0.07828266955115874, 0.07828228167012555, 0.07828189393153893, 0.07828150633534461, 0.07828111888148845, 0.0782807315699162, 0.07828034440057373, 0.07827995737340693, 0.07827957048836165, 0.07827918374538378, 0.07827879714441935, 0.07827841068541425, 0.07827802436831442, 0.07827763819306593, 0.0782772521596148, 0.07827686626790706, 0.07827648051788876, 0.07827609490950602, 0.07827570944270497, 0.07827532411743171, 0.07827493893363244, 0.07827455389125332, 0.0782741689902405, 0.07827378423054035, 0.07827339961209896, 0.07827301513486273, 0.07827263079877791, 0.0782722466037908, 0.07827186254984775, 0.07827147863689518, 0.07827109486487938, 0.0782707112337468, 0.07827032774344393, 0.07826994439391713, 0.07826956118511293, 0.07826917811697781, 0.07826879518945833, 0.07826841240250097, 0.07826802975605235, 0.07826764725005902, 0.07826726488446761, 0.07826688265922477, 0.0782665005742771, 0.07826611862957138, 0.07826573682505421, 0.07826535516067235, 0.07826497363637257, 0.07826459225210158, 0.07826421100780621, 0.07826382990343327, 0.07826344893892956, 0.078263068114242, 0.07826268742931741, 0.07826230688410274, 0.07826192647854487, 0.07826154621259077, 0.07826116608618743, 0.07826078609928176, 0.07826040625182082, 0.07826002654375168, 0.07825964697502134, 0.07825926754557692, 0.07825888825536552, 0.07825850910433424, 0.07825813009243018, 0.07825775121960062, 0.07825737248579265, 0.07825699389095353, 0.0782566154350305, 0.07825623711797078, 0.07825585893972166, 0.07825548090023045, 0.07825510299944448, 0.07825472523731106, 0.0782543476137776, 0.07825397012879143, 0.07825359278230001, 0.07825321557425076, 0.07825283850459112, 0.07825246157326857, 0.0782520847802306, 0.07825170812542477, 0.07825133160879856, 0.07825095523029957, 0.0782505789898754, 0.0782502028874736, 0.07824982692304187, 0.07824945109652781, 0.0782490754078791, 0.07824869985704345, 0.07824832444396856, 0.07824794916860218, 0.07824757403089205, 0.07824719903078603, 0.07824682416823177, 0.07824644944317723, 0.07824607485557021, 0.07824570040535857, 0.07824532609249021, 0.07824495191691305, 0.07824457787857503, 0.07824420397742407, 0.07824383021340818, 0.07824345658647534, 0.07824308309657355, 0.07824270974365093, 0.07824233652765547, 0.07824196344853525, 0.07824159050623845, 0.07824121770071313, 0.07824084503190747, 0.07824047249976963, 0.07824010010424783, 0.07823972784529024, 0.07823935572284513, 0.07823898373686075, 0.07823861188728534, 0.07823824017406729, 0.07823786859715486, 0.07823749715649636, 0.07823712585204025, 0.07823675468373485, 0.07823638365152859, 0.0782360127553699, 0.0782356419952072, 0.07823527137098903, 0.07823490088266381, 0.07823453053018012, 0.07823416031348646, 0.07823379023253138, 0.07823342028726347, 0.07823305047763135, 0.0782326808035836, 0.07823231126506891, 0.07823194186203594, 0.07823157259443335, 0.07823120346220985, 0.0782308344653142, 0.07823046560369515, 0.07823009687730144, 0.07822972828608182, 0.0782293598299852, 0.07822899150896039, 0.07822862332295621, 0.07822825527192155, 0.07822788735580535, 0.07822751957455647, 0.07822715192812389, 0.07822678441645656, 0.07822641703950348, 0.07822604979721362, 0.07822568268953603, 0.07822531571641975, 0.07822494887781387, 0.07822458217366746, 0.07822421560392959, 0.07822384916854949, 0.07822348286747624, 0.07822311670065903, 0.07822275066804703, 0.07822238476958952, 0.07822201900523569, 0.07822165337493478, 0.07822128787863612, 0.07822092251628897, 0.07822055728784269, 0.07822019219324657, 0.07821982723245004, 0.07821946240540238, 0.07821909771205311, 0.0782187331523516, 0.0782183687262473, 0.07821800443368966, 0.07821764027462821, 0.07821727624901244, 0.07821691235679187, 0.07821654859791605, 0.07821618497233458, 0.07821582147999702, 0.07821545812085301, 0.07821509489485218, 0.07821473180194416, 0.07821436884207865, 0.07821400601520534, 0.07821364332127395, 0.07821328076023426, 0.07821291833203593, 0.07821255603662881, 0.07821219387396271, 0.07821183184398742, 0.07821146994665279, 0.07821110818190867, 0.078210746549705, 0.07821038504999163, 0.07821002368271847, 0.07820966244783555, 0.07820930134529273, 0.0782089403750401, 0.07820857953702756, 0.07820821883120524, 0.07820785825752313, 0.0782074978159313, 0.07820713750637986, 0.07820677732881894, 0.07820641728319865, 0.07820605736946912, 0.07820569758758053, 0.07820533793748309, 0.07820497841912705, 0.07820461903246258, 0.07820425977743996, 0.07820390065400946, 0.07820354166212137, 0.07820318280172603, 0.07820282407277374, 0.0782024654752149, 0.07820210700899986, 0.07820174867407903, 0.07820139047040284, 0.07820103239792166, 0.07820067445658606, 0.07820031664634644, 0.0781999589671533, 0.07819960141895724, 0.07819924400170869, 0.0781988867153583, 0.07819852955985662, 0.07819817253515421, 0.07819781564120176, 0.07819745887794989, 0.07819710224534925, 0.07819674574335053, 0.07819638937190443, 0.0781960331309617, 0.07819567702047303, 0.07819532104038925, 0.07819496519066109, 0.07819460947123938, 0.07819425388207495, 0.07819389842311862, 0.0781935430943213, 0.07819318789563383, 0.07819283282700712, 0.07819247788839213, 0.07819212307973977, 0.07819176840100106, 0.07819141385212694, 0.07819105943306841, 0.07819070514377652, 0.07819035098420231, 0.07818999695429688, 0.07818964305401122, 0.07818928928329653, 0.07818893564210393, 0.07818858213038454, 0.07818822874808955, 0.07818787549517012, 0.07818752237157746, 0.0781871693772628, 0.07818681651217743, 0.07818646377627257, 0.07818611116949951, 0.07818575869180958, 0.0781854063431541, 0.07818505412348441, 0.0781847020327519, 0.07818435007090789, 0.07818399823790388, 0.07818364653369125, 0.07818329495822146, 0.07818294351144593, 0.07818259219331625, 0.07818224100378379, 0.07818188994280019, 0.07818153901031698, 0.07818118820628567, 0.07818083753065788, 0.07818048698338523, 0.07818013656441934, 0.07817978627371182, 0.07817943611121438, 0.0781790860768787, 0.07817873617065646, 0.07817838639249942, 0.07817803674235929, 0.07817768722018788, 0.07817733782593692, 0.07817698855955824, 0.07817663942100365, 0.07817629041022504, 0.07817594152717422, 0.0781755927718031, 0.07817524414406357, 0.07817489564390756, 0.07817454727128703, 0.07817419902615388, 0.07817385090846017, 0.07817350291815787, 0.07817315505519896, 0.07817280731953556, 0.07817245971111964, 0.07817211222990336, 0.07817176487583877, 0.07817141764887803, 0.07817107054897322, 0.07817072357607653, 0.07817037673014016, 0.07817003001111625, 0.07816968341895707, 0.07816933695361485, 0.07816899061504183, 0.07816864440319027, 0.07816829831801249, 0.0781679523594608, 0.07816760652748753, 0.078167260822045, 0.07816691524308567, 0.07816656979056184, 0.07816622446442598, 0.07816587926463046, 0.0781655341911278, 0.07816518924387048, 0.07816484442281085, 0.07816449972790158, 0.07816415515909511, 0.07816381071634404, 0.0781634663996009, 0.07816312220881826, 0.07816277814394876, 0.07816243420494502, 0.07816209039175968, 0.07816174670434539, 0.07816140314265485, 0.07816105970664075, 0.07816071639625581, 0.07816037321145276, 0.0781600301521844, 0.0781596872184035, 0.07815934441006282, 0.0781590017271152, 0.07815865916951348, 0.07815831673721049, 0.07815797443015918, 0.07815763224831235, 0.07815729019162294, 0.07815694826004393, 0.07815660645352823, 0.07815626477202882, 0.07815592321549872, 0.07815558178389084, 0.0781552404771583, 0.07815489929525415, 0.07815455823813142, 0.07815421730574322, 0.07815387649804263, 0.07815353581498279, 0.07815319525651683, 0.07815285482259791, 0.07815251451317926, 0.07815217432821402, 0.0781518342676554, 0.07815149433145671, 0.07815115451957116, 0.07815081483195202, 0.07815047526855261, 0.07815013582932621, 0.0781497965142262, 0.07814945732320588, 0.07814911825621867, 0.07814877931321794, 0.07814844049415712, 0.07814810179898957, 0.07814776322766881, 0.07814742478014826, 0.07814708645638142, 0.07814674825632181, 0.07814641017992294, 0.07814607222713833, 0.07814573439792159, 0.07814539669222627, 0.07814505911000595, 0.07814472165121426, 0.07814438431580487, 0.07814404710373138, 0.07814371001494749, 0.0781433730494069, 0.0781430362070633, 0.07814269948787045, 0.07814236289178204, 0.07814202641875191, 0.07814169006873381, 0.07814135384168153, 0.07814101773754896, 0.07814068175628984, 0.0781403458978581, 0.07814001016220759, 0.07813967454929226, 0.07813933905906595, 0.07813900369148266, 0.0781386684464963, 0.07813833332406087, 0.07813799832413039, 0.07813766344665878, 0.07813732869160014, 0.0781369940589085, 0.07813665954853793, 0.07813632516044253, 0.07813599089457639, 0.07813565675089361, 0.07813532272934835, 0.07813498882989477, 0.07813465505248704, 0.07813432139707938, 0.07813398786362598, 0.07813365445208106, 0.07813332116239893, 0.07813298799453382, 0.07813265494844, 0.07813232202407182, 0.07813198922138359, 0.07813165654032964, 0.07813132398086435, 0.07813099154294206, 0.07813065922651724, 0.07813032703154428, 0.07812999495797762, 0.07812966300577168, 0.07812933117488097, 0.07812899946525999, 0.0781286678768632, 0.0781283364096452, 0.07812800506356048, 0.07812767383856362, 0.07812734273460924, 0.07812701175165188, 0.07812668088964622, 0.07812635014854682, 0.07812601952830846, 0.0781256890288857, 0.0781253586502333, 0.07812502839230595, 0.07812469825505838, 0.07812436823844535, 0.0781240383424216, 0.07812370856694195, 0.07812337891196117, 0.07812304937743414, 0.07812271996331561, 0.07812239066956053, 0.07812206149612375, 0.07812173244296013, 0.07812140351002458, 0.0781210746972721, 0.0781207460046576, 0.078120417432136, 0.07812008897966238, 0.07811976064719167, 0.0781194324346789, 0.07811910434207918, 0.07811877636934748, 0.0781184485164389, 0.07811812078330858, 0.0781177931699116, 0.07811746567620308, 0.07811713830213819, 0.0781168110476721, 0.07811648391275997, 0.07811615689735701, 0.07811583000141846, 0.07811550322489953, 0.07811517656775552, 0.07811485002994167, 0.0781145236114133, 0.07811419731212572, 0.07811387113203425, 0.0781135450710942, 0.078113219129261, 0.07811289330649002, 0.07811256760273663, 0.07811224201795625, 0.07811191655210438, 0.07811159120513637, 0.0781112659770078, 0.07811094086767409, 0.0781106158770908, 0.0781102910052134, 0.07810996625199748, 0.07810964161739861, 0.07810931710137234, 0.07810899270387427, 0.07810866842486003, 0.07810834426428526, 0.07810802022210557, 0.07810769629827673, 0.07810737249275432, 0.0781070488054941, 0.07810672523645178, 0.07810640178558309, 0.07810607845284383, 0.07810575523818974, 0.07810543214157663, 0.07810510916296028, 0.07810478630229659, 0.07810446355954136, 0.07810414093465044, 0.07810381842757975, 0.07810349603828523, 0.07810317376672266, 0.0781028516128481, 0.0781025295766175, 0.07810220765798676, 0.07810188585691195, 0.07810156417334901, 0.07810124260725401, 0.07810092115858294, 0.07810059982729196, 0.07810027861333708, 0.07809995751667438, 0.07809963653726001, 0.0780993156750501, 0.07809899493000076, 0.07809867430206821, 0.07809835379120861, 0.07809803339737814, 0.07809771312053305, 0.07809739296062958, 0.07809707291762395, 0.07809675299147249, 0.07809643318213143, 0.07809611348955707, 0.0780957939137058, 0.07809547445453394, 0.0780951551119978, 0.07809483588605383, 0.07809451677665838, 0.07809419778376786, 0.07809387890733871, 0.07809356014732738, 0.07809324150369033, 0.07809292297638405, 0.07809260456536504, 0.07809228627058981, 0.0780919680920149, 0.07809165002959684]\n"
          ]
        }
      ]
    },
    {
      "cell_type": "markdown",
      "source": [
        "**Evaluation:**\n",
        "<br>\n",
        "Cost function is reducing in values --> correct model (plot shown in part 1d).\n",
        "<br>\n",
        "At first trial with learning_rate of 0.0001, cost values decreased too rapidly. Changed to learning_rate = 0.0005. Cost values is decreasing at the rate predicted --> good learning rate and number iterations(epochs) specified. "
      ],
      "metadata": {
        "id": "pG70ZKbnJ2OP"
      },
      "id": "pG70ZKbnJ2OP"
    },
    {
      "cell_type": "markdown",
      "source": [
        "## Problem 1c: Predicting values"
      ],
      "metadata": {
        "id": "MLM2k_J_Pznx"
      },
      "id": "MLM2k_J_Pznx"
    },
    {
      "cell_type": "markdown",
      "source": [
        "**Use df_test defined above**"
      ],
      "metadata": {
        "id": "UP1t66pwd2f-"
      },
      "id": "UP1t66pwd2f-"
    },
    {
      "cell_type": "code",
      "source": [
        "#defining test data: turn df_test to array\n",
        "x_test = df_test.iloc[:,2:].values #SqFt onwards\n",
        "y_test = df_test.iloc[:,1].values #houseprice"
      ],
      "metadata": {
        "id": "nefnM6A7P9x7"
      },
      "id": "nefnM6A7P9x7",
      "execution_count": 267,
      "outputs": []
    },
    {
      "cell_type": "code",
      "source": [
        "#call the predict function above.\n",
        "y_pred = model.predict(x_test)\n",
        "print(f\"predicted y values array = {y_pred}\")"
      ],
      "metadata": {
        "colab": {
          "base_uri": "https://localhost:8080/",
          "height": 0
        },
        "id": "Zoj0md1sU3GU",
        "outputId": "ab1b8302-c04b-401b-af57-a9635b937a33"
      },
      "id": "Zoj0md1sU3GU",
      "execution_count": 63,
      "outputs": [
        {
          "output_type": "stream",
          "name": "stdout",
          "text": [
            "predicted y values array = [ 0.76100107 -1.08638937  0.39103715  0.14176163 -1.3326661  -1.15702633\n",
            "  0.07027725 -1.58013447 -0.79443985 -1.27787541  1.24298618  1.13744704\n",
            " -0.61441754  0.62573745  2.00296144  0.2895843   0.97263657  0.30821857\n",
            "  1.42271438 -0.79823594 -0.12715449 -1.47340368  0.12536029 -0.7041104\n",
            "  0.40529102  0.980258  ]\n"
          ]
        }
      ]
    },
    {
      "cell_type": "markdown",
      "source": [
        "## Problem 1d: Output\n",
        "Show the predicted output, and loss function output plots"
      ],
      "metadata": {
        "id": "62UeOSHhRAIx"
      },
      "id": "62UeOSHhRAIx"
    },
    {
      "cell_type": "markdown",
      "source": [
        "**Plotting cost function plot**"
      ],
      "metadata": {
        "id": "xp5A3VyrPKrN"
      },
      "id": "xp5A3VyrPKrN"
    },
    {
      "cell_type": "code",
      "source": [
        "# Plotting the cost\n",
        "plt.plot(cf)\n",
        "plt.title(\"Gradient Descent convergence at learning_rate = 0.0005\")\n",
        "plt.xlabel(\"Epochs or no. of iterations\")\n",
        "plt.ylabel(\"Cost\")\n",
        "plt.show()"
      ],
      "metadata": {
        "colab": {
          "base_uri": "https://localhost:8080/",
          "height": 295
        },
        "id": "cclipNIAPHo9",
        "outputId": "c9c36e60-921e-4af5-9730-347651eeb05a"
      },
      "id": "cclipNIAPHo9",
      "execution_count": 65,
      "outputs": [
        {
          "output_type": "display_data",
          "data": {
            "text/plain": [
              "<Figure size 432x288 with 1 Axes>"
            ],
            "image/png": "[encoded data removed]"
          },
          "metadata": {
            "needs_background": "light"
          }
        }
      ]
    },
    {
      "cell_type": "markdown",
      "source": [
        "**Plotting predicted price and actual price for test data**"
      ],
      "metadata": {
        "id": "YI3FvSPp0xTU"
      },
      "id": "YI3FvSPp0xTU"
    },
    {
      "cell_type": "code",
      "source": [
        "fig, ax = plt.subplots()\n",
        "\n",
        "ax.scatter(y_test, y_pred)\n",
        "ax.grid()\n",
        "ax.set_xlabel('House price from test data (actual values)')\n",
        "ax.set_ylabel('House price from fitted model')\n",
        "ax.set_title('Test vs fitted values_standardized')"
      ],
      "metadata": {
        "colab": {
          "base_uri": "https://localhost:8080/",
          "height": 312
        },
        "id": "r7icR_tq1Y1t",
        "outputId": "1a1df97b-5808-49b6-8925-8ac59f37c8f2"
      },
      "id": "r7icR_tq1Y1t",
      "execution_count": 48,
      "outputs": [
        {
          "output_type": "execute_result",
          "data": {
            "text/plain": [
              "Text(0.5, 1.0, 'Test vs fitted values_standardized')"
            ]
          },
          "metadata": {},
          "execution_count": 48
        },
        {
          "output_type": "display_data",
          "data": {
            "text/plain": [
              "<Figure size 432x288 with 1 Axes>"
            ],
            "image/png": "[encoded data removed]"
          },
          "metadata": {
            "needs_background": "light"
          }
        }
      ]
    },
    {
      "cell_type": "code",
      "source": [
        "#cmap = plt.get_cmap(\"Accent\")  # matplotlib.colors.ListedColormap\n",
        "#colors = cmap.colors  # type: list\n",
        "#ax.set_prop_cycle(color=colors)\n",
        "\n",
        "#colors = ['g', 'b', 'y','k', 'y']\n",
        "\n",
        "for i, col in enumerate(x_test[1]):\n",
        "  plt.subplot(2, 1, 1)\n",
        "  plt.scatter(x_test[:,i], y_test, c='black', label = \"test values\")\n",
        "  plt.scatter(x_test[:,i], y_pred, c='red', label = \"predicted values\")\n",
        "  plt.title(f\"Test vs fitted house price values for variable #{i+1}\")\n",
        "  plt.legend()\n",
        "  plt.grid()\n",
        "  plt.show()"
      ],
      "metadata": {
        "colab": {
          "base_uri": "https://localhost:8080/",
          "height": 893
        },
        "id": "hd3aEtXD0wrX",
        "outputId": "8c93f7ba-d665-450a-a554-501b86e8cdc3"
      },
      "id": "hd3aEtXD0wrX",
      "execution_count": 111,
      "outputs": [
        {
          "output_type": "display_data",
          "data": {
            "text/plain": [
              "<Figure size 432x288 with 1 Axes>"
            ],
            "image/png": "[encoded data removed]"
          },
          "metadata": {
            "needs_background": "light"
          }
        },
        {
          "output_type": "display_data",
          "data": {
            "text/plain": [
              "<Figure size 432x288 with 1 Axes>"
            ],
            "image/png": "[encoded data removed]"
          },
          "metadata": {
            "needs_background": "light"
          }
        },
        {
          "output_type": "display_data",
          "data": {
            "text/plain": [
              "<Figure size 432x288 with 1 Axes>"
            ],
            "image/png": "[encoded data removed]"
          },
          "metadata": {
            "needs_background": "light"
          }
        },
        {
          "output_type": "display_data",
          "data": {
            "text/plain": [
              "<Figure size 432x288 with 1 Axes>"
            ],
            "image/png": "[encoded data removed]"
          },
          "metadata": {
            "needs_background": "light"
          }
        },
        {
          "output_type": "display_data",
          "data": {
            "text/plain": [
              "<Figure size 432x288 with 1 Axes>"
            ],
            "image/png": "[encoded data removed]"
          },
          "metadata": {
            "needs_background": "light"
          }
        },
        {
          "output_type": "display_data",
          "data": {
            "text/plain": [
              "<Figure size 432x288 with 1 Axes>"
            ],
            "image/png": "[encoded data removed]"
          },
          "metadata": {
            "needs_background": "light"
          }
        }
      ]
    },
    {
      "cell_type": "markdown",
      "source": [
        "## Problem 1e: RMSE and $R^2$"
      ],
      "metadata": {
        "id": "lEppF_yYRM33"
      },
      "id": "lEppF_yYRM33"
    },
    {
      "cell_type": "markdown",
      "source": [
        "Root mean squared error and R-squared"
      ],
      "metadata": {
        "id": "xfkAFpWDiKeh"
      },
      "id": "xfkAFpWDiKeh"
    },
    {
      "cell_type": "markdown",
      "source": [
        "**Formula:**\n",
        "<br>\n",
        "RMSE = √Σ(Pi – Oi)2 / n\n",
        "\n",
        "where:\n",
        "\n",
        "    Σ is a symbol that means “sum”\n",
        "    Pi is the predicted value for the ith observation\n",
        "    Oi is the observed value for the ith observation\n",
        "    n is the sample size\n",
        "\n",
        "OR\n",
        "<br>\n",
        "RMSE=SQRT(MSE)=SQRT(1/n*RSS)\n",
        "<br>\n",
        "<br>\n",
        "$R^2$ = 1 – (RSS/TSS)\n",
        "\n",
        "where:\n",
        "\n",
        "    RSS represents the sum of squares of residuals\n",
        "    TSS represents the total sum of squares\n",
        "\n",
        "Source: https://www.statology.org/rmse-vs-r-squared/"
      ],
      "metadata": {
        "id": "ubF9Y46Zh5I7"
      },
      "id": "ubF9Y46Zh5I7"
    },
    {
      "cell_type": "code",
      "source": [
        "#root mean squared error\n",
        "def rmse(y_pred, y):\n",
        "    '''\n",
        "    Root Mean squared error.\n",
        "    \n",
        "    Parameter:\n",
        "    y_pred (array): dependent variable predicted values.\n",
        "    y (array): test dependent variable values.\n",
        "    \n",
        "    Return:\n",
        "    rmse (float): Root Mean Squared Error.\n",
        "    '''\n",
        "    rss = np.sum((y - y_pred)**2)\n",
        "    rmse = (rss).mean()**(1/2)\n",
        "    return rmse"
      ],
      "metadata": {
        "id": "TswSw8BJ9H2d"
      },
      "id": "TswSw8BJ9H2d",
      "execution_count": 225,
      "outputs": []
    },
    {
      "cell_type": "code",
      "source": [
        "#for test data\n",
        "rmse(y_pred, y_test)"
      ],
      "metadata": {
        "colab": {
          "base_uri": "https://localhost:8080/",
          "height": 0
        },
        "id": "GQX6wmR49vqA",
        "outputId": "1c6f990c-3bca-46a6-909f-b0b72d53d6ef"
      },
      "id": "GQX6wmR49vqA",
      "execution_count": 226,
      "outputs": [
        {
          "output_type": "execute_result",
          "data": {
            "text/plain": [
              "1.7304035668836681"
            ]
          },
          "metadata": {},
          "execution_count": 226
        }
      ]
    },
    {
      "cell_type": "markdown",
      "source": [
        "**Calculating R2**\n",
        "<br>\n",
        "formula:"
      ],
      "metadata": {
        "id": "gygahJHyQPzf"
      },
      "id": "gygahJHyQPzf"
    },
    {
      "cell_type": "code",
      "source": [
        "# Calculating the r² accuracy of our model\n",
        "def r2score(y_pred, y):\n",
        "  '''\n",
        "    R square score.\n",
        "    \n",
        "    Parameter:\n",
        "    y_pred (array): dependent variable predicted values.\n",
        "    y (array): test dependent variable values.\n",
        "    \n",
        "    Return:\n",
        "    r2 (float): R-Squared score.\n",
        "  '''\n",
        "  rss = np.sum((y_pred - y) ** 2)\n",
        "  tss = np.sum((y-y.mean()) ** 2)\n",
        "   \n",
        "  r2 = 1 - (rss / tss)\n",
        "  return r2"
      ],
      "metadata": {
        "id": "sHNRzLEoQSzC"
      },
      "id": "sHNRzLEoQSzC",
      "execution_count": 56,
      "outputs": []
    },
    {
      "cell_type": "code",
      "source": [
        "r2score(y_pred, y_test)"
      ],
      "metadata": {
        "id": "c2PeLz9sQThf",
        "colab": {
          "base_uri": "https://localhost:8080/",
          "height": 0
        },
        "outputId": "8d8a1c37-5f0a-410e-c82b-a6058ed6c93f"
      },
      "id": "c2PeLz9sQThf",
      "execution_count": 57,
      "outputs": [
        {
          "output_type": "execute_result",
          "data": {
            "text/plain": [
              "0.8901958352945725"
            ]
          },
          "metadata": {},
          "execution_count": 57
        }
      ]
    },
    {
      "cell_type": "markdown",
      "source": [
        "**Analysis:**\n",
        "<br>\n",
        "The model is pretty good at predicting the house price since the r-squared value is closer to 1 (explain 89% of dependent variable variation), and the root mean squared error is relatively low (lesser distance between predicted value and actual value)."
      ],
      "metadata": {
        "id": "r0yE6pjfg9Jc"
      },
      "id": "r0yE6pjfg9Jc"
    },
    {
      "cell_type": "markdown",
      "source": [
        "# Problem 2"
      ],
      "metadata": {
        "id": "oiJ5QSWkT1Vy"
      },
      "id": "oiJ5QSWkT1Vy"
    },
    {
      "cell_type": "markdown",
      "source": [
        "2. Perform model selection using subset best, forward selection, and backward selection methods (15 points)\n",
        "\n",
        "a) Show your best model features\n",
        "\n",
        "c) Compare your model performance against the model Q1"
      ],
      "metadata": {
        "id": "Hg-btjQDT1V0"
      },
      "id": "Hg-btjQDT1V0"
    },
    {
      "cell_type": "markdown",
      "source": [
        "## Problem 2a"
      ],
      "metadata": {
        "id": "AWac47zcT1V1"
      },
      "id": "AWac47zcT1V1"
    },
    {
      "cell_type": "markdown",
      "source": [
        "OH: add error to increase your model performance\n",
        "<br>\n",
        "code source: class example"
      ],
      "metadata": {
        "id": "9PioFfqqsM4H"
      },
      "id": "9PioFfqqsM4H"
    },
    {
      "cell_type": "markdown",
      "metadata": {
        "id": "Chr8_Cxvl4qd"
      },
      "source": [
        "**Load the required packages and data preprocessing**"
      ],
      "id": "Chr8_Cxvl4qd"
    },
    {
      "cell_type": "code",
      "execution_count": 67,
      "metadata": {
        "id": "kQ1wrmrBl4qg"
      },
      "outputs": [],
      "source": [
        "%matplotlib inline\n",
        "import pandas as pd\n",
        "import numpy as np\n",
        "import itertools\n",
        "import time\n",
        "import statsmodels.api as sm #following class example. Assume we can use it.\n",
        "import matplotlib.pyplot as plt"
      ],
      "id": "kQ1wrmrBl4qg"
    },
    {
      "cell_type": "markdown",
      "metadata": {
        "id": "u4Y3GaZKl4qh"
      },
      "source": [
        "Exercise: apply the best subset selection approach to the house pricing data. \n",
        "Goal: predict house price on the basis of various attributes related to the house.\n",
        "<br>\n",
        "reload the data again:"
      ],
      "id": "u4Y3GaZKl4qh"
    },
    {
      "cell_type": "code",
      "source": [
        "#categorical variable is changed to interger in Problem 1\n",
        "df_house.head()"
      ],
      "metadata": {
        "colab": {
          "base_uri": "https://localhost:8080/",
          "height": 206
        },
        "id": "GCEjvnLtotpX",
        "outputId": "4e231a7e-b15d-4101-81d1-2bdd66aa91c3"
      },
      "id": "GCEjvnLtotpX",
      "execution_count": 70,
      "outputs": [
        {
          "output_type": "execute_result",
          "data": {
            "text/plain": [
              "   Home   Price  SqFt  Bedrooms  Bathrooms  Offers  Brick  Neighborhood\n",
              "0     1  114300  1790         2          2       2      0             1\n",
              "1     2  114200  2030         4          2       3      0             1\n",
              "2     3  114800  1740         3          2       1      0             1\n",
              "3     4   94700  1980         3          2       3      0             1\n",
              "4     5  119800  2130         3          3       3      0             1"
            ],
            "text/html": [
              "\n",
              "  <div id=\"df-35151ee1-20bc-4e4b-9b72-b32bd29acc93\">\n",
              "    <div class=\"colab-df-container\">\n",
              "      <div>\n",
              "<style scoped>\n",
              "    .dataframe tbody tr th:only-of-type {\n",
              "        vertical-align: middle;\n",
              "    }\n",
              "\n",
              "    .dataframe tbody tr th {\n",
              "        vertical-align: top;\n",
              "    }\n",
              "\n",
              "    .dataframe thead th {\n",
              "        text-align: right;\n",
              "    }\n",
              "</style>\n",
              "<table border=\"1\" class=\"dataframe\">\n",
              "  <thead>\n",
              "    <tr style=\"text-align: right;\">\n",
              "      <th></th>\n",
              "      <th>Home</th>\n",
              "      <th>Price</th>\n",
              "      <th>SqFt</th>\n",
              "      <th>Bedrooms</th>\n",
              "      <th>Bathrooms</th>\n",
              "      <th>Offers</th>\n",
              "      <th>Brick</th>\n",
              "      <th>Neighborhood</th>\n",
              "    </tr>\n",
              "  </thead>\n",
              "  <tbody>\n",
              "    <tr>\n",
              "      <th>0</th>\n",
              "      <td>1</td>\n",
              "      <td>114300</td>\n",
              "      <td>1790</td>\n",
              "      <td>2</td>\n",
              "      <td>2</td>\n",
              "      <td>2</td>\n",
              "      <td>0</td>\n",
              "      <td>1</td>\n",
              "    </tr>\n",
              "    <tr>\n",
              "      <th>1</th>\n",
              "      <td>2</td>\n",
              "      <td>114200</td>\n",
              "      <td>2030</td>\n",
              "      <td>4</td>\n",
              "      <td>2</td>\n",
              "      <td>3</td>\n",
              "      <td>0</td>\n",
              "      <td>1</td>\n",
              "    </tr>\n",
              "    <tr>\n",
              "      <th>2</th>\n",
              "      <td>3</td>\n",
              "      <td>114800</td>\n",
              "      <td>1740</td>\n",
              "      <td>3</td>\n",
              "      <td>2</td>\n",
              "      <td>1</td>\n",
              "      <td>0</td>\n",
              "      <td>1</td>\n",
              "    </tr>\n",
              "    <tr>\n",
              "      <th>3</th>\n",
              "      <td>4</td>\n",
              "      <td>94700</td>\n",
              "      <td>1980</td>\n",
              "      <td>3</td>\n",
              "      <td>2</td>\n",
              "      <td>3</td>\n",
              "      <td>0</td>\n",
              "      <td>1</td>\n",
              "    </tr>\n",
              "    <tr>\n",
              "      <th>4</th>\n",
              "      <td>5</td>\n",
              "      <td>119800</td>\n",
              "      <td>2130</td>\n",
              "      <td>3</td>\n",
              "      <td>3</td>\n",
              "      <td>3</td>\n",
              "      <td>0</td>\n",
              "      <td>1</td>\n",
              "    </tr>\n",
              "  </tbody>\n",
              "</table>\n",
              "</div>\n",
              "      <button class=\"colab-df-convert\" onclick=\"convertToInteractive('df-35151ee1-20bc-4e4b-9b72-b32bd29acc93')\"\n",
              "              title=\"Convert this dataframe to an interactive table.\"\n",
              "              style=\"display:none;\">\n",
              "        \n",
              "  <svg xmlns=\"http://www.w3.org/2000/svg\" height=\"24px\"viewBox=\"0 0 24 24\"\n",
              "       width=\"24px\">\n",
              "    <path d=\"M0 0h24v24H0V0z\" fill=\"none\"/>\n",
              "    <path d=\"M18.56 5.44l.94 2.06.94-2.06 2.06-.94-2.06-.94-.94-2.06-.94 2.06-2.06.94zm-11 1L8.5 8.5l.94-2.06 2.06-.94-2.06-.94L8.5 2.5l-.94 2.06-2.06.94zm10 10l.94 2.06.94-2.06 2.06-.94-2.06-.94-.94-2.06-.94 2.06-2.06.94z\"/><path d=\"M17.41 7.96l-1.37-1.37c-.4-.4-.92-.59-1.43-.59-.52 0-1.04.2-1.43.59L10.3 9.45l-7.72 7.72c-.78.78-.78 2.05 0 2.83L4 21.41c.39.39.9.59 1.41.59.51 0 1.02-.2 1.41-.59l7.78-7.78 2.81-2.81c.8-.78.8-2.07 0-2.86zM5.41 20L4 18.59l7.72-7.72 1.47 1.35L5.41 20z\"/>\n",
              "  </svg>\n",
              "      </button>\n",
              "      \n",
              "  <style>\n",
              "    .colab-df-container {\n",
              "      display:flex;\n",
              "      flex-wrap:wrap;\n",
              "      gap: 12px;\n",
              "    }\n",
              "\n",
              "    .colab-df-convert {\n",
              "      background-color: #E8F0FE;\n",
              "      border: none;\n",
              "      border-radius: 50%;\n",
              "      cursor: pointer;\n",
              "      display: none;\n",
              "      fill: #1967D2;\n",
              "      height: 32px;\n",
              "      padding: 0 0 0 0;\n",
              "      width: 32px;\n",
              "    }\n",
              "\n",
              "    .colab-df-convert:hover {\n",
              "      background-color: #E2EBFA;\n",
              "      box-shadow: 0px 1px 2px rgba(60, 64, 67, 0.3), 0px 1px 3px 1px rgba(60, 64, 67, 0.15);\n",
              "      fill: #174EA6;\n",
              "    }\n",
              "\n",
              "    [theme=dark] .colab-df-convert {\n",
              "      background-color: #3B4455;\n",
              "      fill: #D2E3FC;\n",
              "    }\n",
              "\n",
              "    [theme=dark] .colab-df-convert:hover {\n",
              "      background-color: #434B5C;\n",
              "      box-shadow: 0px 1px 3px 1px rgba(0, 0, 0, 0.15);\n",
              "      filter: drop-shadow(0px 1px 2px rgba(0, 0, 0, 0.3));\n",
              "      fill: #FFFFFF;\n",
              "    }\n",
              "  </style>\n",
              "\n",
              "      <script>\n",
              "        const buttonEl =\n",
              "          document.querySelector('#df-35151ee1-20bc-4e4b-9b72-b32bd29acc93 button.colab-df-convert');\n",
              "        buttonEl.style.display =\n",
              "          google.colab.kernel.accessAllowed ? 'block' : 'none';\n",
              "\n",
              "        async function convertToInteractive(key) {\n",
              "          const element = document.querySelector('#df-35151ee1-20bc-4e4b-9b72-b32bd29acc93');\n",
              "          const dataTable =\n",
              "            await google.colab.kernel.invokeFunction('convertToInteractive',\n",
              "                                                     [key], {});\n",
              "          if (!dataTable) return;\n",
              "\n",
              "          const docLinkHtml = 'Like what you see? Visit the ' +\n",
              "            '<a target=\"_blank\" href=https://colab.research.google.com/notebooks/data_table.ipynb>data table notebook</a>'\n",
              "            + ' to learn more about interactive tables.';\n",
              "          element.innerHTML = '';\n",
              "          dataTable['output_type'] = 'display_data';\n",
              "          await google.colab.output.renderOutput(dataTable, element);\n",
              "          const docLink = document.createElement('div');\n",
              "          docLink.innerHTML = docLinkHtml;\n",
              "          element.appendChild(docLink);\n",
              "        }\n",
              "      </script>\n",
              "    </div>\n",
              "  </div>\n",
              "  "
            ]
          },
          "metadata": {},
          "execution_count": 70
        }
      ]
    },
    {
      "cell_type": "code",
      "source": [
        "#create a new df to do problem 2 so we keep the original intact\n",
        "df_house2 = df_house\n",
        "df_house2"
      ],
      "metadata": {
        "colab": {
          "base_uri": "https://localhost:8080/",
          "height": 424
        },
        "id": "UlyGjrmdpe9n",
        "outputId": "7a488520-5364-4b15-e78b-bedbbc29c908"
      },
      "id": "UlyGjrmdpe9n",
      "execution_count": 73,
      "outputs": [
        {
          "output_type": "execute_result",
          "data": {
            "text/plain": [
              "     Home   Price  SqFt  Bedrooms  Bathrooms  Offers  Brick  Neighborhood\n",
              "0       1  114300  1790         2          2       2      0             1\n",
              "1       2  114200  2030         4          2       3      0             1\n",
              "2       3  114800  1740         3          2       1      0             1\n",
              "3       4   94700  1980         3          2       3      0             1\n",
              "4       5  119800  2130         3          3       3      0             1\n",
              "..    ...     ...   ...       ...        ...     ...    ...           ...\n",
              "123   124  119700  1900         3          3       3      1             1\n",
              "124   125  147900  2160         4          3       3      1             1\n",
              "125   126  113500  2070         2          2       2      0             2\n",
              "126   127  149900  2020         3          3       1      0             3\n",
              "127   128  124600  2250         3          3       4      0             2\n",
              "\n",
              "[128 rows x 8 columns]"
            ],
            "text/html": [
              "\n",
              "  <div id=\"df-1f382c26-c453-4f77-8408-33e079f0fd81\">\n",
              "    <div class=\"colab-df-container\">\n",
              "      <div>\n",
              "<style scoped>\n",
              "    .dataframe tbody tr th:only-of-type {\n",
              "        vertical-align: middle;\n",
              "    }\n",
              "\n",
              "    .dataframe tbody tr th {\n",
              "        vertical-align: top;\n",
              "    }\n",
              "\n",
              "    .dataframe thead th {\n",
              "        text-align: right;\n",
              "    }\n",
              "</style>\n",
              "<table border=\"1\" class=\"dataframe\">\n",
              "  <thead>\n",
              "    <tr style=\"text-align: right;\">\n",
              "      <th></th>\n",
              "      <th>Home</th>\n",
              "      <th>Price</th>\n",
              "      <th>SqFt</th>\n",
              "      <th>Bedrooms</th>\n",
              "      <th>Bathrooms</th>\n",
              "      <th>Offers</th>\n",
              "      <th>Brick</th>\n",
              "      <th>Neighborhood</th>\n",
              "    </tr>\n",
              "  </thead>\n",
              "  <tbody>\n",
              "    <tr>\n",
              "      <th>0</th>\n",
              "      <td>1</td>\n",
              "      <td>114300</td>\n",
              "      <td>1790</td>\n",
              "      <td>2</td>\n",
              "      <td>2</td>\n",
              "      <td>2</td>\n",
              "      <td>0</td>\n",
              "      <td>1</td>\n",
              "    </tr>\n",
              "    <tr>\n",
              "      <th>1</th>\n",
              "      <td>2</td>\n",
              "      <td>114200</td>\n",
              "      <td>2030</td>\n",
              "      <td>4</td>\n",
              "      <td>2</td>\n",
              "      <td>3</td>\n",
              "      <td>0</td>\n",
              "      <td>1</td>\n",
              "    </tr>\n",
              "    <tr>\n",
              "      <th>2</th>\n",
              "      <td>3</td>\n",
              "      <td>114800</td>\n",
              "      <td>1740</td>\n",
              "      <td>3</td>\n",
              "      <td>2</td>\n",
              "      <td>1</td>\n",
              "      <td>0</td>\n",
              "      <td>1</td>\n",
              "    </tr>\n",
              "    <tr>\n",
              "      <th>3</th>\n",
              "      <td>4</td>\n",
              "      <td>94700</td>\n",
              "      <td>1980</td>\n",
              "      <td>3</td>\n",
              "      <td>2</td>\n",
              "      <td>3</td>\n",
              "      <td>0</td>\n",
              "      <td>1</td>\n",
              "    </tr>\n",
              "    <tr>\n",
              "      <th>4</th>\n",
              "      <td>5</td>\n",
              "      <td>119800</td>\n",
              "      <td>2130</td>\n",
              "      <td>3</td>\n",
              "      <td>3</td>\n",
              "      <td>3</td>\n",
              "      <td>0</td>\n",
              "      <td>1</td>\n",
              "    </tr>\n",
              "    <tr>\n",
              "      <th>...</th>\n",
              "      <td>...</td>\n",
              "      <td>...</td>\n",
              "      <td>...</td>\n",
              "      <td>...</td>\n",
              "      <td>...</td>\n",
              "      <td>...</td>\n",
              "      <td>...</td>\n",
              "      <td>...</td>\n",
              "    </tr>\n",
              "    <tr>\n",
              "      <th>123</th>\n",
              "      <td>124</td>\n",
              "      <td>119700</td>\n",
              "      <td>1900</td>\n",
              "      <td>3</td>\n",
              "      <td>3</td>\n",
              "      <td>3</td>\n",
              "      <td>1</td>\n",
              "      <td>1</td>\n",
              "    </tr>\n",
              "    <tr>\n",
              "      <th>124</th>\n",
              "      <td>125</td>\n",
              "      <td>147900</td>\n",
              "      <td>2160</td>\n",
              "      <td>4</td>\n",
              "      <td>3</td>\n",
              "      <td>3</td>\n",
              "      <td>1</td>\n",
              "      <td>1</td>\n",
              "    </tr>\n",
              "    <tr>\n",
              "      <th>125</th>\n",
              "      <td>126</td>\n",
              "      <td>113500</td>\n",
              "      <td>2070</td>\n",
              "      <td>2</td>\n",
              "      <td>2</td>\n",
              "      <td>2</td>\n",
              "      <td>0</td>\n",
              "      <td>2</td>\n",
              "    </tr>\n",
              "    <tr>\n",
              "      <th>126</th>\n",
              "      <td>127</td>\n",
              "      <td>149900</td>\n",
              "      <td>2020</td>\n",
              "      <td>3</td>\n",
              "      <td>3</td>\n",
              "      <td>1</td>\n",
              "      <td>0</td>\n",
              "      <td>3</td>\n",
              "    </tr>\n",
              "    <tr>\n",
              "      <th>127</th>\n",
              "      <td>128</td>\n",
              "      <td>124600</td>\n",
              "      <td>2250</td>\n",
              "      <td>3</td>\n",
              "      <td>3</td>\n",
              "      <td>4</td>\n",
              "      <td>0</td>\n",
              "      <td>2</td>\n",
              "    </tr>\n",
              "  </tbody>\n",
              "</table>\n",
              "<p>128 rows × 8 columns</p>\n",
              "</div>\n",
              "      <button class=\"colab-df-convert\" onclick=\"convertToInteractive('df-1f382c26-c453-4f77-8408-33e079f0fd81')\"\n",
              "              title=\"Convert this dataframe to an interactive table.\"\n",
              "              style=\"display:none;\">\n",
              "        \n",
              "  <svg xmlns=\"http://www.w3.org/2000/svg\" height=\"24px\"viewBox=\"0 0 24 24\"\n",
              "       width=\"24px\">\n",
              "    <path d=\"M0 0h24v24H0V0z\" fill=\"none\"/>\n",
              "    <path d=\"M18.56 5.44l.94 2.06.94-2.06 2.06-.94-2.06-.94-.94-2.06-.94 2.06-2.06.94zm-11 1L8.5 8.5l.94-2.06 2.06-.94-2.06-.94L8.5 2.5l-.94 2.06-2.06.94zm10 10l.94 2.06.94-2.06 2.06-.94-2.06-.94-.94-2.06-.94 2.06-2.06.94z\"/><path d=\"M17.41 7.96l-1.37-1.37c-.4-.4-.92-.59-1.43-.59-.52 0-1.04.2-1.43.59L10.3 9.45l-7.72 7.72c-.78.78-.78 2.05 0 2.83L4 21.41c.39.39.9.59 1.41.59.51 0 1.02-.2 1.41-.59l7.78-7.78 2.81-2.81c.8-.78.8-2.07 0-2.86zM5.41 20L4 18.59l7.72-7.72 1.47 1.35L5.41 20z\"/>\n",
              "  </svg>\n",
              "      </button>\n",
              "      \n",
              "  <style>\n",
              "    .colab-df-container {\n",
              "      display:flex;\n",
              "      flex-wrap:wrap;\n",
              "      gap: 12px;\n",
              "    }\n",
              "\n",
              "    .colab-df-convert {\n",
              "      background-color: #E8F0FE;\n",
              "      border: none;\n",
              "      border-radius: 50%;\n",
              "      cursor: pointer;\n",
              "      display: none;\n",
              "      fill: #1967D2;\n",
              "      height: 32px;\n",
              "      padding: 0 0 0 0;\n",
              "      width: 32px;\n",
              "    }\n",
              "\n",
              "    .colab-df-convert:hover {\n",
              "      background-color: #E2EBFA;\n",
              "      box-shadow: 0px 1px 2px rgba(60, 64, 67, 0.3), 0px 1px 3px 1px rgba(60, 64, 67, 0.15);\n",
              "      fill: #174EA6;\n",
              "    }\n",
              "\n",
              "    [theme=dark] .colab-df-convert {\n",
              "      background-color: #3B4455;\n",
              "      fill: #D2E3FC;\n",
              "    }\n",
              "\n",
              "    [theme=dark] .colab-df-convert:hover {\n",
              "      background-color: #434B5C;\n",
              "      box-shadow: 0px 1px 3px 1px rgba(0, 0, 0, 0.15);\n",
              "      filter: drop-shadow(0px 1px 2px rgba(0, 0, 0, 0.3));\n",
              "      fill: #FFFFFF;\n",
              "    }\n",
              "  </style>\n",
              "\n",
              "      <script>\n",
              "        const buttonEl =\n",
              "          document.querySelector('#df-1f382c26-c453-4f77-8408-33e079f0fd81 button.colab-df-convert');\n",
              "        buttonEl.style.display =\n",
              "          google.colab.kernel.accessAllowed ? 'block' : 'none';\n",
              "\n",
              "        async function convertToInteractive(key) {\n",
              "          const element = document.querySelector('#df-1f382c26-c453-4f77-8408-33e079f0fd81');\n",
              "          const dataTable =\n",
              "            await google.colab.kernel.invokeFunction('convertToInteractive',\n",
              "                                                     [key], {});\n",
              "          if (!dataTable) return;\n",
              "\n",
              "          const docLinkHtml = 'Like what you see? Visit the ' +\n",
              "            '<a target=\"_blank\" href=https://colab.research.google.com/notebooks/data_table.ipynb>data table notebook</a>'\n",
              "            + ' to learn more about interactive tables.';\n",
              "          element.innerHTML = '';\n",
              "          dataTable['output_type'] = 'display_data';\n",
              "          await google.colab.output.renderOutput(dataTable, element);\n",
              "          const docLink = document.createElement('div');\n",
              "          docLink.innerHTML = docLinkHtml;\n",
              "          element.appendChild(docLink);\n",
              "        }\n",
              "      </script>\n",
              "    </div>\n",
              "  </div>\n",
              "  "
            ]
          },
          "metadata": {},
          "execution_count": 73
        }
      ]
    },
    {
      "cell_type": "code",
      "source": [
        "print(\"Number of null values:\", df_house2[\"Price\"].isnull().sum())"
      ],
      "metadata": {
        "colab": {
          "base_uri": "https://localhost:8080/",
          "height": 0
        },
        "id": "sd6NPfIqo8jh",
        "outputId": "d8eb0222-c173-43ae-f405-69070f6eb49f"
      },
      "id": "sd6NPfIqo8jh",
      "execution_count": 74,
      "outputs": [
        {
          "output_type": "stream",
          "name": "stdout",
          "text": [
            "Number of null values: 0\n"
          ]
        }
      ]
    },
    {
      "cell_type": "markdown",
      "source": [
        "**No null values as tested in Problem 1. No need to do .dropna**\n"
      ],
      "metadata": {
        "id": "QyWHpmsDpCZ-"
      },
      "id": "QyWHpmsDpCZ-"
    },
    {
      "cell_type": "markdown",
      "source": [
        "<br>\n",
        "Split the df to train and test:"
      ],
      "metadata": {
        "id": "gt2fledg7-TO"
      },
      "id": "gt2fledg7-TO"
    },
    {
      "cell_type": "code",
      "source": [
        "df_train2 = df_house2.sample(frac=0.8, random_state=20)\n",
        "df_test2 = df_house2.drop(df_train2.index)\n",
        "df_train2"
      ],
      "metadata": {
        "colab": {
          "base_uri": "https://localhost:8080/",
          "height": 424
        },
        "id": "q2xSqRU27SQk",
        "outputId": "bd968c2d-960b-4abc-80b7-fbf9fb76073c"
      },
      "id": "q2xSqRU27SQk",
      "execution_count": 144,
      "outputs": [
        {
          "output_type": "execute_result",
          "data": {
            "text/plain": [
              "     Home   Price  SqFt  Bedrooms  Bathrooms  Offers  Brick  Neighborhood\n",
              "76     77  129800  1930         3          2       2      0             3\n",
              "0       1  114300  1790         2          2       2      0             1\n",
              "66     67  126200  2210         3          3       4      0             2\n",
              "56     57  140900  2190         3          2       3      1             1\n",
              "78     79  121300  2130         3          2       3      0             2\n",
              "..    ...     ...   ...       ...        ...     ...    ...           ...\n",
              "119   120  109700  1920         2          2       4      0             2\n",
              "13     14  126300  2150         3          3       5      1             2\n",
              "111   112  114900  1740         2          2       2      0             2\n",
              "6       7  151600  1830         3          3       3      1             3\n",
              "98     99  145500  2060         3          2       1      0             3\n",
              "\n",
              "[102 rows x 8 columns]"
            ],
            "text/html": [
              "\n",
              "  <div id=\"df-04736630-d55e-4b67-adf8-6bc64f08b5cd\">\n",
              "    <div class=\"colab-df-container\">\n",
              "      <div>\n",
              "<style scoped>\n",
              "    .dataframe tbody tr th:only-of-type {\n",
              "        vertical-align: middle;\n",
              "    }\n",
              "\n",
              "    .dataframe tbody tr th {\n",
              "        vertical-align: top;\n",
              "    }\n",
              "\n",
              "    .dataframe thead th {\n",
              "        text-align: right;\n",
              "    }\n",
              "</style>\n",
              "<table border=\"1\" class=\"dataframe\">\n",
              "  <thead>\n",
              "    <tr style=\"text-align: right;\">\n",
              "      <th></th>\n",
              "      <th>Home</th>\n",
              "      <th>Price</th>\n",
              "      <th>SqFt</th>\n",
              "      <th>Bedrooms</th>\n",
              "      <th>Bathrooms</th>\n",
              "      <th>Offers</th>\n",
              "      <th>Brick</th>\n",
              "      <th>Neighborhood</th>\n",
              "    </tr>\n",
              "  </thead>\n",
              "  <tbody>\n",
              "    <tr>\n",
              "      <th>76</th>\n",
              "      <td>77</td>\n",
              "      <td>129800</td>\n",
              "      <td>1930</td>\n",
              "      <td>3</td>\n",
              "      <td>2</td>\n",
              "      <td>2</td>\n",
              "      <td>0</td>\n",
              "      <td>3</td>\n",
              "    </tr>\n",
              "    <tr>\n",
              "      <th>0</th>\n",
              "      <td>1</td>\n",
              "      <td>114300</td>\n",
              "      <td>1790</td>\n",
              "      <td>2</td>\n",
              "      <td>2</td>\n",
              "      <td>2</td>\n",
              "      <td>0</td>\n",
              "      <td>1</td>\n",
              "    </tr>\n",
              "    <tr>\n",
              "      <th>66</th>\n",
              "      <td>67</td>\n",
              "      <td>126200</td>\n",
              "      <td>2210</td>\n",
              "      <td>3</td>\n",
              "      <td>3</td>\n",
              "      <td>4</td>\n",
              "      <td>0</td>\n",
              "      <td>2</td>\n",
              "    </tr>\n",
              "    <tr>\n",
              "      <th>56</th>\n",
              "      <td>57</td>\n",
              "      <td>140900</td>\n",
              "      <td>2190</td>\n",
              "      <td>3</td>\n",
              "      <td>2</td>\n",
              "      <td>3</td>\n",
              "      <td>1</td>\n",
              "      <td>1</td>\n",
              "    </tr>\n",
              "    <tr>\n",
              "      <th>78</th>\n",
              "      <td>79</td>\n",
              "      <td>121300</td>\n",
              "      <td>2130</td>\n",
              "      <td>3</td>\n",
              "      <td>2</td>\n",
              "      <td>3</td>\n",
              "      <td>0</td>\n",
              "      <td>2</td>\n",
              "    </tr>\n",
              "    <tr>\n",
              "      <th>...</th>\n",
              "      <td>...</td>\n",
              "      <td>...</td>\n",
              "      <td>...</td>\n",
              "      <td>...</td>\n",
              "      <td>...</td>\n",
              "      <td>...</td>\n",
              "      <td>...</td>\n",
              "      <td>...</td>\n",
              "    </tr>\n",
              "    <tr>\n",
              "      <th>119</th>\n",
              "      <td>120</td>\n",
              "      <td>109700</td>\n",
              "      <td>1920</td>\n",
              "      <td>2</td>\n",
              "      <td>2</td>\n",
              "      <td>4</td>\n",
              "      <td>0</td>\n",
              "      <td>2</td>\n",
              "    </tr>\n",
              "    <tr>\n",
              "      <th>13</th>\n",
              "      <td>14</td>\n",
              "      <td>126300</td>\n",
              "      <td>2150</td>\n",
              "      <td>3</td>\n",
              "      <td>3</td>\n",
              "      <td>5</td>\n",
              "      <td>1</td>\n",
              "      <td>2</td>\n",
              "    </tr>\n",
              "    <tr>\n",
              "      <th>111</th>\n",
              "      <td>112</td>\n",
              "      <td>114900</td>\n",
              "      <td>1740</td>\n",
              "      <td>2</td>\n",
              "      <td>2</td>\n",
              "      <td>2</td>\n",
              "      <td>0</td>\n",
              "      <td>2</td>\n",
              "    </tr>\n",
              "    <tr>\n",
              "      <th>6</th>\n",
              "      <td>7</td>\n",
              "      <td>151600</td>\n",
              "      <td>1830</td>\n",
              "      <td>3</td>\n",
              "      <td>3</td>\n",
              "      <td>3</td>\n",
              "      <td>1</td>\n",
              "      <td>3</td>\n",
              "    </tr>\n",
              "    <tr>\n",
              "      <th>98</th>\n",
              "      <td>99</td>\n",
              "      <td>145500</td>\n",
              "      <td>2060</td>\n",
              "      <td>3</td>\n",
              "      <td>2</td>\n",
              "      <td>1</td>\n",
              "      <td>0</td>\n",
              "      <td>3</td>\n",
              "    </tr>\n",
              "  </tbody>\n",
              "</table>\n",
              "<p>102 rows × 8 columns</p>\n",
              "</div>\n",
              "      <button class=\"colab-df-convert\" onclick=\"convertToInteractive('df-04736630-d55e-4b67-adf8-6bc64f08b5cd')\"\n",
              "              title=\"Convert this dataframe to an interactive table.\"\n",
              "              style=\"display:none;\">\n",
              "        \n",
              "  <svg xmlns=\"http://www.w3.org/2000/svg\" height=\"24px\"viewBox=\"0 0 24 24\"\n",
              "       width=\"24px\">\n",
              "    <path d=\"M0 0h24v24H0V0z\" fill=\"none\"/>\n",
              "    <path d=\"M18.56 5.44l.94 2.06.94-2.06 2.06-.94-2.06-.94-.94-2.06-.94 2.06-2.06.94zm-11 1L8.5 8.5l.94-2.06 2.06-.94-2.06-.94L8.5 2.5l-.94 2.06-2.06.94zm10 10l.94 2.06.94-2.06 2.06-.94-2.06-.94-.94-2.06-.94 2.06-2.06.94z\"/><path d=\"M17.41 7.96l-1.37-1.37c-.4-.4-.92-.59-1.43-.59-.52 0-1.04.2-1.43.59L10.3 9.45l-7.72 7.72c-.78.78-.78 2.05 0 2.83L4 21.41c.39.39.9.59 1.41.59.51 0 1.02-.2 1.41-.59l7.78-7.78 2.81-2.81c.8-.78.8-2.07 0-2.86zM5.41 20L4 18.59l7.72-7.72 1.47 1.35L5.41 20z\"/>\n",
              "  </svg>\n",
              "      </button>\n",
              "      \n",
              "  <style>\n",
              "    .colab-df-container {\n",
              "      display:flex;\n",
              "      flex-wrap:wrap;\n",
              "      gap: 12px;\n",
              "    }\n",
              "\n",
              "    .colab-df-convert {\n",
              "      background-color: #E8F0FE;\n",
              "      border: none;\n",
              "      border-radius: 50%;\n",
              "      cursor: pointer;\n",
              "      display: none;\n",
              "      fill: #1967D2;\n",
              "      height: 32px;\n",
              "      padding: 0 0 0 0;\n",
              "      width: 32px;\n",
              "    }\n",
              "\n",
              "    .colab-df-convert:hover {\n",
              "      background-color: #E2EBFA;\n",
              "      box-shadow: 0px 1px 2px rgba(60, 64, 67, 0.3), 0px 1px 3px 1px rgba(60, 64, 67, 0.15);\n",
              "      fill: #174EA6;\n",
              "    }\n",
              "\n",
              "    [theme=dark] .colab-df-convert {\n",
              "      background-color: #3B4455;\n",
              "      fill: #D2E3FC;\n",
              "    }\n",
              "\n",
              "    [theme=dark] .colab-df-convert:hover {\n",
              "      background-color: #434B5C;\n",
              "      box-shadow: 0px 1px 3px 1px rgba(0, 0, 0, 0.15);\n",
              "      filter: drop-shadow(0px 1px 2px rgba(0, 0, 0, 0.3));\n",
              "      fill: #FFFFFF;\n",
              "    }\n",
              "  </style>\n",
              "\n",
              "      <script>\n",
              "        const buttonEl =\n",
              "          document.querySelector('#df-04736630-d55e-4b67-adf8-6bc64f08b5cd button.colab-df-convert');\n",
              "        buttonEl.style.display =\n",
              "          google.colab.kernel.accessAllowed ? 'block' : 'none';\n",
              "\n",
              "        async function convertToInteractive(key) {\n",
              "          const element = document.querySelector('#df-04736630-d55e-4b67-adf8-6bc64f08b5cd');\n",
              "          const dataTable =\n",
              "            await google.colab.kernel.invokeFunction('convertToInteractive',\n",
              "                                                     [key], {});\n",
              "          if (!dataTable) return;\n",
              "\n",
              "          const docLinkHtml = 'Like what you see? Visit the ' +\n",
              "            '<a target=\"_blank\" href=https://colab.research.google.com/notebooks/data_table.ipynb>data table notebook</a>'\n",
              "            + ' to learn more about interactive tables.';\n",
              "          element.innerHTML = '';\n",
              "          dataTable['output_type'] = 'display_data';\n",
              "          await google.colab.output.renderOutput(dataTable, element);\n",
              "          const docLink = document.createElement('div');\n",
              "          docLink.innerHTML = docLinkHtml;\n",
              "          element.appendChild(docLink);\n",
              "        }\n",
              "      </script>\n",
              "    </div>\n",
              "  </div>\n",
              "  "
            ]
          },
          "metadata": {},
          "execution_count": 144
        }
      ]
    },
    {
      "cell_type": "markdown",
      "source": [
        "**Now, work with the train dataset**"
      ],
      "metadata": {
        "id": "JUEKaGnB7hqf"
      },
      "id": "JUEKaGnB7hqf"
    },
    {
      "cell_type": "code",
      "execution_count": 155,
      "metadata": {
        "id": "-U25Dce8l4qk"
      },
      "outputs": [],
      "source": [
        "#keep all the independent variables except house index. \n",
        "\n",
        "#differentiate variables name from Problem 1, picked Y and X here.\n",
        "Y = df_house2.Price #dependent variable\n",
        "\n",
        "# Drop the column with the dependent variable (Price), house index, and columns for which we created dummy variables (none in this case)\n",
        "#define the feature set X_\n",
        "X = df_house2.drop(['Home', 'Price'], axis=1).astype('float64')\n",
        "#no need to concat since we changed the categorical with numbers"
      ],
      "id": "-U25Dce8l4qk"
    },
    {
      "cell_type": "code",
      "source": [
        "#check result\n",
        "Y"
      ],
      "metadata": {
        "colab": {
          "base_uri": "https://localhost:8080/",
          "height": 0
        },
        "id": "o7lAPsFwrnYN",
        "outputId": "bef0ce4c-113c-4b0b-9578-2342ad3ffd1c"
      },
      "id": "o7lAPsFwrnYN",
      "execution_count": 156,
      "outputs": [
        {
          "output_type": "execute_result",
          "data": {
            "text/plain": [
              "0      114300\n",
              "1      114200\n",
              "2      114800\n",
              "3       94700\n",
              "4      119800\n",
              "        ...  \n",
              "123    119700\n",
              "124    147900\n",
              "125    113500\n",
              "126    149900\n",
              "127    124600\n",
              "Name: Price, Length: 128, dtype: int64"
            ]
          },
          "metadata": {},
          "execution_count": 156
        }
      ]
    },
    {
      "cell_type": "code",
      "source": [
        "X"
      ],
      "metadata": {
        "colab": {
          "base_uri": "https://localhost:8080/",
          "height": 424
        },
        "id": "WMvWHikOriri",
        "outputId": "720d62f7-3aa8-40b4-b358-5c0d35be668f"
      },
      "id": "WMvWHikOriri",
      "execution_count": 157,
      "outputs": [
        {
          "output_type": "execute_result",
          "data": {
            "text/plain": [
              "       SqFt  Bedrooms  Bathrooms  Offers  Brick  Neighborhood\n",
              "0    1790.0       2.0        2.0     2.0    0.0           1.0\n",
              "1    2030.0       4.0        2.0     3.0    0.0           1.0\n",
              "2    1740.0       3.0        2.0     1.0    0.0           1.0\n",
              "3    1980.0       3.0        2.0     3.0    0.0           1.0\n",
              "4    2130.0       3.0        3.0     3.0    0.0           1.0\n",
              "..      ...       ...        ...     ...    ...           ...\n",
              "123  1900.0       3.0        3.0     3.0    1.0           1.0\n",
              "124  2160.0       4.0        3.0     3.0    1.0           1.0\n",
              "125  2070.0       2.0        2.0     2.0    0.0           2.0\n",
              "126  2020.0       3.0        3.0     1.0    0.0           3.0\n",
              "127  2250.0       3.0        3.0     4.0    0.0           2.0\n",
              "\n",
              "[128 rows x 6 columns]"
            ],
            "text/html": [
              "\n",
              "  <div id=\"df-5d3ad041-74ab-4fb2-aab0-dfaabaaeea73\">\n",
              "    <div class=\"colab-df-container\">\n",
              "      <div>\n",
              "<style scoped>\n",
              "    .dataframe tbody tr th:only-of-type {\n",
              "        vertical-align: middle;\n",
              "    }\n",
              "\n",
              "    .dataframe tbody tr th {\n",
              "        vertical-align: top;\n",
              "    }\n",
              "\n",
              "    .dataframe thead th {\n",
              "        text-align: right;\n",
              "    }\n",
              "</style>\n",
              "<table border=\"1\" class=\"dataframe\">\n",
              "  <thead>\n",
              "    <tr style=\"text-align: right;\">\n",
              "      <th></th>\n",
              "      <th>SqFt</th>\n",
              "      <th>Bedrooms</th>\n",
              "      <th>Bathrooms</th>\n",
              "      <th>Offers</th>\n",
              "      <th>Brick</th>\n",
              "      <th>Neighborhood</th>\n",
              "    </tr>\n",
              "  </thead>\n",
              "  <tbody>\n",
              "    <tr>\n",
              "      <th>0</th>\n",
              "      <td>1790.0</td>\n",
              "      <td>2.0</td>\n",
              "      <td>2.0</td>\n",
              "      <td>2.0</td>\n",
              "      <td>0.0</td>\n",
              "      <td>1.0</td>\n",
              "    </tr>\n",
              "    <tr>\n",
              "      <th>1</th>\n",
              "      <td>2030.0</td>\n",
              "      <td>4.0</td>\n",
              "      <td>2.0</td>\n",
              "      <td>3.0</td>\n",
              "      <td>0.0</td>\n",
              "      <td>1.0</td>\n",
              "    </tr>\n",
              "    <tr>\n",
              "      <th>2</th>\n",
              "      <td>1740.0</td>\n",
              "      <td>3.0</td>\n",
              "      <td>2.0</td>\n",
              "      <td>1.0</td>\n",
              "      <td>0.0</td>\n",
              "      <td>1.0</td>\n",
              "    </tr>\n",
              "    <tr>\n",
              "      <th>3</th>\n",
              "      <td>1980.0</td>\n",
              "      <td>3.0</td>\n",
              "      <td>2.0</td>\n",
              "      <td>3.0</td>\n",
              "      <td>0.0</td>\n",
              "      <td>1.0</td>\n",
              "    </tr>\n",
              "    <tr>\n",
              "      <th>4</th>\n",
              "      <td>2130.0</td>\n",
              "      <td>3.0</td>\n",
              "      <td>3.0</td>\n",
              "      <td>3.0</td>\n",
              "      <td>0.0</td>\n",
              "      <td>1.0</td>\n",
              "    </tr>\n",
              "    <tr>\n",
              "      <th>...</th>\n",
              "      <td>...</td>\n",
              "      <td>...</td>\n",
              "      <td>...</td>\n",
              "      <td>...</td>\n",
              "      <td>...</td>\n",
              "      <td>...</td>\n",
              "    </tr>\n",
              "    <tr>\n",
              "      <th>123</th>\n",
              "      <td>1900.0</td>\n",
              "      <td>3.0</td>\n",
              "      <td>3.0</td>\n",
              "      <td>3.0</td>\n",
              "      <td>1.0</td>\n",
              "      <td>1.0</td>\n",
              "    </tr>\n",
              "    <tr>\n",
              "      <th>124</th>\n",
              "      <td>2160.0</td>\n",
              "      <td>4.0</td>\n",
              "      <td>3.0</td>\n",
              "      <td>3.0</td>\n",
              "      <td>1.0</td>\n",
              "      <td>1.0</td>\n",
              "    </tr>\n",
              "    <tr>\n",
              "      <th>125</th>\n",
              "      <td>2070.0</td>\n",
              "      <td>2.0</td>\n",
              "      <td>2.0</td>\n",
              "      <td>2.0</td>\n",
              "      <td>0.0</td>\n",
              "      <td>2.0</td>\n",
              "    </tr>\n",
              "    <tr>\n",
              "      <th>126</th>\n",
              "      <td>2020.0</td>\n",
              "      <td>3.0</td>\n",
              "      <td>3.0</td>\n",
              "      <td>1.0</td>\n",
              "      <td>0.0</td>\n",
              "      <td>3.0</td>\n",
              "    </tr>\n",
              "    <tr>\n",
              "      <th>127</th>\n",
              "      <td>2250.0</td>\n",
              "      <td>3.0</td>\n",
              "      <td>3.0</td>\n",
              "      <td>4.0</td>\n",
              "      <td>0.0</td>\n",
              "      <td>2.0</td>\n",
              "    </tr>\n",
              "  </tbody>\n",
              "</table>\n",
              "<p>128 rows × 6 columns</p>\n",
              "</div>\n",
              "      <button class=\"colab-df-convert\" onclick=\"convertToInteractive('df-5d3ad041-74ab-4fb2-aab0-dfaabaaeea73')\"\n",
              "              title=\"Convert this dataframe to an interactive table.\"\n",
              "              style=\"display:none;\">\n",
              "        \n",
              "  <svg xmlns=\"http://www.w3.org/2000/svg\" height=\"24px\"viewBox=\"0 0 24 24\"\n",
              "       width=\"24px\">\n",
              "    <path d=\"M0 0h24v24H0V0z\" fill=\"none\"/>\n",
              "    <path d=\"M18.56 5.44l.94 2.06.94-2.06 2.06-.94-2.06-.94-.94-2.06-.94 2.06-2.06.94zm-11 1L8.5 8.5l.94-2.06 2.06-.94-2.06-.94L8.5 2.5l-.94 2.06-2.06.94zm10 10l.94 2.06.94-2.06 2.06-.94-2.06-.94-.94-2.06-.94 2.06-2.06.94z\"/><path d=\"M17.41 7.96l-1.37-1.37c-.4-.4-.92-.59-1.43-.59-.52 0-1.04.2-1.43.59L10.3 9.45l-7.72 7.72c-.78.78-.78 2.05 0 2.83L4 21.41c.39.39.9.59 1.41.59.51 0 1.02-.2 1.41-.59l7.78-7.78 2.81-2.81c.8-.78.8-2.07 0-2.86zM5.41 20L4 18.59l7.72-7.72 1.47 1.35L5.41 20z\"/>\n",
              "  </svg>\n",
              "      </button>\n",
              "      \n",
              "  <style>\n",
              "    .colab-df-container {\n",
              "      display:flex;\n",
              "      flex-wrap:wrap;\n",
              "      gap: 12px;\n",
              "    }\n",
              "\n",
              "    .colab-df-convert {\n",
              "      background-color: #E8F0FE;\n",
              "      border: none;\n",
              "      border-radius: 50%;\n",
              "      cursor: pointer;\n",
              "      display: none;\n",
              "      fill: #1967D2;\n",
              "      height: 32px;\n",
              "      padding: 0 0 0 0;\n",
              "      width: 32px;\n",
              "    }\n",
              "\n",
              "    .colab-df-convert:hover {\n",
              "      background-color: #E2EBFA;\n",
              "      box-shadow: 0px 1px 2px rgba(60, 64, 67, 0.3), 0px 1px 3px 1px rgba(60, 64, 67, 0.15);\n",
              "      fill: #174EA6;\n",
              "    }\n",
              "\n",
              "    [theme=dark] .colab-df-convert {\n",
              "      background-color: #3B4455;\n",
              "      fill: #D2E3FC;\n",
              "    }\n",
              "\n",
              "    [theme=dark] .colab-df-convert:hover {\n",
              "      background-color: #434B5C;\n",
              "      box-shadow: 0px 1px 3px 1px rgba(0, 0, 0, 0.15);\n",
              "      filter: drop-shadow(0px 1px 2px rgba(0, 0, 0, 0.3));\n",
              "      fill: #FFFFFF;\n",
              "    }\n",
              "  </style>\n",
              "\n",
              "      <script>\n",
              "        const buttonEl =\n",
              "          document.querySelector('#df-5d3ad041-74ab-4fb2-aab0-dfaabaaeea73 button.colab-df-convert');\n",
              "        buttonEl.style.display =\n",
              "          google.colab.kernel.accessAllowed ? 'block' : 'none';\n",
              "\n",
              "        async function convertToInteractive(key) {\n",
              "          const element = document.querySelector('#df-5d3ad041-74ab-4fb2-aab0-dfaabaaeea73');\n",
              "          const dataTable =\n",
              "            await google.colab.kernel.invokeFunction('convertToInteractive',\n",
              "                                                     [key], {});\n",
              "          if (!dataTable) return;\n",
              "\n",
              "          const docLinkHtml = 'Like what you see? Visit the ' +\n",
              "            '<a target=\"_blank\" href=https://colab.research.google.com/notebooks/data_table.ipynb>data table notebook</a>'\n",
              "            + ' to learn more about interactive tables.';\n",
              "          element.innerHTML = '';\n",
              "          dataTable['output_type'] = 'display_data';\n",
              "          await google.colab.output.renderOutput(dataTable, element);\n",
              "          const docLink = document.createElement('div');\n",
              "          docLink.innerHTML = docLinkHtml;\n",
              "          element.appendChild(docLink);\n",
              "        }\n",
              "      </script>\n",
              "    </div>\n",
              "  </div>\n",
              "  "
            ]
          },
          "metadata": {},
          "execution_count": 157
        }
      ]
    },
    {
      "cell_type": "markdown",
      "source": [
        "### Best Subset Selection\n",
        "<br>\n",
        "We can perform best subset selection by identifying the best model that contains a given number of predictors, where **best** is quantified using RSS. We'll define a helper function to outputs the best set of variables for\n",
        "each model size:"
      ],
      "metadata": {
        "id": "HqE5ZHNF2WIP"
      },
      "id": "HqE5ZHNF2WIP"
    },
    {
      "cell_type": "code",
      "execution_count": 158,
      "metadata": {
        "id": "Un5LeYIcl4qm"
      },
      "outputs": [],
      "source": [
        "def processSubset(feature_set):\n",
        "    # Fit model on feature_set and calculate RSS\n",
        "    model = sm.OLS(Y,X[list(feature_set)])\n",
        "    regr = model.fit()\n",
        "    RSS = ((regr.predict(X[list(feature_set)]) - Y) ** 2).sum()\n",
        "    return {\"model\":regr, \"RSS\":RSS}"
      ],
      "id": "Un5LeYIcl4qm"
    },
    {
      "cell_type": "code",
      "execution_count": 159,
      "metadata": {
        "id": "eX_EgIsil4qn"
      },
      "outputs": [],
      "source": [
        "def getBest(k):\n",
        "    \n",
        "    tic = time.time()\n",
        "    \n",
        "    results = []\n",
        "    \n",
        "    for combo in itertools.combinations(X.columns, k):\n",
        "        results.append(processSubset(combo))\n",
        "    \n",
        "    # Wrap everything up in a nice dataframe\n",
        "    models = pd.DataFrame(results)\n",
        "    \n",
        "    # Choose the model with the highest RSS\n",
        "    best_model = models.loc[models['RSS'].argmin()]\n",
        "    \n",
        "    toc = time.time()\n",
        "    print(\"Processed\", models.shape[0], \"models on\", k, \"predictors in\", (toc-tic), \"seconds.\")\n",
        "    \n",
        "    # Return the best model, along with some other useful information about the model\n",
        "    return best_model"
      ],
      "id": "eX_EgIsil4qn"
    },
    {
      "cell_type": "markdown",
      "metadata": {
        "id": "gkj590e7l4qn"
      },
      "source": [
        "This returns a `DataFrame` containing the best model that we generated, along with some extra information about the model. Now we want to call that function for each number of predictors $k$:"
      ],
      "id": "gkj590e7l4qn"
    },
    {
      "cell_type": "code",
      "execution_count": 160,
      "metadata": {
        "id": "lde4RaOGl4qo",
        "outputId": "b14022a2-f1eb-4edf-cfb9-6c391f35e40a",
        "colab": {
          "base_uri": "https://localhost:8080/",
          "height": 0
        }
      },
      "outputs": [
        {
          "output_type": "stream",
          "name": "stdout",
          "text": [
            "Processed 6 models on 1 predictors in 0.014320611953735352 seconds.\n",
            "Processed 15 models on 2 predictors in 0.03938412666320801 seconds.\n",
            "Processed 20 models on 3 predictors in 0.0469357967376709 seconds.\n",
            "Processed 15 models on 4 predictors in 0.03879117965698242 seconds.\n",
            "Processed 6 models on 5 predictors in 0.020453453063964844 seconds.\n",
            "Processed 1 models on 6 predictors in 0.006433963775634766 seconds.\n",
            "Total elapsed time: 0.18680095672607422 seconds.\n"
          ]
        }
      ],
      "source": [
        "# Could take quite awhile to complete depending on the size of the dataset...\n",
        "\n",
        "models_best = pd.DataFrame(columns=[\"RSS\", \"model\"])\n",
        "\n",
        "tic = time.time()\n",
        "for i in range(1,7): #range includes # of predictor, since we have 6 independent variable, use 7 (excluding last number)\n",
        "    models_best.loc[i] = getBest(i)\n",
        "\n",
        "toc = time.time()\n",
        "print(\"Total elapsed time:\", (toc-tic), \"seconds.\")"
      ],
      "id": "lde4RaOGl4qo"
    },
    {
      "cell_type": "markdown",
      "metadata": {
        "id": "oGbl2l_bl4qo"
      },
      "source": [
        "Now we have one big `DataFrame` that contains the best models we've generated along with their RSS:"
      ],
      "id": "oGbl2l_bl4qo"
    },
    {
      "cell_type": "code",
      "execution_count": 161,
      "metadata": {
        "id": "uOA5ZGt1l4qo",
        "outputId": "bff20063-f3d2-4efc-b640-666fa17e285a",
        "colab": {
          "base_uri": "https://localhost:8080/",
          "height": 237
        }
      },
      "outputs": [
        {
          "output_type": "execute_result",
          "data": {
            "text/plain": [
              "            RSS                                              model\n",
              "1  6.379185e+10  <statsmodels.regression.linear_model.Regressio...\n",
              "2  3.846267e+10  <statsmodels.regression.linear_model.Regressio...\n",
              "3  2.907627e+10  <statsmodels.regression.linear_model.Regressio...\n",
              "4  1.915185e+10  <statsmodels.regression.linear_model.Regressio...\n",
              "5  1.617390e+10  <statsmodels.regression.linear_model.Regressio...\n",
              "6  1.441067e+10  <statsmodels.regression.linear_model.Regressio..."
            ],
            "text/html": [
              "\n",
              "  <div id=\"df-ac4eb9b0-2698-4e4b-9f3b-73ed08e4aecd\">\n",
              "    <div class=\"colab-df-container\">\n",
              "      <div>\n",
              "<style scoped>\n",
              "    .dataframe tbody tr th:only-of-type {\n",
              "        vertical-align: middle;\n",
              "    }\n",
              "\n",
              "    .dataframe tbody tr th {\n",
              "        vertical-align: top;\n",
              "    }\n",
              "\n",
              "    .dataframe thead th {\n",
              "        text-align: right;\n",
              "    }\n",
              "</style>\n",
              "<table border=\"1\" class=\"dataframe\">\n",
              "  <thead>\n",
              "    <tr style=\"text-align: right;\">\n",
              "      <th></th>\n",
              "      <th>RSS</th>\n",
              "      <th>model</th>\n",
              "    </tr>\n",
              "  </thead>\n",
              "  <tbody>\n",
              "    <tr>\n",
              "      <th>1</th>\n",
              "      <td>6.379185e+10</td>\n",
              "      <td>&lt;statsmodels.regression.linear_model.Regressio...</td>\n",
              "    </tr>\n",
              "    <tr>\n",
              "      <th>2</th>\n",
              "      <td>3.846267e+10</td>\n",
              "      <td>&lt;statsmodels.regression.linear_model.Regressio...</td>\n",
              "    </tr>\n",
              "    <tr>\n",
              "      <th>3</th>\n",
              "      <td>2.907627e+10</td>\n",
              "      <td>&lt;statsmodels.regression.linear_model.Regressio...</td>\n",
              "    </tr>\n",
              "    <tr>\n",
              "      <th>4</th>\n",
              "      <td>1.915185e+10</td>\n",
              "      <td>&lt;statsmodels.regression.linear_model.Regressio...</td>\n",
              "    </tr>\n",
              "    <tr>\n",
              "      <th>5</th>\n",
              "      <td>1.617390e+10</td>\n",
              "      <td>&lt;statsmodels.regression.linear_model.Regressio...</td>\n",
              "    </tr>\n",
              "    <tr>\n",
              "      <th>6</th>\n",
              "      <td>1.441067e+10</td>\n",
              "      <td>&lt;statsmodels.regression.linear_model.Regressio...</td>\n",
              "    </tr>\n",
              "  </tbody>\n",
              "</table>\n",
              "</div>\n",
              "      <button class=\"colab-df-convert\" onclick=\"convertToInteractive('df-ac4eb9b0-2698-4e4b-9f3b-73ed08e4aecd')\"\n",
              "              title=\"Convert this dataframe to an interactive table.\"\n",
              "              style=\"display:none;\">\n",
              "        \n",
              "  <svg xmlns=\"http://www.w3.org/2000/svg\" height=\"24px\"viewBox=\"0 0 24 24\"\n",
              "       width=\"24px\">\n",
              "    <path d=\"M0 0h24v24H0V0z\" fill=\"none\"/>\n",
              "    <path d=\"M18.56 5.44l.94 2.06.94-2.06 2.06-.94-2.06-.94-.94-2.06-.94 2.06-2.06.94zm-11 1L8.5 8.5l.94-2.06 2.06-.94-2.06-.94L8.5 2.5l-.94 2.06-2.06.94zm10 10l.94 2.06.94-2.06 2.06-.94-2.06-.94-.94-2.06-.94 2.06-2.06.94z\"/><path d=\"M17.41 7.96l-1.37-1.37c-.4-.4-.92-.59-1.43-.59-.52 0-1.04.2-1.43.59L10.3 9.45l-7.72 7.72c-.78.78-.78 2.05 0 2.83L4 21.41c.39.39.9.59 1.41.59.51 0 1.02-.2 1.41-.59l7.78-7.78 2.81-2.81c.8-.78.8-2.07 0-2.86zM5.41 20L4 18.59l7.72-7.72 1.47 1.35L5.41 20z\"/>\n",
              "  </svg>\n",
              "      </button>\n",
              "      \n",
              "  <style>\n",
              "    .colab-df-container {\n",
              "      display:flex;\n",
              "      flex-wrap:wrap;\n",
              "      gap: 12px;\n",
              "    }\n",
              "\n",
              "    .colab-df-convert {\n",
              "      background-color: #E8F0FE;\n",
              "      border: none;\n",
              "      border-radius: 50%;\n",
              "      cursor: pointer;\n",
              "      display: none;\n",
              "      fill: #1967D2;\n",
              "      height: 32px;\n",
              "      padding: 0 0 0 0;\n",
              "      width: 32px;\n",
              "    }\n",
              "\n",
              "    .colab-df-convert:hover {\n",
              "      background-color: #E2EBFA;\n",
              "      box-shadow: 0px 1px 2px rgba(60, 64, 67, 0.3), 0px 1px 3px 1px rgba(60, 64, 67, 0.15);\n",
              "      fill: #174EA6;\n",
              "    }\n",
              "\n",
              "    [theme=dark] .colab-df-convert {\n",
              "      background-color: #3B4455;\n",
              "      fill: #D2E3FC;\n",
              "    }\n",
              "\n",
              "    [theme=dark] .colab-df-convert:hover {\n",
              "      background-color: #434B5C;\n",
              "      box-shadow: 0px 1px 3px 1px rgba(0, 0, 0, 0.15);\n",
              "      filter: drop-shadow(0px 1px 2px rgba(0, 0, 0, 0.3));\n",
              "      fill: #FFFFFF;\n",
              "    }\n",
              "  </style>\n",
              "\n",
              "      <script>\n",
              "        const buttonEl =\n",
              "          document.querySelector('#df-ac4eb9b0-2698-4e4b-9f3b-73ed08e4aecd button.colab-df-convert');\n",
              "        buttonEl.style.display =\n",
              "          google.colab.kernel.accessAllowed ? 'block' : 'none';\n",
              "\n",
              "        async function convertToInteractive(key) {\n",
              "          const element = document.querySelector('#df-ac4eb9b0-2698-4e4b-9f3b-73ed08e4aecd');\n",
              "          const dataTable =\n",
              "            await google.colab.kernel.invokeFunction('convertToInteractive',\n",
              "                                                     [key], {});\n",
              "          if (!dataTable) return;\n",
              "\n",
              "          const docLinkHtml = 'Like what you see? Visit the ' +\n",
              "            '<a target=\"_blank\" href=https://colab.research.google.com/notebooks/data_table.ipynb>data table notebook</a>'\n",
              "            + ' to learn more about interactive tables.';\n",
              "          element.innerHTML = '';\n",
              "          dataTable['output_type'] = 'display_data';\n",
              "          await google.colab.output.renderOutput(dataTable, element);\n",
              "          const docLink = document.createElement('div');\n",
              "          docLink.innerHTML = docLinkHtml;\n",
              "          element.appendChild(docLink);\n",
              "        }\n",
              "      </script>\n",
              "    </div>\n",
              "  </div>\n",
              "  "
            ]
          },
          "metadata": {},
          "execution_count": 161
        }
      ],
      "source": [
        "models_best"
      ],
      "id": "uOA5ZGt1l4qo"
    },
    {
      "cell_type": "markdown",
      "metadata": {
        "id": "ybbCg1gkl4qp"
      },
      "source": [
        "If we want to access the details of each model, no problem! We can get a full rundown of a single model using the `summary()` function:"
      ],
      "id": "ybbCg1gkl4qp"
    },
    {
      "cell_type": "code",
      "execution_count": 162,
      "metadata": {
        "id": "wGJ8bTW1l4qp",
        "outputId": "02aa085d-1f49-45a3-a0b7-0ef0ac959014",
        "colab": {
          "base_uri": "https://localhost:8080/",
          "height": 0
        }
      },
      "outputs": [
        {
          "output_type": "stream",
          "name": "stdout",
          "text": [
            "                                 OLS Regression Results                                \n",
            "=======================================================================================\n",
            "Dep. Variable:                  Price   R-squared (uncentered):                   0.983\n",
            "Model:                            OLS   Adj. R-squared (uncentered):              0.983\n",
            "Method:                 Least Squares   F-statistic:                              3654.\n",
            "Date:                Wed, 28 Sep 2022   Prob (F-statistic):                   2.74e-112\n",
            "Time:                        02:32:40   Log-Likelihood:                         -1431.0\n",
            "No. Observations:                 128   AIC:                                      2866.\n",
            "Df Residuals:                     126   BIC:                                      2872.\n",
            "Df Model:                           2                                                  \n",
            "Covariance Type:            nonrobust                                                  \n",
            "==============================================================================\n",
            "                 coef    std err          t      P>|t|      [0.025      0.975]\n",
            "------------------------------------------------------------------------------\n",
            "SqFt          83.3078      2.127     39.167      0.000      79.099      87.517\n",
            "Offers     -1.397e+04   1534.141     -9.109      0.000    -1.7e+04   -1.09e+04\n",
            "==============================================================================\n",
            "Omnibus:                        8.121   Durbin-Watson:                   2.010\n",
            "Prob(Omnibus):                  0.017   Jarque-Bera (JB):                8.231\n",
            "Skew:                           0.620   Prob(JB):                       0.0163\n",
            "Kurtosis:                       3.082   Cond. No.                     2.00e+03\n",
            "==============================================================================\n",
            "\n",
            "Notes:\n",
            "[1] R² is computed without centering (uncentered) since the model does not contain a constant.\n",
            "[2] Standard Errors assume that the covariance matrix of the errors is correctly specified.\n",
            "[3] The condition number is large,  2e+03. This might indicate that there are\n",
            "strong multicollinearity or other numerical problems.\n"
          ]
        }
      ],
      "source": [
        "print(models_best.loc[2, \"model\"].summary())"
      ],
      "id": "wGJ8bTW1l4qp"
    },
    {
      "cell_type": "markdown",
      "metadata": {
        "id": "iqxpuxLfl4qp"
      },
      "source": [
        "This output indicates that the best two-variable model\n",
        "contains only `SqFt` and `Offers`. Can use the functions we defined above to explore as many variables as are desired. If we want to show all 6 variables:"
      ],
      "id": "iqxpuxLfl4qp"
    },
    {
      "cell_type": "code",
      "execution_count": 163,
      "metadata": {
        "id": "f8lVX5Wgl4qq",
        "outputId": "f5d0e514-52a7-4e59-b5c8-7050df5793b9",
        "colab": {
          "base_uri": "https://localhost:8080/",
          "height": 0
        }
      },
      "outputs": [
        {
          "output_type": "stream",
          "name": "stdout",
          "text": [
            "Processed 1 models on 6 predictors in 0.005779266357421875 seconds.\n",
            "                                 OLS Regression Results                                \n",
            "=======================================================================================\n",
            "Dep. Variable:                  Price   R-squared (uncentered):                   0.994\n",
            "Model:                            OLS   Adj. R-squared (uncentered):              0.993\n",
            "Method:                 Least Squares   F-statistic:                              3181.\n",
            "Date:                Wed, 28 Sep 2022   Prob (F-statistic):                   1.81e-131\n",
            "Time:                        02:32:42   Log-Likelihood:                         -1368.1\n",
            "No. Observations:                 128   AIC:                                      2748.\n",
            "Df Residuals:                     122   BIC:                                      2765.\n",
            "Df Model:                           6                                                  \n",
            "Covariance Type:            nonrobust                                                  \n",
            "================================================================================\n",
            "                   coef    std err          t      P>|t|      [0.025      0.975]\n",
            "--------------------------------------------------------------------------------\n",
            "SqFt            45.7009      3.625     12.608      0.000      38.525      52.876\n",
            "Bedrooms      6775.7760   1618.193      4.187      0.000    3572.402    9979.150\n",
            "Bathrooms     8826.7372   2284.588      3.864      0.000    4304.167    1.33e+04\n",
            "Offers       -1.028e+04   1002.710    -10.255      0.000   -1.23e+04   -8297.869\n",
            "Brick         1.858e+04   2120.876      8.758      0.000    1.44e+04    2.28e+04\n",
            "Neighborhood  9011.1758   1282.926      7.024      0.000    6471.495    1.16e+04\n",
            "==============================================================================\n",
            "Omnibus:                        2.439   Durbin-Watson:                   1.943\n",
            "Prob(Omnibus):                  0.295   Jarque-Bera (JB):                2.069\n",
            "Skew:                           0.144   Prob(JB):                        0.355\n",
            "Kurtosis:                       3.552   Cond. No.                     5.06e+03\n",
            "==============================================================================\n",
            "\n",
            "Notes:\n",
            "[1] R² is computed without centering (uncentered) since the model does not contain a constant.\n",
            "[2] Standard Errors assume that the covariance matrix of the errors is correctly specified.\n",
            "[3] The condition number is large, 5.06e+03. This might indicate that there are\n",
            "strong multicollinearity or other numerical problems.\n"
          ]
        }
      ],
      "source": [
        "# Show the best 6-variable model\n",
        "print(getBest(6)[\"model\"].summary())"
      ],
      "id": "f8lVX5Wgl4qq"
    },
    {
      "cell_type": "markdown",
      "metadata": {
        "id": "_wPN0l6wl4qq"
      },
      "source": [
        "Rather than letting the results of our call to the `summary()` function print to the screen, we can access just the parts we need using the model's attributes. For example, if we want the $R^2$ value:"
      ],
      "id": "_wPN0l6wl4qq"
    },
    {
      "cell_type": "code",
      "execution_count": 164,
      "metadata": {
        "id": "yVhAuhbul4qq",
        "outputId": "4fae3d05-2dc2-421b-93b4-0fd070fe87a6",
        "colab": {
          "base_uri": "https://localhost:8080/",
          "height": 0
        }
      },
      "outputs": [
        {
          "output_type": "execute_result",
          "data": {
            "text/plain": [
              "0.9830496009942336"
            ]
          },
          "metadata": {},
          "execution_count": 164
        }
      ],
      "source": [
        "models_best.loc[2, \"model\"].rsquared"
      ],
      "id": "yVhAuhbul4qq"
    },
    {
      "cell_type": "markdown",
      "metadata": {
        "id": "ExyFNt-al4qr"
      },
      "source": [
        "In addition to the verbose output we get when we print the summary to the screen, fitting the `OLM` also produced many other useful statistics such as adjusted $R^2$, AIC, and BIC. We can examine these to try to select the best overall model. Let's start by looking at $R^2$ across all our models:"
      ],
      "id": "ExyFNt-al4qr"
    },
    {
      "cell_type": "code",
      "execution_count": 165,
      "metadata": {
        "id": "1sSy1mtHl4qr",
        "outputId": "3ae410fd-d6ee-4ed6-cfab-54de309a109c",
        "colab": {
          "base_uri": "https://localhost:8080/",
          "height": 0
        }
      },
      "outputs": [
        {
          "output_type": "execute_result",
          "data": {
            "text/plain": [
              "1    0.971887\n",
              "2    0.983050\n",
              "3    0.987186\n",
              "4    0.991560\n",
              "5    0.992872\n",
              "6    0.993649\n",
              "dtype: float64"
            ]
          },
          "metadata": {},
          "execution_count": 165
        }
      ],
      "source": [
        "# Gets the second element from each row ('model') and pulls out its rsquared attribute\n",
        "models_best.apply(lambda row: row[1].rsquared, axis=1)"
      ],
      "id": "1sSy1mtHl4qr"
    },
    {
      "cell_type": "markdown",
      "metadata": {
        "id": "jZvuYmJEl4qr"
      },
      "source": [
        "As expected, the $R^2$ statistic increases monotonically as more\n",
        "variables are included.\n",
        "\n",
        "Plotting RSS, adjusted $R^2$, AIC, and BIC for all of the models at once will\n",
        "help us decide which model to select. Note the `type=\"l\"` option tells `R` to\n",
        "connect the plotted points with lines:"
      ],
      "id": "jZvuYmJEl4qr"
    },
    {
      "cell_type": "code",
      "execution_count": 166,
      "metadata": {
        "id": "9rGONGDel4qr",
        "outputId": "51c625f3-efa4-4128-b060-4e0354ab2d0f",
        "colab": {
          "base_uri": "https://localhost:8080/",
          "height": 573
        }
      },
      "outputs": [
        {
          "output_type": "execute_result",
          "data": {
            "text/plain": [
              "Text(0, 0.5, 'BIC')"
            ]
          },
          "metadata": {},
          "execution_count": 166
        },
        {
          "output_type": "display_data",
          "data": {
            "text/plain": [
              "<Figure size 1440x720 with 4 Axes>"
            ],
            "image/png": "[encoded data removed]"
          },
          "metadata": {
            "needs_background": "light"
          }
        }
      ],
      "source": [
        "plt.figure(figsize=(20,10))\n",
        "plt.rcParams.update({'font.size': 18, 'lines.markersize': 10})\n",
        "\n",
        "# Set up a 2x2 grid so we can look at 4 plots at once\n",
        "plt.subplot(2, 2, 1)\n",
        "\n",
        "# We will now plot a red dot to indicate the model with the largest adjusted R^2 statistic.\n",
        "# The argmax() function can be used to identify the location of the maximum point of a vector\n",
        "plt.plot(models_best[\"RSS\"])\n",
        "plt.xlabel('# Predictors')\n",
        "plt.ylabel('RSS')\n",
        "\n",
        "# We will now plot a red dot to indicate the model with the largest adjusted R^2 statistic.\n",
        "# The argmax() function can be used to identify the location of the maximum point of a vector\n",
        "\n",
        "rsquared_adj = models_best.apply(lambda row: row[1].rsquared_adj, axis=1)\n",
        "\n",
        "plt.subplot(2, 2, 2)\n",
        "plt.plot(rsquared_adj)\n",
        "plt.plot(rsquared_adj.argmax(), rsquared_adj.max(), \"or\") #identify best point\n",
        "plt.xlabel('# Predictors')\n",
        "plt.ylabel('adjusted rsquared')\n",
        "\n",
        "# We'll do the same for AIC and BIC, this time looking for the models with the SMALLEST statistic\n",
        "aic = models_best.apply(lambda row: row[1].aic, axis=1)\n",
        "\n",
        "plt.subplot(2, 2, 3)\n",
        "plt.plot(aic)\n",
        "plt.plot(aic.argmin(), aic.min(), \"or\") #identify best point\n",
        "plt.xlabel('# Predictors')\n",
        "plt.ylabel('AIC')\n",
        "\n",
        "bic = models_best.apply(lambda row: row[1].bic, axis=1)\n",
        "\n",
        "plt.subplot(2, 2, 4)\n",
        "plt.plot(bic)\n",
        "plt.plot(bic.argmin(), bic.min(), \"or\") #identify best point\n",
        "plt.xlabel('# Predictors')\n",
        "plt.ylabel('BIC')"
      ],
      "id": "9rGONGDel4qr"
    },
    {
      "cell_type": "markdown",
      "metadata": {
        "id": "fLOJ8Qjnl4qs"
      },
      "source": [
        "Recall that in the second step of our selection process, we narrowed the field down to just one model on any $k<=p$ predictors. We see that according to adjusted $R^2$, AIC, BIC, the best performer is the model with **5 variables**. RSS shows model with 4 or 5 variables are best. "
      ],
      "id": "fLOJ8Qjnl4qs"
    },
    {
      "cell_type": "markdown",
      "metadata": {
        "id": "g_edRLkKl4qs"
      },
      "source": [
        "### Forward Stepwise Selection\n",
        "We can also use a similar approach to perform forward stepwise\n",
        "or backward stepwise selection, using a slight modification of the functions we defined above:"
      ],
      "id": "g_edRLkKl4qs"
    },
    {
      "cell_type": "code",
      "execution_count": 113,
      "metadata": {
        "id": "QYmjrunMl4qs"
      },
      "outputs": [],
      "source": [
        "def forward(predictors):\n",
        "\n",
        "    # Pull out predictors we still need to process\n",
        "    remaining_predictors = [p for p in X.columns if p not in predictors]\n",
        "    \n",
        "    tic = time.time()\n",
        "    \n",
        "    results = []\n",
        "    \n",
        "    for p in remaining_predictors:\n",
        "        results.append(processSubset(predictors+[p]))\n",
        "    \n",
        "    # Wrap everything up in a nice dataframe\n",
        "    models = pd.DataFrame(results)\n",
        "    \n",
        "    # Choose the model with the highest RSS\n",
        "    best_model = models.loc[models['RSS'].argmin()]\n",
        "    \n",
        "    toc = time.time()\n",
        "    print(\"Processed \", models.shape[0], \"models on\", len(predictors)+1, \"predictors in\", (toc-tic), \"seconds.\")\n",
        "    \n",
        "    # Return the best model, along with some other useful information about the model\n",
        "    return best_model"
      ],
      "id": "QYmjrunMl4qs"
    },
    {
      "cell_type": "markdown",
      "metadata": {
        "id": "PqxHq9ZHl4qs"
      },
      "source": [
        "Forward model will perform faster! (but quite similar in this case since the dataset is not large)"
      ],
      "id": "PqxHq9ZHl4qs"
    },
    {
      "cell_type": "code",
      "execution_count": 114,
      "metadata": {
        "id": "DNd05ek2l4qt",
        "outputId": "e37ac5b9-eb89-476e-ef0a-484a266708e3",
        "colab": {
          "base_uri": "https://localhost:8080/",
          "height": 0
        }
      },
      "outputs": [
        {
          "output_type": "stream",
          "name": "stdout",
          "text": [
            "Processed  6 models on 1 predictors in 0.016825199127197266 seconds.\n",
            "Processed  5 models on 2 predictors in 0.02119302749633789 seconds.\n",
            "Processed  4 models on 3 predictors in 0.009845495223999023 seconds.\n",
            "Processed  3 models on 4 predictors in 0.01297450065612793 seconds.\n",
            "Processed  2 models on 5 predictors in 0.010796308517456055 seconds.\n",
            "Processed  1 models on 6 predictors in 0.006556272506713867 seconds.\n",
            "Total elapsed time: 0.10250687599182129 seconds.\n"
          ]
        }
      ],
      "source": [
        "models_fwd = pd.DataFrame(columns=[\"RSS\", \"model\"])\n",
        "\n",
        "tic = time.time()\n",
        "predictors = []\n",
        "\n",
        "for i in range(1,len(X.columns)+1):    \n",
        "    models_fwd.loc[i] = forward(predictors)\n",
        "    predictors = models_fwd.loc[i][\"model\"].model.exog_names\n",
        "\n",
        "toc = time.time()\n",
        "print(\"Total elapsed time:\", (toc-tic), \"seconds.\")"
      ],
      "id": "DNd05ek2l4qt"
    },
    {
      "cell_type": "code",
      "execution_count": 115,
      "metadata": {
        "id": "uRVSbFRWl4qt",
        "outputId": "f844d26b-a904-4a4f-cded-f7a50ccba916",
        "colab": {
          "base_uri": "https://localhost:8080/",
          "height": 0
        }
      },
      "outputs": [
        {
          "output_type": "stream",
          "name": "stdout",
          "text": [
            "                                 OLS Regression Results                                \n",
            "=======================================================================================\n",
            "Dep. Variable:                  Price   R-squared (uncentered):                   0.972\n",
            "Model:                            OLS   Adj. R-squared (uncentered):              0.972\n",
            "Method:                 Least Squares   F-statistic:                              4390.\n",
            "Date:                Wed, 28 Sep 2022   Prob (F-statistic):                   2.30e-100\n",
            "Time:                        02:01:24   Log-Likelihood:                         -1463.3\n",
            "No. Observations:                 128   AIC:                                      2929.\n",
            "Df Residuals:                     127   BIC:                                      2932.\n",
            "Df Model:                           1                                                  \n",
            "Covariance Type:            nonrobust                                                  \n",
            "==============================================================================\n",
            "                 coef    std err          t      P>|t|      [0.025      0.975]\n",
            "------------------------------------------------------------------------------\n",
            "SqFt          65.2384      0.985     66.261      0.000      63.290      67.187\n",
            "==============================================================================\n",
            "Omnibus:                        3.626   Durbin-Watson:                   2.130\n",
            "Prob(Omnibus):                  0.163   Jarque-Bera (JB):                3.637\n",
            "Skew:                           0.379   Prob(JB):                        0.162\n",
            "Kurtosis:                       2.673   Cond. No.                         1.00\n",
            "==============================================================================\n",
            "\n",
            "Notes:\n",
            "[1] R² is computed without centering (uncentered) since the model does not contain a constant.\n",
            "[2] Standard Errors assume that the covariance matrix of the errors is correctly specified.\n",
            "                                 OLS Regression Results                                \n",
            "=======================================================================================\n",
            "Dep. Variable:                  Price   R-squared (uncentered):                   0.983\n",
            "Model:                            OLS   Adj. R-squared (uncentered):              0.983\n",
            "Method:                 Least Squares   F-statistic:                              3654.\n",
            "Date:                Wed, 28 Sep 2022   Prob (F-statistic):                   2.74e-112\n",
            "Time:                        02:01:24   Log-Likelihood:                         -1431.0\n",
            "No. Observations:                 128   AIC:                                      2866.\n",
            "Df Residuals:                     126   BIC:                                      2872.\n",
            "Df Model:                           2                                                  \n",
            "Covariance Type:            nonrobust                                                  \n",
            "==============================================================================\n",
            "                 coef    std err          t      P>|t|      [0.025      0.975]\n",
            "------------------------------------------------------------------------------\n",
            "SqFt          83.3078      2.127     39.167      0.000      79.099      87.517\n",
            "Offers     -1.397e+04   1534.141     -9.109      0.000    -1.7e+04   -1.09e+04\n",
            "==============================================================================\n",
            "Omnibus:                        8.121   Durbin-Watson:                   2.010\n",
            "Prob(Omnibus):                  0.017   Jarque-Bera (JB):                8.231\n",
            "Skew:                           0.620   Prob(JB):                       0.0163\n",
            "Kurtosis:                       3.082   Cond. No.                     2.00e+03\n",
            "==============================================================================\n",
            "\n",
            "Notes:\n",
            "[1] R² is computed without centering (uncentered) since the model does not contain a constant.\n",
            "[2] Standard Errors assume that the covariance matrix of the errors is correctly specified.\n",
            "[3] The condition number is large,  2e+03. This might indicate that there are\n",
            "strong multicollinearity or other numerical problems.\n"
          ]
        }
      ],
      "source": [
        "#pull up the summary\n",
        "print(models_fwd.loc[1, \"model\"].summary()) #based on 1 variables\n",
        "print(models_fwd.loc[2, \"model\"].summary()) #based on 2 variables"
      ],
      "id": "uRVSbFRWl4qt"
    },
    {
      "cell_type": "markdown",
      "metadata": {
        "id": "flc_t4g3l4qt"
      },
      "source": [
        "We see that using forward stepwise selection, the best one-variable\n",
        "model contains only `SqFt`, and the best two-variable model additionally\n",
        "includes `Offers`. Let's see how the models stack up against best subset selection (in 5 variables, as chosen best previously):"
      ],
      "id": "flc_t4g3l4qt"
    },
    {
      "cell_type": "code",
      "execution_count": 131,
      "metadata": {
        "id": "ZiP8Fbv3l4qu",
        "outputId": "629fedea-726b-40fa-f280-344ac4c2351d",
        "colab": {
          "base_uri": "https://localhost:8080/",
          "height": 0
        }
      },
      "outputs": [
        {
          "output_type": "stream",
          "name": "stdout",
          "text": [
            "                                 OLS Regression Results                                \n",
            "=======================================================================================\n",
            "Dep. Variable:                  Price   R-squared (uncentered):                   0.993\n",
            "Model:                            OLS   Adj. R-squared (uncentered):              0.993\n",
            "Method:                 Least Squares   F-statistic:                              3427.\n",
            "Date:                Wed, 28 Sep 2022   Prob (F-statistic):                   3.35e-130\n",
            "Time:                        02:20:45   Log-Likelihood:                         -1375.5\n",
            "No. Observations:                 128   AIC:                                      2761.\n",
            "Df Residuals:                     123   BIC:                                      2775.\n",
            "Df Model:                           5                                                  \n",
            "Covariance Type:            nonrobust                                                  \n",
            "================================================================================\n",
            "                   coef    std err          t      P>|t|      [0.025      0.975]\n",
            "--------------------------------------------------------------------------------\n",
            "SqFt            54.0675      3.067     17.629      0.000      47.997      60.138\n",
            "Bedrooms      7974.3598   1675.683      4.759      0.000    4657.449    1.13e+04\n",
            "Offers       -1.022e+04   1057.799     -9.658      0.000   -1.23e+04   -8121.971\n",
            "Brick         1.987e+04   2209.697      8.992      0.000    1.55e+04    2.42e+04\n",
            "Neighborhood  9334.0508   1350.738      6.910      0.000    6660.348     1.2e+04\n",
            "==============================================================================\n",
            "Omnibus:                        2.869   Durbin-Watson:                   2.055\n",
            "Prob(Omnibus):                  0.238   Jarque-Bera (JB):                2.346\n",
            "Skew:                           0.247   Prob(JB):                        0.310\n",
            "Kurtosis:                       3.443   Cond. No.                     4.43e+03\n",
            "==============================================================================\n",
            "\n",
            "Notes:\n",
            "[1] R² is computed without centering (uncentered) since the model does not contain a constant.\n",
            "[2] Standard Errors assume that the covariance matrix of the errors is correctly specified.\n",
            "[3] The condition number is large, 4.43e+03. This might indicate that there are\n",
            "strong multicollinearity or other numerical problems.\n",
            "                                 OLS Regression Results                                \n",
            "=======================================================================================\n",
            "Dep. Variable:                  Price   R-squared (uncentered):                   0.993\n",
            "Model:                            OLS   Adj. R-squared (uncentered):              0.993\n",
            "Method:                 Least Squares   F-statistic:                              3427.\n",
            "Date:                Wed, 28 Sep 2022   Prob (F-statistic):                   3.35e-130\n",
            "Time:                        02:20:45   Log-Likelihood:                         -1375.5\n",
            "No. Observations:                 128   AIC:                                      2761.\n",
            "Df Residuals:                     123   BIC:                                      2775.\n",
            "Df Model:                           5                                                  \n",
            "Covariance Type:            nonrobust                                                  \n",
            "================================================================================\n",
            "                   coef    std err          t      P>|t|      [0.025      0.975]\n",
            "--------------------------------------------------------------------------------\n",
            "SqFt            54.0675      3.067     17.629      0.000      47.997      60.138\n",
            "Offers       -1.022e+04   1057.799     -9.658      0.000   -1.23e+04   -8121.971\n",
            "Brick         1.987e+04   2209.697      8.992      0.000    1.55e+04    2.42e+04\n",
            "Neighborhood  9334.0508   1350.738      6.910      0.000    6660.348     1.2e+04\n",
            "Bedrooms      7974.3598   1675.683      4.759      0.000    4657.449    1.13e+04\n",
            "==============================================================================\n",
            "Omnibus:                        2.869   Durbin-Watson:                   2.055\n",
            "Prob(Omnibus):                  0.238   Jarque-Bera (JB):                2.346\n",
            "Skew:                           0.247   Prob(JB):                        0.310\n",
            "Kurtosis:                       3.443   Cond. No.                     4.43e+03\n",
            "==============================================================================\n",
            "\n",
            "Notes:\n",
            "[1] R² is computed without centering (uncentered) since the model does not contain a constant.\n",
            "[2] Standard Errors assume that the covariance matrix of the errors is correctly specified.\n",
            "[3] The condition number is large, 4.43e+03. This might indicate that there are\n",
            "strong multicollinearity or other numerical problems.\n"
          ]
        }
      ],
      "source": [
        "print(models_best.loc[5, \"model\"].summary())\n",
        "print(models_fwd.loc[5, \"model\"].summary())"
      ],
      "id": "ZiP8Fbv3l4qu"
    },
    {
      "cell_type": "markdown",
      "metadata": {
        "collapsed": true,
        "id": "MIL9Fy9jl4qu"
      },
      "source": [
        "For this data, the best one-variable through five-variable\n",
        "models are each identical for best subset and forward selection.\n"
      ],
      "id": "MIL9Fy9jl4qu"
    },
    {
      "cell_type": "markdown",
      "source": [
        "### Backward Selection\n",
        "to implement backward selection: looping through the predictors in reverse!"
      ],
      "metadata": {
        "id": "hz6yCEdX1VGZ"
      },
      "id": "hz6yCEdX1VGZ"
    },
    {
      "cell_type": "code",
      "execution_count": 117,
      "metadata": {
        "id": "ze4LON57l4qu"
      },
      "outputs": [],
      "source": [
        "def backward(predictors):\n",
        "    \n",
        "    tic = time.time()\n",
        "    \n",
        "    results = []\n",
        "    \n",
        "    for combo in itertools.combinations(predictors, len(predictors)-1):\n",
        "        results.append(processSubset(combo))\n",
        "    \n",
        "    # Wrap everything up in a nice dataframe\n",
        "    models = pd.DataFrame(results)\n",
        "    \n",
        "    # Choose the model with the highest RSS\n",
        "    best_model = models.loc[models['RSS'].argmin()]\n",
        "    \n",
        "    toc = time.time()\n",
        "    print(\"Processed \", models.shape[0], \"models on\", len(predictors)-1, \"predictors in\", (toc-tic), \"seconds.\")\n",
        "    \n",
        "    # Return the best model, along with some other useful information about the model\n",
        "    return best_model"
      ],
      "id": "ze4LON57l4qu"
    },
    {
      "cell_type": "code",
      "execution_count": 124,
      "metadata": {
        "id": "wOD8Big1l4qu",
        "outputId": "eb0d4536-8486-494e-99d1-eb1d928722de",
        "colab": {
          "base_uri": "https://localhost:8080/",
          "height": 0
        }
      },
      "outputs": [
        {
          "output_type": "stream",
          "name": "stdout",
          "text": [
            "Processed  6 models on 5 predictors in 0.021005868911743164 seconds.\n",
            "Processed  5 models on 4 predictors in 0.015047073364257812 seconds.\n",
            "Processed  4 models on 3 predictors in 0.015804767608642578 seconds.\n",
            "Processed  3 models on 2 predictors in 0.013346195220947266 seconds.\n",
            "Processed  2 models on 1 predictors in 0.006636857986450195 seconds.\n",
            "Total elapsed time: 0.08637475967407227 seconds.\n"
          ]
        }
      ],
      "source": [
        "models_bwd = pd.DataFrame(columns=[\"RSS\", \"model\"], index = range(1,len(X.columns)))\n",
        "\n",
        "tic = time.time()\n",
        "predictors = X.columns\n",
        "\n",
        "while(len(predictors) > 1):  \n",
        "    models_bwd.loc[len(predictors)-1] = backward(predictors)\n",
        "    predictors = models_bwd.loc[len(predictors)-1][\"model\"].model.exog_names\n",
        "\n",
        "toc = time.time()\n",
        "print(\"Total elapsed time:\", (toc-tic), \"seconds.\")"
      ],
      "id": "wOD8Big1l4qu"
    },
    {
      "cell_type": "code",
      "source": [
        "print(models_bwd.loc[6, \"model\"].summary())"
      ],
      "metadata": {
        "colab": {
          "base_uri": "https://localhost:8080/",
          "height": 0
        },
        "id": "CqQyzr34213d",
        "outputId": "c22c813b-c9f5-474f-d519-ad7dc53c27a9"
      },
      "id": "CqQyzr34213d",
      "execution_count": 133,
      "outputs": [
        {
          "output_type": "stream",
          "name": "stdout",
          "text": [
            "                                 OLS Regression Results                                \n",
            "=======================================================================================\n",
            "Dep. Variable:                  Price   R-squared (uncentered):                   0.993\n",
            "Model:                            OLS   Adj. R-squared (uncentered):              0.993\n",
            "Method:                 Least Squares   F-statistic:                              3427.\n",
            "Date:                Wed, 28 Sep 2022   Prob (F-statistic):                   3.35e-130\n",
            "Time:                        02:21:45   Log-Likelihood:                         -1375.5\n",
            "No. Observations:                 128   AIC:                                      2761.\n",
            "Df Residuals:                     123   BIC:                                      2775.\n",
            "Df Model:                           5                                                  \n",
            "Covariance Type:            nonrobust                                                  \n",
            "================================================================================\n",
            "                   coef    std err          t      P>|t|      [0.025      0.975]\n",
            "--------------------------------------------------------------------------------\n",
            "SqFt            54.0675      3.067     17.629      0.000      47.997      60.138\n",
            "Bedrooms      7974.3598   1675.683      4.759      0.000    4657.449    1.13e+04\n",
            "Offers       -1.022e+04   1057.799     -9.658      0.000   -1.23e+04   -8121.971\n",
            "Brick         1.987e+04   2209.697      8.992      0.000    1.55e+04    2.42e+04\n",
            "Neighborhood  9334.0508   1350.738      6.910      0.000    6660.348     1.2e+04\n",
            "==============================================================================\n",
            "Omnibus:                        2.869   Durbin-Watson:                   2.055\n",
            "Prob(Omnibus):                  0.238   Jarque-Bera (JB):                2.346\n",
            "Skew:                           0.247   Prob(JB):                        0.310\n",
            "Kurtosis:                       3.443   Cond. No.                     4.43e+03\n",
            "==============================================================================\n",
            "\n",
            "Notes:\n",
            "[1] R² is computed without centering (uncentered) since the model does not contain a constant.\n",
            "[2] Standard Errors assume that the covariance matrix of the errors is correctly specified.\n",
            "[3] The condition number is large, 4.43e+03. This might indicate that there are\n",
            "strong multicollinearity or other numerical problems.\n"
          ]
        }
      ]
    },
    {
      "cell_type": "markdown",
      "metadata": {
        "id": "VFtrz_S6l4qv"
      },
      "source": [
        "For this data, the best one-variable through five-variable\n",
        "models are identical for best subset and forward selection.\n",
        "However, the best six-variable models identified by forward stepwise selection, backward stepwise selection, and best subset selection are  slightly different:"
      ],
      "id": "VFtrz_S6l4qv"
    },
    {
      "cell_type": "markdown",
      "source": [
        "**Best model feature:**"
      ],
      "metadata": {
        "id": "wx09ovQ_31S5"
      },
      "id": "wx09ovQ_31S5"
    },
    {
      "cell_type": "code",
      "execution_count": 141,
      "metadata": {
        "id": "9PBmYdUAl4qv",
        "outputId": "589eeaec-fefe-4fd8-8e1c-0d65b688507d",
        "colab": {
          "base_uri": "https://localhost:8080/",
          "height": 0
        }
      },
      "outputs": [
        {
          "output_type": "stream",
          "name": "stdout",
          "text": [
            "------------\n",
            "Best Subset:\n",
            "------------\n",
            "SqFt               54.067467\n",
            "Bedrooms         7974.359755\n",
            "Offers         -10215.818767\n",
            "Brick           19868.511386\n",
            "Neighborhood     9334.050817\n",
            "dtype: float64\n"
          ]
        }
      ],
      "source": [
        "print(\"------------\")\n",
        "print(\"Best Subset:\")\n",
        "print(\"------------\")\n",
        "print(models_best.loc[5, \"model\"].params)"
      ],
      "id": "9PBmYdUAl4qv"
    },
    {
      "cell_type": "code",
      "execution_count": 142,
      "metadata": {
        "id": "25BMNfZdl4qw",
        "outputId": "fc96883d-1bd5-478d-996c-f7aee3c0094e",
        "colab": {
          "base_uri": "https://localhost:8080/",
          "height": 0
        }
      },
      "outputs": [
        {
          "output_type": "stream",
          "name": "stdout",
          "text": [
            "-----------------\n",
            "Foward Selection:\n",
            "-----------------\n",
            "SqFt               54.067467\n",
            "Offers         -10215.818767\n",
            "Brick           19868.511386\n",
            "Neighborhood     9334.050817\n",
            "Bedrooms         7974.359755\n",
            "dtype: float64\n"
          ]
        }
      ],
      "source": [
        "print(\"-----------------\")\n",
        "print(\"Foward Selection:\")\n",
        "print(\"-----------------\")\n",
        "print(models_fwd.loc[5, \"model\"].params)"
      ],
      "id": "25BMNfZdl4qw"
    },
    {
      "cell_type": "code",
      "execution_count": 143,
      "metadata": {
        "id": "oaB5c0J7l4qw",
        "outputId": "5dc2af33-8ec9-48d0-b8b9-b61523e8a24c",
        "colab": {
          "base_uri": "https://localhost:8080/",
          "height": 0
        }
      },
      "outputs": [
        {
          "output_type": "stream",
          "name": "stdout",
          "text": [
            "-------------------\n",
            "Backward Selection:\n",
            "-------------------\n",
            "SqFt               54.067467\n",
            "Bedrooms         7974.359755\n",
            "Offers         -10215.818767\n",
            "Brick           19868.511386\n",
            "Neighborhood     9334.050817\n",
            "dtype: float64\n"
          ]
        }
      ],
      "source": [
        "print(\"-------------------\")\n",
        "print(\"Backward Selection:\")\n",
        "print(\"-------------------\")\n",
        "print(models_bwd.loc[6, \"model\"].params)"
      ],
      "id": "oaB5c0J7l4qw"
    },
    {
      "cell_type": "markdown",
      "source": [
        "### Calculating RMSE"
      ],
      "metadata": {
        "id": "tb9C6xGV6qIl"
      },
      "id": "tb9C6xGV6qIl"
    },
    {
      "cell_type": "code",
      "source": [
        "models_best"
      ],
      "metadata": {
        "colab": {
          "base_uri": "https://localhost:8080/",
          "height": 237
        },
        "id": "snXvI0a6Ct5b",
        "outputId": "f956f1bb-3198-4722-e37d-e296dae1e686"
      },
      "id": "snXvI0a6Ct5b",
      "execution_count": 189,
      "outputs": [
        {
          "output_type": "execute_result",
          "data": {
            "text/plain": [
              "            RSS                                              model\n",
              "1  6.379185e+10  <statsmodels.regression.linear_model.Regressio...\n",
              "2  3.846267e+10  <statsmodels.regression.linear_model.Regressio...\n",
              "3  2.907627e+10  <statsmodels.regression.linear_model.Regressio...\n",
              "4  1.915185e+10  <statsmodels.regression.linear_model.Regressio...\n",
              "5  1.617390e+10  <statsmodels.regression.linear_model.Regressio...\n",
              "6  1.441067e+10  <statsmodels.regression.linear_model.Regressio..."
            ],
            "text/html": [
              "\n",
              "  <div id=\"df-b73ef05c-fb59-44b5-b8f4-12620ea7a66d\">\n",
              "    <div class=\"colab-df-container\">\n",
              "      <div>\n",
              "<style scoped>\n",
              "    .dataframe tbody tr th:only-of-type {\n",
              "        vertical-align: middle;\n",
              "    }\n",
              "\n",
              "    .dataframe tbody tr th {\n",
              "        vertical-align: top;\n",
              "    }\n",
              "\n",
              "    .dataframe thead th {\n",
              "        text-align: right;\n",
              "    }\n",
              "</style>\n",
              "<table border=\"1\" class=\"dataframe\">\n",
              "  <thead>\n",
              "    <tr style=\"text-align: right;\">\n",
              "      <th></th>\n",
              "      <th>RSS</th>\n",
              "      <th>model</th>\n",
              "    </tr>\n",
              "  </thead>\n",
              "  <tbody>\n",
              "    <tr>\n",
              "      <th>1</th>\n",
              "      <td>6.379185e+10</td>\n",
              "      <td>&lt;statsmodels.regression.linear_model.Regressio...</td>\n",
              "    </tr>\n",
              "    <tr>\n",
              "      <th>2</th>\n",
              "      <td>3.846267e+10</td>\n",
              "      <td>&lt;statsmodels.regression.linear_model.Regressio...</td>\n",
              "    </tr>\n",
              "    <tr>\n",
              "      <th>3</th>\n",
              "      <td>2.907627e+10</td>\n",
              "      <td>&lt;statsmodels.regression.linear_model.Regressio...</td>\n",
              "    </tr>\n",
              "    <tr>\n",
              "      <th>4</th>\n",
              "      <td>1.915185e+10</td>\n",
              "      <td>&lt;statsmodels.regression.linear_model.Regressio...</td>\n",
              "    </tr>\n",
              "    <tr>\n",
              "      <th>5</th>\n",
              "      <td>1.617390e+10</td>\n",
              "      <td>&lt;statsmodels.regression.linear_model.Regressio...</td>\n",
              "    </tr>\n",
              "    <tr>\n",
              "      <th>6</th>\n",
              "      <td>1.441067e+10</td>\n",
              "      <td>&lt;statsmodels.regression.linear_model.Regressio...</td>\n",
              "    </tr>\n",
              "  </tbody>\n",
              "</table>\n",
              "</div>\n",
              "      <button class=\"colab-df-convert\" onclick=\"convertToInteractive('df-b73ef05c-fb59-44b5-b8f4-12620ea7a66d')\"\n",
              "              title=\"Convert this dataframe to an interactive table.\"\n",
              "              style=\"display:none;\">\n",
              "        \n",
              "  <svg xmlns=\"http://www.w3.org/2000/svg\" height=\"24px\"viewBox=\"0 0 24 24\"\n",
              "       width=\"24px\">\n",
              "    <path d=\"M0 0h24v24H0V0z\" fill=\"none\"/>\n",
              "    <path d=\"M18.56 5.44l.94 2.06.94-2.06 2.06-.94-2.06-.94-.94-2.06-.94 2.06-2.06.94zm-11 1L8.5 8.5l.94-2.06 2.06-.94-2.06-.94L8.5 2.5l-.94 2.06-2.06.94zm10 10l.94 2.06.94-2.06 2.06-.94-2.06-.94-.94-2.06-.94 2.06-2.06.94z\"/><path d=\"M17.41 7.96l-1.37-1.37c-.4-.4-.92-.59-1.43-.59-.52 0-1.04.2-1.43.59L10.3 9.45l-7.72 7.72c-.78.78-.78 2.05 0 2.83L4 21.41c.39.39.9.59 1.41.59.51 0 1.02-.2 1.41-.59l7.78-7.78 2.81-2.81c.8-.78.8-2.07 0-2.86zM5.41 20L4 18.59l7.72-7.72 1.47 1.35L5.41 20z\"/>\n",
              "  </svg>\n",
              "      </button>\n",
              "      \n",
              "  <style>\n",
              "    .colab-df-container {\n",
              "      display:flex;\n",
              "      flex-wrap:wrap;\n",
              "      gap: 12px;\n",
              "    }\n",
              "\n",
              "    .colab-df-convert {\n",
              "      background-color: #E8F0FE;\n",
              "      border: none;\n",
              "      border-radius: 50%;\n",
              "      cursor: pointer;\n",
              "      display: none;\n",
              "      fill: #1967D2;\n",
              "      height: 32px;\n",
              "      padding: 0 0 0 0;\n",
              "      width: 32px;\n",
              "    }\n",
              "\n",
              "    .colab-df-convert:hover {\n",
              "      background-color: #E2EBFA;\n",
              "      box-shadow: 0px 1px 2px rgba(60, 64, 67, 0.3), 0px 1px 3px 1px rgba(60, 64, 67, 0.15);\n",
              "      fill: #174EA6;\n",
              "    }\n",
              "\n",
              "    [theme=dark] .colab-df-convert {\n",
              "      background-color: #3B4455;\n",
              "      fill: #D2E3FC;\n",
              "    }\n",
              "\n",
              "    [theme=dark] .colab-df-convert:hover {\n",
              "      background-color: #434B5C;\n",
              "      box-shadow: 0px 1px 3px 1px rgba(0, 0, 0, 0.15);\n",
              "      filter: drop-shadow(0px 1px 2px rgba(0, 0, 0, 0.3));\n",
              "      fill: #FFFFFF;\n",
              "    }\n",
              "  </style>\n",
              "\n",
              "      <script>\n",
              "        const buttonEl =\n",
              "          document.querySelector('#df-b73ef05c-fb59-44b5-b8f4-12620ea7a66d button.colab-df-convert');\n",
              "        buttonEl.style.display =\n",
              "          google.colab.kernel.accessAllowed ? 'block' : 'none';\n",
              "\n",
              "        async function convertToInteractive(key) {\n",
              "          const element = document.querySelector('#df-b73ef05c-fb59-44b5-b8f4-12620ea7a66d');\n",
              "          const dataTable =\n",
              "            await google.colab.kernel.invokeFunction('convertToInteractive',\n",
              "                                                     [key], {});\n",
              "          if (!dataTable) return;\n",
              "\n",
              "          const docLinkHtml = 'Like what you see? Visit the ' +\n",
              "            '<a target=\"_blank\" href=https://colab.research.google.com/notebooks/data_table.ipynb>data table notebook</a>'\n",
              "            + ' to learn more about interactive tables.';\n",
              "          element.innerHTML = '';\n",
              "          dataTable['output_type'] = 'display_data';\n",
              "          await google.colab.output.renderOutput(dataTable, element);\n",
              "          const docLink = document.createElement('div');\n",
              "          docLink.innerHTML = docLinkHtml;\n",
              "          element.appendChild(docLink);\n",
              "        }\n",
              "      </script>\n",
              "    </div>\n",
              "  </div>\n",
              "  "
            ]
          },
          "metadata": {},
          "execution_count": 189
        }
      ]
    },
    {
      "cell_type": "markdown",
      "source": [
        "FORMULA:\n",
        "RMSE=SQRT(MSE)=SQRT(1/n*RSS)\n",
        "\n",
        "<br>\n",
        "So get the RSS of the 5 variable model (optimum) from each selection type:"
      ],
      "metadata": {
        "id": "eRf7g9K8B_Vx"
      },
      "id": "eRf7g9K8B_Vx"
    },
    {
      "cell_type": "code",
      "source": [
        "RSS_best = models_best.iloc[4, 0]\n",
        "RSS_best"
      ],
      "metadata": {
        "colab": {
          "base_uri": "https://localhost:8080/",
          "height": 0
        },
        "id": "PmXl8vo3A8oL",
        "outputId": "aae09c76-3f08-423f-ce96-629d59ed282b"
      },
      "id": "PmXl8vo3A8oL",
      "execution_count": 184,
      "outputs": [
        {
          "output_type": "execute_result",
          "data": {
            "text/plain": [
              "16173900886.137821"
            ]
          },
          "metadata": {},
          "execution_count": 184
        }
      ]
    },
    {
      "cell_type": "code",
      "source": [
        "RSS_fwd = models_fwd.iloc[4, 0]\n",
        "RSS_fwd"
      ],
      "metadata": {
        "colab": {
          "base_uri": "https://localhost:8080/",
          "height": 0
        },
        "id": "2SWct0F1Ayf8",
        "outputId": "4f83eb17-0169-49ad-8e89-e98a0d8f10fd"
      },
      "id": "2SWct0F1Ayf8",
      "execution_count": 185,
      "outputs": [
        {
          "output_type": "execute_result",
          "data": {
            "text/plain": [
              "16173900886.13782"
            ]
          },
          "metadata": {},
          "execution_count": 185
        }
      ]
    },
    {
      "cell_type": "code",
      "source": [
        "RSS_bwd = models_bwd.iloc[4, 0]\n",
        "RSS_bwd"
      ],
      "metadata": {
        "colab": {
          "base_uri": "https://localhost:8080/",
          "height": 0
        },
        "id": "zoN5FmlLCitm",
        "outputId": "6f5ce4a3-3697-4aa7-b5e3-a0fb94499880"
      },
      "id": "zoN5FmlLCitm",
      "execution_count": 188,
      "outputs": [
        {
          "output_type": "execute_result",
          "data": {
            "text/plain": [
              "19151853845.849518"
            ]
          },
          "metadata": {},
          "execution_count": 188
        }
      ]
    },
    {
      "cell_type": "code",
      "source": [
        "#cannot use mean because rss is calculated already\n",
        "RMSE_best = (RSS_best/len(Y)) ** 0.5\n",
        "RMSE_fwd = (RSS_fwd/len(Y)) ** 0.5\n",
        "RMSE_bwd = (RSS_bwd/len(Y)) ** 0.5"
      ],
      "metadata": {
        "id": "o0W5phB_9Yre"
      },
      "id": "o0W5phB_9Yre",
      "execution_count": 192,
      "outputs": []
    },
    {
      "cell_type": "code",
      "source": [
        "print(f\"The Root Mean Squared Error (RMSE) for best selection is = {RMSE_best}\")\n",
        "print(f\"The Root Mean Squared Error (RMSE) for forward selection is = {RMSE_fwd}\")\n",
        "print(f\"The Root Mean Squared Error (RMSE) for backward selection is = {RMSE_bwd}\")"
      ],
      "metadata": {
        "colab": {
          "base_uri": "https://localhost:8080/",
          "height": 0
        },
        "id": "smpI3bh2D5rZ",
        "outputId": "619a41ed-da5e-423c-f42f-7af28b38c5a7"
      },
      "id": "smpI3bh2D5rZ",
      "execution_count": 193,
      "outputs": [
        {
          "output_type": "stream",
          "name": "stdout",
          "text": [
            "The Root Mean Squared Error (RMSE) for best selection is = 11240.934154817905\n",
            "The Root Mean Squared Error (RMSE) for forward selection is = 11240.934154817904\n",
            "The Root Mean Squared Error (RMSE) for backward selection is = 12232.08314927181\n"
          ]
        }
      ]
    },
    {
      "cell_type": "code",
      "source": [
        "(RMSE_best - np.mean(Y))/np.std(Y)"
      ],
      "metadata": {
        "colab": {
          "base_uri": "https://localhost:8080/",
          "height": 0
        },
        "id": "FXF7r716MkTr",
        "outputId": "a513ad0f-63bb-4483-baa9-f6f2f39a97a9"
      },
      "id": "FXF7r716MkTr",
      "execution_count": 229,
      "outputs": [
        {
          "output_type": "execute_result",
          "data": {
            "text/plain": [
              "-4.453301200595476"
            ]
          },
          "metadata": {},
          "execution_count": 229
        }
      ]
    },
    {
      "cell_type": "markdown",
      "source": [
        "## Problem 2b"
      ],
      "metadata": {
        "id": "qDD-UVNs3uj0"
      },
      "id": "qDD-UVNs3uj0"
    },
    {
      "cell_type": "markdown",
      "source": [
        "**Analysis:**\n",
        "<br>\n",
        "For backward model, only can display 5 variables because the inheritted -1 in the function. All three model parameters are almost similar. Highest weight is given to whether or not the house has brick. \n",
        "\n",
        "<br>\n",
        "Compared to problem #1, the $R^2$ using this model selection is higher, so using this way to get a model is better to reduce variability. \n",
        "<br> \n",
        "However, the RMSE for problem 1 is calculated based on standardized data while Problem 2 is using original data. So the value is not comparable unless we revert the Problem 1 RMSE (~1.7) back to the original scale. From the calculation below, RMSE at the regular scale is 176,739, which is higher than the ones produce in problem 2 using any selections. Hence, using subset selection produces better model than problem 1. That is why we need to take into account ridge/lasso regression to increase the accuracy of linear regression."
      ],
      "metadata": {
        "id": "B1heFXMWn-sI"
      },
      "id": "B1heFXMWn-sI"
    },
    {
      "cell_type": "code",
      "source": [
        "#calculate orginal scale RMSE from problem 1\n",
        "(1.7304035668836681*np.std(Y)) + np.mean(Y)"
      ],
      "metadata": {
        "colab": {
          "base_uri": "https://localhost:8080/",
          "height": 0
        },
        "id": "VyDJ8D18NVKq",
        "outputId": "526eda8f-5c69-43f1-903e-67be0780e87b"
      },
      "id": "VyDJ8D18NVKq",
      "execution_count": 233,
      "outputs": [
        {
          "output_type": "execute_result",
          "data": {
            "text/plain": [
              "176739.18725611258"
            ]
          },
          "metadata": {},
          "execution_count": 233
        }
      ]
    },
    {
      "cell_type": "markdown",
      "source": [
        "# Extra Credit"
      ],
      "metadata": {
        "id": "OrblcLL6T_ql"
      },
      "id": "OrblcLL6T_ql"
    },
    {
      "cell_type": "markdown",
      "source": [
        "**Extra Credit Question: 5 Points**\n",
        "\n",
        "a) Implement Ridge/Lasso regression for the dataset\n",
        "\n",
        "b) Compare the lasso/ridge regression model output with Q1, and Q3 models performance metrics\n",
        "\n",
        "Note: RMSE and R2 performance metrics are sufficient for comparison\n",
        "\n",
        " \n",
        "\n",
        "Note: Provide the report in .pdf with proper title page"
      ],
      "metadata": {
        "id": "mOTa0eXhT_qn"
      },
      "id": "mOTa0eXhT_qn"
    },
    {
      "cell_type": "markdown",
      "source": [
        "## Implement Lasso regression\n",
        "Refer to textbook ESL page 68 for Lasso regression equation\n",
        "![image.png](data:image/png;base64,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)"
      ],
      "metadata": {
        "id": "tKD0DU9tOkIO"
      },
      "id": "tKD0DU9tOkIO"
    },
    {
      "cell_type": "markdown",
      "source": [
        "Lasso regression is usually implemented for future prediction. Lasso rigression adding L1 penalty (absolute value of the magnitude of weights) in the cost function. \n"
      ],
      "metadata": {
        "id": "Zu5zAeppVS63"
      },
      "id": "Zu5zAeppVS63"
    },
    {
      "cell_type": "code",
      "execution_count": 234,
      "metadata": {
        "id": "4mSuoyIKT_qo"
      },
      "outputs": [],
      "source": [
        "# Importing the necessary libraries\n",
        "import numpy as np\n",
        "import pandas as pd\n",
        "import matplotlib.pyplot as plt"
      ],
      "id": "4mSuoyIKT_qo"
    },
    {
      "cell_type": "markdown",
      "source": [
        "**Use the code provided by the class example and office hours:**"
      ],
      "metadata": {
        "id": "dJp7fRjcfYQ6"
      },
      "id": "dJp7fRjcfYQ6"
    },
    {
      "cell_type": "code",
      "source": [
        "import numpy as np\n",
        "import pandas as pd\n",
        "\n",
        "class Regression:\n",
        "    \n",
        "    def __init__(self, regularization, lr, epoch):\n",
        "        self.m = None #samples\n",
        "        self.n = None #features\n",
        "        self.w = None #weight\n",
        "        self.b = None #bias\n",
        "        self.regularization = regularization #penalty object\n",
        "        self.lr = lr #learning rate\n",
        "        self.epoch = epoch #iteration\n",
        "        \n",
        "    def __calculate_cost(self, y, y_pred):\n",
        "        return (1 / (2*self.m)) * np.sum(np.square(y_pred-y)) + self.regularization(self.w)\n",
        "    \n",
        "    def __hypothesis(self, w, X):\n",
        "        return np.dot(X, w) \n",
        "    \n",
        "    def __initialization(self, X):\n",
        "        X = np.insert(X, 0, 1, axis=1)\n",
        "        self.m, self.n = X.shape\n",
        "        self.w = np.zeros((self.n,1))\n",
        "        return X\n",
        "    \n",
        "    def __update_parameters(self, X, y, y_pred):\n",
        "        dw = (1/self.m) * np.dot(X.T, (y_pred - y)) + self.regularization.derivation(self.w)\n",
        "        self.w = self.w - self.lr * dw\n",
        "        return True\n",
        "        \n",
        "    def fit(self, X, y):\n",
        "        X = self.__initialization(X)\n",
        "        for e in range(1, self.epoch+1):\n",
        "            y_pred = self.__hypothesis(self.w, X)\n",
        "            cost = self.__calculate_cost(y, y_pred)\n",
        "            self.__update_parameters(X, y, y_pred)\n",
        "            if e % 100 == 0:\n",
        "                print(f\"The Cost in iteration {e}----->{cost} :)\")\n",
        "        return True\n",
        "\n",
        "    def predict(self, X_test):\n",
        "        X_test = np.insert(X_test, 0 , 1, axis= 1)\n",
        "        y_pred = self.__hypothesis(self.w, X_test)\n",
        "        return y_pred\n",
        "\n",
        "    def calculate_rmse(self,y_real,y_pred):\n",
        "        \"\"\"returns root mean square error\"\"\"\n",
        "        return np.sqrt(np.mean((y_pred-y_real)**2))\n",
        "    \n",
        "    def plot_cost(self):\n",
        "        \"\"\"plots the progress of cost on each iteration\"\"\"\n",
        "        plt.title('Cost Function J')\n",
        "        plt.xlabel('No. of iterations')\n",
        "        plt.ylabel('Cost')\n",
        "        plt.plot(self.cost_list)\n",
        "        plt.show()\n",
        "        \n",
        "    def calculate_r2(self,X,y):\n",
        "        \"\"\"returns r2\"\"\"\n",
        "        sum_squares = 0\n",
        "        sum_residuals = 0\n",
        "        y_mean = np.mean(y)\n",
        "        for i in range(X.shape[0]):\n",
        "            y_pred = self.__predictions(X[i])\n",
        "            sum_squares += (y[i] - y_mean) ** 2\n",
        "            sum_residuals += (y[i] - y_pred) ** 2\n",
        "        score = 1- (sum_residuals / sum_squares)\n",
        "        return score\n",
        "\n",
        "#pick one (LASSO?)    \n",
        "class LassoPenalty:\n",
        "    \n",
        "    def __init__(self, l):\n",
        "        self.l = l # lambda value\n",
        "        \n",
        "    def __call__(self,w):\n",
        "        return self.l * np.sum(np.abs(w))\n",
        "        \n",
        "    def derivation(self, w):\n",
        "        return self.l * np.sign(w)\n",
        "    \n",
        "class RidgePenalty:\n",
        "    \n",
        "    def __init__(self, l):\n",
        "        self.l = l\n",
        "        \n",
        "    def __call__(self, w):\n",
        "        return self.l * np.sum(np.square(w))\n",
        "        \n",
        "    def derivation(self, w):\n",
        "        return self.l * 2 * w\n",
        "    \n",
        "class ElasticPenalty:\n",
        "    \n",
        "    def __init__(self, l = 0.1, l_ratio = 0.5):\n",
        "        self.l = l \n",
        "        self.l_ratio = l_ratio\n",
        "\n",
        "    def __call__(self, w):\n",
        "        l1_contribution = self.l_ratio * self.l * np.sum(np.abs(w))\n",
        "        l2_contribution = (1 - self.l_ratio) * self.l * 0.5 * np.sum(np.square(w))\n",
        "        return (l1_contribution + l2_contribution)\n",
        "\n",
        "    def derivation(self, w):\n",
        "        l1_derivation = self.l * self.l_ratio * np.sign(w)\n",
        "        l2_derivation = self.l * (1 - self.l_ratio) * w\n",
        "        return (l1_derivation + l2_derivation)\n",
        "    \n",
        "class Lasso(Regression):\n",
        "    \n",
        "    def __init__(self, l, lr, epoch):\n",
        "        self.regularization = LassoPenalty(l)\n",
        "        super().__init__(self.regularization, lr, epoch )\n",
        "        \n",
        "class Ridge(Regression):\n",
        "    \n",
        "    def __init__(self, l, lr, epoch):\n",
        "        self.regularization = RidgePenalty(l)\n",
        "        super().__init__(self.regularization, lr, epoch )\n",
        "        \n",
        "class ElasticNet(Regression):\n",
        "    \n",
        "    def __init__(self, l, l_ratio, lr, epoch):\n",
        "        self.regularization = ElasticPenalty(l,l_ratio)\n",
        "        super().__init__(self.regularization, lr, epoch)"
      ],
      "metadata": {
        "id": "ADBgZyVQo7uv"
      },
      "id": "ADBgZyVQo7uv",
      "execution_count": 249,
      "outputs": []
    },
    {
      "cell_type": "code",
      "source": [
        "parameters = {\n",
        "    \"l\" : 0.1, #assume lambda = 0.1\n",
        "    \"lr\" : 0.005,\n",
        "    \"epoch\" : 10000\n",
        "}\n",
        "model3 = Lasso(**parameters)\n",
        "model3.fit(x_test, y_test) \n",
        "y_pred3 = model3.predict(x_test)\n",
        "score = r2score(y = y_test, y_pred = y_pred3)\n",
        "print(\"r2 score\", score)"
      ],
      "metadata": {
        "colab": {
          "base_uri": "https://localhost:8080/",
          "height": 0
        },
        "id": "Wt52sQaAwBGh",
        "outputId": "267fdad2-8091-407f-f589-76d9ef775ed5"
      },
      "id": "Wt52sQaAwBGh",
      "execution_count": 284,
      "outputs": [
        {
          "output_type": "stream",
          "name": "stdout",
          "text": [
            "The Cost in iteration 100----->6.363476382644702 :)\n",
            "The Cost in iteration 200----->3.7260581866732174 :)\n",
            "The Cost in iteration 300----->2.738784270895417 :)\n",
            "The Cost in iteration 400----->2.3553442233859787 :)\n",
            "The Cost in iteration 500----->2.205104820866174 :)\n",
            "The Cost in iteration 600----->2.1462884172087104 :)\n",
            "The Cost in iteration 700----->2.1254819180652182 :)\n",
            "The Cost in iteration 800----->2.1178757245183113 :)\n",
            "The Cost in iteration 900----->2.115379206934585 :)\n",
            "The Cost in iteration 1000----->2.1139380438270594 :)\n",
            "The Cost in iteration 1100----->2.1137576314652566 :)\n",
            "The Cost in iteration 1200----->2.1135304309093583 :)\n",
            "The Cost in iteration 1300----->2.113468858792961 :)\n",
            "The Cost in iteration 1400----->2.1134212826875687 :)\n",
            "The Cost in iteration 1500----->2.1133526435064502 :)\n",
            "The Cost in iteration 1600----->2.113717546568466 :)\n",
            "The Cost in iteration 1700----->2.1135277654518356 :)\n",
            "The Cost in iteration 1800----->2.113681707929155 :)\n",
            "The Cost in iteration 1900----->2.1135906194094667 :)\n",
            "The Cost in iteration 2000----->2.113508355013037 :)\n",
            "The Cost in iteration 2100----->2.1133634547680784 :)\n",
            "The Cost in iteration 2200----->2.1135231985957694 :)\n",
            "The Cost in iteration 2300----->2.1138407922850324 :)\n",
            "The Cost in iteration 2400----->2.113501325455579 :)\n",
            "The Cost in iteration 2500----->2.113741996464842 :)\n",
            "The Cost in iteration 2600----->2.113592246280316 :)\n",
            "The Cost in iteration 2700----->2.1135769341360526 :)\n",
            "The Cost in iteration 2800----->2.113344019532968 :)\n",
            "The Cost in iteration 2900----->2.1137475948190887 :)\n",
            "The Cost in iteration 3000----->2.1138548489147038 :)\n",
            "The Cost in iteration 3100----->2.1135947504896637 :)\n",
            "The Cost in iteration 3200----->2.1138176237848283 :)\n",
            "The Cost in iteration 3300----->2.1136281904569705 :)\n",
            "The Cost in iteration 3400----->2.113615037957587 :)\n",
            "The Cost in iteration 3500----->2.113427593643341 :)\n",
            "The Cost in iteration 3600----->2.1139578707476137 :)\n",
            "The Cost in iteration 3700----->2.113785914437945 :)\n",
            "The Cost in iteration 3800----->2.1136943532965384 :)\n",
            "The Cost in iteration 3900----->2.113786940391782 :)\n",
            "The Cost in iteration 4000----->2.11364759100764 :)\n",
            "The Cost in iteration 4100----->2.1135853454127433 :)\n",
            "The Cost in iteration 4200----->2.113449438381968 :)\n",
            "The Cost in iteration 4300----->2.1139488416974834 :)\n",
            "The Cost in iteration 4400----->2.113700235157359 :)\n",
            "The Cost in iteration 4500----->2.1137208681737993 :)\n",
            "The Cost in iteration 4600----->2.113597081881702 :)\n",
            "The Cost in iteration 4700----->2.113596826798139 :)\n",
            "The Cost in iteration 4800----->2.1134876097364383 :)\n",
            "The Cost in iteration 4900----->2.1135016324530818 :)\n",
            "The Cost in iteration 5000----->2.113890870799519 :)\n",
            "The Cost in iteration 5100----->2.113640754457513 :)\n",
            "The Cost in iteration 5200----->2.113659509859688 :)\n",
            "The Cost in iteration 5300----->2.1134824987097285 :)\n",
            "The Cost in iteration 5400----->2.1136133965386357 :)\n",
            "The Cost in iteration 5500----->2.113377697965684 :)\n",
            "The Cost in iteration 5600----->2.1135574701158872 :)\n",
            "The Cost in iteration 5700----->2.113749084636298 :)\n",
            "The Cost in iteration 5800----->2.1135699428886023 :)\n",
            "The Cost in iteration 5900----->2.1135662910690542 :)\n",
            "The Cost in iteration 6000----->2.113360069507281 :)\n",
            "The Cost in iteration 6100----->2.113563964575833 :)\n",
            "The Cost in iteration 6200----->2.1133261597739863 :)\n",
            "The Cost in iteration 6300----->2.1136056521488515 :)\n",
            "The Cost in iteration 6400----->2.113635248702821 :)\n",
            "The Cost in iteration 6500----->2.1136111101851323 :)\n",
            "The Cost in iteration 6600----->2.1134345139289037 :)\n",
            "The Cost in iteration 6700----->2.113348287655881 :)\n",
            "The Cost in iteration 6800----->2.1136303549253164 :)\n",
            "The Cost in iteration 6900----->2.1134050656788244 :)\n",
            "The Cost in iteration 7000----->2.1136832687041145 :)\n",
            "The Cost in iteration 7100----->2.1137252721783675 :)\n",
            "The Cost in iteration 7200----->2.1137395396690235 :)\n",
            "The Cost in iteration 7300----->2.1133411903794936 :)\n",
            "The Cost in iteration 7400----->2.1134885891920323 :)\n",
            "The Cost in iteration 7500----->2.1136760395109393 :)\n",
            "The Cost in iteration 7600----->2.113444146568908 :)\n",
            "The Cost in iteration 7700----->2.1137528006010977 :)\n",
            "The Cost in iteration 7800----->2.1137695207858025 :)\n",
            "The Cost in iteration 7900----->2.113736770165746 :)\n",
            "The Cost in iteration 8000----->2.113348733812902 :)\n",
            "The Cost in iteration 8100----->2.1136747892445946 :)\n",
            "The Cost in iteration 8200----->2.113719291581239 :)\n",
            "The Cost in iteration 8300----->2.1136024049452264 :)\n",
            "The Cost in iteration 8400----->2.113870338575807 :)\n",
            "The Cost in iteration 8500----->2.1138202117633145 :)\n",
            "The Cost in iteration 8600----->2.113731961997357 :)\n",
            "The Cost in iteration 8700----->2.113417546923108 :)\n",
            "The Cost in iteration 8800----->2.1137917558460986 :)\n",
            "The Cost in iteration 8900----->2.1137021419691795 :)\n",
            "The Cost in iteration 9000----->2.113707135002632 :)\n",
            "The Cost in iteration 9100----->2.113816840551948 :)\n",
            "The Cost in iteration 9200----->2.1137608558353937 :)\n",
            "The Cost in iteration 9300----->2.1136474322029866 :)\n",
            "The Cost in iteration 9400----->2.1133535389732523 :)\n",
            "The Cost in iteration 9500----->2.1137515839723835 :)\n",
            "The Cost in iteration 9600----->2.1136253086168804 :)\n",
            "The Cost in iteration 9700----->2.1137378269748313 :)\n",
            "The Cost in iteration 9800----->2.1136862373269087 :)\n",
            "The Cost in iteration 9900----->2.1137336822341286 :)\n",
            "The Cost in iteration 10000----->2.1135420481398537 :)\n",
            "r2 score 0.7521905231248893\n"
          ]
        }
      ]
    },
    {
      "cell_type": "markdown",
      "source": [
        "R2 value is smaller than Problem 1. There must be something wrong with the code or calling code because lasso regression should make the model fit better. "
      ],
      "metadata": {
        "id": "s-tGMci9w0xT"
      },
      "id": "s-tGMci9w0xT"
    },
    {
      "cell_type": "code",
      "source": [
        "rmse(y_pred3, y_test)"
      ],
      "metadata": {
        "colab": {
          "base_uri": "https://localhost:8080/",
          "height": 0
        },
        "id": "g0_YpqXJsJ3C",
        "outputId": "4fd36235-5920-4fdb-e0d7-9ee6be461be8"
      },
      "id": "g0_YpqXJsJ3C",
      "execution_count": 285,
      "outputs": [
        {
          "output_type": "execute_result",
          "data": {
            "text/plain": [
              "2.5995426717554673"
            ]
          },
          "metadata": {},
          "execution_count": 285
        }
      ]
    },
    {
      "cell_type": "markdown",
      "source": [
        "RMSE is also higher, expected from higher R2, but it should be lower considering Lasso should improve the model\n"
      ],
      "metadata": {
        "id": "RIvgQxg_xCPR"
      },
      "id": "RIvgQxg_xCPR"
    }
  ],
  "metadata": {
    "kernelspec": {
      "display_name": "Python 3 (ipykernel)",
      "language": "python",
      "name": "python3"
    },
    "language_info": {
      "codemirror_mode": {
        "name": "ipython",
        "version": 3
      },
      "file_extension": ".py",
      "mimetype": "text/x-python",
      "name": "python",
      "nbconvert_exporter": "python",
      "pygments_lexer": "ipython3",
      "version": "3.9.7"
    },
    "colab": {
      "provenance": [],
      "collapsed_sections": [],
      "toc_visible": true,
      "include_colab_link": true
    }
  },
  "nbformat": 4,
  "nbformat_minor": 5
}